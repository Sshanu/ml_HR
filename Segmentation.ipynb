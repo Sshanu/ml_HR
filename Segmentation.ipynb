{
 "cells": [
  {
   "cell_type": "code",
   "execution_count": 79,
   "metadata": {
    "collapsed": false
   },
   "outputs": [
    {
     "data": {
      "image/png": "[encoded data removed]",
      "text/plain": [
       "Console does not support images"
      ]
     },
     "metadata": {
      "image/png": {
       "height": 100,
       "width": 100
      }
     },
     "output_type": "display_data"
    }
   ],
   "source": [
    "sz=100\n",
    "a=image.load(\"mo1.png\",1,'byte')\n",
    "b=torch.Tensor(1,sz,sz)\n",
    "b[1]=image.scale(a,sz,sz)\n",
    "itorch.image(b[1])\n",
    "--print(a)"
   ]
  },
  {
   "cell_type": "code",
   "execution_count": 80,
   "metadata": {
    "collapsed": false
   },
   "outputs": [],
   "source": [
    "--print(b[1])"
   ]
  },
  {
   "cell_type": "code",
   "execution_count": 81,
   "metadata": {
    "collapsed": true
   },
   "outputs": [],
   "source": [
    "for i=1,sz do\n",
    "    for j=1,sz do\n",
    "        if(b[1][i][j]>150) then\n",
    "            b[1][i][j]=1\n",
    "        else\n",
    "            b[1][i][j]=0\n",
    "        end\n",
    "    end\n",
    "end\n",
    "         \n"
   ]
  },
  {
   "cell_type": "code",
   "execution_count": 82,
   "metadata": {
    "collapsed": false
   },
   "outputs": [],
   "source": [
    "--print(b[1])"
   ]
  },
  {
   "cell_type": "code",
   "execution_count": 83,
   "metadata": {
    "collapsed": false
   },
   "outputs": [
    {
     "data": {
      "text/plain": [
       "true\t\n"
      ]
     },
     "execution_count": 83,
     "metadata": {},
     "output_type": "execute_result"
    }
   ],
   "source": [
    "check=torch.Tensor(sz)\n",
    "for i=1,sz do\n",
    "    check[i]=1\n",
    "end\n",
    "--print(check)\n",
    "--print(b[1][1])\n",
    "print(torch.all(check:eq(b[1][1])))"
   ]
  },
  {
   "cell_type": "code",
   "execution_count": 84,
   "metadata": {
    "collapsed": false
   },
   "outputs": [],
   "source": [
    "--print(b[{{},{},{5,16}}])\n",
    "--print(check)\n",
    "--print(b[{{},{},{3}}])"
   ]
  },
  {
   "cell_type": "code",
   "execution_count": 85,
   "metadata": {
    "collapsed": false
   },
   "outputs": [
    {
     "data": {
      "image/png": "[encoded data removed]",
      "text/plain": [
       "Console does not support images"
      ]
     },
     "metadata": {
      "image/png": {
       "height": 100,
       "width": 25
      }
     },
     "output_type": "display_data"
    },
    {
     "data": {
      "image/png": "[encoded data removed]",
      "text/plain": [
       "Console does not support images"
      ]
     },
     "metadata": {
      "image/png": {
       "height": 100,
       "width": 21
      }
     },
     "output_type": "display_data"
    },
    {
     "data": {
      "image/png": "[encoded data removed]",
      "text/plain": [
       "Console does not support images"
      ]
     },
     "metadata": {
      "image/png": {
       "height": 100,
       "width": 18
      }
     },
     "output_type": "display_data"
    },
    {
     "data": {
      "image/png": "[encoded data removed]",
      "text/plain": [
       "Console does not support images"
      ]
     },
     "metadata": {
      "image/png": {
       "height": 100,
       "width": 8
      }
     },
     "output_type": "display_data"
    },
    {
     "data": {
      "image/png": "[encoded data removed]",
      "text/plain": [
       "Console does not support images"
      ]
     },
     "metadata": {
      "image/png": {
       "height": 100,
       "width": 15
      }
     },
     "output_type": "display_data"
    }
   ],
   "source": [
    "i=1\n",
    "while(i<sz) do\n",
    "    if(not torch.all(check:eq(b[{{},{},{i+1}}]))) then\n",
    "        --print(torch.all(check:eq(b[{{},{},{i}}])))\n",
    "        --print(i)\n",
    "        for j=i+1,sz do\n",
    "            if (torch.all(check:eq(b[{{},{},{j}}]))) then\n",
    "                c=b[{{},{},{i,j}}]\n",
    "                itorch.image(c[1])\n",
    "                --print(c[1])\n",
    "                --print(j)\n",
    "                i=j-1\n",
    "                break\n",
    "            end\n",
    "        end\n",
    "    end\n",
    "    i=i+1\n",
    "end"
   ]
  },
  {
   "cell_type": "code",
   "execution_count": 57,
   "metadata": {
    "collapsed": false
   },
   "outputs": [
    {
     "data": {
      "image/png": "[encoded data removed]",
      "text/plain": [
       "Console does not support images"
      ]
     },
     "metadata": {
      "image/png": {
       "height": 100,
       "width": 24
      }
     },
     "output_type": "display_data"
    },
    {
     "data": {
      "text/plain": [
       "\n"
      ]
     },
     "execution_count": 57,
     "metadata": {},
     "output_type": "execute_result"
    }
   ],
   "source": [
    "itorch.image(c[1])"
   ]
  },
  {
   "cell_type": "code",
   "execution_count": 22,
   "metadata": {
    "collapsed": false
   },
   "outputs": [],
   "source": [
    "g[1]=1\n",
    "a[1]=49\n",
    "b[1]=3\n",
    "a=a:type('torch.CharTensor')"
   ]
  },
  {
   "cell_type": "code",
   "execution_count": null,
   "metadata": {
    "collapsed": true
   },
   "outputs": [],
   "source": []
  },
  {
   "cell_type": "code",
   "execution_count": 24,
   "metadata": {
    "collapsed": false
   },
   "outputs": [
    {
     "data": {
      "text/plain": [
       " 49\n",
       "[torch.CharTensor of size 1x1]\n",
       "\n"
      ]
     },
     "execution_count": 24,
     "metadata": {},
     "output_type": "execute_result"
    }
   ],
   "source": [
    "print(a)"
   ]
  },
  {
   "cell_type": "code",
   "execution_count": 24,
   "metadata": {
    "collapsed": false
   },
   "outputs": [],
   "source": [
    "c={5,6,7,8}\n"
   ]
  },
  {
   "cell_type": "code",
   "execution_count": 28,
   "metadata": {
    "collapsed": false
   },
   "outputs": [
    {
     "ename": "[string \"c=b[1][1]...\"]:2: bad argument #1 to 'getn' (table expected, got userdata)\nstack traceback:\n\t[builtin:getn]: in function 'getn'\n\t[string \"c=b[1][1]...\"]:2: in main chunk\n\t[C]: in function 'xpcall'\n\t/home/iop/torch/install/share/lua/5.1/itorch/main.lua:209: in function </home/iop/torch/install/share/lua/5.1/itorch/main.lua:173>\n\t/home/iop/torch/install/share/lua/5.1/lzmq/poller.lua:75: in function 'poll'\n\t/home/iop/torch/install/share/lua/5.1/lzmq/impl/loop.lua:307: in function 'poll'\n\t/home/iop/torch/install/share/lua/5.1/lzmq/impl/loop.lua:325: in function 'sleep_ex'\n\t/home/iop/torch/install/share/lua/5.1/lzmq/impl/loop.lua:370: in function 'start'\n\t/home/iop/torch/install/share/lua/5.1/itorch/main.lua:381: in main chunk\n\t[C]: in function 'require'\n\t(command line):1: in main chunk\n\t[C]: at 0x00405d50",
     "evalue": "",
     "output_type": "error",
     "traceback": [
      "[string \"c=b[1][1]...\"]:2: bad argument #1 to 'getn' (table expected, got userdata)\nstack traceback:\n\t[builtin:getn]: in function 'getn'\n\t[string \"c=b[1][1]...\"]:2: in main chunk\n\t[C]: in function 'xpcall'\n\t/home/iop/torch/install/share/lua/5.1/itorch/main.lua:209: in function </home/iop/torch/install/share/lua/5.1/itorch/main.lua:173>\n\t/home/iop/torch/install/share/lua/5.1/lzmq/poller.lua:75: in function 'poll'\n\t/home/iop/torch/install/share/lua/5.1/lzmq/impl/loop.lua:307: in function 'poll'\n\t/home/iop/torch/install/share/lua/5.1/lzmq/impl/loop.lua:325: in function 'sleep_ex'\n\t/home/iop/torch/install/share/lua/5.1/lzmq/impl/loop.lua:370: in function 'start'\n\t/home/iop/torch/install/share/lua/5.1/itorch/main.lua:381: in main chunk\n\t[C]: in function 'require'\n\t(command line):1: in main chunk\n\t[C]: at 0x00405d50"
     ]
    }
   ],
   "source": [
    "c=b[1][1]\n",
    "table.getn(c)"
   ]
  },
  {
   "cell_type": "code",
   "execution_count": 32,
   "metadata": {
    "collapsed": false
   },
   "outputs": [
    {
     "data": {
      "text/plain": [
       "255\t\n"
      ]
     },
     "execution_count": 32,
     "metadata": {},
     "output_type": "execute_result"
    }
   ],
   "source": [
    "print(b[1][1][1])"
   ]
  },
  {
   "cell_type": "code",
   "execution_count": 81,
   "metadata": {
    "collapsed": false
   },
   "outputs": [
    {
     "ename": "[string \"print(tensor.ones(10,1))...\"]:1: attempt to index global 'tensor' (a nil value)\nstack traceback:\n\t[string \"print(tensor.ones(10,1))...\"]:1: in main chunk\n\t[C]: in function 'xpcall'\n\t/home/iop/torch/install/share/lua/5.1/itorch/main.lua:209: in function </home/iop/torch/install/share/lua/5.1/itorch/main.lua:173>\n\t/home/iop/torch/install/share/lua/5.1/lzmq/poller.lua:75: in function 'poll'\n\t/home/iop/torch/install/share/lua/5.1/lzmq/impl/loop.lua:307: in function 'poll'\n\t/home/iop/torch/install/share/lua/5.1/lzmq/impl/loop.lua:325: in function 'sleep_ex'\n\t/home/iop/torch/install/share/lua/5.1/lzmq/impl/loop.lua:370: in function 'start'\n\t/home/iop/torch/install/share/lua/5.1/itorch/main.lua:381: in main chunk\n\t[C]: in function 'require'\n\t(command line):1: in main chunk\n\t[C]: at 0x00405d50",
     "evalue": "",
     "output_type": "error",
     "traceback": [
      "[string \"print(tensor.ones(10,1))...\"]:1: attempt to index global 'tensor' (a nil value)\nstack traceback:\n\t[string \"print(tensor.ones(10,1))...\"]:1: in main chunk\n\t[C]: in function 'xpcall'\n\t/home/iop/torch/install/share/lua/5.1/itorch/main.lua:209: in function </home/iop/torch/install/share/lua/5.1/itorch/main.lua:173>\n\t/home/iop/torch/install/share/lua/5.1/lzmq/poller.lua:75: in function 'poll'\n\t/home/iop/torch/install/share/lua/5.1/lzmq/impl/loop.lua:307: in function 'poll'\n\t/home/iop/torch/install/share/lua/5.1/lzmq/impl/loop.lua:325: in function 'sleep_ex'\n\t/home/iop/torch/install/share/lua/5.1/lzmq/impl/loop.lua:370: in function 'start'\n\t/home/iop/torch/install/share/lua/5.1/itorch/main.lua:381: in main chunk\n\t[C]: in function 'require'\n\t(command line):1: in main chunk\n\t[C]: at 0x00405d50"
     ]
    }
   ],
   "source": [
    "print(tensor.ones(10,1))"
   ]
  },
  {
   "cell_type": "code",
   "execution_count": null,
   "metadata": {
    "collapsed": true
   },
   "outputs": [],
   "source": []
  }
 ],
 "metadata": {
  "kernelspec": {
   "display_name": "iTorch",
   "language": "lua",
   "name": "itorch"
  },
  "language_info": {
   "name": "lua",
   "version": "5.1"
  }
 },
 "nbformat": 4,
 "nbformat_minor": 0
}
