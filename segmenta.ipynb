{
 "cells": [
  {
   "cell_type": "code",
   "execution_count": 196,
   "metadata": {
    "collapsed": false,
    "scrolled": true
   },
   "outputs": [
    {
     "data": {
      "image/png": "[encoded data removed]",
      "text/plain": [
       "Console does not support images"
      ]
     },
     "metadata": {
      "image/png": {
       "height": 200,
       "width": 200
      }
     },
     "output_type": "display_data"
    }
   ],
   "source": [
    "sz=200\n",
    "a=image.load(\"mo.png\",1,'byte')\n",
    "b=torch.Tensor(1,sz,sz)\n",
    "b[1]=image.scale(a,sz,sz)\n",
    "a1=torch.Tensor(1,sz,sz)\n",
    "a1[1]=image.scale(a,sz,sz)\n",
    "itorch.image(b[1])\n",
    "--print(a)"
   ]
  },
  {
   "cell_type": "code",
   "execution_count": 197,
   "metadata": {
    "collapsed": true
   },
   "outputs": [],
   "source": [
    "for i=1,sz do\n",
    "    for j=1,sz do\n",
    "        if(b[1][i][j]>100) then\n",
    "            b[1][i][j]=1\n",
    "        else\n",
    "            b[1][i][j]=0\n",
    "        end\n",
    "    end\n",
    "end\n",
    "         \n"
   ]
  },
  {
   "cell_type": "code",
   "execution_count": 198,
   "metadata": {
    "collapsed": false
   },
   "outputs": [],
   "source": [
    "check=torch.Tensor(sz)\n",
    "for i=1,sz do\n",
    "    check[i]=1\n",
    "    end"
   ]
  },
  {
   "cell_type": "code",
   "execution_count": 199,
   "metadata": {
    "collapsed": false
   },
   "outputs": [],
   "source": [
    "ypro=torch.Tensor(sz)\n",
    "for i=1,sz do\n",
    "    ypro[i]=0\n",
    "    end\n",
    "for i=1,sz do\n",
    "    for j=1,sz do\n",
    "        if b[1][i][j]==0 then\n",
    "            ypro[i]=ypro[i]+1\n",
    "        end\n",
    "    end\n",
    "end"
   ]
  },
  {
   "cell_type": "code",
   "execution_count": 200,
   "metadata": {
    "collapsed": false
   },
   "outputs": [],
   "source": [
    "fun1=function(yprev,ynex)\n",
    "    xpro=torch.Tensor(sz)\n",
    "    for i=1,sz do\n",
    "    xpro[i]=0\n",
    "    end\n",
    "    for j=1,sz do\n",
    "    for i=yprev,ynex do\n",
    "        if b[1][i][j]==0 then\n",
    "            xpro[j]=xpro[j]+1\n",
    "            end\n",
    "        end\n",
    "    end\n",
    "    flag=0\n",
    "    f2=0\n",
    "    for i=2,sz-1 do\n",
    "        if (xpro[i+1]~=0)and(xpro[i]==0)and(flag==0) then\n",
    "            xprev=i\n",
    "            flag=1\n",
    "        end\n",
    "        if (xpro[i-1]~=0)and(xpro[i]==0)and(flag==1) then\n",
    "            xnex=i\n",
    "            if diff>\n",
    "            itorch.image(a1[{{},{yprev,ynex},{xprev,xnex}}])\n",
    "            flag=0\n",
    "        end\n",
    "    end\n",
    "        \n",
    "    \n",
    "end\n",
    "    "
   ]
  },
  {
   "cell_type": "code",
   "execution_count": 201,
   "metadata": {
    "collapsed": false
   },
   "outputs": [
    {
     "data": {
      "image/png": "[encoded data removed]",
      "text/plain": [
       "Console does not support images"
      ]
     },
     "metadata": {
      "image/png": {
       "height": 57,
       "width": 51
      }
     },
     "output_type": "display_data"
    },
    {
     "data": {
      "image/png": "[encoded data removed]",
      "text/plain": [
       "Console does not support images"
      ]
     },
     "metadata": {
      "image/png": {
       "height": 57,
       "width": 27
      }
     },
     "output_type": "display_data"
    },
    {
     "data": {
      "image/png": "[encoded data removed]",
      "text/plain": [
       "Console does not support images"
      ]
     },
     "metadata": {
      "image/png": {
       "height": 57,
       "width": 29
      }
     },
     "output_type": "display_data"
    },
    {
     "data": {
      "image/png": "[encoded data removed]",
      "text/plain": [
       "Console does not support images"
      ]
     },
     "metadata": {
      "image/png": {
       "height": 57,
       "width": 15
      }
     },
     "output_type": "display_data"
    },
    {
     "data": {
      "image/png": "[encoded data removed]",
      "text/plain": [
       "Console does not support images"
      ]
     },
     "metadata": {
      "image/png": {
       "height": 57,
       "width": 16
      }
     },
     "output_type": "display_data"
    },
    {
     "data": {
      "image/png": "[encoded data removed]",
      "text/plain": [
       "Console does not support images"
      ]
     },
     "metadata": {
      "image/png": {
       "height": 72,
       "width": 41
      }
     },
     "output_type": "display_data"
    },
    {
     "data": {
      "image/png": "[encoded data removed]",
      "text/plain": [
       "Console does not support images"
      ]
     },
     "metadata": {
      "image/png": {
       "height": 72,
       "width": 29
      }
     },
     "output_type": "display_data"
    },
    {
     "data": {
      "image/png": "[encoded data removed]",
      "text/plain": [
       "Console does not support images"
      ]
     },
     "metadata": {
      "image/png": {
       "height": 72,
       "width": 19
      }
     },
     "output_type": "display_data"
    },
    {
     "data": {
      "image/png": "[encoded data removed]",
      "text/plain": [
       "Console does not support images"
      ]
     },
     "metadata": {
      "image/png": {
       "height": 72,
       "width": 24
      }
     },
     "output_type": "display_data"
    },
    {
     "data": {
      "image/png": "[encoded data removed]",
      "text/plain": [
       "Console does not support images"
      ]
     },
     "metadata": {
      "image/png": {
       "height": 72,
       "width": 14
      }
     },
     "output_type": "display_data"
    },
    {
     "data": {
      "image/png": "[encoded data removed]",
      "text/plain": [
       "Console does not support images"
      ]
     },
     "metadata": {
      "image/png": {
       "height": 72,
       "width": 25
      }
     },
     "output_type": "display_data"
    }
   ],
   "source": [
    "flag=0\n",
    "for i=2,sz-1 do\n",
    "    if (ypro[i+1]~=0)and(ypro[i]==0)and(flag==0) then\n",
    "        yprev=i\n",
    "        flag=1\n",
    "        end\n",
    "    if (ypro[i-1]~=0)and(ypro[i]==0)and(flag==1) then\n",
    "        ynex=i\n",
    "        fun1(yprev,ynex)\n",
    "        flag=0\n",
    "        end\n",
    "    end\n",
    "        \n",
    "        "
   ]
  },
  {
   "cell_type": "code",
   "execution_count": null,
   "metadata": {
    "collapsed": true
   },
   "outputs": [],
   "source": []
  },
  {
   "cell_type": "code",
   "execution_count": null,
   "metadata": {
    "collapsed": true
   },
   "outputs": [],
   "source": []
  }
 ],
 "metadata": {
  "kernelspec": {
   "display_name": "iTorch",
   "language": "lua",
   "name": "itorch"
  },
  "language_info": {
   "name": "lua",
   "version": "5.1"
  }
 },
 "nbformat": 4,
 "nbformat_minor": 0
}
