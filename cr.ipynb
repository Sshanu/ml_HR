{
 "cells": [
  {
   "cell_type": "code",
   "execution_count": 44,
   "metadata": {
    "collapsed": false
   },
   "outputs": [],
   "source": [
    "optim = require 'optim'\n",
    "fullset = torch.load('newdata20.dat')"
   ]
  },
  {
   "cell_type": "code",
   "execution_count": 45,
   "metadata": {
    "collapsed": false
   },
   "outputs": [
    {
     "data": {
      "image/png": "[encoded data removed]",
      "text/plain": [
       "Console does not support images"
      ]
     },
     "metadata": {
      "image/png": {
       "height": 20,
       "width": 20
      }
     },
     "output_type": "display_data"
    },
    {
     "data": {
      "text/plain": [
       "111\t\n"
      ]
     },
     "execution_count": 45,
     "metadata": {},
     "output_type": "execute_result"
    }
   ],
   "source": [
    "itorch.image(fullset.data[1])\n",
    "print(fullset.label[1])"
   ]
  },
  {
   "cell_type": "code",
   "execution_count": 46,
   "metadata": {
    "collapsed": false
   },
   "outputs": [],
   "source": [
    "shuffle = torch.randperm(fullset.size)\n",
    "shuffleset = fullset\n",
    "for i=1, fullset.size do\n",
    "    shuffleset.data[i] = fullset.data[shuffle[i]]\n",
    "    shuffleset.label[i] = fullset.label[shuffle[i]]\n",
    "    end\n",
    "fullset = shuffleset"
   ]
  },
  {
   "cell_type": "code",
   "execution_count": 47,
   "metadata": {
    "collapsed": false
   },
   "outputs": [
    {
     "data": {
      "text/plain": [
       "{\n",
       "  data : DoubleTensor - size: 40134x20x20\n",
       "  size : 40121\n",
       "  label : DoubleTensor - size: 40134\n",
       "}\n"
      ]
     },
     "execution_count": 47,
     "metadata": {},
     "output_type": "execute_result"
    }
   ],
   "source": [
    "fullset"
   ]
  },
  {
   "cell_type": "code",
   "execution_count": 48,
   "metadata": {
    "collapsed": false
   },
   "outputs": [],
   "source": [
    "for i=1,fullset.size do\n",
    "    if(fullset.label[i]<=57) then\n",
    "        fullset.label[i]=fullset.label[i]-47\n",
    "    else\n",
    "        fullset.label[i]=fullset.label[i]-97+11;\n",
    "    end\n",
    "end"
   ]
  },
  {
   "cell_type": "code",
   "execution_count": 49,
   "metadata": {
    "collapsed": false
   },
   "outputs": [],
   "source": [
    "trainset = {\n",
    "    size = 32000,\n",
    "    data = fullset.data[{{1,32000}}]:double(),\n",
    "    label = fullset.label[{{1,32000}}]\n",
    "}"
   ]
  },
  {
   "cell_type": "code",
   "execution_count": 50,
   "metadata": {
    "collapsed": false
   },
   "outputs": [],
   "source": [
    "validationset = {\n",
    "    size = 2159,\n",
    "    data = fullset.data[{{32001,34159}}]:double(),\n",
    "    label = fullset.label[{{32001,34159}}]\n",
    "}"
   ]
  },
  {
   "cell_type": "code",
   "execution_count": 51,
   "metadata": {
    "collapsed": false
   },
   "outputs": [
    {
     "data": {
      "image/png": "[encoded data removed]",
      "text/plain": [
       "Console does not support images"
      ]
     },
     "metadata": {
      "image/png": {
       "height": 20,
       "width": 20
      }
     },
     "output_type": "display_data"
    },
    {
     "data": {
      "text/plain": [
       "4\t\n"
      ]
     },
     "execution_count": 51,
     "metadata": {},
     "output_type": "execute_result"
    }
   ],
   "source": [
    "itorch.image(trainset.data[1])\n",
    "print(trainset.label[1])"
   ]
  },
  {
   "cell_type": "code",
   "execution_count": 52,
   "metadata": {
    "collapsed": false
   },
   "outputs": [],
   "source": [
    "testset = {\n",
    "    size = 2000,\n",
    "    data = fullset.data[{{34160,36159}}]:double(),\n",
    "    label = fullset.label[{{34160,36159}}]\n",
    "}"
   ]
  },
  {
   "cell_type": "code",
   "execution_count": 53,
   "metadata": {
    "collapsed": false
   },
   "outputs": [],
   "source": [
    "--[[nn = require 'nn'\n",
    "model = nn.Sequential()\n",
    "model:add(nn.SpatialConvolution(1, 6, 3, 3))\n",
    "--net:add(nn.ReLU())                       -- non-linearity \n",
    "model:add(nn.SpatialMaxPooling(2,2,2,2))     -- A max-pooling operation that looks at 2x2 windows and finds the max.\n",
    "model:add(nn.View(6*9*9))--]]  \n",
    "nn = require 'nn'\n",
    "model = nn.Sequential()\n",
    "model:add(nn.Reshape(400))"
   ]
  },
  {
   "cell_type": "code",
   "execution_count": 54,
   "metadata": {
    "collapsed": false
   },
   "outputs": [],
   "source": [
    "--[[model:add(nn.Linear(400, 120))             -- fully connected layer (matrix multiplication between input and weights)\n",
    "model:add(nn.Tanh())                       -- non-linearity \n",
    "model:add(nn.Linear(120, 36))                   -- 10 is the number of outputs of the network (in this case, 10 digits)\n",
    "model:add(nn.LogSoftMax())--]]                    -- converts the output to a log-probability. Useful for classification problems\n",
    "\n",
    "model:add(nn.Linear(400,700))\n",
    "model:add(nn.Tanh())\n",
    "--model:add(nn.Linear(174,131))\n",
    "--model:add(nn.Tanh())\n",
    "model:add(nn.Linear(700,36))\n",
    "model:add(nn.LogSoftMax())"
   ]
  },
  {
   "cell_type": "code",
   "execution_count": 55,
   "metadata": {
    "collapsed": true
   },
   "outputs": [],
   "source": [
    "--model=torch.load('oldmodel.net')\n",
    "criterion = nn.ClassNLLCriterion()"
   ]
  },
  {
   "cell_type": "code",
   "execution_count": 56,
   "metadata": {
    "collapsed": true
   },
   "outputs": [],
   "source": [
    "sgd_params = {\n",
    "   learningRate = 1e-2,\n",
    "   learningRateDecay = 1e-4,\n",
    "   weightDecay = 1e-3,\n",
    "   momentum = 1e-4\n",
    "}"
   ]
  },
  {
   "cell_type": "code",
   "execution_count": 57,
   "metadata": {
    "collapsed": true
   },
   "outputs": [],
   "source": [
    "x, dl_dx = model:getParameters()"
   ]
  },
  {
   "cell_type": "code",
   "execution_count": 58,
   "metadata": {
    "collapsed": false
   },
   "outputs": [],
   "source": [
    "step = function(batch_size)\n",
    "    local current_loss = 0\n",
    "    local count = 0\n",
    "    batch_size = batch_size or 200\n",
    "    for t = 1, trainset.size, batch_size do\n",
    "        local size = math.min(t + batch_size -1, trainset.size) - t\n",
    "        local inputs = torch.Tensor(size, 20, 20)\n",
    "        local targets = torch.Tensor(size)\n",
    "        for i = 1,size do\n",
    "            local input = trainset.data[i+t]\n",
    "            local target = trainset.label[i+t]\n",
    "            -- if target == 0 then target = 10 end\n",
    "            inputs[i] = input\n",
    "            targets[i] = target\n",
    "        end\n",
    "        \n",
    "        local feval = function(x_new)\n",
    "            -- reset data\n",
    "            if x ~= x_new then x:copy(x_new) end\n",
    "            dl_dx:zero()\n",
    "\n",
    "            -- perform mini-batch gradient descent\n",
    "            local loss = criterion:forward(model:forward(inputs), targets)\n",
    "            model:backward(inputs, criterion:backward(model.output, targets))\n",
    "\n",
    "            return loss, dl_dx\n",
    "        end\n",
    "        \n",
    "        _, fs = optim.sgd(feval, x, sgd_params)\n",
    "        -- fs is a table containing value of the loss function\n",
    "        -- (just 1 value for the SGD optimization)\n",
    "        count = count + 1\n",
    "        current_loss = current_loss + fs[1]\n",
    "    end\n",
    "\n",
    "    -- normalize loss\n",
    "    return current_loss / count\n",
    "end"
   ]
  },
  {
   "cell_type": "code",
   "execution_count": 59,
   "metadata": {
    "collapsed": true
   },
   "outputs": [],
   "source": [
    "eval = function(dataset, batch_size)\n",
    "    local count = 0\n",
    "    batch_size = batch_size or 200\n",
    "    \n",
    "    for i = 1,dataset.size,batch_size do\n",
    "        local size = math.min(i + batch_size - 1, dataset.size) - i\n",
    "        local inputs = dataset.data[{{i,i+size-1}}]\n",
    "        local targets = dataset.label[{{i,i+size-1}}]:long()\n",
    "        local outputs = model:forward(inputs)\n",
    "        local _, indices = torch.max(outputs, 2)\n",
    "        local guessed_right = indices:eq(targets):sum()\n",
    "        count = count + guessed_right\n",
    "    end\n",
    "\n",
    "    return count / dataset.size\n",
    "end"
   ]
  },
  {
   "cell_type": "code",
   "execution_count": 62,
   "metadata": {
    "collapsed": true
   },
   "outputs": [],
   "source": [
    "max_iters = 150"
   ]
  },
  {
   "cell_type": "code",
   "execution_count": 63,
   "metadata": {
    "collapsed": false,
    "scrolled": false
   },
   "outputs": [
    {
     "data": {
      "text/plain": [
       "Epoch: 1 Current loss: 1.041523\t\n"
      ]
     },
     "execution_count": 63,
     "metadata": {},
     "output_type": "execute_result"
    },
    {
     "data": {
      "text/plain": [
       "Accuracy on the validation set: 0.731357\t\n"
      ]
     },
     "execution_count": 63,
     "metadata": {},
     "output_type": "execute_result"
    },
    {
     "data": {
      "text/plain": [
       "Epoch: 2 Current loss: 0.983621\t\n"
      ]
     },
     "execution_count": 63,
     "metadata": {},
     "output_type": "execute_result"
    },
    {
     "data": {
      "text/plain": [
       "Accuracy on the validation set: 0.736452\t\n"
      ]
     },
     "execution_count": 63,
     "metadata": {},
     "output_type": "execute_result"
    },
    {
     "data": {
      "text/plain": [
       "Epoch: 3 Current loss: 0.939734\t"
      ]
     },
     "execution_count": 63,
     "metadata": {},
     "output_type": "execute_result"
    },
    {
     "data": {
      "text/plain": [
       "\n"
      ]
     },
     "execution_count": 63,
     "metadata": {},
     "output_type": "execute_result"
    },
    {
     "data": {
      "text/plain": [
       "Accuracy on the validation set: 0.748031\t\n"
      ]
     },
     "execution_count": 63,
     "metadata": {},
     "output_type": "execute_result"
    },
    {
     "data": {
      "text/plain": [
       "Epoch: 4 Current loss: 0.926402\t\n"
      ]
     },
     "execution_count": 63,
     "metadata": {},
     "output_type": "execute_result"
    },
    {
     "data": {
      "text/plain": [
       "Accuracy on the validation set: 0.746179\t\n"
      ]
     },
     "execution_count": 63,
     "metadata": {},
     "output_type": "execute_result"
    },
    {
     "data": {
      "text/plain": [
       "Epoch: 5 Current loss: 0.891398\t\n"
      ]
     },
     "execution_count": 63,
     "metadata": {},
     "output_type": "execute_result"
    },
    {
     "data": {
      "text/plain": [
       "Accuracy on the validation set: 0.762853\t\n"
      ]
     },
     "execution_count": 63,
     "metadata": {},
     "output_type": "execute_result"
    },
    {
     "data": {
      "text/plain": [
       "Epoch: 6 Current loss: 0.866279\t\n"
      ]
     },
     "execution_count": 63,
     "metadata": {},
     "output_type": "execute_result"
    },
    {
     "data": {
      "text/plain": [
       "Accuracy on the validation set: 0.748495\t\n"
      ]
     },
     "execution_count": 63,
     "metadata": {},
     "output_type": "execute_result"
    },
    {
     "data": {
      "text/plain": [
       "Epoch: 7 Current loss: 0.846858\t\n"
      ]
     },
     "execution_count": 63,
     "metadata": {},
     "output_type": "execute_result"
    },
    {
     "data": {
      "text/plain": [
       "Accuracy on the validation set: 0.764243\t\n"
      ]
     },
     "execution_count": 63,
     "metadata": {},
     "output_type": "execute_result"
    },
    {
     "data": {
      "text/plain": [
       "Epoch: 8 Current loss: 0.832873\t\n"
      ]
     },
     "execution_count": 63,
     "metadata": {},
     "output_type": "execute_result"
    },
    {
     "data": {
      "text/plain": [
       "Accuracy on the validation set: 0.759611\t\n"
      ]
     },
     "execution_count": 63,
     "metadata": {},
     "output_type": "execute_result"
    },
    {
     "data": {
      "text/plain": [
       "Epoch: 9 Current loss: 0.817284\t\n"
      ]
     },
     "execution_count": 63,
     "metadata": {},
     "output_type": "execute_result"
    },
    {
     "data": {
      "text/plain": [
       "Accuracy on the validation set: 0.779064\t\n"
      ]
     },
     "execution_count": 63,
     "metadata": {},
     "output_type": "execute_result"
    },
    {
     "data": {
      "text/plain": [
       "Epoch: 10 Current loss: 0.801005\t\n"
      ]
     },
     "execution_count": 63,
     "metadata": {},
     "output_type": "execute_result"
    },
    {
     "data": {
      "text/plain": [
       "Accuracy on the validation set: 0.787865\t\n"
      ]
     },
     "execution_count": 63,
     "metadata": {},
     "output_type": "execute_result"
    },
    {
     "data": {
      "text/plain": [
       "Epoch: 11 Current loss: 0.790094\t\n"
      ]
     },
     "execution_count": 63,
     "metadata": {},
     "output_type": "execute_result"
    },
    {
     "data": {
      "text/plain": [
       "Accuracy on the validation set: 0.792033\t\n"
      ]
     },
     "execution_count": 63,
     "metadata": {},
     "output_type": "execute_result"
    },
    {
     "data": {
      "text/plain": [
       "Epoch: 12 Current loss: 0.774058\t\n"
      ]
     },
     "execution_count": 63,
     "metadata": {},
     "output_type": "execute_result"
    },
    {
     "data": {
      "text/plain": [
       "Accuracy on the validation set: 0.787865\t\n"
      ]
     },
     "execution_count": 63,
     "metadata": {},
     "output_type": "execute_result"
    },
    {
     "data": {
      "text/plain": [
       "Epoch: 13 Current loss: 0.766008\t\n"
      ]
     },
     "execution_count": 63,
     "metadata": {},
     "output_type": "execute_result"
    },
    {
     "data": {
      "text/plain": [
       "Accuracy on the validation set: 0.784159\t\n"
      ]
     },
     "execution_count": 63,
     "metadata": {},
     "output_type": "execute_result"
    },
    {
     "data": {
      "text/plain": [
       "Epoch: 14 Current loss: 0.750655\t\n"
      ]
     },
     "execution_count": 63,
     "metadata": {},
     "output_type": "execute_result"
    },
    {
     "data": {
      "text/plain": [
       "Accuracy on the validation set: 0.790181\t\n"
      ]
     },
     "execution_count": 63,
     "metadata": {},
     "output_type": "execute_result"
    },
    {
     "data": {
      "text/plain": [
       "Epoch: 15 Current loss: 0.742111\t\n"
      ]
     },
     "execution_count": 63,
     "metadata": {},
     "output_type": "execute_result"
    },
    {
     "data": {
      "text/plain": [
       "Accuracy on the validation set: 0.787865\t\n"
      ]
     },
     "execution_count": 63,
     "metadata": {},
     "output_type": "execute_result"
    },
    {
     "data": {
      "text/plain": [
       "Epoch: 16 Current loss: 0.724826\t\n"
      ]
     },
     "execution_count": 63,
     "metadata": {},
     "output_type": "execute_result"
    },
    {
     "data": {
      "text/plain": [
       "Accuracy on the validation set: 0.792033\t\n"
      ]
     },
     "execution_count": 63,
     "metadata": {},
     "output_type": "execute_result"
    },
    {
     "data": {
      "text/plain": [
       "Epoch: 17 Current loss: 0.714448\t\n"
      ]
     },
     "execution_count": 63,
     "metadata": {},
     "output_type": "execute_result"
    },
    {
     "data": {
      "text/plain": [
       "Accuracy on the validation set: 0.801297\t\n"
      ]
     },
     "execution_count": 63,
     "metadata": {},
     "output_type": "execute_result"
    },
    {
     "data": {
      "text/plain": [
       "Epoch: 18 Current loss: 0.718719\t\n"
      ]
     },
     "execution_count": 63,
     "metadata": {},
     "output_type": "execute_result"
    },
    {
     "data": {
      "text/plain": [
       "Accuracy on the validation set: 0.798981\t\n"
      ]
     },
     "execution_count": 63,
     "metadata": {},
     "output_type": "execute_result"
    },
    {
     "data": {
      "text/plain": [
       "Epoch: 19 Current loss: 0.716334\t\n"
      ]
     },
     "execution_count": 63,
     "metadata": {},
     "output_type": "execute_result"
    },
    {
     "data": {
      "text/plain": [
       "Accuracy on the validation set: 0.805465\t\n"
      ]
     },
     "execution_count": 63,
     "metadata": {},
     "output_type": "execute_result"
    },
    {
     "data": {
      "text/plain": [
       "Epoch: 20 Current loss: 0.719572\t\n"
      ]
     },
     "execution_count": 63,
     "metadata": {},
     "output_type": "execute_result"
    },
    {
     "data": {
      "text/plain": [
       "Accuracy on the validation set: 0.797591\t\n"
      ]
     },
     "execution_count": 63,
     "metadata": {},
     "output_type": "execute_result"
    },
    {
     "data": {
      "text/plain": [
       "Epoch: 21 Current loss: 0.716019\t\n"
      ]
     },
     "execution_count": 63,
     "metadata": {},
     "output_type": "execute_result"
    },
    {
     "data": {
      "text/plain": [
       "Accuracy on the validation set: 0.812413\t\n"
      ]
     },
     "execution_count": 63,
     "metadata": {},
     "output_type": "execute_result"
    },
    {
     "data": {
      "text/plain": [
       "Epoch: 22 Current loss: 0.705475\t\n"
      ]
     },
     "execution_count": 63,
     "metadata": {},
     "output_type": "execute_result"
    },
    {
     "data": {
      "text/plain": [
       "Accuracy on the validation set: 0.792960\t\n"
      ]
     },
     "execution_count": 63,
     "metadata": {},
     "output_type": "execute_result"
    },
    {
     "data": {
      "text/plain": [
       "Epoch: 23 Current loss: 0.687019\t\n"
      ]
     },
     "execution_count": 63,
     "metadata": {},
     "output_type": "execute_result"
    },
    {
     "data": {
      "text/plain": [
       "Accuracy on the validation set: 0.798055\t\n"
      ]
     },
     "execution_count": 63,
     "metadata": {},
     "output_type": "execute_result"
    },
    {
     "data": {
      "text/plain": [
       "Epoch: 24 Current loss: 0.675832\t\n"
      ]
     },
     "execution_count": 63,
     "metadata": {},
     "output_type": "execute_result"
    },
    {
     "data": {
      "text/plain": [
       "Accuracy on the validation set: 0.800371\t\n"
      ]
     },
     "execution_count": 63,
     "metadata": {},
     "output_type": "execute_result"
    },
    {
     "data": {
      "text/plain": [
       "Epoch: 25 Current loss: 0.682097\t\n"
      ]
     },
     "execution_count": 63,
     "metadata": {},
     "output_type": "execute_result"
    },
    {
     "data": {
      "text/plain": [
       "Accuracy on the validation set: 0.802223\t\n"
      ]
     },
     "execution_count": 63,
     "metadata": {},
     "output_type": "execute_result"
    },
    {
     "data": {
      "text/plain": [
       "Epoch: 26 Current loss: 0.670654\t\n"
      ]
     },
     "execution_count": 63,
     "metadata": {},
     "output_type": "execute_result"
    },
    {
     "data": {
      "text/plain": [
       "Accuracy on the validation set: 0.803613\t\n"
      ]
     },
     "execution_count": 63,
     "metadata": {},
     "output_type": "execute_result"
    },
    {
     "data": {
      "text/plain": [
       "Epoch: 27 Current loss: 0.677101\t\n"
      ]
     },
     "execution_count": 63,
     "metadata": {},
     "output_type": "execute_result"
    },
    {
     "data": {
      "text/plain": [
       "Accuracy on the validation set: 0.809634\t\n"
      ]
     },
     "execution_count": 63,
     "metadata": {},
     "output_type": "execute_result"
    },
    {
     "data": {
      "text/plain": [
       "Epoch: 28 Current loss: 0.659716\t\n"
      ]
     },
     "execution_count": 63,
     "metadata": {},
     "output_type": "execute_result"
    },
    {
     "data": {
      "text/plain": [
       "Accuracy on the validation set: 0.816582\t\n"
      ]
     },
     "execution_count": 63,
     "metadata": {},
     "output_type": "execute_result"
    },
    {
     "data": {
      "text/plain": [
       "Epoch: 29 Current loss: 0.652526\t\n"
      ]
     },
     "execution_count": 63,
     "metadata": {},
     "output_type": "execute_result"
    },
    {
     "data": {
      "text/plain": [
       "Accuracy on the validation set: 0.811950\t\n"
      ]
     },
     "execution_count": 63,
     "metadata": {},
     "output_type": "execute_result"
    },
    {
     "data": {
      "text/plain": [
       "Epoch: 30 Current loss: 0.641390\t\n"
      ]
     },
     "execution_count": 63,
     "metadata": {},
     "output_type": "execute_result"
    },
    {
     "data": {
      "text/plain": [
       "Accuracy on the validation set: 0.810097\t\n"
      ]
     },
     "execution_count": 63,
     "metadata": {},
     "output_type": "execute_result"
    },
    {
     "data": {
      "text/plain": [
       "Epoch: 31 Current loss: 0.650993\t\n"
      ]
     },
     "execution_count": 63,
     "metadata": {},
     "output_type": "execute_result"
    },
    {
     "data": {
      "text/plain": [
       "Accuracy on the validation set: 0.812876\t\n"
      ]
     },
     "execution_count": 63,
     "metadata": {},
     "output_type": "execute_result"
    },
    {
     "data": {
      "text/plain": [
       "Epoch: 32 Current loss: 0.650933\t\n"
      ]
     },
     "execution_count": 63,
     "metadata": {},
     "output_type": "execute_result"
    },
    {
     "data": {
      "text/plain": [
       "Accuracy on the validation set: 0.823066\t\n"
      ]
     },
     "execution_count": 63,
     "metadata": {},
     "output_type": "execute_result"
    },
    {
     "data": {
      "text/plain": [
       "Epoch: 33 Current loss: 0.633980\t\n"
      ]
     },
     "execution_count": 63,
     "metadata": {},
     "output_type": "execute_result"
    },
    {
     "data": {
      "text/plain": [
       "Accuracy on the validation set: 0.823993\t\n"
      ]
     },
     "execution_count": 63,
     "metadata": {},
     "output_type": "execute_result"
    },
    {
     "data": {
      "text/plain": [
       "Epoch: 34 Current loss: 0.633781\t\n"
      ]
     },
     "execution_count": 63,
     "metadata": {},
     "output_type": "execute_result"
    },
    {
     "data": {
      "text/plain": [
       "Accuracy on the validation set: 0.809634\t\n"
      ]
     },
     "execution_count": 63,
     "metadata": {},
     "output_type": "execute_result"
    },
    {
     "data": {
      "text/plain": [
       "Epoch: 35 Current loss: 0.640198\t\n"
      ]
     },
     "execution_count": 63,
     "metadata": {},
     "output_type": "execute_result"
    },
    {
     "data": {
      "text/plain": [
       "Accuracy on the validation set: 0.825845\t\n"
      ]
     },
     "execution_count": 63,
     "metadata": {},
     "output_type": "execute_result"
    },
    {
     "data": {
      "text/plain": [
       "Epoch: 36 Current loss: 0.630284\t\n"
      ]
     },
     "execution_count": 63,
     "metadata": {},
     "output_type": "execute_result"
    },
    {
     "data": {
      "text/plain": [
       "Accuracy on the validation set: 0.817971\t\n"
      ]
     },
     "execution_count": 63,
     "metadata": {},
     "output_type": "execute_result"
    },
    {
     "data": {
      "text/plain": [
       "Epoch: 37 Current loss: 0.634187\t\n"
      ]
     },
     "execution_count": 63,
     "metadata": {},
     "output_type": "execute_result"
    },
    {
     "data": {
      "text/plain": [
       "Accuracy on the validation set: 0.811487\t\n"
      ]
     },
     "execution_count": 63,
     "metadata": {},
     "output_type": "execute_result"
    },
    {
     "data": {
      "text/plain": [
       "Epoch: 38 Current loss: 0.628142\t\n"
      ]
     },
     "execution_count": 63,
     "metadata": {},
     "output_type": "execute_result"
    },
    {
     "data": {
      "text/plain": [
       "Accuracy on the validation set: 0.823529\t\n"
      ]
     },
     "execution_count": 63,
     "metadata": {},
     "output_type": "execute_result"
    },
    {
     "data": {
      "text/plain": [
       "Epoch: 39 Current loss: 0.616521\t\n"
      ]
     },
     "execution_count": 63,
     "metadata": {},
     "output_type": "execute_result"
    },
    {
     "data": {
      "text/plain": [
       "Accuracy on the validation set: 0.826772\t\n"
      ]
     },
     "execution_count": 63,
     "metadata": {},
     "output_type": "execute_result"
    },
    {
     "data": {
      "text/plain": [
       "Epoch: 40 Current loss: 0.611016\t\n"
      ]
     },
     "execution_count": 63,
     "metadata": {},
     "output_type": "execute_result"
    },
    {
     "data": {
      "text/plain": [
       "Accuracy on the validation set: 0.801297\t\n"
      ]
     },
     "execution_count": 63,
     "metadata": {},
     "output_type": "execute_result"
    },
    {
     "data": {
      "text/plain": [
       "Epoch: 41 Current loss: 0.614404\t\n"
      ]
     },
     "execution_count": 63,
     "metadata": {},
     "output_type": "execute_result"
    },
    {
     "data": {
      "text/plain": [
       "Accuracy on the validation set: 0.822603\t\n"
      ]
     },
     "execution_count": 63,
     "metadata": {},
     "output_type": "execute_result"
    },
    {
     "data": {
      "text/plain": [
       "Epoch: 42 Current loss: 0.608444\t\n"
      ]
     },
     "execution_count": 63,
     "metadata": {},
     "output_type": "execute_result"
    },
    {
     "data": {
      "text/plain": [
       "Accuracy on the validation set: 0.815192\t\n"
      ]
     },
     "execution_count": 63,
     "metadata": {},
     "output_type": "execute_result"
    },
    {
     "data": {
      "text/plain": [
       "Epoch: 43 Current loss: 0.610639\t\n"
      ]
     },
     "execution_count": 63,
     "metadata": {},
     "output_type": "execute_result"
    },
    {
     "data": {
      "text/plain": [
       "Accuracy on the validation set: 0.821214\t\n"
      ]
     },
     "execution_count": 63,
     "metadata": {},
     "output_type": "execute_result"
    },
    {
     "data": {
      "text/plain": [
       "Epoch: 44 Current loss: 0.602874\t\n"
      ]
     },
     "execution_count": 63,
     "metadata": {},
     "output_type": "execute_result"
    },
    {
     "data": {
      "text/plain": [
       "Accuracy on the validation set: 0.827235\t\n"
      ]
     },
     "execution_count": 63,
     "metadata": {},
     "output_type": "execute_result"
    },
    {
     "data": {
      "text/plain": [
       "Epoch: 45 Current loss: 0.582966\t\n"
      ]
     },
     "execution_count": 63,
     "metadata": {},
     "output_type": "execute_result"
    },
    {
     "data": {
      "text/plain": [
       "Accuracy on the validation set: 0.835572\t\n"
      ]
     },
     "execution_count": 63,
     "metadata": {},
     "output_type": "execute_result"
    },
    {
     "data": {
      "text/plain": [
       "Epoch: 46 Current loss: 0.585533\t\n"
      ]
     },
     "execution_count": 63,
     "metadata": {},
     "output_type": "execute_result"
    },
    {
     "data": {
      "text/plain": [
       "Accuracy on the validation set: 0.828161\t\n"
      ]
     },
     "execution_count": 63,
     "metadata": {},
     "output_type": "execute_result"
    },
    {
     "data": {
      "text/plain": [
       "Epoch: 47 Current loss: 0.575196\t\n"
      ]
     },
     "execution_count": 63,
     "metadata": {},
     "output_type": "execute_result"
    },
    {
     "data": {
      "text/plain": [
       "Accuracy on the validation set: 0.824456\t\n"
      ]
     },
     "execution_count": 63,
     "metadata": {},
     "output_type": "execute_result"
    },
    {
     "data": {
      "text/plain": [
       "Epoch: 48 Current loss: 0.591967\t\n"
      ]
     },
     "execution_count": 63,
     "metadata": {},
     "output_type": "execute_result"
    },
    {
     "data": {
      "text/plain": [
       "Accuracy on the validation set: 0.823993\t\n"
      ]
     },
     "execution_count": 63,
     "metadata": {},
     "output_type": "execute_result"
    },
    {
     "data": {
      "text/plain": [
       "Epoch: 49 Current loss: 0.575830\t\n"
      ]
     },
     "execution_count": 63,
     "metadata": {},
     "output_type": "execute_result"
    },
    {
     "data": {
      "text/plain": [
       "Accuracy on the validation set: 0.838814\t"
      ]
     },
     "execution_count": 63,
     "metadata": {},
     "output_type": "execute_result"
    },
    {
     "data": {
      "text/plain": [
       "\n"
      ]
     },
     "execution_count": 63,
     "metadata": {},
     "output_type": "execute_result"
    },
    {
     "data": {
      "text/plain": [
       "Epoch: 50 Current loss: 0.584147\t\n"
      ]
     },
     "execution_count": 63,
     "metadata": {},
     "output_type": "execute_result"
    },
    {
     "data": {
      "text/plain": [
       "Accuracy on the validation set: 0.830477\t\n"
      ]
     },
     "execution_count": 63,
     "metadata": {},
     "output_type": "execute_result"
    },
    {
     "data": {
      "text/plain": [
       "Epoch: 51 Current loss: 0.576521\t\n"
      ]
     },
     "execution_count": 63,
     "metadata": {},
     "output_type": "execute_result"
    },
    {
     "data": {
      "text/plain": [
       "Accuracy on the validation set: 0.830477\t\n"
      ]
     },
     "execution_count": 63,
     "metadata": {},
     "output_type": "execute_result"
    },
    {
     "data": {
      "text/plain": [
       "Epoch: 52 Current loss: 0.570863\t\n"
      ]
     },
     "execution_count": 63,
     "metadata": {},
     "output_type": "execute_result"
    },
    {
     "data": {
      "text/plain": [
       "Accuracy on the validation set: 0.833256\t\n"
      ]
     },
     "execution_count": 63,
     "metadata": {},
     "output_type": "execute_result"
    },
    {
     "data": {
      "text/plain": [
       "Epoch: 53 Current loss: 0.569408\t\n"
      ]
     },
     "execution_count": 63,
     "metadata": {},
     "output_type": "execute_result"
    },
    {
     "data": {
      "text/plain": [
       "Accuracy on the validation set: 0.835572\t\n"
      ]
     },
     "execution_count": 63,
     "metadata": {},
     "output_type": "execute_result"
    },
    {
     "data": {
      "text/plain": [
       "Epoch: 54 Current loss: 0.564372\t\n"
      ]
     },
     "execution_count": 63,
     "metadata": {},
     "output_type": "execute_result"
    },
    {
     "data": {
      "text/plain": [
       "Accuracy on the validation set: 0.838351\t\n"
      ]
     },
     "execution_count": 63,
     "metadata": {},
     "output_type": "execute_result"
    },
    {
     "data": {
      "text/plain": [
       "Epoch: 55 Current loss: 0.543232\t\n"
      ]
     },
     "execution_count": 63,
     "metadata": {},
     "output_type": "execute_result"
    },
    {
     "data": {
      "text/plain": [
       "Accuracy on the validation set: 0.836962\t\n"
      ]
     },
     "execution_count": 63,
     "metadata": {},
     "output_type": "execute_result"
    },
    {
     "data": {
      "text/plain": [
       "Epoch: 56 Current loss: 0.554344\t\n"
      ]
     },
     "execution_count": 63,
     "metadata": {},
     "output_type": "execute_result"
    },
    {
     "data": {
      "text/plain": [
       "Accuracy on the validation set: 0.837888\t\n"
      ]
     },
     "execution_count": 63,
     "metadata": {},
     "output_type": "execute_result"
    },
    {
     "data": {
      "text/plain": [
       "Epoch: 57 Current loss: 0.552854\t\n"
      ]
     },
     "execution_count": 63,
     "metadata": {},
     "output_type": "execute_result"
    },
    {
     "data": {
      "text/plain": [
       "Accuracy on the validation set: 0.840667\t\n"
      ]
     },
     "execution_count": 63,
     "metadata": {},
     "output_type": "execute_result"
    },
    {
     "data": {
      "text/plain": [
       "Epoch: 58 Current loss: 0.546326\t\n"
      ]
     },
     "execution_count": 63,
     "metadata": {},
     "output_type": "execute_result"
    },
    {
     "data": {
      "text/plain": [
       "Accuracy on the validation set: 0.838814\t\n"
      ]
     },
     "execution_count": 63,
     "metadata": {},
     "output_type": "execute_result"
    },
    {
     "data": {
      "text/plain": [
       "Epoch: 59 Current loss: 0.544839\t\n"
      ]
     },
     "execution_count": 63,
     "metadata": {},
     "output_type": "execute_result"
    },
    {
     "data": {
      "text/plain": [
       "Accuracy on the validation set: 0.849467\t\n"
      ]
     },
     "execution_count": 63,
     "metadata": {},
     "output_type": "execute_result"
    },
    {
     "data": {
      "text/plain": [
       "Epoch: 60 Current loss: 0.547733\t\n"
      ]
     },
     "execution_count": 63,
     "metadata": {},
     "output_type": "execute_result"
    },
    {
     "data": {
      "text/plain": [
       "Accuracy on the validation set: 0.829088\t\n"
      ]
     },
     "execution_count": 63,
     "metadata": {},
     "output_type": "execute_result"
    },
    {
     "data": {
      "text/plain": [
       "Epoch: 61 Current loss: 0.536193\t\n"
      ]
     },
     "execution_count": 63,
     "metadata": {},
     "output_type": "execute_result"
    },
    {
     "data": {
      "text/plain": [
       "Accuracy on the validation set: 0.830940\t\n"
      ]
     },
     "execution_count": 63,
     "metadata": {},
     "output_type": "execute_result"
    },
    {
     "data": {
      "text/plain": [
       "Epoch: 62 Current loss: 0.543871\t\n"
      ]
     },
     "execution_count": 63,
     "metadata": {},
     "output_type": "execute_result"
    },
    {
     "data": {
      "text/plain": [
       "Accuracy on the validation set: 0.837888\t\n"
      ]
     },
     "execution_count": 63,
     "metadata": {},
     "output_type": "execute_result"
    },
    {
     "data": {
      "text/plain": [
       "Epoch: 63 Current loss: 0.543081\t\n"
      ]
     },
     "execution_count": 63,
     "metadata": {},
     "output_type": "execute_result"
    },
    {
     "data": {
      "text/plain": [
       "Accuracy on the validation set: 0.844372\t\n"
      ]
     },
     "execution_count": 63,
     "metadata": {},
     "output_type": "execute_result"
    },
    {
     "data": {
      "text/plain": [
       "Epoch: 64 Current loss: 0.532036\t\n"
      ]
     },
     "execution_count": 63,
     "metadata": {},
     "output_type": "execute_result"
    },
    {
     "data": {
      "text/plain": [
       "Accuracy on the validation set: 0.843909\t\n"
      ]
     },
     "execution_count": 63,
     "metadata": {},
     "output_type": "execute_result"
    },
    {
     "data": {
      "text/plain": [
       "Epoch: 65 Current loss: 0.523671\t\n"
      ]
     },
     "execution_count": 63,
     "metadata": {},
     "output_type": "execute_result"
    },
    {
     "data": {
      "text/plain": [
       "Accuracy on the validation set: 0.847151\t\n"
      ]
     },
     "execution_count": 63,
     "metadata": {},
     "output_type": "execute_result"
    },
    {
     "data": {
      "text/plain": [
       "Epoch: 66 Current loss: 0.529944\t\n"
      ]
     },
     "execution_count": 63,
     "metadata": {},
     "output_type": "execute_result"
    },
    {
     "data": {
      "text/plain": [
       "Accuracy on the validation set: 0.847151\t\n"
      ]
     },
     "execution_count": 63,
     "metadata": {},
     "output_type": "execute_result"
    },
    {
     "data": {
      "text/plain": [
       "Epoch: 67 Current loss: 0.518046\t\n"
      ]
     },
     "execution_count": 63,
     "metadata": {},
     "output_type": "execute_result"
    },
    {
     "data": {
      "text/plain": [
       "Accuracy on the validation set: 0.842983\t\n"
      ]
     },
     "execution_count": 63,
     "metadata": {},
     "output_type": "execute_result"
    },
    {
     "data": {
      "text/plain": [
       "Epoch: 68 Current loss: 0.523383\t\n"
      ]
     },
     "execution_count": 63,
     "metadata": {},
     "output_type": "execute_result"
    },
    {
     "data": {
      "text/plain": [
       "Accuracy on the validation set: 0.846225\t\n"
      ]
     },
     "execution_count": 63,
     "metadata": {},
     "output_type": "execute_result"
    },
    {
     "data": {
      "text/plain": [
       "Epoch: 69 Current loss: 0.509581\t\n"
      ]
     },
     "execution_count": 63,
     "metadata": {},
     "output_type": "execute_result"
    },
    {
     "data": {
      "text/plain": [
       "Accuracy on the validation set: 0.855489\t\n"
      ]
     },
     "execution_count": 63,
     "metadata": {},
     "output_type": "execute_result"
    },
    {
     "data": {
      "text/plain": [
       "Epoch: 70 Current loss: 0.506872\t\n"
      ]
     },
     "execution_count": 63,
     "metadata": {},
     "output_type": "execute_result"
    },
    {
     "data": {
      "text/plain": [
       "Accuracy on the validation set: 0.846688\t\n"
      ]
     },
     "execution_count": 63,
     "metadata": {},
     "output_type": "execute_result"
    },
    {
     "data": {
      "text/plain": [
       "Epoch: 71 Current loss: 0.519017\t\n"
      ]
     },
     "execution_count": 63,
     "metadata": {},
     "output_type": "execute_result"
    },
    {
     "data": {
      "text/plain": [
       "Accuracy on the validation set: 0.845762\t\n"
      ]
     },
     "execution_count": 63,
     "metadata": {},
     "output_type": "execute_result"
    },
    {
     "data": {
      "text/plain": [
       "Epoch: 72 Current loss: 0.520299\t\n"
      ]
     },
     "execution_count": 63,
     "metadata": {},
     "output_type": "execute_result"
    },
    {
     "data": {
      "text/plain": [
       "Accuracy on the validation set: 0.850857\t\n"
      ]
     },
     "execution_count": 63,
     "metadata": {},
     "output_type": "execute_result"
    },
    {
     "data": {
      "text/plain": [
       "Epoch: 73 Current loss: 0.525645\t\n"
      ]
     },
     "execution_count": 63,
     "metadata": {},
     "output_type": "execute_result"
    },
    {
     "data": {
      "text/plain": [
       "Accuracy on the validation set: 0.845762\t\n"
      ]
     },
     "execution_count": 63,
     "metadata": {},
     "output_type": "execute_result"
    },
    {
     "data": {
      "text/plain": [
       "Epoch: 74 Current loss: 0.515172\t\n"
      ]
     },
     "execution_count": 63,
     "metadata": {},
     "output_type": "execute_result"
    },
    {
     "data": {
      "text/plain": [
       "Accuracy on the validation set: 0.849004\t\n"
      ]
     },
     "execution_count": 63,
     "metadata": {},
     "output_type": "execute_result"
    },
    {
     "data": {
      "text/plain": [
       "Epoch: 75 Current loss: 0.512280\t\n"
      ]
     },
     "execution_count": 63,
     "metadata": {},
     "output_type": "execute_result"
    },
    {
     "data": {
      "text/plain": [
       "Accuracy on the validation set: 0.854099\t\n"
      ]
     },
     "execution_count": 63,
     "metadata": {},
     "output_type": "execute_result"
    },
    {
     "data": {
      "text/plain": [
       "Epoch: 76 Current loss: 0.497226\t\n"
      ]
     },
     "execution_count": 63,
     "metadata": {},
     "output_type": "execute_result"
    },
    {
     "data": {
      "text/plain": [
       "Accuracy on the validation set: 0.848078\t\n"
      ]
     },
     "execution_count": 63,
     "metadata": {},
     "output_type": "execute_result"
    },
    {
     "data": {
      "text/plain": [
       "Epoch: 77 Current loss: 0.489254\t\n"
      ]
     },
     "execution_count": 63,
     "metadata": {},
     "output_type": "execute_result"
    },
    {
     "data": {
      "text/plain": [
       "Accuracy on the validation set: 0.846688\t\n"
      ]
     },
     "execution_count": 63,
     "metadata": {},
     "output_type": "execute_result"
    },
    {
     "data": {
      "text/plain": [
       "Epoch: 78 Current loss: 0.484403\t\n"
      ]
     },
     "execution_count": 63,
     "metadata": {},
     "output_type": "execute_result"
    },
    {
     "data": {
      "text/plain": [
       "Accuracy on the validation set: 0.859657\t\n"
      ]
     },
     "execution_count": 63,
     "metadata": {},
     "output_type": "execute_result"
    },
    {
     "data": {
      "text/plain": [
       "Epoch: 79 Current loss: 0.492390\t\n"
      ]
     },
     "execution_count": 63,
     "metadata": {},
     "output_type": "execute_result"
    },
    {
     "data": {
      "text/plain": [
       "Accuracy on the validation set: 0.858731\t\n"
      ]
     },
     "execution_count": 63,
     "metadata": {},
     "output_type": "execute_result"
    },
    {
     "data": {
      "text/plain": [
       "Epoch: 80 Current loss: 0.478049\t\n"
      ]
     },
     "execution_count": 63,
     "metadata": {},
     "output_type": "execute_result"
    },
    {
     "data": {
      "text/plain": [
       "Accuracy on the validation set: 0.871237\t\n"
      ]
     },
     "execution_count": 63,
     "metadata": {},
     "output_type": "execute_result"
    },
    {
     "data": {
      "text/plain": [
       "Epoch: 81 Current loss: 0.476727\t\n"
      ]
     },
     "execution_count": 63,
     "metadata": {},
     "output_type": "execute_result"
    },
    {
     "data": {
      "text/plain": [
       "Accuracy on the validation set: 0.860120\t\n"
      ]
     },
     "execution_count": 63,
     "metadata": {},
     "output_type": "execute_result"
    },
    {
     "data": {
      "text/plain": [
       "Epoch: 82 Current loss: 0.480427\t\n"
      ]
     },
     "execution_count": 63,
     "metadata": {},
     "output_type": "execute_result"
    },
    {
     "data": {
      "text/plain": [
       "Accuracy on the validation set: 0.855489\t\n"
      ]
     },
     "execution_count": 63,
     "metadata": {},
     "output_type": "execute_result"
    },
    {
     "data": {
      "text/plain": [
       "Epoch: 83 Current loss: 0.480383\t\n"
      ]
     },
     "execution_count": 63,
     "metadata": {},
     "output_type": "execute_result"
    },
    {
     "data": {
      "text/plain": [
       "Accuracy on the validation set: 0.860584\t\n"
      ]
     },
     "execution_count": 63,
     "metadata": {},
     "output_type": "execute_result"
    },
    {
     "data": {
      "text/plain": [
       "Epoch: 84 Current loss: 0.460779\t\n"
      ]
     },
     "execution_count": 63,
     "metadata": {},
     "output_type": "execute_result"
    },
    {
     "data": {
      "text/plain": [
       "Accuracy on the validation set: 0.857341\t\n"
      ]
     },
     "execution_count": 63,
     "metadata": {},
     "output_type": "execute_result"
    },
    {
     "data": {
      "text/plain": [
       "Epoch: 85 Current loss: 0.473777\t\n"
      ]
     },
     "execution_count": 63,
     "metadata": {},
     "output_type": "execute_result"
    },
    {
     "data": {
      "text/plain": [
       "Accuracy on the validation set: 0.860584\t\n"
      ]
     },
     "execution_count": 63,
     "metadata": {},
     "output_type": "execute_result"
    },
    {
     "data": {
      "text/plain": [
       "Epoch: 86 Current loss: 0.470677\t\n"
      ]
     },
     "execution_count": 63,
     "metadata": {},
     "output_type": "execute_result"
    },
    {
     "data": {
      "text/plain": [
       "Accuracy on the validation set: 0.860120\t\n"
      ]
     },
     "execution_count": 63,
     "metadata": {},
     "output_type": "execute_result"
    },
    {
     "data": {
      "text/plain": [
       "Epoch: 87 Current loss: 0.468673\t\n"
      ]
     },
     "execution_count": 63,
     "metadata": {},
     "output_type": "execute_result"
    },
    {
     "data": {
      "text/plain": [
       "Accuracy on the validation set: 0.862436\t\n"
      ]
     },
     "execution_count": 63,
     "metadata": {},
     "output_type": "execute_result"
    },
    {
     "data": {
      "text/plain": [
       "Epoch: 88 Current loss: 0.465176\t\n"
      ]
     },
     "execution_count": 63,
     "metadata": {},
     "output_type": "execute_result"
    },
    {
     "data": {
      "text/plain": [
       "Accuracy on the validation set: 0.855489\t\n"
      ]
     },
     "execution_count": 63,
     "metadata": {},
     "output_type": "execute_result"
    },
    {
     "data": {
      "text/plain": [
       "Epoch: 89 Current loss: 0.470785\t\n"
      ]
     },
     "execution_count": 63,
     "metadata": {},
     "output_type": "execute_result"
    },
    {
     "data": {
      "text/plain": [
       "Accuracy on the validation set: 0.870310\t\n"
      ]
     },
     "execution_count": 63,
     "metadata": {},
     "output_type": "execute_result"
    },
    {
     "data": {
      "text/plain": [
       "Epoch: 90 Current loss: 0.459882\t\n"
      ]
     },
     "execution_count": 63,
     "metadata": {},
     "output_type": "execute_result"
    },
    {
     "data": {
      "text/plain": [
       "Accuracy on the validation set: 0.858268\t\n"
      ]
     },
     "execution_count": 63,
     "metadata": {},
     "output_type": "execute_result"
    },
    {
     "data": {
      "text/plain": [
       "Epoch: 91 Current loss: 0.470750\t\n"
      ]
     },
     "execution_count": 63,
     "metadata": {},
     "output_type": "execute_result"
    },
    {
     "data": {
      "text/plain": [
       "Accuracy on the validation set: 0.858268\t\n"
      ]
     },
     "execution_count": 63,
     "metadata": {},
     "output_type": "execute_result"
    },
    {
     "data": {
      "text/plain": [
       "Epoch: 92 Current loss: 0.471661\t\n"
      ]
     },
     "execution_count": 63,
     "metadata": {},
     "output_type": "execute_result"
    },
    {
     "data": {
      "text/plain": [
       "Accuracy on the validation set: 0.864289\t\n"
      ]
     },
     "execution_count": 63,
     "metadata": {},
     "output_type": "execute_result"
    },
    {
     "data": {
      "text/plain": [
       "Epoch: 93 Current loss: 0.464049\t\n"
      ]
     },
     "execution_count": 63,
     "metadata": {},
     "output_type": "execute_result"
    },
    {
     "data": {
      "text/plain": [
       "Accuracy on the validation set: 0.866605\t\n"
      ]
     },
     "execution_count": 63,
     "metadata": {},
     "output_type": "execute_result"
    },
    {
     "data": {
      "text/plain": [
       "Epoch: 94 Current loss: 0.455683\t\n"
      ]
     },
     "execution_count": 63,
     "metadata": {},
     "output_type": "execute_result"
    },
    {
     "data": {
      "text/plain": [
       "Accuracy on the validation set: 0.862436\t\n"
      ]
     },
     "execution_count": 63,
     "metadata": {},
     "output_type": "execute_result"
    },
    {
     "data": {
      "text/plain": [
       "Epoch: 95 Current loss: 0.465863\t\n"
      ]
     },
     "execution_count": 63,
     "metadata": {},
     "output_type": "execute_result"
    },
    {
     "data": {
      "text/plain": [
       "Accuracy on the validation set: 0.860120\t\n"
      ]
     },
     "execution_count": 63,
     "metadata": {},
     "output_type": "execute_result"
    },
    {
     "data": {
      "text/plain": [
       "Epoch: 96 Current loss: 0.449629\t\n"
      ]
     },
     "execution_count": 63,
     "metadata": {},
     "output_type": "execute_result"
    },
    {
     "data": {
      "text/plain": [
       "Accuracy on the validation set: 0.865215\t\n"
      ]
     },
     "execution_count": 63,
     "metadata": {},
     "output_type": "execute_result"
    },
    {
     "data": {
      "text/plain": [
       "Epoch: 97 Current loss: 0.446926\t\n"
      ]
     },
     "execution_count": 63,
     "metadata": {},
     "output_type": "execute_result"
    },
    {
     "data": {
      "text/plain": [
       "Accuracy on the validation set: 0.865215\t\n"
      ]
     },
     "execution_count": 63,
     "metadata": {},
     "output_type": "execute_result"
    },
    {
     "data": {
      "text/plain": [
       "Epoch: 98 Current loss: 0.447272\t\n"
      ]
     },
     "execution_count": 63,
     "metadata": {},
     "output_type": "execute_result"
    },
    {
     "data": {
      "text/plain": [
       "Accuracy on the validation set: 0.868921\t\n"
      ]
     },
     "execution_count": 63,
     "metadata": {},
     "output_type": "execute_result"
    },
    {
     "data": {
      "text/plain": [
       "Epoch: 99 Current loss: 0.453363\t\n"
      ]
     },
     "execution_count": 63,
     "metadata": {},
     "output_type": "execute_result"
    },
    {
     "data": {
      "text/plain": [
       "Accuracy on the validation set: 0.872626\t\n"
      ]
     },
     "execution_count": 63,
     "metadata": {},
     "output_type": "execute_result"
    },
    {
     "data": {
      "text/plain": [
       "Epoch: 100 Current loss: 0.456317\t\n"
      ]
     },
     "execution_count": 63,
     "metadata": {},
     "output_type": "execute_result"
    },
    {
     "data": {
      "text/plain": [
       "Accuracy on the validation set: 0.868921\t\n"
      ]
     },
     "execution_count": 63,
     "metadata": {},
     "output_type": "execute_result"
    },
    {
     "data": {
      "text/plain": [
       "Epoch: 101 Current loss: 0.448451\t\n"
      ]
     },
     "execution_count": 63,
     "metadata": {},
     "output_type": "execute_result"
    },
    {
     "data": {
      "text/plain": [
       "Accuracy on the validation set: 0.857341\t\n"
      ]
     },
     "execution_count": 63,
     "metadata": {},
     "output_type": "execute_result"
    },
    {
     "data": {
      "text/plain": [
       "Epoch: 102 Current loss: 0.444231\t\n"
      ]
     },
     "execution_count": 63,
     "metadata": {},
     "output_type": "execute_result"
    },
    {
     "data": {
      "text/plain": [
       "Accuracy on the validation set: 0.874479\t\n"
      ]
     },
     "execution_count": 63,
     "metadata": {},
     "output_type": "execute_result"
    },
    {
     "data": {
      "text/plain": [
       "Epoch: 103 Current loss: 0.447400\t\n"
      ]
     },
     "execution_count": 63,
     "metadata": {},
     "output_type": "execute_result"
    },
    {
     "data": {
      "text/plain": [
       "Accuracy on the validation set: 0.855025\t\n"
      ]
     },
     "execution_count": 63,
     "metadata": {},
     "output_type": "execute_result"
    },
    {
     "data": {
      "text/plain": [
       "Epoch: 104 Current loss: 0.441486\t\n"
      ]
     },
     "execution_count": 63,
     "metadata": {},
     "output_type": "execute_result"
    },
    {
     "data": {
      "text/plain": [
       "Accuracy on the validation set: 0.875868\t\n"
      ]
     },
     "execution_count": 63,
     "metadata": {},
     "output_type": "execute_result"
    },
    {
     "data": {
      "text/plain": [
       "Epoch: 105 Current loss: 0.446496\t\n"
      ]
     },
     "execution_count": 63,
     "metadata": {},
     "output_type": "execute_result"
    },
    {
     "data": {
      "text/plain": [
       "Accuracy on the validation set: 0.865215\t\n"
      ]
     },
     "execution_count": 63,
     "metadata": {},
     "output_type": "execute_result"
    },
    {
     "data": {
      "text/plain": [
       "Epoch: 106 Current loss: 0.445502\t\n"
      ]
     },
     "execution_count": 63,
     "metadata": {},
     "output_type": "execute_result"
    },
    {
     "data": {
      "text/plain": [
       "Accuracy on the validation set: 0.869847\t\n"
      ]
     },
     "execution_count": 63,
     "metadata": {},
     "output_type": "execute_result"
    },
    {
     "data": {
      "text/plain": [
       "Epoch: 107 Current loss: 0.443427\t\n"
      ]
     },
     "execution_count": 63,
     "metadata": {},
     "output_type": "execute_result"
    },
    {
     "data": {
      "text/plain": [
       "Accuracy on the validation set: 0.866142\t\n"
      ]
     },
     "execution_count": 63,
     "metadata": {},
     "output_type": "execute_result"
    },
    {
     "data": {
      "text/plain": [
       "Epoch: 108 Current loss: 0.448408\t\n"
      ]
     },
     "execution_count": 63,
     "metadata": {},
     "output_type": "execute_result"
    },
    {
     "data": {
      "text/plain": [
       "Accuracy on the validation set: 0.865215\t\n"
      ]
     },
     "execution_count": 63,
     "metadata": {},
     "output_type": "execute_result"
    },
    {
     "data": {
      "text/plain": [
       "Epoch: 109 Current loss: 0.444144\t\n"
      ]
     },
     "execution_count": 63,
     "metadata": {},
     "output_type": "execute_result"
    },
    {
     "data": {
      "text/plain": [
       "Accuracy on the validation set: 0.871237\t\n"
      ]
     },
     "execution_count": 63,
     "metadata": {},
     "output_type": "execute_result"
    },
    {
     "data": {
      "text/plain": [
       "Epoch: 110 Current loss: 0.430923\t\n"
      ]
     },
     "execution_count": 63,
     "metadata": {},
     "output_type": "execute_result"
    },
    {
     "data": {
      "text/plain": [
       "Accuracy on the validation set: 0.865679\t\n"
      ]
     },
     "execution_count": 63,
     "metadata": {},
     "output_type": "execute_result"
    },
    {
     "data": {
      "text/plain": [
       "Epoch: 111 Current loss: 0.432840\t\n"
      ]
     },
     "execution_count": 63,
     "metadata": {},
     "output_type": "execute_result"
    },
    {
     "data": {
      "text/plain": [
       "Accuracy on the validation set: 0.866605\t\n"
      ]
     },
     "execution_count": 63,
     "metadata": {},
     "output_type": "execute_result"
    },
    {
     "data": {
      "text/plain": [
       "Epoch: 112 Current loss: 0.419908\t\n"
      ]
     },
     "execution_count": 63,
     "metadata": {},
     "output_type": "execute_result"
    },
    {
     "data": {
      "text/plain": [
       "Accuracy on the validation set: 0.871237\t\n"
      ]
     },
     "execution_count": 63,
     "metadata": {},
     "output_type": "execute_result"
    },
    {
     "data": {
      "text/plain": [
       "Epoch: 113 Current loss: 0.432865\t\n"
      ]
     },
     "execution_count": 63,
     "metadata": {},
     "output_type": "execute_result"
    },
    {
     "data": {
      "text/plain": [
       "Accuracy on the validation set: 0.874479\t\n"
      ]
     },
     "execution_count": 63,
     "metadata": {},
     "output_type": "execute_result"
    },
    {
     "data": {
      "text/plain": [
       "Epoch: 114 Current loss: 0.421449\t\n"
      ]
     },
     "execution_count": 63,
     "metadata": {},
     "output_type": "execute_result"
    },
    {
     "data": {
      "text/plain": [
       "Accuracy on the validation set: 0.869847\t\n"
      ]
     },
     "execution_count": 63,
     "metadata": {},
     "output_type": "execute_result"
    },
    {
     "data": {
      "text/plain": [
       "Epoch: 115 Current loss: 0.411625\t\n"
      ]
     },
     "execution_count": 63,
     "metadata": {},
     "output_type": "execute_result"
    },
    {
     "data": {
      "text/plain": [
       "Accuracy on the validation set: 0.877721\t\n"
      ]
     },
     "execution_count": 63,
     "metadata": {},
     "output_type": "execute_result"
    },
    {
     "data": {
      "text/plain": [
       "Epoch: 116 Current loss: 0.412931\t\n"
      ]
     },
     "execution_count": 63,
     "metadata": {},
     "output_type": "execute_result"
    },
    {
     "data": {
      "text/plain": [
       "Accuracy on the validation set: 0.875405\t\n"
      ]
     },
     "execution_count": 63,
     "metadata": {},
     "output_type": "execute_result"
    },
    {
     "data": {
      "text/plain": [
       "Epoch: 117 Current loss: 0.410349\t\n"
      ]
     },
     "execution_count": 63,
     "metadata": {},
     "output_type": "execute_result"
    },
    {
     "data": {
      "text/plain": [
       "Accuracy on the validation set: 0.874942\t\n"
      ]
     },
     "execution_count": 63,
     "metadata": {},
     "output_type": "execute_result"
    },
    {
     "data": {
      "text/plain": [
       "Epoch: 118 Current loss: 0.409268\t\n"
      ]
     },
     "execution_count": 63,
     "metadata": {},
     "output_type": "execute_result"
    },
    {
     "data": {
      "text/plain": [
       "Accuracy on the validation set: 0.874942\t\n"
      ]
     },
     "execution_count": 63,
     "metadata": {},
     "output_type": "execute_result"
    },
    {
     "data": {
      "text/plain": [
       "Epoch: 119 Current loss: 0.412809\t\n"
      ]
     },
     "execution_count": 63,
     "metadata": {},
     "output_type": "execute_result"
    },
    {
     "data": {
      "text/plain": [
       "Accuracy on the validation set: 0.879574\t\n"
      ]
     },
     "execution_count": 63,
     "metadata": {},
     "output_type": "execute_result"
    },
    {
     "data": {
      "text/plain": [
       "Epoch: 120 Current loss: 0.410559\t\n"
      ]
     },
     "execution_count": 63,
     "metadata": {},
     "output_type": "execute_result"
    },
    {
     "data": {
      "text/plain": [
       "Accuracy on the validation set: 0.870774\t\n"
      ]
     },
     "execution_count": 63,
     "metadata": {},
     "output_type": "execute_result"
    },
    {
     "data": {
      "text/plain": [
       "Epoch: 121 Current loss: 0.405804\t\n"
      ]
     },
     "execution_count": 63,
     "metadata": {},
     "output_type": "execute_result"
    },
    {
     "data": {
      "text/plain": [
       "Accuracy on the validation set: 0.882353\t\n"
      ]
     },
     "execution_count": 63,
     "metadata": {},
     "output_type": "execute_result"
    },
    {
     "data": {
      "text/plain": [
       "Epoch: 122 Current loss: 0.412475\t\n"
      ]
     },
     "execution_count": 63,
     "metadata": {},
     "output_type": "execute_result"
    },
    {
     "data": {
      "text/plain": [
       "Accuracy on the validation set: 0.873553\t\n"
      ]
     },
     "execution_count": 63,
     "metadata": {},
     "output_type": "execute_result"
    },
    {
     "data": {
      "text/plain": [
       "Epoch: 123 Current loss: 0.408114\t\n"
      ]
     },
     "execution_count": 63,
     "metadata": {},
     "output_type": "execute_result"
    },
    {
     "data": {
      "text/plain": [
       "Accuracy on the validation set: 0.872163\t\n"
      ]
     },
     "execution_count": 63,
     "metadata": {},
     "output_type": "execute_result"
    },
    {
     "data": {
      "text/plain": [
       "Epoch: 124 Current loss: 0.406748\t\n"
      ]
     },
     "execution_count": 63,
     "metadata": {},
     "output_type": "execute_result"
    },
    {
     "data": {
      "text/plain": [
       "Accuracy on the validation set: 0.876795\t\n"
      ]
     },
     "execution_count": 63,
     "metadata": {},
     "output_type": "execute_result"
    },
    {
     "data": {
      "text/plain": [
       "Epoch: 125 Current loss: 0.399918\t\n"
      ]
     },
     "execution_count": 63,
     "metadata": {},
     "output_type": "execute_result"
    },
    {
     "data": {
      "text/plain": [
       "Accuracy on the validation set: 0.878648\t\n"
      ]
     },
     "execution_count": 63,
     "metadata": {},
     "output_type": "execute_result"
    },
    {
     "data": {
      "text/plain": [
       "Epoch: 126 Current loss: 0.392990\t\n"
      ]
     },
     "execution_count": 63,
     "metadata": {},
     "output_type": "execute_result"
    },
    {
     "data": {
      "text/plain": [
       "Accuracy on the validation set: 0.876332\t\n"
      ]
     },
     "execution_count": 63,
     "metadata": {},
     "output_type": "execute_result"
    },
    {
     "data": {
      "text/plain": [
       "Epoch: 127 Current loss: 0.398736\t\n"
      ]
     },
     "execution_count": 63,
     "metadata": {},
     "output_type": "execute_result"
    },
    {
     "data": {
      "text/plain": [
       "Accuracy on the validation set: 0.877721\t\n"
      ]
     },
     "execution_count": 63,
     "metadata": {},
     "output_type": "execute_result"
    },
    {
     "data": {
      "text/plain": [
       "Epoch: 128 Current loss: 0.391283\t\n"
      ]
     },
     "execution_count": 63,
     "metadata": {},
     "output_type": "execute_result"
    },
    {
     "data": {
      "text/plain": [
       "Accuracy on the validation set: 0.882816\t\n"
      ]
     },
     "execution_count": 63,
     "metadata": {},
     "output_type": "execute_result"
    },
    {
     "data": {
      "text/plain": [
       "Epoch: 129 Current loss: 0.391870\t\n"
      ]
     },
     "execution_count": 63,
     "metadata": {},
     "output_type": "execute_result"
    },
    {
     "data": {
      "text/plain": [
       "Accuracy on the validation set: 0.880037\t\n"
      ]
     },
     "execution_count": 63,
     "metadata": {},
     "output_type": "execute_result"
    },
    {
     "data": {
      "text/plain": [
       "Epoch: 130 Current loss: 0.389432\t\n"
      ]
     },
     "execution_count": 63,
     "metadata": {},
     "output_type": "execute_result"
    },
    {
     "data": {
      "text/plain": [
       "Accuracy on the validation set: 0.882353\t\n"
      ]
     },
     "execution_count": 63,
     "metadata": {},
     "output_type": "execute_result"
    },
    {
     "data": {
      "text/plain": [
       "Epoch: 131 Current loss: 0.396556\t\n"
      ]
     },
     "execution_count": 63,
     "metadata": {},
     "output_type": "execute_result"
    },
    {
     "data": {
      "text/plain": [
       "Accuracy on the validation set: 0.880963\t\n"
      ]
     },
     "execution_count": 63,
     "metadata": {},
     "output_type": "execute_result"
    },
    {
     "data": {
      "text/plain": [
       "Epoch: 132 Current loss: 0.397203\t\n"
      ]
     },
     "execution_count": 63,
     "metadata": {},
     "output_type": "execute_result"
    },
    {
     "data": {
      "text/plain": [
       "Accuracy on the validation set: 0.870774\t\n"
      ]
     },
     "execution_count": 63,
     "metadata": {},
     "output_type": "execute_result"
    },
    {
     "data": {
      "text/plain": [
       "Epoch: 133 Current loss: 0.382209\t\n"
      ]
     },
     "execution_count": 63,
     "metadata": {},
     "output_type": "execute_result"
    },
    {
     "data": {
      "text/plain": [
       "Accuracy on the validation set: 0.875405\t\n"
      ]
     },
     "execution_count": 63,
     "metadata": {},
     "output_type": "execute_result"
    },
    {
     "data": {
      "text/plain": [
       "Epoch: 134 Current loss: 0.387806\t\n"
      ]
     },
     "execution_count": 63,
     "metadata": {},
     "output_type": "execute_result"
    },
    {
     "data": {
      "text/plain": [
       "Accuracy on the validation set: 0.878184\t\n"
      ]
     },
     "execution_count": 63,
     "metadata": {},
     "output_type": "execute_result"
    },
    {
     "data": {
      "text/plain": [
       "Epoch: 135 Current loss: 0.379439\t\n"
      ]
     },
     "execution_count": 63,
     "metadata": {},
     "output_type": "execute_result"
    },
    {
     "data": {
      "text/plain": [
       "Accuracy on the validation set: 0.878648\t\n"
      ]
     },
     "execution_count": 63,
     "metadata": {},
     "output_type": "execute_result"
    },
    {
     "data": {
      "text/plain": [
       "Epoch: 136 Current loss: 0.379655\t\n"
      ]
     },
     "execution_count": 63,
     "metadata": {},
     "output_type": "execute_result"
    },
    {
     "data": {
      "text/plain": [
       "Accuracy on the validation set: 0.882816\t\n"
      ]
     },
     "execution_count": 63,
     "metadata": {},
     "output_type": "execute_result"
    },
    {
     "data": {
      "text/plain": [
       "Epoch: 137 Current loss: 0.375729\t\n"
      ]
     },
     "execution_count": 63,
     "metadata": {},
     "output_type": "execute_result"
    },
    {
     "data": {
      "text/plain": [
       "Accuracy on the validation set: 0.880963\t\n"
      ]
     },
     "execution_count": 63,
     "metadata": {},
     "output_type": "execute_result"
    },
    {
     "data": {
      "text/plain": [
       "Epoch: 138 Current loss: 0.367446\t\n"
      ]
     },
     "execution_count": 63,
     "metadata": {},
     "output_type": "execute_result"
    },
    {
     "data": {
      "text/plain": [
       "Accuracy on the validation set: 0.891616\t\n"
      ]
     },
     "execution_count": 63,
     "metadata": {},
     "output_type": "execute_result"
    },
    {
     "data": {
      "text/plain": [
       "Epoch: 139 Current loss: 0.363828\t\n"
      ]
     },
     "execution_count": 63,
     "metadata": {},
     "output_type": "execute_result"
    },
    {
     "data": {
      "text/plain": [
       "Accuracy on the validation set: 0.878184\t\n"
      ]
     },
     "execution_count": 63,
     "metadata": {},
     "output_type": "execute_result"
    },
    {
     "data": {
      "text/plain": [
       "Epoch: 140 Current loss: 0.371269\t\n"
      ]
     },
     "execution_count": 63,
     "metadata": {},
     "output_type": "execute_result"
    },
    {
     "data": {
      "text/plain": [
       "Accuracy on the validation set: 0.888374\t\n"
      ]
     },
     "execution_count": 63,
     "metadata": {},
     "output_type": "execute_result"
    },
    {
     "data": {
      "text/plain": [
       "Epoch: 141 Current loss: 0.365163\t\n"
      ]
     },
     "execution_count": 63,
     "metadata": {},
     "output_type": "execute_result"
    },
    {
     "data": {
      "text/plain": [
       "Accuracy on the validation set: 0.888374\t\n"
      ]
     },
     "execution_count": 63,
     "metadata": {},
     "output_type": "execute_result"
    },
    {
     "data": {
      "text/plain": [
       "Epoch: 142 Current loss: 0.378533\t\n"
      ]
     },
     "execution_count": 63,
     "metadata": {},
     "output_type": "execute_result"
    },
    {
     "data": {
      "text/plain": [
       "Accuracy on the validation set: 0.882353\t\n"
      ]
     },
     "execution_count": 63,
     "metadata": {},
     "output_type": "execute_result"
    },
    {
     "data": {
      "text/plain": [
       "Epoch: 143 Current loss: 0.375966\t\n"
      ]
     },
     "execution_count": 63,
     "metadata": {},
     "output_type": "execute_result"
    },
    {
     "data": {
      "text/plain": [
       "Accuracy on the validation set: 0.884206\t\n"
      ]
     },
     "execution_count": 63,
     "metadata": {},
     "output_type": "execute_result"
    },
    {
     "data": {
      "text/plain": [
       "Epoch: 144 Current loss: 0.367275\t\n"
      ]
     },
     "execution_count": 63,
     "metadata": {},
     "output_type": "execute_result"
    },
    {
     "data": {
      "text/plain": [
       "Accuracy on the validation set: 0.881890\t\n"
      ]
     },
     "execution_count": 63,
     "metadata": {},
     "output_type": "execute_result"
    },
    {
     "data": {
      "text/plain": [
       "Epoch: 145 Current loss: 0.362690\t\n"
      ]
     },
     "execution_count": 63,
     "metadata": {},
     "output_type": "execute_result"
    },
    {
     "data": {
      "text/plain": [
       "Accuracy on the validation set: 0.886522\t\n"
      ]
     },
     "execution_count": 63,
     "metadata": {},
     "output_type": "execute_result"
    },
    {
     "data": {
      "text/plain": [
       "Epoch: 146 Current loss: 0.363563\t\n"
      ]
     },
     "execution_count": 63,
     "metadata": {},
     "output_type": "execute_result"
    },
    {
     "data": {
      "text/plain": [
       "Accuracy on the validation set: 0.886522\t\n"
      ]
     },
     "execution_count": 63,
     "metadata": {},
     "output_type": "execute_result"
    },
    {
     "data": {
      "text/plain": [
       "Epoch: 147 Current loss: 0.362816\t\n"
      ]
     },
     "execution_count": 63,
     "metadata": {},
     "output_type": "execute_result"
    },
    {
     "data": {
      "text/plain": [
       "Accuracy on the validation set: 0.888374\t\n"
      ]
     },
     "execution_count": 63,
     "metadata": {},
     "output_type": "execute_result"
    },
    {
     "data": {
      "text/plain": [
       "Epoch: 148 Current loss: 0.369812\t\n"
      ]
     },
     "execution_count": 63,
     "metadata": {},
     "output_type": "execute_result"
    },
    {
     "data": {
      "text/plain": [
       "Accuracy on the validation set: 0.887911\t\n"
      ]
     },
     "execution_count": 63,
     "metadata": {},
     "output_type": "execute_result"
    },
    {
     "data": {
      "text/plain": [
       "Epoch: 149 Current loss: 0.355677\t\n"
      ]
     },
     "execution_count": 63,
     "metadata": {},
     "output_type": "execute_result"
    },
    {
     "data": {
      "text/plain": [
       "Accuracy on the validation set: 0.891153\t\n"
      ]
     },
     "execution_count": 63,
     "metadata": {},
     "output_type": "execute_result"
    },
    {
     "data": {
      "text/plain": [
       "Epoch: 150 Current loss: 0.352961\t\n"
      ]
     },
     "execution_count": 63,
     "metadata": {},
     "output_type": "execute_result"
    },
    {
     "data": {
      "text/plain": [
       "Accuracy on the validation set: 0.892543\t\n"
      ]
     },
     "execution_count": 63,
     "metadata": {},
     "output_type": "execute_result"
    },
    {
     "data": {
      "text/html": [
       "<script type=\"text/javascript\">\n",
       "$(function() {\n",
       "    if (typeof (window._bokeh_onload_callbacks) === \"undefined\"){\n",
       "  window._bokeh_onload_callbacks = [];\n",
       "    }\n",
       "    function load_lib(url, callback){\n",
       "  window._bokeh_onload_callbacks.push(callback);\n",
       "  if (window._bokeh_is_loading){\n",
       "      console.log(\"Bokeh: BokehJS is being loaded, scheduling callback at\", new Date());\n",
       "      return null;\n",
       "  }\n",
       "  console.log(\"Bokeh: BokehJS not loaded, scheduling load and callback at\", new Date());\n",
       "  window._bokeh_is_loading = true;\n",
       "  var s = document.createElement('script');\n",
       "  s.src = url;\n",
       "  s.async = true;\n",
       "  s.onreadystatechange = s.onload = function(){\n",
       "      Bokeh.embed.inject_css(\"https://cdn.pydata.org/bokeh-0.7.0.min.css\");\n",
       "      window._bokeh_onload_callbacks.forEach(function(callback){callback()});\n",
       "  };\n",
       "  s.onerror = function(){\n",
       "      console.warn(\"failed to load library \" + url);\n",
       "  };\n",
       "  document.getElementsByTagName(\"head\")[0].appendChild(s);\n",
       "    }\n",
       "\n",
       "    bokehjs_url = \"https://cdn.pydata.org/bokeh-0.7.0.min.js\"\n",
       "\n",
       "    var elt = document.getElementById(\"22a0af10-dc51-48d6-c8af-c0428286a515\");\n",
       "    if(elt==null) {\n",
       "  console.log(\"Bokeh: ERROR: autoload.js configured with elementid '22a0af10-dc51-48d6-c8af-c0428286a515'\"\n",
       "        + \"but no matching script tag was found. \")\n",
       "  return false;\n",
       "    }\n",
       "\n",
       "    if(typeof(Bokeh) !== \"undefined\") {\n",
       "  console.log(\"Bokeh: BokehJS loaded, going straight to plotting\");\n",
       "  var modelid = \"0473b356-325a-4811-c874-db94cf595afe\";\n",
       "  var modeltype = \"Plot\";\n",
       "  var all_models = [{\"id\":\"b8871bcb-dd80-4851-c867-0a1ea937f0da\",\"type\":\"ColumnDataSource\",\"attributes\":{\"data\":{\"y\":[1.041523350349,0.98362108137628,0.93973371411777,0.92640208884581,0.89139813583368,0.86627920208858,0.84685766965252,0.83287303437958,0.81728365331154,0.80100539008404,0.79009368985967,0.77405756182697,0.76600791915225,0.75065507252736,0.74211068858772,0.72482572438977,0.71444765418029,0.71871882395953,0.71633446741603,0.71957163129171,0.71601925189224,0.70547493978603,0.68701887042953,0.67583234749939,0.68209747780514,0.67065438150283,0.67710124347881,0.65971620682621,0.65252579294526,0.64138953558695,0.6509933745544,0.65093324833273,0.63398030029534,0.63378084971508,0.64019780772925,0.63028392282116,0.63418728635954,0.62814161137263,0.61652139459251,0.61101585868525,0.6144037159261,0.6084439431667,0.61063907058045,0.60287351658751,0.58296574999003,0.58553273362881,0.57519610329698,0.59196707870813,0.57582958030196,0.58414734428668,0.57652137575827,0.57086315583311,0.56940752801335,0.5643723575771,0.54323168802403,0.55434436264595,0.5528538732839,0.54632554606072,0.54483862549041,0.54773344171716,0.53619296139726,0.54387072193072,0.54308125836348,0.5320358606788,0.523670773699,0.52994416803028,0.51804556096719,0.52338343465754,0.50958114265808,0.50687211713742,0.51901746024155,0.52029861842311,0.52564498663217,0.51517164650071,0.51228022075546,0.49722603228662,0.48925380842135,0.48440304128965,0.49239034748248,0.47804912642673,0.47672747331452,0.48042726744555,0.48038287429525,0.46077938625805,0.4737770749816,0.47067726722064,0.46867302246992,0.46517559717987,0.47078488934942,0.45988150097337,0.47075013873022,0.47166101557115,0.46404900364953,0.45568341977071,0.46586318287176,0.44962861944841,0.44692561079086,0.44727159179991,0.45336305737798,0.45631670159866,0.44845106775725,0.44423062198606,0.4474003658162,0.44148589954254,0.44649609173409,0.44550198895848,0.44342735221405,0.44840786247506,0.4441443900224,0.43092266328447,0.43283964559001,0.4199078609883,0.43286459809987,0.42144882942628,0.41162476939311,0.41293146546518,0.41034857462204,0.40926776504654,0.41280910743622,0.41055861320064,0.40580350666039,0.41247504356881,0.40811378657998,0.40674830444635,0.3999175134003,0.39299002990018,0.3987355077489,0.39128276597761,0.39187031492124,0.3894318511118,0.39655586296566,0.39720300434597,0.38220935981463,0.38780607896564,0.37943850310087,0.37965502768826,0.37572922220146,0.36744629622939,0.36382847087294,0.37126859428545,0.36516270407646,0.37853281191218,0.37596631496842,0.36727469088337,0.36268998975063,0.363562642793,0.36281559731296,0.36981223039785,0.35567741844582,0.35296106500695],\"x\":[1,2,3,4,5,6,7,8,9,10,11,12,13,14,15,16,17,18,19,20,21,22,23,24,25,26,27,28,29,30,31,32,33,34,35,36,37,38,39,40,41,42,43,44,45,46,47,48,49,50,51,52,53,54,55,56,57,58,59,60,61,62,63,64,65,66,67,68,69,70,71,72,73,74,75,76,77,78,79,80,81,82,83,84,85,86,87,88,89,90,91,92,93,94,95,96,97,98,99,100,101,102,103,104,105,106,107,108,109,110,111,112,113,114,115,116,117,118,119,120,121,122,123,124,125,126,127,128,129,130,131,132,133,134,135,136,137,138,139,140,141,142,143,144,145,146,147,148,149,150]},\"column_names\":[\"y\",\"x\"],\"cont_ranges\":{},\"discrete_ranges\":{},\"selected\":[],\"id\":\"b8871bcb-dd80-4851-c867-0a1ea937f0da\",\"doc\":null,\"tags\":[]}},{\"id\":\"3a6034fd-6bb2-40ed-c00f-e75647865dfc\",\"type\":\"Circle\",\"attributes\":{\"fill_alpha\":{\"units\":\"data\",\"value\":0.2},\"line_alpha\":{\"units\":\"data\",\"value\":1},\"doc\":null,\"size\":{\"units\":\"screen\",\"value\":10},\"fill_color\":{\"value\":\"red\"},\"line_color\":{\"value\":\"red\"},\"x\":{\"units\":\"data\",\"field\":\"x\"},\"id\":\"3a6034fd-6bb2-40ed-c00f-e75647865dfc\",\"y\":{\"units\":\"data\",\"field\":\"y\"},\"tags\":[]}},{\"id\":\"59ce0527-19a5-4ce1-cc17-afe5fa6ca4d3\",\"type\":\"Circle\",\"attributes\":{\"fill_alpha\":{\"units\":\"data\",\"value\":0.2},\"line_alpha\":{\"units\":\"data\",\"value\":1},\"doc\":null,\"size\":{\"units\":\"screen\",\"value\":10},\"fill_color\":{\"value\":\"red\"},\"line_color\":{\"value\":\"red\"},\"x\":{\"units\":\"data\",\"field\":\"x\"},\"id\":\"59ce0527-19a5-4ce1-cc17-afe5fa6ca4d3\",\"y\":{\"units\":\"data\",\"field\":\"y\"},\"tags\":[]}},{\"id\":\"7401b029-d989-4536-c5ec-cf3a53e95083\",\"type\":\"GlyphRenderer\",\"attributes\":{\"name\":null,\"nonselection_glyph\":{\"type\":\"Circle\",\"id\":\"59ce0527-19a5-4ce1-cc17-afe5fa6ca4d3\"},\"doc\":null,\"server_data_source\":null,\"data_source\":{\"type\":\"ColumnDataSource\",\"id\":\"b8871bcb-dd80-4851-c867-0a1ea937f0da\"},\"glyph\":{\"type\":\"Circle\",\"id\":\"3a6034fd-6bb2-40ed-c00f-e75647865dfc\"},\"selection_glyph\":null,\"id\":\"7401b029-d989-4536-c5ec-cf3a53e95083\",\"tags\":[]}},{\"id\":\"8efa90b1-040e-4267-c28c-307cfc8796e9\",\"type\":\"DataRange1d\",\"attributes\":{\"sources\":[{\"columns\":[\"x\"],\"source\":{\"type\":\"ColumnDataSource\",\"id\":\"b8871bcb-dd80-4851-c867-0a1ea937f0da\"}}],\"id\":\"8efa90b1-040e-4267-c28c-307cfc8796e9\",\"tags\":[],\"doc\":null}},{\"id\":\"17bf0b6b-38ef-4bc5-cbf4-0e46c3575568\",\"type\":\"DataRange1d\",\"attributes\":{\"sources\":[{\"columns\":[\"y\"],\"source\":{\"type\":\"ColumnDataSource\",\"id\":\"b8871bcb-dd80-4851-c867-0a1ea937f0da\"}}],\"id\":\"17bf0b6b-38ef-4bc5-cbf4-0e46c3575568\",\"tags\":[],\"doc\":null}},{\"id\":\"31ce6003-224f-4a0a-ca5a-f6bc2a8e3721\",\"type\":\"ToolEvents\",\"attributes\":{\"tags\":[],\"id\":\"31ce6003-224f-4a0a-ca5a-f6bc2a8e3721\",\"geometries\":[],\"doc\":null}},{\"id\":\"83f817e7-253e-4a11-ca0e-450ccc7e8673\",\"type\":\"BasicTickFormatter\",\"attributes\":{\"id\":\"83f817e7-253e-4a11-ca0e-450ccc7e8673\",\"tags\":[],\"doc\":null}},{\"id\":\"d39b4be4-90ca-4041-c02f-20a13ed2cea8\",\"type\":\"BasicTicker\",\"attributes\":{\"num_minor_ticks\":5,\"id\":\"d39b4be4-90ca-4041-c02f-20a13ed2cea8\",\"tags\":[],\"doc\":null}},{\"id\":\"d2deaf68-c993-4f8d-cffc-3698018cd4b2\",\"type\":\"LinearAxis\",\"attributes\":{\"formatter\":{\"type\":\"BasicTickFormatter\",\"id\":\"83f817e7-253e-4a11-ca0e-450ccc7e8673\"},\"ticker\":{\"type\":\"BasicTicker\",\"id\":\"d39b4be4-90ca-4041-c02f-20a13ed2cea8\"},\"plot\":{\"id\":\"0473b356-325a-4811-c874-db94cf595afe\",\"type\":\"Plot\",\"subtype\":\"Figure\"},\"axis_label\":null,\"id\":\"d2deaf68-c993-4f8d-cffc-3698018cd4b2\",\"doc\":null,\"tags\":[]}},{\"id\":\"e11ecf2a-f1e5-44a8-c428-9d57e5af20a5\",\"type\":\"Grid\",\"attributes\":{\"dimension\":0,\"plot\":{\"id\":\"0473b356-325a-4811-c874-db94cf595afe\",\"type\":\"Plot\",\"subtype\":\"Figure\"},\"ticker\":{\"type\":\"BasicTicker\",\"id\":\"d39b4be4-90ca-4041-c02f-20a13ed2cea8\"},\"id\":\"e11ecf2a-f1e5-44a8-c428-9d57e5af20a5\",\"doc\":null,\"tags\":[]}},{\"id\":\"ef5c0764-4c29-4991-c9d8-67d85ff1521a\",\"type\":\"BasicTickFormatter\",\"attributes\":{\"id\":\"ef5c0764-4c29-4991-c9d8-67d85ff1521a\",\"tags\":[],\"doc\":null}},{\"id\":\"ea275b2e-9909-4451-c49f-df0639687bb4\",\"type\":\"BasicTicker\",\"attributes\":{\"num_minor_ticks\":5,\"id\":\"ea275b2e-9909-4451-c49f-df0639687bb4\",\"tags\":[],\"doc\":null}},{\"id\":\"29034ddd-63e0-468a-c6cc-67697f3c468b\",\"type\":\"LinearAxis\",\"attributes\":{\"formatter\":{\"type\":\"BasicTickFormatter\",\"id\":\"ef5c0764-4c29-4991-c9d8-67d85ff1521a\"},\"ticker\":{\"type\":\"BasicTicker\",\"id\":\"ea275b2e-9909-4451-c49f-df0639687bb4\"},\"plot\":{\"id\":\"0473b356-325a-4811-c874-db94cf595afe\",\"type\":\"Plot\",\"subtype\":\"Figure\"},\"axis_label\":null,\"id\":\"29034ddd-63e0-468a-c6cc-67697f3c468b\",\"doc\":null,\"tags\":[]}},{\"id\":\"6661186a-9192-4b79-cb21-95c7830940c0\",\"type\":\"Grid\",\"attributes\":{\"dimension\":1,\"plot\":{\"id\":\"0473b356-325a-4811-c874-db94cf595afe\",\"type\":\"Plot\",\"subtype\":\"Figure\"},\"ticker\":{\"type\":\"BasicTicker\",\"id\":\"ea275b2e-9909-4451-c49f-df0639687bb4\"},\"id\":\"6661186a-9192-4b79-cb21-95c7830940c0\",\"doc\":null,\"tags\":[]}},{\"id\":\"f8fe99b5-2329-423c-c2f0-278d7a2685dd\",\"type\":\"PanTool\",\"attributes\":{\"plot\":{\"id\":\"0473b356-325a-4811-c874-db94cf595afe\",\"type\":\"Plot\",\"subtype\":\"Figure\"},\"dimensions\":[\"width\",\"height\"],\"id\":\"f8fe99b5-2329-423c-c2f0-278d7a2685dd\",\"doc\":null,\"tags\":[]}},{\"id\":\"5538e7b0-4a5d-4712-c727-44d4fc05c1cf\",\"type\":\"WheelZoomTool\",\"attributes\":{\"plot\":{\"id\":\"0473b356-325a-4811-c874-db94cf595afe\",\"type\":\"Plot\",\"subtype\":\"Figure\"},\"dimensions\":[\"width\",\"height\"],\"id\":\"5538e7b0-4a5d-4712-c727-44d4fc05c1cf\",\"doc\":null,\"tags\":[]}},{\"id\":\"27467e06-74aa-4360-c3b8-25c960b15e36\",\"type\":\"BoxZoomTool\",\"attributes\":{\"plot\":{\"id\":\"0473b356-325a-4811-c874-db94cf595afe\",\"type\":\"Plot\",\"subtype\":\"Figure\"},\"id\":\"27467e06-74aa-4360-c3b8-25c960b15e36\",\"tags\":[],\"doc\":null}},{\"id\":\"a63e1f15-dbb8-4045-c027-d2f8cdd8ee42\",\"type\":\"PreviewSaveTool\",\"attributes\":{\"plot\":{\"id\":\"0473b356-325a-4811-c874-db94cf595afe\",\"type\":\"Plot\",\"subtype\":\"Figure\"},\"id\":\"a63e1f15-dbb8-4045-c027-d2f8cdd8ee42\",\"tags\":[],\"doc\":null}},{\"id\":\"d454c5ca-6f39-4b80-cbc9-58b3348bc5ba\",\"type\":\"ResizeTool\",\"attributes\":{\"plot\":{\"id\":\"0473b356-325a-4811-c874-db94cf595afe\",\"type\":\"Plot\",\"subtype\":\"Figure\"},\"id\":\"d454c5ca-6f39-4b80-cbc9-58b3348bc5ba\",\"tags\":[],\"doc\":null}},{\"id\":\"b0ff996e-c4b2-4b31-cb0b-a55adff3635e\",\"type\":\"ResetTool\",\"attributes\":{\"plot\":{\"id\":\"0473b356-325a-4811-c874-db94cf595afe\",\"type\":\"Plot\",\"subtype\":\"Figure\"},\"id\":\"b0ff996e-c4b2-4b31-cb0b-a55adff3635e\",\"tags\":[],\"doc\":null}},{\"id\":\"05ab0802-0e4d-4af4-ca0b-69b865e2ca68\",\"type\":\"Legend\",\"attributes\":{\"plot\":{\"id\":\"0473b356-325a-4811-c874-db94cf595afe\",\"type\":\"Plot\",\"subtype\":\"Figure\"},\"legends\":[[\"loss\",[{\"type\":\"GlyphRenderer\",\"id\":\"7401b029-d989-4536-c5ec-cf3a53e95083\"}]]],\"id\":\"05ab0802-0e4d-4af4-ca0b-69b865e2ca68\",\"doc\":null,\"tags\":[]}},{\"id\":\"0473b356-325a-4811-c874-db94cf595afe\",\"type\":\"Plot\",\"attributes\":{\"x_range\":{\"type\":\"DataRange1d\",\"id\":\"8efa90b1-040e-4267-c28c-307cfc8796e9\"},\"tool_events\":{\"type\":\"ToolEvents\",\"id\":\"31ce6003-224f-4a0a-ca5a-f6bc2a8e3721\"},\"below\":[{\"type\":\"LinearAxis\",\"id\":\"d2deaf68-c993-4f8d-cffc-3698018cd4b2\"}],\"renderers\":[{\"type\":\"GlyphRenderer\",\"id\":\"7401b029-d989-4536-c5ec-cf3a53e95083\"},{\"type\":\"LinearAxis\",\"id\":\"d2deaf68-c993-4f8d-cffc-3698018cd4b2\"},{\"type\":\"Grid\",\"id\":\"e11ecf2a-f1e5-44a8-c428-9d57e5af20a5\"},{\"type\":\"LinearAxis\",\"id\":\"29034ddd-63e0-468a-c6cc-67697f3c468b\"},{\"type\":\"Grid\",\"id\":\"6661186a-9192-4b79-cb21-95c7830940c0\"},{\"type\":\"Legend\",\"id\":\"05ab0802-0e4d-4af4-ca0b-69b865e2ca68\"}],\"above\":[],\"tools\":[{\"type\":\"PanTool\",\"id\":\"f8fe99b5-2329-423c-c2f0-278d7a2685dd\"},{\"type\":\"WheelZoomTool\",\"id\":\"5538e7b0-4a5d-4712-c727-44d4fc05c1cf\"},{\"type\":\"BoxZoomTool\",\"id\":\"27467e06-74aa-4360-c3b8-25c960b15e36\"},{\"type\":\"PreviewSaveTool\",\"id\":\"a63e1f15-dbb8-4045-c027-d2f8cdd8ee42\"},{\"type\":\"ResizeTool\",\"id\":\"d454c5ca-6f39-4b80-cbc9-58b3348bc5ba\"},{\"type\":\"ResetTool\",\"id\":\"b0ff996e-c4b2-4b31-cb0b-a55adff3635e\"}],\"doc\":null,\"right\":[],\"title\":\"Loss\",\"extra_x_ranges\":{},\"left\":[{\"type\":\"LinearAxis\",\"id\":\"29034ddd-63e0-468a-c6cc-67697f3c468b\"}],\"y_range\":{\"type\":\"DataRange1d\",\"id\":\"17bf0b6b-38ef-4bc5-cbf4-0e46c3575568\"},\"id\":\"0473b356-325a-4811-c874-db94cf595afe\",\"extra_y_ranges\":{},\"tags\":[]}}];\n",
       "  Bokeh.load_models(all_models);\n",
       "  var model = Bokeh.Collections(modeltype).get(modelid);\n",
       "  $(\"#22a0af10-dc51-48d6-c8af-c0428286a515\").html(''); // clear any previous plot in window_id\n",
       "  var view = new model.default_view({model: model, el: \"#22a0af10-dc51-48d6-c8af-c0428286a515\"});\n",
       "    } else {\n",
       "  load_lib(bokehjs_url, function() {\n",
       "      console.log(\"Bokeh: BokehJS plotting callback run at\", new Date())\n",
       "      var modelid = \"0473b356-325a-4811-c874-db94cf595afe\";\n",
       "      var modeltype = \"Plot\";\n",
       "      var all_models = [{\"id\":\"b8871bcb-dd80-4851-c867-0a1ea937f0da\",\"type\":\"ColumnDataSource\",\"attributes\":{\"data\":{\"y\":[1.041523350349,0.98362108137628,0.93973371411777,0.92640208884581,0.89139813583368,0.86627920208858,0.84685766965252,0.83287303437958,0.81728365331154,0.80100539008404,0.79009368985967,0.77405756182697,0.76600791915225,0.75065507252736,0.74211068858772,0.72482572438977,0.71444765418029,0.71871882395953,0.71633446741603,0.71957163129171,0.71601925189224,0.70547493978603,0.68701887042953,0.67583234749939,0.68209747780514,0.67065438150283,0.67710124347881,0.65971620682621,0.65252579294526,0.64138953558695,0.6509933745544,0.65093324833273,0.63398030029534,0.63378084971508,0.64019780772925,0.63028392282116,0.63418728635954,0.62814161137263,0.61652139459251,0.61101585868525,0.6144037159261,0.6084439431667,0.61063907058045,0.60287351658751,0.58296574999003,0.58553273362881,0.57519610329698,0.59196707870813,0.57582958030196,0.58414734428668,0.57652137575827,0.57086315583311,0.56940752801335,0.5643723575771,0.54323168802403,0.55434436264595,0.5528538732839,0.54632554606072,0.54483862549041,0.54773344171716,0.53619296139726,0.54387072193072,0.54308125836348,0.5320358606788,0.523670773699,0.52994416803028,0.51804556096719,0.52338343465754,0.50958114265808,0.50687211713742,0.51901746024155,0.52029861842311,0.52564498663217,0.51517164650071,0.51228022075546,0.49722603228662,0.48925380842135,0.48440304128965,0.49239034748248,0.47804912642673,0.47672747331452,0.48042726744555,0.48038287429525,0.46077938625805,0.4737770749816,0.47067726722064,0.46867302246992,0.46517559717987,0.47078488934942,0.45988150097337,0.47075013873022,0.47166101557115,0.46404900364953,0.45568341977071,0.46586318287176,0.44962861944841,0.44692561079086,0.44727159179991,0.45336305737798,0.45631670159866,0.44845106775725,0.44423062198606,0.4474003658162,0.44148589954254,0.44649609173409,0.44550198895848,0.44342735221405,0.44840786247506,0.4441443900224,0.43092266328447,0.43283964559001,0.4199078609883,0.43286459809987,0.42144882942628,0.41162476939311,0.41293146546518,0.41034857462204,0.40926776504654,0.41280910743622,0.41055861320064,0.40580350666039,0.41247504356881,0.40811378657998,0.40674830444635,0.3999175134003,0.39299002990018,0.3987355077489,0.39128276597761,0.39187031492124,0.3894318511118,0.39655586296566,0.39720300434597,0.38220935981463,0.38780607896564,0.37943850310087,0.37965502768826,0.37572922220146,0.36744629622939,0.36382847087294,0.37126859428545,0.36516270407646,0.37853281191218,0.37596631496842,0.36727469088337,0.36268998975063,0.363562642793,0.36281559731296,0.36981223039785,0.35567741844582,0.35296106500695],\"x\":[1,2,3,4,5,6,7,8,9,10,11,12,13,14,15,16,17,18,19,20,21,22,23,24,25,26,27,28,29,30,31,32,33,34,35,36,37,38,39,40,41,42,43,44,45,46,47,48,49,50,51,52,53,54,55,56,57,58,59,60,61,62,63,64,65,66,67,68,69,70,71,72,73,74,75,76,77,78,79,80,81,82,83,84,85,86,87,88,89,90,91,92,93,94,95,96,97,98,99,100,101,102,103,104,105,106,107,108,109,110,111,112,113,114,115,116,117,118,119,120,121,122,123,124,125,126,127,128,129,130,131,132,133,134,135,136,137,138,139,140,141,142,143,144,145,146,147,148,149,150]},\"column_names\":[\"y\",\"x\"],\"cont_ranges\":{},\"discrete_ranges\":{},\"selected\":[],\"id\":\"b8871bcb-dd80-4851-c867-0a1ea937f0da\",\"doc\":null,\"tags\":[]}},{\"id\":\"3a6034fd-6bb2-40ed-c00f-e75647865dfc\",\"type\":\"Circle\",\"attributes\":{\"fill_alpha\":{\"units\":\"data\",\"value\":0.2},\"line_alpha\":{\"units\":\"data\",\"value\":1},\"doc\":null,\"size\":{\"units\":\"screen\",\"value\":10},\"fill_color\":{\"value\":\"red\"},\"line_color\":{\"value\":\"red\"},\"x\":{\"units\":\"data\",\"field\":\"x\"},\"id\":\"3a6034fd-6bb2-40ed-c00f-e75647865dfc\",\"y\":{\"units\":\"data\",\"field\":\"y\"},\"tags\":[]}},{\"id\":\"59ce0527-19a5-4ce1-cc17-afe5fa6ca4d3\",\"type\":\"Circle\",\"attributes\":{\"fill_alpha\":{\"units\":\"data\",\"value\":0.2},\"line_alpha\":{\"units\":\"data\",\"value\":1},\"doc\":null,\"size\":{\"units\":\"screen\",\"value\":10},\"fill_color\":{\"value\":\"red\"},\"line_color\":{\"value\":\"red\"},\"x\":{\"units\":\"data\",\"field\":\"x\"},\"id\":\"59ce0527-19a5-4ce1-cc17-afe5fa6ca4d3\",\"y\":{\"units\":\"data\",\"field\":\"y\"},\"tags\":[]}},{\"id\":\"7401b029-d989-4536-c5ec-cf3a53e95083\",\"type\":\"GlyphRenderer\",\"attributes\":{\"name\":null,\"nonselection_glyph\":{\"type\":\"Circle\",\"id\":\"59ce0527-19a5-4ce1-cc17-afe5fa6ca4d3\"},\"doc\":null,\"server_data_source\":null,\"data_source\":{\"type\":\"ColumnDataSource\",\"id\":\"b8871bcb-dd80-4851-c867-0a1ea937f0da\"},\"glyph\":{\"type\":\"Circle\",\"id\":\"3a6034fd-6bb2-40ed-c00f-e75647865dfc\"},\"selection_glyph\":null,\"id\":\"7401b029-d989-4536-c5ec-cf3a53e95083\",\"tags\":[]}},{\"id\":\"8efa90b1-040e-4267-c28c-307cfc8796e9\",\"type\":\"DataRange1d\",\"attributes\":{\"sources\":[{\"columns\":[\"x\"],\"source\":{\"type\":\"ColumnDataSource\",\"id\":\"b8871bcb-dd80-4851-c867-0a1ea937f0da\"}}],\"id\":\"8efa90b1-040e-4267-c28c-307cfc8796e9\",\"tags\":[],\"doc\":null}},{\"id\":\"17bf0b6b-38ef-4bc5-cbf4-0e46c3575568\",\"type\":\"DataRange1d\",\"attributes\":{\"sources\":[{\"columns\":[\"y\"],\"source\":{\"type\":\"ColumnDataSource\",\"id\":\"b8871bcb-dd80-4851-c867-0a1ea937f0da\"}}],\"id\":\"17bf0b6b-38ef-4bc5-cbf4-0e46c3575568\",\"tags\":[],\"doc\":null}},{\"id\":\"31ce6003-224f-4a0a-ca5a-f6bc2a8e3721\",\"type\":\"ToolEvents\",\"attributes\":{\"tags\":[],\"id\":\"31ce6003-224f-4a0a-ca5a-f6bc2a8e3721\",\"geometries\":[],\"doc\":null}},{\"id\":\"83f817e7-253e-4a11-ca0e-450ccc7e8673\",\"type\":\"BasicTickFormatter\",\"attributes\":{\"id\":\"83f817e7-253e-4a11-ca0e-450ccc7e8673\",\"tags\":[],\"doc\":null}},{\"id\":\"d39b4be4-90ca-4041-c02f-20a13ed2cea8\",\"type\":\"BasicTicker\",\"attributes\":{\"num_minor_ticks\":5,\"id\":\"d39b4be4-90ca-4041-c02f-20a13ed2cea8\",\"tags\":[],\"doc\":null}},{\"id\":\"d2deaf68-c993-4f8d-cffc-3698018cd4b2\",\"type\":\"LinearAxis\",\"attributes\":{\"formatter\":{\"type\":\"BasicTickFormatter\",\"id\":\"83f817e7-253e-4a11-ca0e-450ccc7e8673\"},\"ticker\":{\"type\":\"BasicTicker\",\"id\":\"d39b4be4-90ca-4041-c02f-20a13ed2cea8\"},\"plot\":{\"id\":\"0473b356-325a-4811-c874-db94cf595afe\",\"type\":\"Plot\",\"subtype\":\"Figure\"},\"axis_label\":null,\"id\":\"d2deaf68-c993-4f8d-cffc-3698018cd4b2\",\"doc\":null,\"tags\":[]}},{\"id\":\"e11ecf2a-f1e5-44a8-c428-9d57e5af20a5\",\"type\":\"Grid\",\"attributes\":{\"dimension\":0,\"plot\":{\"id\":\"0473b356-325a-4811-c874-db94cf595afe\",\"type\":\"Plot\",\"subtype\":\"Figure\"},\"ticker\":{\"type\":\"BasicTicker\",\"id\":\"d39b4be4-90ca-4041-c02f-20a13ed2cea8\"},\"id\":\"e11ecf2a-f1e5-44a8-c428-9d57e5af20a5\",\"doc\":null,\"tags\":[]}},{\"id\":\"ef5c0764-4c29-4991-c9d8-67d85ff1521a\",\"type\":\"BasicTickFormatter\",\"attributes\":{\"id\":\"ef5c0764-4c29-4991-c9d8-67d85ff1521a\",\"tags\":[],\"doc\":null}},{\"id\":\"ea275b2e-9909-4451-c49f-df0639687bb4\",\"type\":\"BasicTicker\",\"attributes\":{\"num_minor_ticks\":5,\"id\":\"ea275b2e-9909-4451-c49f-df0639687bb4\",\"tags\":[],\"doc\":null}},{\"id\":\"29034ddd-63e0-468a-c6cc-67697f3c468b\",\"type\":\"LinearAxis\",\"attributes\":{\"formatter\":{\"type\":\"BasicTickFormatter\",\"id\":\"ef5c0764-4c29-4991-c9d8-67d85ff1521a\"},\"ticker\":{\"type\":\"BasicTicker\",\"id\":\"ea275b2e-9909-4451-c49f-df0639687bb4\"},\"plot\":{\"id\":\"0473b356-325a-4811-c874-db94cf595afe\",\"type\":\"Plot\",\"subtype\":\"Figure\"},\"axis_label\":null,\"id\":\"29034ddd-63e0-468a-c6cc-67697f3c468b\",\"doc\":null,\"tags\":[]}},{\"id\":\"6661186a-9192-4b79-cb21-95c7830940c0\",\"type\":\"Grid\",\"attributes\":{\"dimension\":1,\"plot\":{\"id\":\"0473b356-325a-4811-c874-db94cf595afe\",\"type\":\"Plot\",\"subtype\":\"Figure\"},\"ticker\":{\"type\":\"BasicTicker\",\"id\":\"ea275b2e-9909-4451-c49f-df0639687bb4\"},\"id\":\"6661186a-9192-4b79-cb21-95c7830940c0\",\"doc\":null,\"tags\":[]}},{\"id\":\"f8fe99b5-2329-423c-c2f0-278d7a2685dd\",\"type\":\"PanTool\",\"attributes\":{\"plot\":{\"id\":\"0473b356-325a-4811-c874-db94cf595afe\",\"type\":\"Plot\",\"subtype\":\"Figure\"},\"dimensions\":[\"width\",\"height\"],\"id\":\"f8fe99b5-2329-423c-c2f0-278d7a2685dd\",\"doc\":null,\"tags\":[]}},{\"id\":\"5538e7b0-4a5d-4712-c727-44d4fc05c1cf\",\"type\":\"WheelZoomTool\",\"attributes\":{\"plot\":{\"id\":\"0473b356-325a-4811-c874-db94cf595afe\",\"type\":\"Plot\",\"subtype\":\"Figure\"},\"dimensions\":[\"width\",\"height\"],\"id\":\"5538e7b0-4a5d-4712-c727-44d4fc05c1cf\",\"doc\":null,\"tags\":[]}},{\"id\":\"27467e06-74aa-4360-c3b8-25c960b15e36\",\"type\":\"BoxZoomTool\",\"attributes\":{\"plot\":{\"id\":\"0473b356-325a-4811-c874-db94cf595afe\",\"type\":\"Plot\",\"subtype\":\"Figure\"},\"id\":\"27467e06-74aa-4360-c3b8-25c960b15e36\",\"tags\":[],\"doc\":null}},{\"id\":\"a63e1f15-dbb8-4045-c027-d2f8cdd8ee42\",\"type\":\"PreviewSaveTool\",\"attributes\":{\"plot\":{\"id\":\"0473b356-325a-4811-c874-db94cf595afe\",\"type\":\"Plot\",\"subtype\":\"Figure\"},\"id\":\"a63e1f15-dbb8-4045-c027-d2f8cdd8ee42\",\"tags\":[],\"doc\":null}},{\"id\":\"d454c5ca-6f39-4b80-cbc9-58b3348bc5ba\",\"type\":\"ResizeTool\",\"attributes\":{\"plot\":{\"id\":\"0473b356-325a-4811-c874-db94cf595afe\",\"type\":\"Plot\",\"subtype\":\"Figure\"},\"id\":\"d454c5ca-6f39-4b80-cbc9-58b3348bc5ba\",\"tags\":[],\"doc\":null}},{\"id\":\"b0ff996e-c4b2-4b31-cb0b-a55adff3635e\",\"type\":\"ResetTool\",\"attributes\":{\"plot\":{\"id\":\"0473b356-325a-4811-c874-db94cf595afe\",\"type\":\"Plot\",\"subtype\":\"Figure\"},\"id\":\"b0ff996e-c4b2-4b31-cb0b-a55adff3635e\",\"tags\":[],\"doc\":null}},{\"id\":\"05ab0802-0e4d-4af4-ca0b-69b865e2ca68\",\"type\":\"Legend\",\"attributes\":{\"plot\":{\"id\":\"0473b356-325a-4811-c874-db94cf595afe\",\"type\":\"Plot\",\"subtype\":\"Figure\"},\"legends\":[[\"loss\",[{\"type\":\"GlyphRenderer\",\"id\":\"7401b029-d989-4536-c5ec-cf3a53e95083\"}]]],\"id\":\"05ab0802-0e4d-4af4-ca0b-69b865e2ca68\",\"doc\":null,\"tags\":[]}},{\"id\":\"0473b356-325a-4811-c874-db94cf595afe\",\"type\":\"Plot\",\"attributes\":{\"x_range\":{\"type\":\"DataRange1d\",\"id\":\"8efa90b1-040e-4267-c28c-307cfc8796e9\"},\"tool_events\":{\"type\":\"ToolEvents\",\"id\":\"31ce6003-224f-4a0a-ca5a-f6bc2a8e3721\"},\"below\":[{\"type\":\"LinearAxis\",\"id\":\"d2deaf68-c993-4f8d-cffc-3698018cd4b2\"}],\"renderers\":[{\"type\":\"GlyphRenderer\",\"id\":\"7401b029-d989-4536-c5ec-cf3a53e95083\"},{\"type\":\"LinearAxis\",\"id\":\"d2deaf68-c993-4f8d-cffc-3698018cd4b2\"},{\"type\":\"Grid\",\"id\":\"e11ecf2a-f1e5-44a8-c428-9d57e5af20a5\"},{\"type\":\"LinearAxis\",\"id\":\"29034ddd-63e0-468a-c6cc-67697f3c468b\"},{\"type\":\"Grid\",\"id\":\"6661186a-9192-4b79-cb21-95c7830940c0\"},{\"type\":\"Legend\",\"id\":\"05ab0802-0e4d-4af4-ca0b-69b865e2ca68\"}],\"above\":[],\"tools\":[{\"type\":\"PanTool\",\"id\":\"f8fe99b5-2329-423c-c2f0-278d7a2685dd\"},{\"type\":\"WheelZoomTool\",\"id\":\"5538e7b0-4a5d-4712-c727-44d4fc05c1cf\"},{\"type\":\"BoxZoomTool\",\"id\":\"27467e06-74aa-4360-c3b8-25c960b15e36\"},{\"type\":\"PreviewSaveTool\",\"id\":\"a63e1f15-dbb8-4045-c027-d2f8cdd8ee42\"},{\"type\":\"ResizeTool\",\"id\":\"d454c5ca-6f39-4b80-cbc9-58b3348bc5ba\"},{\"type\":\"ResetTool\",\"id\":\"b0ff996e-c4b2-4b31-cb0b-a55adff3635e\"}],\"doc\":null,\"right\":[],\"title\":\"Loss\",\"extra_x_ranges\":{},\"left\":[{\"type\":\"LinearAxis\",\"id\":\"29034ddd-63e0-468a-c6cc-67697f3c468b\"}],\"y_range\":{\"type\":\"DataRange1d\",\"id\":\"17bf0b6b-38ef-4bc5-cbf4-0e46c3575568\"},\"id\":\"0473b356-325a-4811-c874-db94cf595afe\",\"extra_y_ranges\":{},\"tags\":[]}}];\n",
       "      Bokeh.load_models(all_models);\n",
       "      var model = Bokeh.Collections(modeltype).get(modelid);\n",
       "      $(\"#22a0af10-dc51-48d6-c8af-c0428286a515\").html(''); // clear any previous plot in window_id\n",
       "      var view = new model.default_view({model: model, el: \"#22a0af10-dc51-48d6-c8af-c0428286a515\"});\n",
       "  });\n",
       "    }\n",
       "});\n",
       "</script>\n",
       "<div class=\"plotdiv\" id=\"22a0af10-dc51-48d6-c8af-c0428286a515\"></div>\n"
      ]
     },
     "metadata": {},
     "output_type": "display_data"
    },
    {
     "data": {
      "text/html": [
       "<script type=\"text/javascript\">\n",
       "$(function() {\n",
       "    if (typeof (window._bokeh_onload_callbacks) === \"undefined\"){\n",
       "  window._bokeh_onload_callbacks = [];\n",
       "    }\n",
       "    function load_lib(url, callback){\n",
       "  window._bokeh_onload_callbacks.push(callback);\n",
       "  if (window._bokeh_is_loading){\n",
       "      console.log(\"Bokeh: BokehJS is being loaded, scheduling callback at\", new Date());\n",
       "      return null;\n",
       "  }\n",
       "  console.log(\"Bokeh: BokehJS not loaded, scheduling load and callback at\", new Date());\n",
       "  window._bokeh_is_loading = true;\n",
       "  var s = document.createElement('script');\n",
       "  s.src = url;\n",
       "  s.async = true;\n",
       "  s.onreadystatechange = s.onload = function(){\n",
       "      Bokeh.embed.inject_css(\"https://cdn.pydata.org/bokeh-0.7.0.min.css\");\n",
       "      window._bokeh_onload_callbacks.forEach(function(callback){callback()});\n",
       "  };\n",
       "  s.onerror = function(){\n",
       "      console.warn(\"failed to load library \" + url);\n",
       "  };\n",
       "  document.getElementsByTagName(\"head\")[0].appendChild(s);\n",
       "    }\n",
       "\n",
       "    bokehjs_url = \"https://cdn.pydata.org/bokeh-0.7.0.min.js\"\n",
       "\n",
       "    var elt = document.getElementById(\"97a491b3-49f5-4930-c940-b34d6b49548e\");\n",
       "    if(elt==null) {\n",
       "  console.log(\"Bokeh: ERROR: autoload.js configured with elementid '97a491b3-49f5-4930-c940-b34d6b49548e'\"\n",
       "        + \"but no matching script tag was found. \")\n",
       "  return false;\n",
       "    }\n",
       "\n",
       "    if(typeof(Bokeh) !== \"undefined\") {\n",
       "  console.log(\"Bokeh: BokehJS loaded, going straight to plotting\");\n",
       "  var modelid = \"7bbe68dd-c0ac-4601-c690-b6a17007e869\";\n",
       "  var modeltype = \"Plot\";\n",
       "  var all_models = [{\"id\":\"14fa8eac-f8f7-4366-c3e5-5f7646066f34\",\"type\":\"ColumnDataSource\",\"attributes\":{\"data\":{\"y\":[0.73135710977304,0.73645206113942,0.74803149606299,0.74617878647522,0.76285317276517,0.74849467345994,0.764242704956,0.75961093098657,0.77906438165818,0.78786475220009,0.79203334877258,0.78786475220009,0.78415933302455,0.79018063918481,0.78786475220009,0.79203334877258,0.80129689671144,0.79898100972673,0.80546549328393,0.7975914775359,0.81241315423807,0.79295970356647,0.79805465493284,0.80037054191755,0.80222325150533,0.80361278369616,0.80963408985642,0.81658175081056,0.81194997684113,0.81009726725336,0.81287633163502,0.82306623436776,0.82399258916165,0.80963408985642,0.82584529874942,0.81797128300139,0.81148679944419,0.82352941176471,0.82677165354331,0.80129689671144,0.82260305697082,0.81519221861973,0.82121352477999,0.82723483094025,0.83557202408522,0.82816118573414,0.82445576655859,0.82399258916165,0.83881426586383,0.83047707271885,0.83047707271885,0.83325613710051,0.83557202408522,0.83835108846688,0.83696155627605,0.83788791106994,0.8406669754516,0.83881426586383,0.84946734599352,0.82908754052802,0.83094025011579,0.83788791106994,0.84437239462714,0.8439092172302,0.8471514590088,0.8471514590088,0.84298286243631,0.84622510421491,0.85548865215377,0.84668828161186,0.84576192681797,0.85085687818434,0.84576192681797,0.84900416859657,0.85409911996295,0.84807781380269,0.84668828161186,0.85965724872626,0.85873089393238,0.87123668364984,0.86012042612321,0.85548865215377,0.86058360352015,0.85734136174155,0.86058360352015,0.86012042612321,0.86243631310792,0.85548865215377,0.87031032885595,0.85826771653543,0.85826771653543,0.86428902269569,0.86660490968041,0.86243631310792,0.86012042612321,0.86521537748958,0.86521537748958,0.86892079666512,0.87262621584067,0.86892079666512,0.85734136174155,0.87447892542844,0.85502547475683,0.87586845761927,0.86521537748958,0.86984715145901,0.86614173228346,0.86521537748958,0.87123668364984,0.86567855488652,0.86660490968041,0.87123668364984,0.87447892542844,0.86984715145901,0.87772116720704,0.87540528022233,0.87494210282538,0.87494210282538,0.87957387679481,0.87077350625289,0.88235294117647,0.87355257063455,0.87216303844372,0.87679481241315,0.87864752200093,0.87633163501621,0.87772116720704,0.88281611857341,0.88003705419176,0.88235294117647,0.88096340898564,0.87077350625289,0.87540528022233,0.87818434460398,0.87864752200093,0.88281611857341,0.88096340898564,0.89161648911533,0.87818434460398,0.88837424733673,0.88837424733673,0.88235294117647,0.88420565076424,0.88188976377953,0.88652153774896,0.88652153774896,0.88837424733673,0.88791106993979,0.89115331171839,0.89254284390922],\"x\":[1,2,3,4,5,6,7,8,9,10,11,12,13,14,15,16,17,18,19,20,21,22,23,24,25,26,27,28,29,30,31,32,33,34,35,36,37,38,39,40,41,42,43,44,45,46,47,48,49,50,51,52,53,54,55,56,57,58,59,60,61,62,63,64,65,66,67,68,69,70,71,72,73,74,75,76,77,78,79,80,81,82,83,84,85,86,87,88,89,90,91,92,93,94,95,96,97,98,99,100,101,102,103,104,105,106,107,108,109,110,111,112,113,114,115,116,117,118,119,120,121,122,123,124,125,126,127,128,129,130,131,132,133,134,135,136,137,138,139,140,141,142,143,144,145,146,147,148,149,150]},\"column_names\":[\"y\",\"x\"],\"cont_ranges\":{},\"discrete_ranges\":{},\"selected\":[],\"id\":\"14fa8eac-f8f7-4366-c3e5-5f7646066f34\",\"doc\":null,\"tags\":[]}},{\"id\":\"042700f1-5140-4818-c8ef-4a59310a917a\",\"type\":\"Circle\",\"attributes\":{\"fill_alpha\":{\"units\":\"data\",\"value\":0.2},\"line_alpha\":{\"units\":\"data\",\"value\":1},\"doc\":null,\"size\":{\"units\":\"screen\",\"value\":10},\"fill_color\":{\"value\":\"green\"},\"line_color\":{\"value\":\"green\"},\"x\":{\"units\":\"data\",\"field\":\"x\"},\"id\":\"042700f1-5140-4818-c8ef-4a59310a917a\",\"y\":{\"units\":\"data\",\"field\":\"y\"},\"tags\":[]}},{\"id\":\"12e6d30f-f429-4fcd-cf96-5bab9578bfcc\",\"type\":\"Circle\",\"attributes\":{\"fill_alpha\":{\"units\":\"data\",\"value\":0.2},\"line_alpha\":{\"units\":\"data\",\"value\":1},\"doc\":null,\"size\":{\"units\":\"screen\",\"value\":10},\"fill_color\":{\"value\":\"green\"},\"line_color\":{\"value\":\"green\"},\"x\":{\"units\":\"data\",\"field\":\"x\"},\"id\":\"12e6d30f-f429-4fcd-cf96-5bab9578bfcc\",\"y\":{\"units\":\"data\",\"field\":\"y\"},\"tags\":[]}},{\"id\":\"8d023e15-7372-48e5-c830-3a7001776575\",\"type\":\"GlyphRenderer\",\"attributes\":{\"name\":null,\"nonselection_glyph\":{\"type\":\"Circle\",\"id\":\"12e6d30f-f429-4fcd-cf96-5bab9578bfcc\"},\"doc\":null,\"server_data_source\":null,\"data_source\":{\"type\":\"ColumnDataSource\",\"id\":\"14fa8eac-f8f7-4366-c3e5-5f7646066f34\"},\"glyph\":{\"type\":\"Circle\",\"id\":\"042700f1-5140-4818-c8ef-4a59310a917a\"},\"selection_glyph\":null,\"id\":\"8d023e15-7372-48e5-c830-3a7001776575\",\"tags\":[]}},{\"id\":\"42c1fb1d-76cd-4619-c6c3-be5473d9c219\",\"type\":\"DataRange1d\",\"attributes\":{\"sources\":[{\"columns\":[\"x\"],\"source\":{\"type\":\"ColumnDataSource\",\"id\":\"14fa8eac-f8f7-4366-c3e5-5f7646066f34\"}}],\"id\":\"42c1fb1d-76cd-4619-c6c3-be5473d9c219\",\"tags\":[],\"doc\":null}},{\"id\":\"1ce97f20-55b2-42f3-c27d-d8df55e6fe33\",\"type\":\"DataRange1d\",\"attributes\":{\"sources\":[{\"columns\":[\"y\"],\"source\":{\"type\":\"ColumnDataSource\",\"id\":\"14fa8eac-f8f7-4366-c3e5-5f7646066f34\"}}],\"id\":\"1ce97f20-55b2-42f3-c27d-d8df55e6fe33\",\"tags\":[],\"doc\":null}},{\"id\":\"14a5a30c-4dfe-4108-c11d-c4fe72f427fb\",\"type\":\"ToolEvents\",\"attributes\":{\"tags\":[],\"id\":\"14a5a30c-4dfe-4108-c11d-c4fe72f427fb\",\"geometries\":[],\"doc\":null}},{\"id\":\"e59ebcbd-048b-4f35-cf35-b33d0e10ba2f\",\"type\":\"BasicTickFormatter\",\"attributes\":{\"id\":\"e59ebcbd-048b-4f35-cf35-b33d0e10ba2f\",\"tags\":[],\"doc\":null}},{\"id\":\"e6d74480-15da-42c7-c2e2-f977a5907f7a\",\"type\":\"BasicTicker\",\"attributes\":{\"num_minor_ticks\":5,\"id\":\"e6d74480-15da-42c7-c2e2-f977a5907f7a\",\"tags\":[],\"doc\":null}},{\"id\":\"dc3f086d-8493-4463-c446-bfa51d91ece3\",\"type\":\"LinearAxis\",\"attributes\":{\"formatter\":{\"type\":\"BasicTickFormatter\",\"id\":\"e59ebcbd-048b-4f35-cf35-b33d0e10ba2f\"},\"ticker\":{\"type\":\"BasicTicker\",\"id\":\"e6d74480-15da-42c7-c2e2-f977a5907f7a\"},\"plot\":{\"id\":\"7bbe68dd-c0ac-4601-c690-b6a17007e869\",\"type\":\"Plot\",\"subtype\":\"Figure\"},\"axis_label\":null,\"id\":\"dc3f086d-8493-4463-c446-bfa51d91ece3\",\"doc\":null,\"tags\":[]}},{\"id\":\"4efe6906-7f6e-4b7a-cbb6-c9581ae09565\",\"type\":\"Grid\",\"attributes\":{\"dimension\":0,\"plot\":{\"id\":\"7bbe68dd-c0ac-4601-c690-b6a17007e869\",\"type\":\"Plot\",\"subtype\":\"Figure\"},\"ticker\":{\"type\":\"BasicTicker\",\"id\":\"e6d74480-15da-42c7-c2e2-f977a5907f7a\"},\"id\":\"4efe6906-7f6e-4b7a-cbb6-c9581ae09565\",\"doc\":null,\"tags\":[]}},{\"id\":\"b31786bf-6ee1-49e7-c97e-44a5707a150b\",\"type\":\"BasicTickFormatter\",\"attributes\":{\"id\":\"b31786bf-6ee1-49e7-c97e-44a5707a150b\",\"tags\":[],\"doc\":null}},{\"id\":\"d98a3ad8-b633-4d21-cdd0-efbbece20df6\",\"type\":\"BasicTicker\",\"attributes\":{\"num_minor_ticks\":5,\"id\":\"d98a3ad8-b633-4d21-cdd0-efbbece20df6\",\"tags\":[],\"doc\":null}},{\"id\":\"6489fd83-016d-405e-c085-2bd377825077\",\"type\":\"LinearAxis\",\"attributes\":{\"formatter\":{\"type\":\"BasicTickFormatter\",\"id\":\"b31786bf-6ee1-49e7-c97e-44a5707a150b\"},\"ticker\":{\"type\":\"BasicTicker\",\"id\":\"d98a3ad8-b633-4d21-cdd0-efbbece20df6\"},\"plot\":{\"id\":\"7bbe68dd-c0ac-4601-c690-b6a17007e869\",\"type\":\"Plot\",\"subtype\":\"Figure\"},\"axis_label\":null,\"id\":\"6489fd83-016d-405e-c085-2bd377825077\",\"doc\":null,\"tags\":[]}},{\"id\":\"9922e825-0443-475d-c72f-8c762696bc10\",\"type\":\"Grid\",\"attributes\":{\"dimension\":1,\"plot\":{\"id\":\"7bbe68dd-c0ac-4601-c690-b6a17007e869\",\"type\":\"Plot\",\"subtype\":\"Figure\"},\"ticker\":{\"type\":\"BasicTicker\",\"id\":\"d98a3ad8-b633-4d21-cdd0-efbbece20df6\"},\"id\":\"9922e825-0443-475d-c72f-8c762696bc10\",\"doc\":null,\"tags\":[]}},{\"id\":\"84a6df1f-9e7e-46d3-c6f7-ab19c296731d\",\"type\":\"PanTool\",\"attributes\":{\"plot\":{\"id\":\"7bbe68dd-c0ac-4601-c690-b6a17007e869\",\"type\":\"Plot\",\"subtype\":\"Figure\"},\"dimensions\":[\"width\",\"height\"],\"id\":\"84a6df1f-9e7e-46d3-c6f7-ab19c296731d\",\"doc\":null,\"tags\":[]}},{\"id\":\"769f8b92-aaae-4d8b-cd41-83186b96a017\",\"type\":\"WheelZoomTool\",\"attributes\":{\"plot\":{\"id\":\"7bbe68dd-c0ac-4601-c690-b6a17007e869\",\"type\":\"Plot\",\"subtype\":\"Figure\"},\"dimensions\":[\"width\",\"height\"],\"id\":\"769f8b92-aaae-4d8b-cd41-83186b96a017\",\"doc\":null,\"tags\":[]}},{\"id\":\"1c06e864-2c5f-4804-c80b-f55d23fa588a\",\"type\":\"BoxZoomTool\",\"attributes\":{\"plot\":{\"id\":\"7bbe68dd-c0ac-4601-c690-b6a17007e869\",\"type\":\"Plot\",\"subtype\":\"Figure\"},\"id\":\"1c06e864-2c5f-4804-c80b-f55d23fa588a\",\"tags\":[],\"doc\":null}},{\"id\":\"7fca70fd-9d1c-4648-c6e6-a30ccb24f472\",\"type\":\"PreviewSaveTool\",\"attributes\":{\"plot\":{\"id\":\"7bbe68dd-c0ac-4601-c690-b6a17007e869\",\"type\":\"Plot\",\"subtype\":\"Figure\"},\"id\":\"7fca70fd-9d1c-4648-c6e6-a30ccb24f472\",\"tags\":[],\"doc\":null}},{\"id\":\"fab3f2f3-127e-4ce6-cc19-1c6b840c9daf\",\"type\":\"ResizeTool\",\"attributes\":{\"plot\":{\"id\":\"7bbe68dd-c0ac-4601-c690-b6a17007e869\",\"type\":\"Plot\",\"subtype\":\"Figure\"},\"id\":\"fab3f2f3-127e-4ce6-cc19-1c6b840c9daf\",\"tags\":[],\"doc\":null}},{\"id\":\"6e62bc0a-56ae-4232-c209-a5db6d912972\",\"type\":\"ResetTool\",\"attributes\":{\"plot\":{\"id\":\"7bbe68dd-c0ac-4601-c690-b6a17007e869\",\"type\":\"Plot\",\"subtype\":\"Figure\"},\"id\":\"6e62bc0a-56ae-4232-c209-a5db6d912972\",\"tags\":[],\"doc\":null}},{\"id\":\"443ee65b-aa1c-44a1-c417-d1ee952f8f98\",\"type\":\"Legend\",\"attributes\":{\"plot\":{\"id\":\"7bbe68dd-c0ac-4601-c690-b6a17007e869\",\"type\":\"Plot\",\"subtype\":\"Figure\"},\"legends\":[[\"accuracy\",[{\"type\":\"GlyphRenderer\",\"id\":\"8d023e15-7372-48e5-c830-3a7001776575\"}]]],\"id\":\"443ee65b-aa1c-44a1-c417-d1ee952f8f98\",\"doc\":null,\"tags\":[]}},{\"id\":\"7bbe68dd-c0ac-4601-c690-b6a17007e869\",\"type\":\"Plot\",\"attributes\":{\"x_range\":{\"type\":\"DataRange1d\",\"id\":\"42c1fb1d-76cd-4619-c6c3-be5473d9c219\"},\"tool_events\":{\"type\":\"ToolEvents\",\"id\":\"14a5a30c-4dfe-4108-c11d-c4fe72f427fb\"},\"below\":[{\"type\":\"LinearAxis\",\"id\":\"dc3f086d-8493-4463-c446-bfa51d91ece3\"}],\"renderers\":[{\"type\":\"GlyphRenderer\",\"id\":\"8d023e15-7372-48e5-c830-3a7001776575\"},{\"type\":\"LinearAxis\",\"id\":\"dc3f086d-8493-4463-c446-bfa51d91ece3\"},{\"type\":\"Grid\",\"id\":\"4efe6906-7f6e-4b7a-cbb6-c9581ae09565\"},{\"type\":\"LinearAxis\",\"id\":\"6489fd83-016d-405e-c085-2bd377825077\"},{\"type\":\"Grid\",\"id\":\"9922e825-0443-475d-c72f-8c762696bc10\"},{\"type\":\"Legend\",\"id\":\"443ee65b-aa1c-44a1-c417-d1ee952f8f98\"}],\"above\":[],\"tools\":[{\"type\":\"PanTool\",\"id\":\"84a6df1f-9e7e-46d3-c6f7-ab19c296731d\"},{\"type\":\"WheelZoomTool\",\"id\":\"769f8b92-aaae-4d8b-cd41-83186b96a017\"},{\"type\":\"BoxZoomTool\",\"id\":\"1c06e864-2c5f-4804-c80b-f55d23fa588a\"},{\"type\":\"PreviewSaveTool\",\"id\":\"7fca70fd-9d1c-4648-c6e6-a30ccb24f472\"},{\"type\":\"ResizeTool\",\"id\":\"fab3f2f3-127e-4ce6-cc19-1c6b840c9daf\"},{\"type\":\"ResetTool\",\"id\":\"6e62bc0a-56ae-4232-c209-a5db6d912972\"}],\"doc\":null,\"right\":[],\"title\":\"Accuacy\",\"extra_x_ranges\":{},\"left\":[{\"type\":\"LinearAxis\",\"id\":\"6489fd83-016d-405e-c085-2bd377825077\"}],\"y_range\":{\"type\":\"DataRange1d\",\"id\":\"1ce97f20-55b2-42f3-c27d-d8df55e6fe33\"},\"id\":\"7bbe68dd-c0ac-4601-c690-b6a17007e869\",\"extra_y_ranges\":{},\"tags\":[]}}];\n",
       "  Bokeh.load_models(all_models);\n",
       "  var model = Bokeh.Collections(modeltype).get(modelid);\n",
       "  $(\"#97a491b3-49f5-4930-c940-b34d6b49548e\").html(''); // clear any previous plot in window_id\n",
       "  var view = new model.default_view({model: model, el: \"#97a491b3-49f5-4930-c940-b34d6b49548e\"});\n",
       "    } else {\n",
       "  load_lib(bokehjs_url, function() {\n",
       "      console.log(\"Bokeh: BokehJS plotting callback run at\", new Date())\n",
       "      var modelid = \"7bbe68dd-c0ac-4601-c690-b6a17007e869\";\n",
       "      var modeltype = \"Plot\";\n",
       "      var all_models = [{\"id\":\"14fa8eac-f8f7-4366-c3e5-5f7646066f34\",\"type\":\"ColumnDataSource\",\"attributes\":{\"data\":{\"y\":[0.73135710977304,0.73645206113942,0.74803149606299,0.74617878647522,0.76285317276517,0.74849467345994,0.764242704956,0.75961093098657,0.77906438165818,0.78786475220009,0.79203334877258,0.78786475220009,0.78415933302455,0.79018063918481,0.78786475220009,0.79203334877258,0.80129689671144,0.79898100972673,0.80546549328393,0.7975914775359,0.81241315423807,0.79295970356647,0.79805465493284,0.80037054191755,0.80222325150533,0.80361278369616,0.80963408985642,0.81658175081056,0.81194997684113,0.81009726725336,0.81287633163502,0.82306623436776,0.82399258916165,0.80963408985642,0.82584529874942,0.81797128300139,0.81148679944419,0.82352941176471,0.82677165354331,0.80129689671144,0.82260305697082,0.81519221861973,0.82121352477999,0.82723483094025,0.83557202408522,0.82816118573414,0.82445576655859,0.82399258916165,0.83881426586383,0.83047707271885,0.83047707271885,0.83325613710051,0.83557202408522,0.83835108846688,0.83696155627605,0.83788791106994,0.8406669754516,0.83881426586383,0.84946734599352,0.82908754052802,0.83094025011579,0.83788791106994,0.84437239462714,0.8439092172302,0.8471514590088,0.8471514590088,0.84298286243631,0.84622510421491,0.85548865215377,0.84668828161186,0.84576192681797,0.85085687818434,0.84576192681797,0.84900416859657,0.85409911996295,0.84807781380269,0.84668828161186,0.85965724872626,0.85873089393238,0.87123668364984,0.86012042612321,0.85548865215377,0.86058360352015,0.85734136174155,0.86058360352015,0.86012042612321,0.86243631310792,0.85548865215377,0.87031032885595,0.85826771653543,0.85826771653543,0.86428902269569,0.86660490968041,0.86243631310792,0.86012042612321,0.86521537748958,0.86521537748958,0.86892079666512,0.87262621584067,0.86892079666512,0.85734136174155,0.87447892542844,0.85502547475683,0.87586845761927,0.86521537748958,0.86984715145901,0.86614173228346,0.86521537748958,0.87123668364984,0.86567855488652,0.86660490968041,0.87123668364984,0.87447892542844,0.86984715145901,0.87772116720704,0.87540528022233,0.87494210282538,0.87494210282538,0.87957387679481,0.87077350625289,0.88235294117647,0.87355257063455,0.87216303844372,0.87679481241315,0.87864752200093,0.87633163501621,0.87772116720704,0.88281611857341,0.88003705419176,0.88235294117647,0.88096340898564,0.87077350625289,0.87540528022233,0.87818434460398,0.87864752200093,0.88281611857341,0.88096340898564,0.89161648911533,0.87818434460398,0.88837424733673,0.88837424733673,0.88235294117647,0.88420565076424,0.88188976377953,0.88652153774896,0.88652153774896,0.88837424733673,0.88791106993979,0.89115331171839,0.89254284390922],\"x\":[1,2,3,4,5,6,7,8,9,10,11,12,13,14,15,16,17,18,19,20,21,22,23,24,25,26,27,28,29,30,31,32,33,34,35,36,37,38,39,40,41,42,43,44,45,46,47,48,49,50,51,52,53,54,55,56,57,58,59,60,61,62,63,64,65,66,67,68,69,70,71,72,73,74,75,76,77,78,79,80,81,82,83,84,85,86,87,88,89,90,91,92,93,94,95,96,97,98,99,100,101,102,103,104,105,106,107,108,109,110,111,112,113,114,115,116,117,118,119,120,121,122,123,124,125,126,127,128,129,130,131,132,133,134,135,136,137,138,139,140,141,142,143,144,145,146,147,148,149,150]},\"column_names\":[\"y\",\"x\"],\"cont_ranges\":{},\"discrete_ranges\":{},\"selected\":[],\"id\":\"14fa8eac-f8f7-4366-c3e5-5f7646066f34\",\"doc\":null,\"tags\":[]}},{\"id\":\"042700f1-5140-4818-c8ef-4a59310a917a\",\"type\":\"Circle\",\"attributes\":{\"fill_alpha\":{\"units\":\"data\",\"value\":0.2},\"line_alpha\":{\"units\":\"data\",\"value\":1},\"doc\":null,\"size\":{\"units\":\"screen\",\"value\":10},\"fill_color\":{\"value\":\"green\"},\"line_color\":{\"value\":\"green\"},\"x\":{\"units\":\"data\",\"field\":\"x\"},\"id\":\"042700f1-5140-4818-c8ef-4a59310a917a\",\"y\":{\"units\":\"data\",\"field\":\"y\"},\"tags\":[]}},{\"id\":\"12e6d30f-f429-4fcd-cf96-5bab9578bfcc\",\"type\":\"Circle\",\"attributes\":{\"fill_alpha\":{\"units\":\"data\",\"value\":0.2},\"line_alpha\":{\"units\":\"data\",\"value\":1},\"doc\":null,\"size\":{\"units\":\"screen\",\"value\":10},\"fill_color\":{\"value\":\"green\"},\"line_color\":{\"value\":\"green\"},\"x\":{\"units\":\"data\",\"field\":\"x\"},\"id\":\"12e6d30f-f429-4fcd-cf96-5bab9578bfcc\",\"y\":{\"units\":\"data\",\"field\":\"y\"},\"tags\":[]}},{\"id\":\"8d023e15-7372-48e5-c830-3a7001776575\",\"type\":\"GlyphRenderer\",\"attributes\":{\"name\":null,\"nonselection_glyph\":{\"type\":\"Circle\",\"id\":\"12e6d30f-f429-4fcd-cf96-5bab9578bfcc\"},\"doc\":null,\"server_data_source\":null,\"data_source\":{\"type\":\"ColumnDataSource\",\"id\":\"14fa8eac-f8f7-4366-c3e5-5f7646066f34\"},\"glyph\":{\"type\":\"Circle\",\"id\":\"042700f1-5140-4818-c8ef-4a59310a917a\"},\"selection_glyph\":null,\"id\":\"8d023e15-7372-48e5-c830-3a7001776575\",\"tags\":[]}},{\"id\":\"42c1fb1d-76cd-4619-c6c3-be5473d9c219\",\"type\":\"DataRange1d\",\"attributes\":{\"sources\":[{\"columns\":[\"x\"],\"source\":{\"type\":\"ColumnDataSource\",\"id\":\"14fa8eac-f8f7-4366-c3e5-5f7646066f34\"}}],\"id\":\"42c1fb1d-76cd-4619-c6c3-be5473d9c219\",\"tags\":[],\"doc\":null}},{\"id\":\"1ce97f20-55b2-42f3-c27d-d8df55e6fe33\",\"type\":\"DataRange1d\",\"attributes\":{\"sources\":[{\"columns\":[\"y\"],\"source\":{\"type\":\"ColumnDataSource\",\"id\":\"14fa8eac-f8f7-4366-c3e5-5f7646066f34\"}}],\"id\":\"1ce97f20-55b2-42f3-c27d-d8df55e6fe33\",\"tags\":[],\"doc\":null}},{\"id\":\"14a5a30c-4dfe-4108-c11d-c4fe72f427fb\",\"type\":\"ToolEvents\",\"attributes\":{\"tags\":[],\"id\":\"14a5a30c-4dfe-4108-c11d-c4fe72f427fb\",\"geometries\":[],\"doc\":null}},{\"id\":\"e59ebcbd-048b-4f35-cf35-b33d0e10ba2f\",\"type\":\"BasicTickFormatter\",\"attributes\":{\"id\":\"e59ebcbd-048b-4f35-cf35-b33d0e10ba2f\",\"tags\":[],\"doc\":null}},{\"id\":\"e6d74480-15da-42c7-c2e2-f977a5907f7a\",\"type\":\"BasicTicker\",\"attributes\":{\"num_minor_ticks\":5,\"id\":\"e6d74480-15da-42c7-c2e2-f977a5907f7a\",\"tags\":[],\"doc\":null}},{\"id\":\"dc3f086d-8493-4463-c446-bfa51d91ece3\",\"type\":\"LinearAxis\",\"attributes\":{\"formatter\":{\"type\":\"BasicTickFormatter\",\"id\":\"e59ebcbd-048b-4f35-cf35-b33d0e10ba2f\"},\"ticker\":{\"type\":\"BasicTicker\",\"id\":\"e6d74480-15da-42c7-c2e2-f977a5907f7a\"},\"plot\":{\"id\":\"7bbe68dd-c0ac-4601-c690-b6a17007e869\",\"type\":\"Plot\",\"subtype\":\"Figure\"},\"axis_label\":null,\"id\":\"dc3f086d-8493-4463-c446-bfa51d91ece3\",\"doc\":null,\"tags\":[]}},{\"id\":\"4efe6906-7f6e-4b7a-cbb6-c9581ae09565\",\"type\":\"Grid\",\"attributes\":{\"dimension\":0,\"plot\":{\"id\":\"7bbe68dd-c0ac-4601-c690-b6a17007e869\",\"type\":\"Plot\",\"subtype\":\"Figure\"},\"ticker\":{\"type\":\"BasicTicker\",\"id\":\"e6d74480-15da-42c7-c2e2-f977a5907f7a\"},\"id\":\"4efe6906-7f6e-4b7a-cbb6-c9581ae09565\",\"doc\":null,\"tags\":[]}},{\"id\":\"b31786bf-6ee1-49e7-c97e-44a5707a150b\",\"type\":\"BasicTickFormatter\",\"attributes\":{\"id\":\"b31786bf-6ee1-49e7-c97e-44a5707a150b\",\"tags\":[],\"doc\":null}},{\"id\":\"d98a3ad8-b633-4d21-cdd0-efbbece20df6\",\"type\":\"BasicTicker\",\"attributes\":{\"num_minor_ticks\":5,\"id\":\"d98a3ad8-b633-4d21-cdd0-efbbece20df6\",\"tags\":[],\"doc\":null}},{\"id\":\"6489fd83-016d-405e-c085-2bd377825077\",\"type\":\"LinearAxis\",\"attributes\":{\"formatter\":{\"type\":\"BasicTickFormatter\",\"id\":\"b31786bf-6ee1-49e7-c97e-44a5707a150b\"},\"ticker\":{\"type\":\"BasicTicker\",\"id\":\"d98a3ad8-b633-4d21-cdd0-efbbece20df6\"},\"plot\":{\"id\":\"7bbe68dd-c0ac-4601-c690-b6a17007e869\",\"type\":\"Plot\",\"subtype\":\"Figure\"},\"axis_label\":null,\"id\":\"6489fd83-016d-405e-c085-2bd377825077\",\"doc\":null,\"tags\":[]}},{\"id\":\"9922e825-0443-475d-c72f-8c762696bc10\",\"type\":\"Grid\",\"attributes\":{\"dimension\":1,\"plot\":{\"id\":\"7bbe68dd-c0ac-4601-c690-b6a17007e869\",\"type\":\"Plot\",\"subtype\":\"Figure\"},\"ticker\":{\"type\":\"BasicTicker\",\"id\":\"d98a3ad8-b633-4d21-cdd0-efbbece20df6\"},\"id\":\"9922e825-0443-475d-c72f-8c762696bc10\",\"doc\":null,\"tags\":[]}},{\"id\":\"84a6df1f-9e7e-46d3-c6f7-ab19c296731d\",\"type\":\"PanTool\",\"attributes\":{\"plot\":{\"id\":\"7bbe68dd-c0ac-4601-c690-b6a17007e869\",\"type\":\"Plot\",\"subtype\":\"Figure\"},\"dimensions\":[\"width\",\"height\"],\"id\":\"84a6df1f-9e7e-46d3-c6f7-ab19c296731d\",\"doc\":null,\"tags\":[]}},{\"id\":\"769f8b92-aaae-4d8b-cd41-83186b96a017\",\"type\":\"WheelZoomTool\",\"attributes\":{\"plot\":{\"id\":\"7bbe68dd-c0ac-4601-c690-b6a17007e869\",\"type\":\"Plot\",\"subtype\":\"Figure\"},\"dimensions\":[\"width\",\"height\"],\"id\":\"769f8b92-aaae-4d8b-cd41-83186b96a017\",\"doc\":null,\"tags\":[]}},{\"id\":\"1c06e864-2c5f-4804-c80b-f55d23fa588a\",\"type\":\"BoxZoomTool\",\"attributes\":{\"plot\":{\"id\":\"7bbe68dd-c0ac-4601-c690-b6a17007e869\",\"type\":\"Plot\",\"subtype\":\"Figure\"},\"id\":\"1c06e864-2c5f-4804-c80b-f55d23fa588a\",\"tags\":[],\"doc\":null}},{\"id\":\"7fca70fd-9d1c-4648-c6e6-a30ccb24f472\",\"type\":\"PreviewSaveTool\",\"attributes\":{\"plot\":{\"id\":\"7bbe68dd-c0ac-4601-c690-b6a17007e869\",\"type\":\"Plot\",\"subtype\":\"Figure\"},\"id\":\"7fca70fd-9d1c-4648-c6e6-a30ccb24f472\",\"tags\":[],\"doc\":null}},{\"id\":\"fab3f2f3-127e-4ce6-cc19-1c6b840c9daf\",\"type\":\"ResizeTool\",\"attributes\":{\"plot\":{\"id\":\"7bbe68dd-c0ac-4601-c690-b6a17007e869\",\"type\":\"Plot\",\"subtype\":\"Figure\"},\"id\":\"fab3f2f3-127e-4ce6-cc19-1c6b840c9daf\",\"tags\":[],\"doc\":null}},{\"id\":\"6e62bc0a-56ae-4232-c209-a5db6d912972\",\"type\":\"ResetTool\",\"attributes\":{\"plot\":{\"id\":\"7bbe68dd-c0ac-4601-c690-b6a17007e869\",\"type\":\"Plot\",\"subtype\":\"Figure\"},\"id\":\"6e62bc0a-56ae-4232-c209-a5db6d912972\",\"tags\":[],\"doc\":null}},{\"id\":\"443ee65b-aa1c-44a1-c417-d1ee952f8f98\",\"type\":\"Legend\",\"attributes\":{\"plot\":{\"id\":\"7bbe68dd-c0ac-4601-c690-b6a17007e869\",\"type\":\"Plot\",\"subtype\":\"Figure\"},\"legends\":[[\"accuracy\",[{\"type\":\"GlyphRenderer\",\"id\":\"8d023e15-7372-48e5-c830-3a7001776575\"}]]],\"id\":\"443ee65b-aa1c-44a1-c417-d1ee952f8f98\",\"doc\":null,\"tags\":[]}},{\"id\":\"7bbe68dd-c0ac-4601-c690-b6a17007e869\",\"type\":\"Plot\",\"attributes\":{\"x_range\":{\"type\":\"DataRange1d\",\"id\":\"42c1fb1d-76cd-4619-c6c3-be5473d9c219\"},\"tool_events\":{\"type\":\"ToolEvents\",\"id\":\"14a5a30c-4dfe-4108-c11d-c4fe72f427fb\"},\"below\":[{\"type\":\"LinearAxis\",\"id\":\"dc3f086d-8493-4463-c446-bfa51d91ece3\"}],\"renderers\":[{\"type\":\"GlyphRenderer\",\"id\":\"8d023e15-7372-48e5-c830-3a7001776575\"},{\"type\":\"LinearAxis\",\"id\":\"dc3f086d-8493-4463-c446-bfa51d91ece3\"},{\"type\":\"Grid\",\"id\":\"4efe6906-7f6e-4b7a-cbb6-c9581ae09565\"},{\"type\":\"LinearAxis\",\"id\":\"6489fd83-016d-405e-c085-2bd377825077\"},{\"type\":\"Grid\",\"id\":\"9922e825-0443-475d-c72f-8c762696bc10\"},{\"type\":\"Legend\",\"id\":\"443ee65b-aa1c-44a1-c417-d1ee952f8f98\"}],\"above\":[],\"tools\":[{\"type\":\"PanTool\",\"id\":\"84a6df1f-9e7e-46d3-c6f7-ab19c296731d\"},{\"type\":\"WheelZoomTool\",\"id\":\"769f8b92-aaae-4d8b-cd41-83186b96a017\"},{\"type\":\"BoxZoomTool\",\"id\":\"1c06e864-2c5f-4804-c80b-f55d23fa588a\"},{\"type\":\"PreviewSaveTool\",\"id\":\"7fca70fd-9d1c-4648-c6e6-a30ccb24f472\"},{\"type\":\"ResizeTool\",\"id\":\"fab3f2f3-127e-4ce6-cc19-1c6b840c9daf\"},{\"type\":\"ResetTool\",\"id\":\"6e62bc0a-56ae-4232-c209-a5db6d912972\"}],\"doc\":null,\"right\":[],\"title\":\"Accuacy\",\"extra_x_ranges\":{},\"left\":[{\"type\":\"LinearAxis\",\"id\":\"6489fd83-016d-405e-c085-2bd377825077\"}],\"y_range\":{\"type\":\"DataRange1d\",\"id\":\"1ce97f20-55b2-42f3-c27d-d8df55e6fe33\"},\"id\":\"7bbe68dd-c0ac-4601-c690-b6a17007e869\",\"extra_y_ranges\":{},\"tags\":[]}}];\n",
       "      Bokeh.load_models(all_models);\n",
       "      var model = Bokeh.Collections(modeltype).get(modelid);\n",
       "      $(\"#97a491b3-49f5-4930-c940-b34d6b49548e\").html(''); // clear any previous plot in window_id\n",
       "      var view = new model.default_view({model: model, el: \"#97a491b3-49f5-4930-c940-b34d6b49548e\"});\n",
       "  });\n",
       "    }\n",
       "});\n",
       "</script>\n",
       "<div class=\"plotdiv\" id=\"97a491b3-49f5-4930-c940-b34d6b49548e\"></div>\n"
      ]
     },
     "metadata": {},
     "output_type": "display_data"
    },
    {
     "data": {
      "text/html": [
       "<script type=\"text/javascript\">\n",
       "$(function() {\n",
       "    if (typeof (window._bokeh_onload_callbacks) === \"undefined\"){\n",
       "  window._bokeh_onload_callbacks = [];\n",
       "    }\n",
       "    function load_lib(url, callback){\n",
       "  window._bokeh_onload_callbacks.push(callback);\n",
       "  if (window._bokeh_is_loading){\n",
       "      console.log(\"Bokeh: BokehJS is being loaded, scheduling callback at\", new Date());\n",
       "      return null;\n",
       "  }\n",
       "  console.log(\"Bokeh: BokehJS not loaded, scheduling load and callback at\", new Date());\n",
       "  window._bokeh_is_loading = true;\n",
       "  var s = document.createElement('script');\n",
       "  s.src = url;\n",
       "  s.async = true;\n",
       "  s.onreadystatechange = s.onload = function(){\n",
       "      Bokeh.embed.inject_css(\"https://cdn.pydata.org/bokeh-0.7.0.min.css\");\n",
       "      window._bokeh_onload_callbacks.forEach(function(callback){callback()});\n",
       "  };\n",
       "  s.onerror = function(){\n",
       "      console.warn(\"failed to load library \" + url);\n",
       "  };\n",
       "  document.getElementsByTagName(\"head\")[0].appendChild(s);\n",
       "    }\n",
       "\n",
       "    bokehjs_url = \"https://cdn.pydata.org/bokeh-0.7.0.min.js\"\n",
       "\n",
       "    var elt = document.getElementById(\"f7ab0430-a481-4cb6-cc32-77a5cc80df3d\");\n",
       "    if(elt==null) {\n",
       "  console.log(\"Bokeh: ERROR: autoload.js configured with elementid 'f7ab0430-a481-4cb6-cc32-77a5cc80df3d'\"\n",
       "        + \"but no matching script tag was found. \")\n",
       "  return false;\n",
       "    }\n",
       "\n",
       "    if(typeof(Bokeh) !== \"undefined\") {\n",
       "  console.log(\"Bokeh: BokehJS loaded, going straight to plotting\");\n",
       "  var modelid = \"3e85d1b1-efcf-44a6-c432-359a926ea8cb\";\n",
       "  var modeltype = \"Plot\";\n",
       "  var all_models = [{\"id\":\"5a4559ea-1634-4afd-cada-430cd60c6e61\",\"type\":\"ColumnDataSource\",\"attributes\":{\"data\":{\"y\":[1.041523350349,0.98362108137628,0.93973371411777,0.92640208884581,0.89139813583368,0.86627920208858,0.84685766965252,0.83287303437958,0.81728365331154,0.80100539008404,0.79009368985967,0.77405756182697,0.76600791915225,0.75065507252736,0.74211068858772,0.72482572438977,0.71444765418029,0.71871882395953,0.71633446741603,0.71957163129171,0.71601925189224,0.70547493978603,0.68701887042953,0.67583234749939,0.68209747780514,0.67065438150283,0.67710124347881,0.65971620682621,0.65252579294526,0.64138953558695,0.6509933745544,0.65093324833273,0.63398030029534,0.63378084971508,0.64019780772925,0.63028392282116,0.63418728635954,0.62814161137263,0.61652139459251,0.61101585868525,0.6144037159261,0.6084439431667,0.61063907058045,0.60287351658751,0.58296574999003,0.58553273362881,0.57519610329698,0.59196707870813,0.57582958030196,0.58414734428668,0.57652137575827,0.57086315583311,0.56940752801335,0.5643723575771,0.54323168802403,0.55434436264595,0.5528538732839,0.54632554606072,0.54483862549041,0.54773344171716,0.53619296139726,0.54387072193072,0.54308125836348,0.5320358606788,0.523670773699,0.52994416803028,0.51804556096719,0.52338343465754,0.50958114265808,0.50687211713742,0.51901746024155,0.52029861842311,0.52564498663217,0.51517164650071,0.51228022075546,0.49722603228662,0.48925380842135,0.48440304128965,0.49239034748248,0.47804912642673,0.47672747331452,0.48042726744555,0.48038287429525,0.46077938625805,0.4737770749816,0.47067726722064,0.46867302246992,0.46517559717987,0.47078488934942,0.45988150097337,0.47075013873022,0.47166101557115,0.46404900364953,0.45568341977071,0.46586318287176,0.44962861944841,0.44692561079086,0.44727159179991,0.45336305737798,0.45631670159866,0.44845106775725,0.44423062198606,0.4474003658162,0.44148589954254,0.44649609173409,0.44550198895848,0.44342735221405,0.44840786247506,0.4441443900224,0.43092266328447,0.43283964559001,0.4199078609883,0.43286459809987,0.42144882942628,0.41162476939311,0.41293146546518,0.41034857462204,0.40926776504654,0.41280910743622,0.41055861320064,0.40580350666039,0.41247504356881,0.40811378657998,0.40674830444635,0.3999175134003,0.39299002990018,0.3987355077489,0.39128276597761,0.39187031492124,0.3894318511118,0.39655586296566,0.39720300434597,0.38220935981463,0.38780607896564,0.37943850310087,0.37965502768826,0.37572922220146,0.36744629622939,0.36382847087294,0.37126859428545,0.36516270407646,0.37853281191218,0.37596631496842,0.36727469088337,0.36268998975063,0.363562642793,0.36281559731296,0.36981223039785,0.35567741844582,0.35296106500695],\"x\":[1,2,3,4,5,6,7,8,9,10,11,12,13,14,15,16,17,18,19,20,21,22,23,24,25,26,27,28,29,30,31,32,33,34,35,36,37,38,39,40,41,42,43,44,45,46,47,48,49,50,51,52,53,54,55,56,57,58,59,60,61,62,63,64,65,66,67,68,69,70,71,72,73,74,75,76,77,78,79,80,81,82,83,84,85,86,87,88,89,90,91,92,93,94,95,96,97,98,99,100,101,102,103,104,105,106,107,108,109,110,111,112,113,114,115,116,117,118,119,120,121,122,123,124,125,126,127,128,129,130,131,132,133,134,135,136,137,138,139,140,141,142,143,144,145,146,147,148,149,150]},\"column_names\":[\"y\",\"x\"],\"cont_ranges\":{},\"discrete_ranges\":{},\"selected\":[],\"id\":\"5a4559ea-1634-4afd-cada-430cd60c6e61\",\"doc\":null,\"tags\":[]}},{\"id\":\"78216913-fc81-4161-c192-59a726c87eb2\",\"type\":\"Line\",\"attributes\":{\"fill_alpha\":{\"units\":\"data\",\"value\":0.2},\"line_alpha\":{\"units\":\"data\",\"value\":1},\"doc\":null,\"size\":{\"units\":\"screen\",\"value\":10},\"fill_color\":{\"value\":\"red\"},\"line_color\":{\"value\":\"red\"},\"x\":{\"units\":\"data\",\"field\":\"x\"},\"id\":\"78216913-fc81-4161-c192-59a726c87eb2\",\"y\":{\"units\":\"data\",\"field\":\"y\"},\"tags\":[]}},{\"id\":\"57720d7f-cffa-47ad-c733-8132013abb40\",\"type\":\"Line\",\"attributes\":{\"fill_alpha\":{\"units\":\"data\",\"value\":0.2},\"line_alpha\":{\"units\":\"data\",\"value\":1},\"doc\":null,\"size\":{\"units\":\"screen\",\"value\":10},\"fill_color\":{\"value\":\"red\"},\"line_color\":{\"value\":\"red\"},\"x\":{\"units\":\"data\",\"field\":\"x\"},\"id\":\"57720d7f-cffa-47ad-c733-8132013abb40\",\"y\":{\"units\":\"data\",\"field\":\"y\"},\"tags\":[]}},{\"id\":\"213c2c49-a925-45f6-c520-a222f5a0770e\",\"type\":\"GlyphRenderer\",\"attributes\":{\"name\":null,\"nonselection_glyph\":{\"type\":\"Line\",\"id\":\"57720d7f-cffa-47ad-c733-8132013abb40\"},\"doc\":null,\"server_data_source\":null,\"data_source\":{\"type\":\"ColumnDataSource\",\"id\":\"5a4559ea-1634-4afd-cada-430cd60c6e61\"},\"glyph\":{\"type\":\"Line\",\"id\":\"78216913-fc81-4161-c192-59a726c87eb2\"},\"selection_glyph\":null,\"id\":\"213c2c49-a925-45f6-c520-a222f5a0770e\",\"tags\":[]}},{\"id\":\"c994c6c4-e2b1-46f6-c6c8-d7a0d2dbd9a0\",\"type\":\"DataRange1d\",\"attributes\":{\"sources\":[{\"columns\":[\"x\"],\"source\":{\"type\":\"ColumnDataSource\",\"id\":\"5a4559ea-1634-4afd-cada-430cd60c6e61\"}}],\"id\":\"c994c6c4-e2b1-46f6-c6c8-d7a0d2dbd9a0\",\"tags\":[],\"doc\":null}},{\"id\":\"d23ce86f-087b-46e3-c619-132d514f8e91\",\"type\":\"DataRange1d\",\"attributes\":{\"sources\":[{\"columns\":[\"y\"],\"source\":{\"type\":\"ColumnDataSource\",\"id\":\"5a4559ea-1634-4afd-cada-430cd60c6e61\"}}],\"id\":\"d23ce86f-087b-46e3-c619-132d514f8e91\",\"tags\":[],\"doc\":null}},{\"id\":\"7b14759f-d26f-4bf4-cb58-01139216f5b5\",\"type\":\"ToolEvents\",\"attributes\":{\"tags\":[],\"id\":\"7b14759f-d26f-4bf4-cb58-01139216f5b5\",\"geometries\":[],\"doc\":null}},{\"id\":\"89c01115-a605-4edd-ce67-09b4840e82cc\",\"type\":\"BasicTickFormatter\",\"attributes\":{\"id\":\"89c01115-a605-4edd-ce67-09b4840e82cc\",\"tags\":[],\"doc\":null}},{\"id\":\"8238354e-c5a5-4129-c1b1-9c3b7d99fa55\",\"type\":\"BasicTicker\",\"attributes\":{\"num_minor_ticks\":5,\"id\":\"8238354e-c5a5-4129-c1b1-9c3b7d99fa55\",\"tags\":[],\"doc\":null}},{\"id\":\"85130c37-77ef-4876-c8e1-47cc07402bfd\",\"type\":\"LinearAxis\",\"attributes\":{\"formatter\":{\"type\":\"BasicTickFormatter\",\"id\":\"89c01115-a605-4edd-ce67-09b4840e82cc\"},\"ticker\":{\"type\":\"BasicTicker\",\"id\":\"8238354e-c5a5-4129-c1b1-9c3b7d99fa55\"},\"plot\":{\"id\":\"3e85d1b1-efcf-44a6-c432-359a926ea8cb\",\"type\":\"Plot\",\"subtype\":\"Figure\"},\"axis_label\":null,\"id\":\"85130c37-77ef-4876-c8e1-47cc07402bfd\",\"doc\":null,\"tags\":[]}},{\"id\":\"63bc2ee5-5b88-4a13-ca5e-5762266076bd\",\"type\":\"Grid\",\"attributes\":{\"dimension\":0,\"plot\":{\"id\":\"3e85d1b1-efcf-44a6-c432-359a926ea8cb\",\"type\":\"Plot\",\"subtype\":\"Figure\"},\"ticker\":{\"type\":\"BasicTicker\",\"id\":\"8238354e-c5a5-4129-c1b1-9c3b7d99fa55\"},\"id\":\"63bc2ee5-5b88-4a13-ca5e-5762266076bd\",\"doc\":null,\"tags\":[]}},{\"id\":\"b259807c-5d38-4a90-ca30-7d2f2677dab0\",\"type\":\"BasicTickFormatter\",\"attributes\":{\"id\":\"b259807c-5d38-4a90-ca30-7d2f2677dab0\",\"tags\":[],\"doc\":null}},{\"id\":\"fe073ca3-ea34-4840-c879-0a6abed88f11\",\"type\":\"BasicTicker\",\"attributes\":{\"num_minor_ticks\":5,\"id\":\"fe073ca3-ea34-4840-c879-0a6abed88f11\",\"tags\":[],\"doc\":null}},{\"id\":\"f3d598c2-52ba-4f9e-cfcf-38a660e89bed\",\"type\":\"LinearAxis\",\"attributes\":{\"formatter\":{\"type\":\"BasicTickFormatter\",\"id\":\"b259807c-5d38-4a90-ca30-7d2f2677dab0\"},\"ticker\":{\"type\":\"BasicTicker\",\"id\":\"fe073ca3-ea34-4840-c879-0a6abed88f11\"},\"plot\":{\"id\":\"3e85d1b1-efcf-44a6-c432-359a926ea8cb\",\"type\":\"Plot\",\"subtype\":\"Figure\"},\"axis_label\":null,\"id\":\"f3d598c2-52ba-4f9e-cfcf-38a660e89bed\",\"doc\":null,\"tags\":[]}},{\"id\":\"5ad87a9b-3a0c-42ab-c284-b16f7cf236a4\",\"type\":\"Grid\",\"attributes\":{\"dimension\":1,\"plot\":{\"id\":\"3e85d1b1-efcf-44a6-c432-359a926ea8cb\",\"type\":\"Plot\",\"subtype\":\"Figure\"},\"ticker\":{\"type\":\"BasicTicker\",\"id\":\"fe073ca3-ea34-4840-c879-0a6abed88f11\"},\"id\":\"5ad87a9b-3a0c-42ab-c284-b16f7cf236a4\",\"doc\":null,\"tags\":[]}},{\"id\":\"3f4f6def-76fb-43e0-c35b-c789a9c8bbbd\",\"type\":\"PanTool\",\"attributes\":{\"plot\":{\"id\":\"3e85d1b1-efcf-44a6-c432-359a926ea8cb\",\"type\":\"Plot\",\"subtype\":\"Figure\"},\"dimensions\":[\"width\",\"height\"],\"id\":\"3f4f6def-76fb-43e0-c35b-c789a9c8bbbd\",\"doc\":null,\"tags\":[]}},{\"id\":\"2703a9cb-ac1d-4f05-cf24-2e40fe762d17\",\"type\":\"WheelZoomTool\",\"attributes\":{\"plot\":{\"id\":\"3e85d1b1-efcf-44a6-c432-359a926ea8cb\",\"type\":\"Plot\",\"subtype\":\"Figure\"},\"dimensions\":[\"width\",\"height\"],\"id\":\"2703a9cb-ac1d-4f05-cf24-2e40fe762d17\",\"doc\":null,\"tags\":[]}},{\"id\":\"3ac27487-5c10-4397-c3ee-c7599c62c4d7\",\"type\":\"BoxZoomTool\",\"attributes\":{\"plot\":{\"id\":\"3e85d1b1-efcf-44a6-c432-359a926ea8cb\",\"type\":\"Plot\",\"subtype\":\"Figure\"},\"id\":\"3ac27487-5c10-4397-c3ee-c7599c62c4d7\",\"tags\":[],\"doc\":null}},{\"id\":\"0f9f3cb9-017b-4a08-ca9a-70e6cdda034f\",\"type\":\"PreviewSaveTool\",\"attributes\":{\"plot\":{\"id\":\"3e85d1b1-efcf-44a6-c432-359a926ea8cb\",\"type\":\"Plot\",\"subtype\":\"Figure\"},\"id\":\"0f9f3cb9-017b-4a08-ca9a-70e6cdda034f\",\"tags\":[],\"doc\":null}},{\"id\":\"1537fd50-fe51-41fb-c1cc-15be582665db\",\"type\":\"ResizeTool\",\"attributes\":{\"plot\":{\"id\":\"3e85d1b1-efcf-44a6-c432-359a926ea8cb\",\"type\":\"Plot\",\"subtype\":\"Figure\"},\"id\":\"1537fd50-fe51-41fb-c1cc-15be582665db\",\"tags\":[],\"doc\":null}},{\"id\":\"57909561-8c48-4314-c3cf-6c7599e36bfe\",\"type\":\"ResetTool\",\"attributes\":{\"plot\":{\"id\":\"3e85d1b1-efcf-44a6-c432-359a926ea8cb\",\"type\":\"Plot\",\"subtype\":\"Figure\"},\"id\":\"57909561-8c48-4314-c3cf-6c7599e36bfe\",\"tags\":[],\"doc\":null}},{\"id\":\"f7753cbc-99ea-4469-c4da-dc355ad729d1\",\"type\":\"Legend\",\"attributes\":{\"plot\":{\"id\":\"3e85d1b1-efcf-44a6-c432-359a926ea8cb\",\"type\":\"Plot\",\"subtype\":\"Figure\"},\"legends\":[[\"loss\",[{\"type\":\"GlyphRenderer\",\"id\":\"213c2c49-a925-45f6-c520-a222f5a0770e\"}]]],\"id\":\"f7753cbc-99ea-4469-c4da-dc355ad729d1\",\"doc\":null,\"tags\":[]}},{\"id\":\"3e85d1b1-efcf-44a6-c432-359a926ea8cb\",\"type\":\"Plot\",\"attributes\":{\"x_range\":{\"type\":\"DataRange1d\",\"id\":\"c994c6c4-e2b1-46f6-c6c8-d7a0d2dbd9a0\"},\"tool_events\":{\"type\":\"ToolEvents\",\"id\":\"7b14759f-d26f-4bf4-cb58-01139216f5b5\"},\"below\":[{\"type\":\"LinearAxis\",\"id\":\"85130c37-77ef-4876-c8e1-47cc07402bfd\"}],\"renderers\":[{\"type\":\"GlyphRenderer\",\"id\":\"213c2c49-a925-45f6-c520-a222f5a0770e\"},{\"type\":\"LinearAxis\",\"id\":\"85130c37-77ef-4876-c8e1-47cc07402bfd\"},{\"type\":\"Grid\",\"id\":\"63bc2ee5-5b88-4a13-ca5e-5762266076bd\"},{\"type\":\"LinearAxis\",\"id\":\"f3d598c2-52ba-4f9e-cfcf-38a660e89bed\"},{\"type\":\"Grid\",\"id\":\"5ad87a9b-3a0c-42ab-c284-b16f7cf236a4\"},{\"type\":\"Legend\",\"id\":\"f7753cbc-99ea-4469-c4da-dc355ad729d1\"}],\"above\":[],\"tools\":[{\"type\":\"PanTool\",\"id\":\"3f4f6def-76fb-43e0-c35b-c789a9c8bbbd\"},{\"type\":\"WheelZoomTool\",\"id\":\"2703a9cb-ac1d-4f05-cf24-2e40fe762d17\"},{\"type\":\"BoxZoomTool\",\"id\":\"3ac27487-5c10-4397-c3ee-c7599c62c4d7\"},{\"type\":\"PreviewSaveTool\",\"id\":\"0f9f3cb9-017b-4a08-ca9a-70e6cdda034f\"},{\"type\":\"ResizeTool\",\"id\":\"1537fd50-fe51-41fb-c1cc-15be582665db\"},{\"type\":\"ResetTool\",\"id\":\"57909561-8c48-4314-c3cf-6c7599e36bfe\"}],\"doc\":null,\"right\":[],\"title\":\"Loss\",\"extra_x_ranges\":{},\"left\":[{\"type\":\"LinearAxis\",\"id\":\"f3d598c2-52ba-4f9e-cfcf-38a660e89bed\"}],\"y_range\":{\"type\":\"DataRange1d\",\"id\":\"d23ce86f-087b-46e3-c619-132d514f8e91\"},\"id\":\"3e85d1b1-efcf-44a6-c432-359a926ea8cb\",\"extra_y_ranges\":{},\"tags\":[]}}];\n",
       "  Bokeh.load_models(all_models);\n",
       "  var model = Bokeh.Collections(modeltype).get(modelid);\n",
       "  $(\"#f7ab0430-a481-4cb6-cc32-77a5cc80df3d\").html(''); // clear any previous plot in window_id\n",
       "  var view = new model.default_view({model: model, el: \"#f7ab0430-a481-4cb6-cc32-77a5cc80df3d\"});\n",
       "    } else {\n",
       "  load_lib(bokehjs_url, function() {\n",
       "      console.log(\"Bokeh: BokehJS plotting callback run at\", new Date())\n",
       "      var modelid = \"3e85d1b1-efcf-44a6-c432-359a926ea8cb\";\n",
       "      var modeltype = \"Plot\";\n",
       "      var all_models = [{\"id\":\"5a4559ea-1634-4afd-cada-430cd60c6e61\",\"type\":\"ColumnDataSource\",\"attributes\":{\"data\":{\"y\":[1.041523350349,0.98362108137628,0.93973371411777,0.92640208884581,0.89139813583368,0.86627920208858,0.84685766965252,0.83287303437958,0.81728365331154,0.80100539008404,0.79009368985967,0.77405756182697,0.76600791915225,0.75065507252736,0.74211068858772,0.72482572438977,0.71444765418029,0.71871882395953,0.71633446741603,0.71957163129171,0.71601925189224,0.70547493978603,0.68701887042953,0.67583234749939,0.68209747780514,0.67065438150283,0.67710124347881,0.65971620682621,0.65252579294526,0.64138953558695,0.6509933745544,0.65093324833273,0.63398030029534,0.63378084971508,0.64019780772925,0.63028392282116,0.63418728635954,0.62814161137263,0.61652139459251,0.61101585868525,0.6144037159261,0.6084439431667,0.61063907058045,0.60287351658751,0.58296574999003,0.58553273362881,0.57519610329698,0.59196707870813,0.57582958030196,0.58414734428668,0.57652137575827,0.57086315583311,0.56940752801335,0.5643723575771,0.54323168802403,0.55434436264595,0.5528538732839,0.54632554606072,0.54483862549041,0.54773344171716,0.53619296139726,0.54387072193072,0.54308125836348,0.5320358606788,0.523670773699,0.52994416803028,0.51804556096719,0.52338343465754,0.50958114265808,0.50687211713742,0.51901746024155,0.52029861842311,0.52564498663217,0.51517164650071,0.51228022075546,0.49722603228662,0.48925380842135,0.48440304128965,0.49239034748248,0.47804912642673,0.47672747331452,0.48042726744555,0.48038287429525,0.46077938625805,0.4737770749816,0.47067726722064,0.46867302246992,0.46517559717987,0.47078488934942,0.45988150097337,0.47075013873022,0.47166101557115,0.46404900364953,0.45568341977071,0.46586318287176,0.44962861944841,0.44692561079086,0.44727159179991,0.45336305737798,0.45631670159866,0.44845106775725,0.44423062198606,0.4474003658162,0.44148589954254,0.44649609173409,0.44550198895848,0.44342735221405,0.44840786247506,0.4441443900224,0.43092266328447,0.43283964559001,0.4199078609883,0.43286459809987,0.42144882942628,0.41162476939311,0.41293146546518,0.41034857462204,0.40926776504654,0.41280910743622,0.41055861320064,0.40580350666039,0.41247504356881,0.40811378657998,0.40674830444635,0.3999175134003,0.39299002990018,0.3987355077489,0.39128276597761,0.39187031492124,0.3894318511118,0.39655586296566,0.39720300434597,0.38220935981463,0.38780607896564,0.37943850310087,0.37965502768826,0.37572922220146,0.36744629622939,0.36382847087294,0.37126859428545,0.36516270407646,0.37853281191218,0.37596631496842,0.36727469088337,0.36268998975063,0.363562642793,0.36281559731296,0.36981223039785,0.35567741844582,0.35296106500695],\"x\":[1,2,3,4,5,6,7,8,9,10,11,12,13,14,15,16,17,18,19,20,21,22,23,24,25,26,27,28,29,30,31,32,33,34,35,36,37,38,39,40,41,42,43,44,45,46,47,48,49,50,51,52,53,54,55,56,57,58,59,60,61,62,63,64,65,66,67,68,69,70,71,72,73,74,75,76,77,78,79,80,81,82,83,84,85,86,87,88,89,90,91,92,93,94,95,96,97,98,99,100,101,102,103,104,105,106,107,108,109,110,111,112,113,114,115,116,117,118,119,120,121,122,123,124,125,126,127,128,129,130,131,132,133,134,135,136,137,138,139,140,141,142,143,144,145,146,147,148,149,150]},\"column_names\":[\"y\",\"x\"],\"cont_ranges\":{},\"discrete_ranges\":{},\"selected\":[],\"id\":\"5a4559ea-1634-4afd-cada-430cd60c6e61\",\"doc\":null,\"tags\":[]}},{\"id\":\"78216913-fc81-4161-c192-59a726c87eb2\",\"type\":\"Line\",\"attributes\":{\"fill_alpha\":{\"units\":\"data\",\"value\":0.2},\"line_alpha\":{\"units\":\"data\",\"value\":1},\"doc\":null,\"size\":{\"units\":\"screen\",\"value\":10},\"fill_color\":{\"value\":\"red\"},\"line_color\":{\"value\":\"red\"},\"x\":{\"units\":\"data\",\"field\":\"x\"},\"id\":\"78216913-fc81-4161-c192-59a726c87eb2\",\"y\":{\"units\":\"data\",\"field\":\"y\"},\"tags\":[]}},{\"id\":\"57720d7f-cffa-47ad-c733-8132013abb40\",\"type\":\"Line\",\"attributes\":{\"fill_alpha\":{\"units\":\"data\",\"value\":0.2},\"line_alpha\":{\"units\":\"data\",\"value\":1},\"doc\":null,\"size\":{\"units\":\"screen\",\"value\":10},\"fill_color\":{\"value\":\"red\"},\"line_color\":{\"value\":\"red\"},\"x\":{\"units\":\"data\",\"field\":\"x\"},\"id\":\"57720d7f-cffa-47ad-c733-8132013abb40\",\"y\":{\"units\":\"data\",\"field\":\"y\"},\"tags\":[]}},{\"id\":\"213c2c49-a925-45f6-c520-a222f5a0770e\",\"type\":\"GlyphRenderer\",\"attributes\":{\"name\":null,\"nonselection_glyph\":{\"type\":\"Line\",\"id\":\"57720d7f-cffa-47ad-c733-8132013abb40\"},\"doc\":null,\"server_data_source\":null,\"data_source\":{\"type\":\"ColumnDataSource\",\"id\":\"5a4559ea-1634-4afd-cada-430cd60c6e61\"},\"glyph\":{\"type\":\"Line\",\"id\":\"78216913-fc81-4161-c192-59a726c87eb2\"},\"selection_glyph\":null,\"id\":\"213c2c49-a925-45f6-c520-a222f5a0770e\",\"tags\":[]}},{\"id\":\"c994c6c4-e2b1-46f6-c6c8-d7a0d2dbd9a0\",\"type\":\"DataRange1d\",\"attributes\":{\"sources\":[{\"columns\":[\"x\"],\"source\":{\"type\":\"ColumnDataSource\",\"id\":\"5a4559ea-1634-4afd-cada-430cd60c6e61\"}}],\"id\":\"c994c6c4-e2b1-46f6-c6c8-d7a0d2dbd9a0\",\"tags\":[],\"doc\":null}},{\"id\":\"d23ce86f-087b-46e3-c619-132d514f8e91\",\"type\":\"DataRange1d\",\"attributes\":{\"sources\":[{\"columns\":[\"y\"],\"source\":{\"type\":\"ColumnDataSource\",\"id\":\"5a4559ea-1634-4afd-cada-430cd60c6e61\"}}],\"id\":\"d23ce86f-087b-46e3-c619-132d514f8e91\",\"tags\":[],\"doc\":null}},{\"id\":\"7b14759f-d26f-4bf4-cb58-01139216f5b5\",\"type\":\"ToolEvents\",\"attributes\":{\"tags\":[],\"id\":\"7b14759f-d26f-4bf4-cb58-01139216f5b5\",\"geometries\":[],\"doc\":null}},{\"id\":\"89c01115-a605-4edd-ce67-09b4840e82cc\",\"type\":\"BasicTickFormatter\",\"attributes\":{\"id\":\"89c01115-a605-4edd-ce67-09b4840e82cc\",\"tags\":[],\"doc\":null}},{\"id\":\"8238354e-c5a5-4129-c1b1-9c3b7d99fa55\",\"type\":\"BasicTicker\",\"attributes\":{\"num_minor_ticks\":5,\"id\":\"8238354e-c5a5-4129-c1b1-9c3b7d99fa55\",\"tags\":[],\"doc\":null}},{\"id\":\"85130c37-77ef-4876-c8e1-47cc07402bfd\",\"type\":\"LinearAxis\",\"attributes\":{\"formatter\":{\"type\":\"BasicTickFormatter\",\"id\":\"89c01115-a605-4edd-ce67-09b4840e82cc\"},\"ticker\":{\"type\":\"BasicTicker\",\"id\":\"8238354e-c5a5-4129-c1b1-9c3b7d99fa55\"},\"plot\":{\"id\":\"3e85d1b1-efcf-44a6-c432-359a926ea8cb\",\"type\":\"Plot\",\"subtype\":\"Figure\"},\"axis_label\":null,\"id\":\"85130c37-77ef-4876-c8e1-47cc07402bfd\",\"doc\":null,\"tags\":[]}},{\"id\":\"63bc2ee5-5b88-4a13-ca5e-5762266076bd\",\"type\":\"Grid\",\"attributes\":{\"dimension\":0,\"plot\":{\"id\":\"3e85d1b1-efcf-44a6-c432-359a926ea8cb\",\"type\":\"Plot\",\"subtype\":\"Figure\"},\"ticker\":{\"type\":\"BasicTicker\",\"id\":\"8238354e-c5a5-4129-c1b1-9c3b7d99fa55\"},\"id\":\"63bc2ee5-5b88-4a13-ca5e-5762266076bd\",\"doc\":null,\"tags\":[]}},{\"id\":\"b259807c-5d38-4a90-ca30-7d2f2677dab0\",\"type\":\"BasicTickFormatter\",\"attributes\":{\"id\":\"b259807c-5d38-4a90-ca30-7d2f2677dab0\",\"tags\":[],\"doc\":null}},{\"id\":\"fe073ca3-ea34-4840-c879-0a6abed88f11\",\"type\":\"BasicTicker\",\"attributes\":{\"num_minor_ticks\":5,\"id\":\"fe073ca3-ea34-4840-c879-0a6abed88f11\",\"tags\":[],\"doc\":null}},{\"id\":\"f3d598c2-52ba-4f9e-cfcf-38a660e89bed\",\"type\":\"LinearAxis\",\"attributes\":{\"formatter\":{\"type\":\"BasicTickFormatter\",\"id\":\"b259807c-5d38-4a90-ca30-7d2f2677dab0\"},\"ticker\":{\"type\":\"BasicTicker\",\"id\":\"fe073ca3-ea34-4840-c879-0a6abed88f11\"},\"plot\":{\"id\":\"3e85d1b1-efcf-44a6-c432-359a926ea8cb\",\"type\":\"Plot\",\"subtype\":\"Figure\"},\"axis_label\":null,\"id\":\"f3d598c2-52ba-4f9e-cfcf-38a660e89bed\",\"doc\":null,\"tags\":[]}},{\"id\":\"5ad87a9b-3a0c-42ab-c284-b16f7cf236a4\",\"type\":\"Grid\",\"attributes\":{\"dimension\":1,\"plot\":{\"id\":\"3e85d1b1-efcf-44a6-c432-359a926ea8cb\",\"type\":\"Plot\",\"subtype\":\"Figure\"},\"ticker\":{\"type\":\"BasicTicker\",\"id\":\"fe073ca3-ea34-4840-c879-0a6abed88f11\"},\"id\":\"5ad87a9b-3a0c-42ab-c284-b16f7cf236a4\",\"doc\":null,\"tags\":[]}},{\"id\":\"3f4f6def-76fb-43e0-c35b-c789a9c8bbbd\",\"type\":\"PanTool\",\"attributes\":{\"plot\":{\"id\":\"3e85d1b1-efcf-44a6-c432-359a926ea8cb\",\"type\":\"Plot\",\"subtype\":\"Figure\"},\"dimensions\":[\"width\",\"height\"],\"id\":\"3f4f6def-76fb-43e0-c35b-c789a9c8bbbd\",\"doc\":null,\"tags\":[]}},{\"id\":\"2703a9cb-ac1d-4f05-cf24-2e40fe762d17\",\"type\":\"WheelZoomTool\",\"attributes\":{\"plot\":{\"id\":\"3e85d1b1-efcf-44a6-c432-359a926ea8cb\",\"type\":\"Plot\",\"subtype\":\"Figure\"},\"dimensions\":[\"width\",\"height\"],\"id\":\"2703a9cb-ac1d-4f05-cf24-2e40fe762d17\",\"doc\":null,\"tags\":[]}},{\"id\":\"3ac27487-5c10-4397-c3ee-c7599c62c4d7\",\"type\":\"BoxZoomTool\",\"attributes\":{\"plot\":{\"id\":\"3e85d1b1-efcf-44a6-c432-359a926ea8cb\",\"type\":\"Plot\",\"subtype\":\"Figure\"},\"id\":\"3ac27487-5c10-4397-c3ee-c7599c62c4d7\",\"tags\":[],\"doc\":null}},{\"id\":\"0f9f3cb9-017b-4a08-ca9a-70e6cdda034f\",\"type\":\"PreviewSaveTool\",\"attributes\":{\"plot\":{\"id\":\"3e85d1b1-efcf-44a6-c432-359a926ea8cb\",\"type\":\"Plot\",\"subtype\":\"Figure\"},\"id\":\"0f9f3cb9-017b-4a08-ca9a-70e6cdda034f\",\"tags\":[],\"doc\":null}},{\"id\":\"1537fd50-fe51-41fb-c1cc-15be582665db\",\"type\":\"ResizeTool\",\"attributes\":{\"plot\":{\"id\":\"3e85d1b1-efcf-44a6-c432-359a926ea8cb\",\"type\":\"Plot\",\"subtype\":\"Figure\"},\"id\":\"1537fd50-fe51-41fb-c1cc-15be582665db\",\"tags\":[],\"doc\":null}},{\"id\":\"57909561-8c48-4314-c3cf-6c7599e36bfe\",\"type\":\"ResetTool\",\"attributes\":{\"plot\":{\"id\":\"3e85d1b1-efcf-44a6-c432-359a926ea8cb\",\"type\":\"Plot\",\"subtype\":\"Figure\"},\"id\":\"57909561-8c48-4314-c3cf-6c7599e36bfe\",\"tags\":[],\"doc\":null}},{\"id\":\"f7753cbc-99ea-4469-c4da-dc355ad729d1\",\"type\":\"Legend\",\"attributes\":{\"plot\":{\"id\":\"3e85d1b1-efcf-44a6-c432-359a926ea8cb\",\"type\":\"Plot\",\"subtype\":\"Figure\"},\"legends\":[[\"loss\",[{\"type\":\"GlyphRenderer\",\"id\":\"213c2c49-a925-45f6-c520-a222f5a0770e\"}]]],\"id\":\"f7753cbc-99ea-4469-c4da-dc355ad729d1\",\"doc\":null,\"tags\":[]}},{\"id\":\"3e85d1b1-efcf-44a6-c432-359a926ea8cb\",\"type\":\"Plot\",\"attributes\":{\"x_range\":{\"type\":\"DataRange1d\",\"id\":\"c994c6c4-e2b1-46f6-c6c8-d7a0d2dbd9a0\"},\"tool_events\":{\"type\":\"ToolEvents\",\"id\":\"7b14759f-d26f-4bf4-cb58-01139216f5b5\"},\"below\":[{\"type\":\"LinearAxis\",\"id\":\"85130c37-77ef-4876-c8e1-47cc07402bfd\"}],\"renderers\":[{\"type\":\"GlyphRenderer\",\"id\":\"213c2c49-a925-45f6-c520-a222f5a0770e\"},{\"type\":\"LinearAxis\",\"id\":\"85130c37-77ef-4876-c8e1-47cc07402bfd\"},{\"type\":\"Grid\",\"id\":\"63bc2ee5-5b88-4a13-ca5e-5762266076bd\"},{\"type\":\"LinearAxis\",\"id\":\"f3d598c2-52ba-4f9e-cfcf-38a660e89bed\"},{\"type\":\"Grid\",\"id\":\"5ad87a9b-3a0c-42ab-c284-b16f7cf236a4\"},{\"type\":\"Legend\",\"id\":\"f7753cbc-99ea-4469-c4da-dc355ad729d1\"}],\"above\":[],\"tools\":[{\"type\":\"PanTool\",\"id\":\"3f4f6def-76fb-43e0-c35b-c789a9c8bbbd\"},{\"type\":\"WheelZoomTool\",\"id\":\"2703a9cb-ac1d-4f05-cf24-2e40fe762d17\"},{\"type\":\"BoxZoomTool\",\"id\":\"3ac27487-5c10-4397-c3ee-c7599c62c4d7\"},{\"type\":\"PreviewSaveTool\",\"id\":\"0f9f3cb9-017b-4a08-ca9a-70e6cdda034f\"},{\"type\":\"ResizeTool\",\"id\":\"1537fd50-fe51-41fb-c1cc-15be582665db\"},{\"type\":\"ResetTool\",\"id\":\"57909561-8c48-4314-c3cf-6c7599e36bfe\"}],\"doc\":null,\"right\":[],\"title\":\"Loss\",\"extra_x_ranges\":{},\"left\":[{\"type\":\"LinearAxis\",\"id\":\"f3d598c2-52ba-4f9e-cfcf-38a660e89bed\"}],\"y_range\":{\"type\":\"DataRange1d\",\"id\":\"d23ce86f-087b-46e3-c619-132d514f8e91\"},\"id\":\"3e85d1b1-efcf-44a6-c432-359a926ea8cb\",\"extra_y_ranges\":{},\"tags\":[]}}];\n",
       "      Bokeh.load_models(all_models);\n",
       "      var model = Bokeh.Collections(modeltype).get(modelid);\n",
       "      $(\"#f7ab0430-a481-4cb6-cc32-77a5cc80df3d\").html(''); // clear any previous plot in window_id\n",
       "      var view = new model.default_view({model: model, el: \"#f7ab0430-a481-4cb6-cc32-77a5cc80df3d\"});\n",
       "  });\n",
       "    }\n",
       "});\n",
       "</script>\n",
       "<div class=\"plotdiv\" id=\"f7ab0430-a481-4cb6-cc32-77a5cc80df3d\"></div>\n"
      ]
     },
     "metadata": {},
     "output_type": "display_data"
    },
    {
     "data": {
      "text/html": [
       "<script type=\"text/javascript\">\n",
       "$(function() {\n",
       "    if (typeof (window._bokeh_onload_callbacks) === \"undefined\"){\n",
       "  window._bokeh_onload_callbacks = [];\n",
       "    }\n",
       "    function load_lib(url, callback){\n",
       "  window._bokeh_onload_callbacks.push(callback);\n",
       "  if (window._bokeh_is_loading){\n",
       "      console.log(\"Bokeh: BokehJS is being loaded, scheduling callback at\", new Date());\n",
       "      return null;\n",
       "  }\n",
       "  console.log(\"Bokeh: BokehJS not loaded, scheduling load and callback at\", new Date());\n",
       "  window._bokeh_is_loading = true;\n",
       "  var s = document.createElement('script');\n",
       "  s.src = url;\n",
       "  s.async = true;\n",
       "  s.onreadystatechange = s.onload = function(){\n",
       "      Bokeh.embed.inject_css(\"https://cdn.pydata.org/bokeh-0.7.0.min.css\");\n",
       "      window._bokeh_onload_callbacks.forEach(function(callback){callback()});\n",
       "  };\n",
       "  s.onerror = function(){\n",
       "      console.warn(\"failed to load library \" + url);\n",
       "  };\n",
       "  document.getElementsByTagName(\"head\")[0].appendChild(s);\n",
       "    }\n",
       "\n",
       "    bokehjs_url = \"https://cdn.pydata.org/bokeh-0.7.0.min.js\"\n",
       "\n",
       "    var elt = document.getElementById(\"fc0314bc-0fe2-489c-c876-791e0d82e1ec\");\n",
       "    if(elt==null) {\n",
       "  console.log(\"Bokeh: ERROR: autoload.js configured with elementid 'fc0314bc-0fe2-489c-c876-791e0d82e1ec'\"\n",
       "        + \"but no matching script tag was found. \")\n",
       "  return false;\n",
       "    }\n",
       "\n",
       "    if(typeof(Bokeh) !== \"undefined\") {\n",
       "  console.log(\"Bokeh: BokehJS loaded, going straight to plotting\");\n",
       "  var modelid = \"09a962c8-e0af-4331-c3d1-dad6cc22f4fa\";\n",
       "  var modeltype = \"Plot\";\n",
       "  var all_models = [{\"id\":\"0d38426c-d37d-4fcf-cfa4-3c18d361bf71\",\"type\":\"ColumnDataSource\",\"attributes\":{\"data\":{\"y\":[0.73135710977304,0.73645206113942,0.74803149606299,0.74617878647522,0.76285317276517,0.74849467345994,0.764242704956,0.75961093098657,0.77906438165818,0.78786475220009,0.79203334877258,0.78786475220009,0.78415933302455,0.79018063918481,0.78786475220009,0.79203334877258,0.80129689671144,0.79898100972673,0.80546549328393,0.7975914775359,0.81241315423807,0.79295970356647,0.79805465493284,0.80037054191755,0.80222325150533,0.80361278369616,0.80963408985642,0.81658175081056,0.81194997684113,0.81009726725336,0.81287633163502,0.82306623436776,0.82399258916165,0.80963408985642,0.82584529874942,0.81797128300139,0.81148679944419,0.82352941176471,0.82677165354331,0.80129689671144,0.82260305697082,0.81519221861973,0.82121352477999,0.82723483094025,0.83557202408522,0.82816118573414,0.82445576655859,0.82399258916165,0.83881426586383,0.83047707271885,0.83047707271885,0.83325613710051,0.83557202408522,0.83835108846688,0.83696155627605,0.83788791106994,0.8406669754516,0.83881426586383,0.84946734599352,0.82908754052802,0.83094025011579,0.83788791106994,0.84437239462714,0.8439092172302,0.8471514590088,0.8471514590088,0.84298286243631,0.84622510421491,0.85548865215377,0.84668828161186,0.84576192681797,0.85085687818434,0.84576192681797,0.84900416859657,0.85409911996295,0.84807781380269,0.84668828161186,0.85965724872626,0.85873089393238,0.87123668364984,0.86012042612321,0.85548865215377,0.86058360352015,0.85734136174155,0.86058360352015,0.86012042612321,0.86243631310792,0.85548865215377,0.87031032885595,0.85826771653543,0.85826771653543,0.86428902269569,0.86660490968041,0.86243631310792,0.86012042612321,0.86521537748958,0.86521537748958,0.86892079666512,0.87262621584067,0.86892079666512,0.85734136174155,0.87447892542844,0.85502547475683,0.87586845761927,0.86521537748958,0.86984715145901,0.86614173228346,0.86521537748958,0.87123668364984,0.86567855488652,0.86660490968041,0.87123668364984,0.87447892542844,0.86984715145901,0.87772116720704,0.87540528022233,0.87494210282538,0.87494210282538,0.87957387679481,0.87077350625289,0.88235294117647,0.87355257063455,0.87216303844372,0.87679481241315,0.87864752200093,0.87633163501621,0.87772116720704,0.88281611857341,0.88003705419176,0.88235294117647,0.88096340898564,0.87077350625289,0.87540528022233,0.87818434460398,0.87864752200093,0.88281611857341,0.88096340898564,0.89161648911533,0.87818434460398,0.88837424733673,0.88837424733673,0.88235294117647,0.88420565076424,0.88188976377953,0.88652153774896,0.88652153774896,0.88837424733673,0.88791106993979,0.89115331171839,0.89254284390922],\"x\":[1,2,3,4,5,6,7,8,9,10,11,12,13,14,15,16,17,18,19,20,21,22,23,24,25,26,27,28,29,30,31,32,33,34,35,36,37,38,39,40,41,42,43,44,45,46,47,48,49,50,51,52,53,54,55,56,57,58,59,60,61,62,63,64,65,66,67,68,69,70,71,72,73,74,75,76,77,78,79,80,81,82,83,84,85,86,87,88,89,90,91,92,93,94,95,96,97,98,99,100,101,102,103,104,105,106,107,108,109,110,111,112,113,114,115,116,117,118,119,120,121,122,123,124,125,126,127,128,129,130,131,132,133,134,135,136,137,138,139,140,141,142,143,144,145,146,147,148,149,150]},\"column_names\":[\"y\",\"x\"],\"cont_ranges\":{},\"discrete_ranges\":{},\"selected\":[],\"id\":\"0d38426c-d37d-4fcf-cfa4-3c18d361bf71\",\"doc\":null,\"tags\":[]}},{\"id\":\"dc64e65a-36d2-43ab-c3ec-5cb3523d2271\",\"type\":\"Line\",\"attributes\":{\"fill_alpha\":{\"units\":\"data\",\"value\":0.2},\"line_alpha\":{\"units\":\"data\",\"value\":1},\"doc\":null,\"size\":{\"units\":\"screen\",\"value\":10},\"fill_color\":{\"value\":\"green\"},\"line_color\":{\"value\":\"green\"},\"x\":{\"units\":\"data\",\"field\":\"x\"},\"id\":\"dc64e65a-36d2-43ab-c3ec-5cb3523d2271\",\"y\":{\"units\":\"data\",\"field\":\"y\"},\"tags\":[]}},{\"id\":\"232f46e8-97c2-4234-c2ec-28e6e804147d\",\"type\":\"Line\",\"attributes\":{\"fill_alpha\":{\"units\":\"data\",\"value\":0.2},\"line_alpha\":{\"units\":\"data\",\"value\":1},\"doc\":null,\"size\":{\"units\":\"screen\",\"value\":10},\"fill_color\":{\"value\":\"green\"},\"line_color\":{\"value\":\"green\"},\"x\":{\"units\":\"data\",\"field\":\"x\"},\"id\":\"232f46e8-97c2-4234-c2ec-28e6e804147d\",\"y\":{\"units\":\"data\",\"field\":\"y\"},\"tags\":[]}},{\"id\":\"8ceb84a2-d64a-4f4a-cf0f-8c3d6385164a\",\"type\":\"GlyphRenderer\",\"attributes\":{\"name\":null,\"nonselection_glyph\":{\"type\":\"Line\",\"id\":\"232f46e8-97c2-4234-c2ec-28e6e804147d\"},\"doc\":null,\"server_data_source\":null,\"data_source\":{\"type\":\"ColumnDataSource\",\"id\":\"0d38426c-d37d-4fcf-cfa4-3c18d361bf71\"},\"glyph\":{\"type\":\"Line\",\"id\":\"dc64e65a-36d2-43ab-c3ec-5cb3523d2271\"},\"selection_glyph\":null,\"id\":\"8ceb84a2-d64a-4f4a-cf0f-8c3d6385164a\",\"tags\":[]}},{\"id\":\"1c7ed4df-b478-4194-c1bb-0807c1f692ff\",\"type\":\"DataRange1d\",\"attributes\":{\"sources\":[{\"columns\":[\"x\"],\"source\":{\"type\":\"ColumnDataSource\",\"id\":\"0d38426c-d37d-4fcf-cfa4-3c18d361bf71\"}}],\"id\":\"1c7ed4df-b478-4194-c1bb-0807c1f692ff\",\"tags\":[],\"doc\":null}},{\"id\":\"7a3e7a75-bf47-4bc7-cb2c-a672a2afd67e\",\"type\":\"DataRange1d\",\"attributes\":{\"sources\":[{\"columns\":[\"y\"],\"source\":{\"type\":\"ColumnDataSource\",\"id\":\"0d38426c-d37d-4fcf-cfa4-3c18d361bf71\"}}],\"id\":\"7a3e7a75-bf47-4bc7-cb2c-a672a2afd67e\",\"tags\":[],\"doc\":null}},{\"id\":\"d7368302-75e9-4ff2-cf96-876fb6e05939\",\"type\":\"ToolEvents\",\"attributes\":{\"tags\":[],\"id\":\"d7368302-75e9-4ff2-cf96-876fb6e05939\",\"geometries\":[],\"doc\":null}},{\"id\":\"5697a74d-173c-487b-c86e-277b0901ee31\",\"type\":\"BasicTickFormatter\",\"attributes\":{\"id\":\"5697a74d-173c-487b-c86e-277b0901ee31\",\"tags\":[],\"doc\":null}},{\"id\":\"35b94f39-929a-4d9b-cd73-9e95900c882d\",\"type\":\"BasicTicker\",\"attributes\":{\"num_minor_ticks\":5,\"id\":\"35b94f39-929a-4d9b-cd73-9e95900c882d\",\"tags\":[],\"doc\":null}},{\"id\":\"bfe29634-eaf7-4501-c56f-2f8e8f3f2c41\",\"type\":\"LinearAxis\",\"attributes\":{\"formatter\":{\"type\":\"BasicTickFormatter\",\"id\":\"5697a74d-173c-487b-c86e-277b0901ee31\"},\"ticker\":{\"type\":\"BasicTicker\",\"id\":\"35b94f39-929a-4d9b-cd73-9e95900c882d\"},\"plot\":{\"id\":\"09a962c8-e0af-4331-c3d1-dad6cc22f4fa\",\"type\":\"Plot\",\"subtype\":\"Figure\"},\"axis_label\":null,\"id\":\"bfe29634-eaf7-4501-c56f-2f8e8f3f2c41\",\"doc\":null,\"tags\":[]}},{\"id\":\"13dbe953-b8c2-4710-c7aa-4f6589aad91d\",\"type\":\"Grid\",\"attributes\":{\"dimension\":0,\"plot\":{\"id\":\"09a962c8-e0af-4331-c3d1-dad6cc22f4fa\",\"type\":\"Plot\",\"subtype\":\"Figure\"},\"ticker\":{\"type\":\"BasicTicker\",\"id\":\"35b94f39-929a-4d9b-cd73-9e95900c882d\"},\"id\":\"13dbe953-b8c2-4710-c7aa-4f6589aad91d\",\"doc\":null,\"tags\":[]}},{\"id\":\"a5e4bdd8-c12b-4ea8-cee3-1bc48c728a13\",\"type\":\"BasicTickFormatter\",\"attributes\":{\"id\":\"a5e4bdd8-c12b-4ea8-cee3-1bc48c728a13\",\"tags\":[],\"doc\":null}},{\"id\":\"f25d1225-7f4b-4e7e-cedd-174ef04e3bf7\",\"type\":\"BasicTicker\",\"attributes\":{\"num_minor_ticks\":5,\"id\":\"f25d1225-7f4b-4e7e-cedd-174ef04e3bf7\",\"tags\":[],\"doc\":null}},{\"id\":\"0ca84604-89a4-49f7-c91e-32c6608e7606\",\"type\":\"LinearAxis\",\"attributes\":{\"formatter\":{\"type\":\"BasicTickFormatter\",\"id\":\"a5e4bdd8-c12b-4ea8-cee3-1bc48c728a13\"},\"ticker\":{\"type\":\"BasicTicker\",\"id\":\"f25d1225-7f4b-4e7e-cedd-174ef04e3bf7\"},\"plot\":{\"id\":\"09a962c8-e0af-4331-c3d1-dad6cc22f4fa\",\"type\":\"Plot\",\"subtype\":\"Figure\"},\"axis_label\":null,\"id\":\"0ca84604-89a4-49f7-c91e-32c6608e7606\",\"doc\":null,\"tags\":[]}},{\"id\":\"1dc4334f-56d4-4d92-cd56-ac0a18ac1f08\",\"type\":\"Grid\",\"attributes\":{\"dimension\":1,\"plot\":{\"id\":\"09a962c8-e0af-4331-c3d1-dad6cc22f4fa\",\"type\":\"Plot\",\"subtype\":\"Figure\"},\"ticker\":{\"type\":\"BasicTicker\",\"id\":\"f25d1225-7f4b-4e7e-cedd-174ef04e3bf7\"},\"id\":\"1dc4334f-56d4-4d92-cd56-ac0a18ac1f08\",\"doc\":null,\"tags\":[]}},{\"id\":\"a95c4965-2f3d-4bc0-cbec-2f33317fa430\",\"type\":\"PanTool\",\"attributes\":{\"plot\":{\"id\":\"09a962c8-e0af-4331-c3d1-dad6cc22f4fa\",\"type\":\"Plot\",\"subtype\":\"Figure\"},\"dimensions\":[\"width\",\"height\"],\"id\":\"a95c4965-2f3d-4bc0-cbec-2f33317fa430\",\"doc\":null,\"tags\":[]}},{\"id\":\"5a262e56-b5af-44f6-c44b-c24abbce72e9\",\"type\":\"WheelZoomTool\",\"attributes\":{\"plot\":{\"id\":\"09a962c8-e0af-4331-c3d1-dad6cc22f4fa\",\"type\":\"Plot\",\"subtype\":\"Figure\"},\"dimensions\":[\"width\",\"height\"],\"id\":\"5a262e56-b5af-44f6-c44b-c24abbce72e9\",\"doc\":null,\"tags\":[]}},{\"id\":\"43c81ffa-3395-4827-c8c5-123cf6358c2e\",\"type\":\"BoxZoomTool\",\"attributes\":{\"plot\":{\"id\":\"09a962c8-e0af-4331-c3d1-dad6cc22f4fa\",\"type\":\"Plot\",\"subtype\":\"Figure\"},\"id\":\"43c81ffa-3395-4827-c8c5-123cf6358c2e\",\"tags\":[],\"doc\":null}},{\"id\":\"830e1138-11c3-4865-c866-9eceb73e40ab\",\"type\":\"PreviewSaveTool\",\"attributes\":{\"plot\":{\"id\":\"09a962c8-e0af-4331-c3d1-dad6cc22f4fa\",\"type\":\"Plot\",\"subtype\":\"Figure\"},\"id\":\"830e1138-11c3-4865-c866-9eceb73e40ab\",\"tags\":[],\"doc\":null}},{\"id\":\"74a3ab0a-5066-4b21-cb40-985447c1dca4\",\"type\":\"ResizeTool\",\"attributes\":{\"plot\":{\"id\":\"09a962c8-e0af-4331-c3d1-dad6cc22f4fa\",\"type\":\"Plot\",\"subtype\":\"Figure\"},\"id\":\"74a3ab0a-5066-4b21-cb40-985447c1dca4\",\"tags\":[],\"doc\":null}},{\"id\":\"b360f51b-d555-432e-c3d1-7ac54f44a85a\",\"type\":\"ResetTool\",\"attributes\":{\"plot\":{\"id\":\"09a962c8-e0af-4331-c3d1-dad6cc22f4fa\",\"type\":\"Plot\",\"subtype\":\"Figure\"},\"id\":\"b360f51b-d555-432e-c3d1-7ac54f44a85a\",\"tags\":[],\"doc\":null}},{\"id\":\"e136ecdf-b99c-4bab-cb30-a0682ce777be\",\"type\":\"Legend\",\"attributes\":{\"plot\":{\"id\":\"09a962c8-e0af-4331-c3d1-dad6cc22f4fa\",\"type\":\"Plot\",\"subtype\":\"Figure\"},\"legends\":[[\"accuracy\",[{\"type\":\"GlyphRenderer\",\"id\":\"8ceb84a2-d64a-4f4a-cf0f-8c3d6385164a\"}]]],\"id\":\"e136ecdf-b99c-4bab-cb30-a0682ce777be\",\"doc\":null,\"tags\":[]}},{\"id\":\"09a962c8-e0af-4331-c3d1-dad6cc22f4fa\",\"type\":\"Plot\",\"attributes\":{\"x_range\":{\"type\":\"DataRange1d\",\"id\":\"1c7ed4df-b478-4194-c1bb-0807c1f692ff\"},\"tool_events\":{\"type\":\"ToolEvents\",\"id\":\"d7368302-75e9-4ff2-cf96-876fb6e05939\"},\"below\":[{\"type\":\"LinearAxis\",\"id\":\"bfe29634-eaf7-4501-c56f-2f8e8f3f2c41\"}],\"renderers\":[{\"type\":\"GlyphRenderer\",\"id\":\"8ceb84a2-d64a-4f4a-cf0f-8c3d6385164a\"},{\"type\":\"LinearAxis\",\"id\":\"bfe29634-eaf7-4501-c56f-2f8e8f3f2c41\"},{\"type\":\"Grid\",\"id\":\"13dbe953-b8c2-4710-c7aa-4f6589aad91d\"},{\"type\":\"LinearAxis\",\"id\":\"0ca84604-89a4-49f7-c91e-32c6608e7606\"},{\"type\":\"Grid\",\"id\":\"1dc4334f-56d4-4d92-cd56-ac0a18ac1f08\"},{\"type\":\"Legend\",\"id\":\"e136ecdf-b99c-4bab-cb30-a0682ce777be\"}],\"above\":[],\"tools\":[{\"type\":\"PanTool\",\"id\":\"a95c4965-2f3d-4bc0-cbec-2f33317fa430\"},{\"type\":\"WheelZoomTool\",\"id\":\"5a262e56-b5af-44f6-c44b-c24abbce72e9\"},{\"type\":\"BoxZoomTool\",\"id\":\"43c81ffa-3395-4827-c8c5-123cf6358c2e\"},{\"type\":\"PreviewSaveTool\",\"id\":\"830e1138-11c3-4865-c866-9eceb73e40ab\"},{\"type\":\"ResizeTool\",\"id\":\"74a3ab0a-5066-4b21-cb40-985447c1dca4\"},{\"type\":\"ResetTool\",\"id\":\"b360f51b-d555-432e-c3d1-7ac54f44a85a\"}],\"doc\":null,\"right\":[],\"title\":\"Accuacy\",\"extra_x_ranges\":{},\"left\":[{\"type\":\"LinearAxis\",\"id\":\"0ca84604-89a4-49f7-c91e-32c6608e7606\"}],\"y_range\":{\"type\":\"DataRange1d\",\"id\":\"7a3e7a75-bf47-4bc7-cb2c-a672a2afd67e\"},\"id\":\"09a962c8-e0af-4331-c3d1-dad6cc22f4fa\",\"extra_y_ranges\":{},\"tags\":[]}}];\n",
       "  Bokeh.load_models(all_models);\n",
       "  var model = Bokeh.Collections(modeltype).get(modelid);\n",
       "  $(\"#fc0314bc-0fe2-489c-c876-791e0d82e1ec\").html(''); // clear any previous plot in window_id\n",
       "  var view = new model.default_view({model: model, el: \"#fc0314bc-0fe2-489c-c876-791e0d82e1ec\"});\n",
       "    } else {\n",
       "  load_lib(bokehjs_url, function() {\n",
       "      console.log(\"Bokeh: BokehJS plotting callback run at\", new Date())\n",
       "      var modelid = \"09a962c8-e0af-4331-c3d1-dad6cc22f4fa\";\n",
       "      var modeltype = \"Plot\";\n",
       "      var all_models = [{\"id\":\"0d38426c-d37d-4fcf-cfa4-3c18d361bf71\",\"type\":\"ColumnDataSource\",\"attributes\":{\"data\":{\"y\":[0.73135710977304,0.73645206113942,0.74803149606299,0.74617878647522,0.76285317276517,0.74849467345994,0.764242704956,0.75961093098657,0.77906438165818,0.78786475220009,0.79203334877258,0.78786475220009,0.78415933302455,0.79018063918481,0.78786475220009,0.79203334877258,0.80129689671144,0.79898100972673,0.80546549328393,0.7975914775359,0.81241315423807,0.79295970356647,0.79805465493284,0.80037054191755,0.80222325150533,0.80361278369616,0.80963408985642,0.81658175081056,0.81194997684113,0.81009726725336,0.81287633163502,0.82306623436776,0.82399258916165,0.80963408985642,0.82584529874942,0.81797128300139,0.81148679944419,0.82352941176471,0.82677165354331,0.80129689671144,0.82260305697082,0.81519221861973,0.82121352477999,0.82723483094025,0.83557202408522,0.82816118573414,0.82445576655859,0.82399258916165,0.83881426586383,0.83047707271885,0.83047707271885,0.83325613710051,0.83557202408522,0.83835108846688,0.83696155627605,0.83788791106994,0.8406669754516,0.83881426586383,0.84946734599352,0.82908754052802,0.83094025011579,0.83788791106994,0.84437239462714,0.8439092172302,0.8471514590088,0.8471514590088,0.84298286243631,0.84622510421491,0.85548865215377,0.84668828161186,0.84576192681797,0.85085687818434,0.84576192681797,0.84900416859657,0.85409911996295,0.84807781380269,0.84668828161186,0.85965724872626,0.85873089393238,0.87123668364984,0.86012042612321,0.85548865215377,0.86058360352015,0.85734136174155,0.86058360352015,0.86012042612321,0.86243631310792,0.85548865215377,0.87031032885595,0.85826771653543,0.85826771653543,0.86428902269569,0.86660490968041,0.86243631310792,0.86012042612321,0.86521537748958,0.86521537748958,0.86892079666512,0.87262621584067,0.86892079666512,0.85734136174155,0.87447892542844,0.85502547475683,0.87586845761927,0.86521537748958,0.86984715145901,0.86614173228346,0.86521537748958,0.87123668364984,0.86567855488652,0.86660490968041,0.87123668364984,0.87447892542844,0.86984715145901,0.87772116720704,0.87540528022233,0.87494210282538,0.87494210282538,0.87957387679481,0.87077350625289,0.88235294117647,0.87355257063455,0.87216303844372,0.87679481241315,0.87864752200093,0.87633163501621,0.87772116720704,0.88281611857341,0.88003705419176,0.88235294117647,0.88096340898564,0.87077350625289,0.87540528022233,0.87818434460398,0.87864752200093,0.88281611857341,0.88096340898564,0.89161648911533,0.87818434460398,0.88837424733673,0.88837424733673,0.88235294117647,0.88420565076424,0.88188976377953,0.88652153774896,0.88652153774896,0.88837424733673,0.88791106993979,0.89115331171839,0.89254284390922],\"x\":[1,2,3,4,5,6,7,8,9,10,11,12,13,14,15,16,17,18,19,20,21,22,23,24,25,26,27,28,29,30,31,32,33,34,35,36,37,38,39,40,41,42,43,44,45,46,47,48,49,50,51,52,53,54,55,56,57,58,59,60,61,62,63,64,65,66,67,68,69,70,71,72,73,74,75,76,77,78,79,80,81,82,83,84,85,86,87,88,89,90,91,92,93,94,95,96,97,98,99,100,101,102,103,104,105,106,107,108,109,110,111,112,113,114,115,116,117,118,119,120,121,122,123,124,125,126,127,128,129,130,131,132,133,134,135,136,137,138,139,140,141,142,143,144,145,146,147,148,149,150]},\"column_names\":[\"y\",\"x\"],\"cont_ranges\":{},\"discrete_ranges\":{},\"selected\":[],\"id\":\"0d38426c-d37d-4fcf-cfa4-3c18d361bf71\",\"doc\":null,\"tags\":[]}},{\"id\":\"dc64e65a-36d2-43ab-c3ec-5cb3523d2271\",\"type\":\"Line\",\"attributes\":{\"fill_alpha\":{\"units\":\"data\",\"value\":0.2},\"line_alpha\":{\"units\":\"data\",\"value\":1},\"doc\":null,\"size\":{\"units\":\"screen\",\"value\":10},\"fill_color\":{\"value\":\"green\"},\"line_color\":{\"value\":\"green\"},\"x\":{\"units\":\"data\",\"field\":\"x\"},\"id\":\"dc64e65a-36d2-43ab-c3ec-5cb3523d2271\",\"y\":{\"units\":\"data\",\"field\":\"y\"},\"tags\":[]}},{\"id\":\"232f46e8-97c2-4234-c2ec-28e6e804147d\",\"type\":\"Line\",\"attributes\":{\"fill_alpha\":{\"units\":\"data\",\"value\":0.2},\"line_alpha\":{\"units\":\"data\",\"value\":1},\"doc\":null,\"size\":{\"units\":\"screen\",\"value\":10},\"fill_color\":{\"value\":\"green\"},\"line_color\":{\"value\":\"green\"},\"x\":{\"units\":\"data\",\"field\":\"x\"},\"id\":\"232f46e8-97c2-4234-c2ec-28e6e804147d\",\"y\":{\"units\":\"data\",\"field\":\"y\"},\"tags\":[]}},{\"id\":\"8ceb84a2-d64a-4f4a-cf0f-8c3d6385164a\",\"type\":\"GlyphRenderer\",\"attributes\":{\"name\":null,\"nonselection_glyph\":{\"type\":\"Line\",\"id\":\"232f46e8-97c2-4234-c2ec-28e6e804147d\"},\"doc\":null,\"server_data_source\":null,\"data_source\":{\"type\":\"ColumnDataSource\",\"id\":\"0d38426c-d37d-4fcf-cfa4-3c18d361bf71\"},\"glyph\":{\"type\":\"Line\",\"id\":\"dc64e65a-36d2-43ab-c3ec-5cb3523d2271\"},\"selection_glyph\":null,\"id\":\"8ceb84a2-d64a-4f4a-cf0f-8c3d6385164a\",\"tags\":[]}},{\"id\":\"1c7ed4df-b478-4194-c1bb-0807c1f692ff\",\"type\":\"DataRange1d\",\"attributes\":{\"sources\":[{\"columns\":[\"x\"],\"source\":{\"type\":\"ColumnDataSource\",\"id\":\"0d38426c-d37d-4fcf-cfa4-3c18d361bf71\"}}],\"id\":\"1c7ed4df-b478-4194-c1bb-0807c1f692ff\",\"tags\":[],\"doc\":null}},{\"id\":\"7a3e7a75-bf47-4bc7-cb2c-a672a2afd67e\",\"type\":\"DataRange1d\",\"attributes\":{\"sources\":[{\"columns\":[\"y\"],\"source\":{\"type\":\"ColumnDataSource\",\"id\":\"0d38426c-d37d-4fcf-cfa4-3c18d361bf71\"}}],\"id\":\"7a3e7a75-bf47-4bc7-cb2c-a672a2afd67e\",\"tags\":[],\"doc\":null}},{\"id\":\"d7368302-75e9-4ff2-cf96-876fb6e05939\",\"type\":\"ToolEvents\",\"attributes\":{\"tags\":[],\"id\":\"d7368302-75e9-4ff2-cf96-876fb6e05939\",\"geometries\":[],\"doc\":null}},{\"id\":\"5697a74d-173c-487b-c86e-277b0901ee31\",\"type\":\"BasicTickFormatter\",\"attributes\":{\"id\":\"5697a74d-173c-487b-c86e-277b0901ee31\",\"tags\":[],\"doc\":null}},{\"id\":\"35b94f39-929a-4d9b-cd73-9e95900c882d\",\"type\":\"BasicTicker\",\"attributes\":{\"num_minor_ticks\":5,\"id\":\"35b94f39-929a-4d9b-cd73-9e95900c882d\",\"tags\":[],\"doc\":null}},{\"id\":\"bfe29634-eaf7-4501-c56f-2f8e8f3f2c41\",\"type\":\"LinearAxis\",\"attributes\":{\"formatter\":{\"type\":\"BasicTickFormatter\",\"id\":\"5697a74d-173c-487b-c86e-277b0901ee31\"},\"ticker\":{\"type\":\"BasicTicker\",\"id\":\"35b94f39-929a-4d9b-cd73-9e95900c882d\"},\"plot\":{\"id\":\"09a962c8-e0af-4331-c3d1-dad6cc22f4fa\",\"type\":\"Plot\",\"subtype\":\"Figure\"},\"axis_label\":null,\"id\":\"bfe29634-eaf7-4501-c56f-2f8e8f3f2c41\",\"doc\":null,\"tags\":[]}},{\"id\":\"13dbe953-b8c2-4710-c7aa-4f6589aad91d\",\"type\":\"Grid\",\"attributes\":{\"dimension\":0,\"plot\":{\"id\":\"09a962c8-e0af-4331-c3d1-dad6cc22f4fa\",\"type\":\"Plot\",\"subtype\":\"Figure\"},\"ticker\":{\"type\":\"BasicTicker\",\"id\":\"35b94f39-929a-4d9b-cd73-9e95900c882d\"},\"id\":\"13dbe953-b8c2-4710-c7aa-4f6589aad91d\",\"doc\":null,\"tags\":[]}},{\"id\":\"a5e4bdd8-c12b-4ea8-cee3-1bc48c728a13\",\"type\":\"BasicTickFormatter\",\"attributes\":{\"id\":\"a5e4bdd8-c12b-4ea8-cee3-1bc48c728a13\",\"tags\":[],\"doc\":null}},{\"id\":\"f25d1225-7f4b-4e7e-cedd-174ef04e3bf7\",\"type\":\"BasicTicker\",\"attributes\":{\"num_minor_ticks\":5,\"id\":\"f25d1225-7f4b-4e7e-cedd-174ef04e3bf7\",\"tags\":[],\"doc\":null}},{\"id\":\"0ca84604-89a4-49f7-c91e-32c6608e7606\",\"type\":\"LinearAxis\",\"attributes\":{\"formatter\":{\"type\":\"BasicTickFormatter\",\"id\":\"a5e4bdd8-c12b-4ea8-cee3-1bc48c728a13\"},\"ticker\":{\"type\":\"BasicTicker\",\"id\":\"f25d1225-7f4b-4e7e-cedd-174ef04e3bf7\"},\"plot\":{\"id\":\"09a962c8-e0af-4331-c3d1-dad6cc22f4fa\",\"type\":\"Plot\",\"subtype\":\"Figure\"},\"axis_label\":null,\"id\":\"0ca84604-89a4-49f7-c91e-32c6608e7606\",\"doc\":null,\"tags\":[]}},{\"id\":\"1dc4334f-56d4-4d92-cd56-ac0a18ac1f08\",\"type\":\"Grid\",\"attributes\":{\"dimension\":1,\"plot\":{\"id\":\"09a962c8-e0af-4331-c3d1-dad6cc22f4fa\",\"type\":\"Plot\",\"subtype\":\"Figure\"},\"ticker\":{\"type\":\"BasicTicker\",\"id\":\"f25d1225-7f4b-4e7e-cedd-174ef04e3bf7\"},\"id\":\"1dc4334f-56d4-4d92-cd56-ac0a18ac1f08\",\"doc\":null,\"tags\":[]}},{\"id\":\"a95c4965-2f3d-4bc0-cbec-2f33317fa430\",\"type\":\"PanTool\",\"attributes\":{\"plot\":{\"id\":\"09a962c8-e0af-4331-c3d1-dad6cc22f4fa\",\"type\":\"Plot\",\"subtype\":\"Figure\"},\"dimensions\":[\"width\",\"height\"],\"id\":\"a95c4965-2f3d-4bc0-cbec-2f33317fa430\",\"doc\":null,\"tags\":[]}},{\"id\":\"5a262e56-b5af-44f6-c44b-c24abbce72e9\",\"type\":\"WheelZoomTool\",\"attributes\":{\"plot\":{\"id\":\"09a962c8-e0af-4331-c3d1-dad6cc22f4fa\",\"type\":\"Plot\",\"subtype\":\"Figure\"},\"dimensions\":[\"width\",\"height\"],\"id\":\"5a262e56-b5af-44f6-c44b-c24abbce72e9\",\"doc\":null,\"tags\":[]}},{\"id\":\"43c81ffa-3395-4827-c8c5-123cf6358c2e\",\"type\":\"BoxZoomTool\",\"attributes\":{\"plot\":{\"id\":\"09a962c8-e0af-4331-c3d1-dad6cc22f4fa\",\"type\":\"Plot\",\"subtype\":\"Figure\"},\"id\":\"43c81ffa-3395-4827-c8c5-123cf6358c2e\",\"tags\":[],\"doc\":null}},{\"id\":\"830e1138-11c3-4865-c866-9eceb73e40ab\",\"type\":\"PreviewSaveTool\",\"attributes\":{\"plot\":{\"id\":\"09a962c8-e0af-4331-c3d1-dad6cc22f4fa\",\"type\":\"Plot\",\"subtype\":\"Figure\"},\"id\":\"830e1138-11c3-4865-c866-9eceb73e40ab\",\"tags\":[],\"doc\":null}},{\"id\":\"74a3ab0a-5066-4b21-cb40-985447c1dca4\",\"type\":\"ResizeTool\",\"attributes\":{\"plot\":{\"id\":\"09a962c8-e0af-4331-c3d1-dad6cc22f4fa\",\"type\":\"Plot\",\"subtype\":\"Figure\"},\"id\":\"74a3ab0a-5066-4b21-cb40-985447c1dca4\",\"tags\":[],\"doc\":null}},{\"id\":\"b360f51b-d555-432e-c3d1-7ac54f44a85a\",\"type\":\"ResetTool\",\"attributes\":{\"plot\":{\"id\":\"09a962c8-e0af-4331-c3d1-dad6cc22f4fa\",\"type\":\"Plot\",\"subtype\":\"Figure\"},\"id\":\"b360f51b-d555-432e-c3d1-7ac54f44a85a\",\"tags\":[],\"doc\":null}},{\"id\":\"e136ecdf-b99c-4bab-cb30-a0682ce777be\",\"type\":\"Legend\",\"attributes\":{\"plot\":{\"id\":\"09a962c8-e0af-4331-c3d1-dad6cc22f4fa\",\"type\":\"Plot\",\"subtype\":\"Figure\"},\"legends\":[[\"accuracy\",[{\"type\":\"GlyphRenderer\",\"id\":\"8ceb84a2-d64a-4f4a-cf0f-8c3d6385164a\"}]]],\"id\":\"e136ecdf-b99c-4bab-cb30-a0682ce777be\",\"doc\":null,\"tags\":[]}},{\"id\":\"09a962c8-e0af-4331-c3d1-dad6cc22f4fa\",\"type\":\"Plot\",\"attributes\":{\"x_range\":{\"type\":\"DataRange1d\",\"id\":\"1c7ed4df-b478-4194-c1bb-0807c1f692ff\"},\"tool_events\":{\"type\":\"ToolEvents\",\"id\":\"d7368302-75e9-4ff2-cf96-876fb6e05939\"},\"below\":[{\"type\":\"LinearAxis\",\"id\":\"bfe29634-eaf7-4501-c56f-2f8e8f3f2c41\"}],\"renderers\":[{\"type\":\"GlyphRenderer\",\"id\":\"8ceb84a2-d64a-4f4a-cf0f-8c3d6385164a\"},{\"type\":\"LinearAxis\",\"id\":\"bfe29634-eaf7-4501-c56f-2f8e8f3f2c41\"},{\"type\":\"Grid\",\"id\":\"13dbe953-b8c2-4710-c7aa-4f6589aad91d\"},{\"type\":\"LinearAxis\",\"id\":\"0ca84604-89a4-49f7-c91e-32c6608e7606\"},{\"type\":\"Grid\",\"id\":\"1dc4334f-56d4-4d92-cd56-ac0a18ac1f08\"},{\"type\":\"Legend\",\"id\":\"e136ecdf-b99c-4bab-cb30-a0682ce777be\"}],\"above\":[],\"tools\":[{\"type\":\"PanTool\",\"id\":\"a95c4965-2f3d-4bc0-cbec-2f33317fa430\"},{\"type\":\"WheelZoomTool\",\"id\":\"5a262e56-b5af-44f6-c44b-c24abbce72e9\"},{\"type\":\"BoxZoomTool\",\"id\":\"43c81ffa-3395-4827-c8c5-123cf6358c2e\"},{\"type\":\"PreviewSaveTool\",\"id\":\"830e1138-11c3-4865-c866-9eceb73e40ab\"},{\"type\":\"ResizeTool\",\"id\":\"74a3ab0a-5066-4b21-cb40-985447c1dca4\"},{\"type\":\"ResetTool\",\"id\":\"b360f51b-d555-432e-c3d1-7ac54f44a85a\"}],\"doc\":null,\"right\":[],\"title\":\"Accuacy\",\"extra_x_ranges\":{},\"left\":[{\"type\":\"LinearAxis\",\"id\":\"0ca84604-89a4-49f7-c91e-32c6608e7606\"}],\"y_range\":{\"type\":\"DataRange1d\",\"id\":\"7a3e7a75-bf47-4bc7-cb2c-a672a2afd67e\"},\"id\":\"09a962c8-e0af-4331-c3d1-dad6cc22f4fa\",\"extra_y_ranges\":{},\"tags\":[]}}];\n",
       "      Bokeh.load_models(all_models);\n",
       "      var model = Bokeh.Collections(modeltype).get(modelid);\n",
       "      $(\"#fc0314bc-0fe2-489c-c876-791e0d82e1ec\").html(''); // clear any previous plot in window_id\n",
       "      var view = new model.default_view({model: model, el: \"#fc0314bc-0fe2-489c-c876-791e0d82e1ec\"});\n",
       "  });\n",
       "    }\n",
       "});\n",
       "</script>\n",
       "<div class=\"plotdiv\" id=\"fc0314bc-0fe2-489c-c876-791e0d82e1ec\"></div>\n"
      ]
     },
     "metadata": {},
     "output_type": "display_data"
    }
   ],
   "source": [
    "do\n",
    "    local Plot = require 'itorch.Plot'\n",
    "    local last_accuracy = 0\n",
    "    local decreasing = 0\n",
    "    local loss={}\n",
    "    local x={}\n",
    "    local accuracy={}\n",
    "    local threshold = 1 -- how many deacreasing epochs we allow\n",
    "    for i = 1,max_iters do\n",
    "        x[i]=i\n",
    "        loss[i]=step()\n",
    "        print(string.format('Epoch: %d Current loss: %4f', i, loss[i]))\n",
    "        accuracy[i] =eval(validationset)\n",
    "        print(string.format('Accuracy on the validation set: %4f', accuracy[i]))\n",
    "               \n",
    "        --[[if accuracy[i] < last_accuracy then\n",
    "            if decreasing > threshold then break end\n",
    "            decreasing = decreasing + 1\n",
    "        else\n",
    "            decreasing = 0\n",
    "        end\n",
    "        last_accuracy = accuracy[i]--]]\n",
    "    end\n",
    "    plot = Plot():circle(x, loss,'red','loss'):legend(true):title('Loss'):draw()\n",
    "    plot1 = Plot():circle(x, accuracy,'green','accuracy'):legend(true):title('Accuacy'):draw()\n",
    "    plot = Plot():line(x, loss,'red','loss'):legend(true):title('Loss'):draw()\n",
    "    plot1 = Plot():line(x, accuracy,'green','accuracy'):legend(true):title('Accuacy'):draw()\n",
    "end"
   ]
  },
  {
   "cell_type": "code",
   "execution_count": 65,
   "metadata": {
    "collapsed": false
   },
   "outputs": [
    {
     "data": {
      "image/png": "[encoded data removed]",
      "text/plain": [
       "Console does not support images"
      ]
     },
     "metadata": {
      "image/png": {
       "height": 600,
       "width": 600
      }
     },
     "output_type": "display_data"
    },
    {
     "data": {
      "image/png": "[encoded data removed]",
      "text/plain": [
       "Console does not support images"
      ]
     },
     "metadata": {
      "image/png": {
       "height": 600,
       "width": 600
      }
     },
     "output_type": "display_data"
    },
    {
     "data": {
      "image/png": "[encoded data removed]",
      "text/plain": [
       "Console does not support images"
      ]
     },
     "metadata": {
      "image/png": {
       "height": 600,
       "width": 600
      }
     },
     "output_type": "display_data"
    },
    {
     "data": {
      "image/png": "[encoded data removed]",
      "text/plain": [
       "Console does not support images"
      ]
     },
     "metadata": {
      "image/png": {
       "height": 600,
       "width": 600
      }
     },
     "output_type": "display_data"
    }
   ],
   "source": [
    "itorch.image(\"plots/plot1.png\")\n",
    "itorch.image(\"plots/plot2.png\")\n",
    "itorch.image(\"plots/plot3.png\")\n",
    "itorch.image(\"plots/plot4.png\")"
   ]
  },
  {
   "cell_type": "code",
   "execution_count": 19,
   "metadata": {
    "collapsed": false
   },
   "outputs": [
    {
     "data": {
      "text/plain": [
       "0.827\t\n"
      ]
     },
     "execution_count": 19,
     "metadata": {},
     "output_type": "execute_result"
    }
   ],
   "source": [
    "eval(testset)"
   ]
  },
  {
   "cell_type": "code",
   "execution_count": 20,
   "metadata": {
    "collapsed": false
   },
   "outputs": [
    {
     "data": {
      "text/plain": [
       "\n"
      ]
     },
     "execution_count": 20,
     "metadata": {},
     "output_type": "execute_result"
    }
   ],
   "source": [
    "torch.save('oldmodel.net',model)"
   ]
  },
  {
   "cell_type": "code",
   "execution_count": 21,
   "metadata": {
    "collapsed": true
   },
   "outputs": [],
   "source": [
    "plot:save('plot.html')\n",
    "plot1:save('plot1.html')"
   ]
  },
  {
   "cell_type": "code",
   "execution_count": 20,
   "metadata": {
    "collapsed": false
   },
   "outputs": [
    {
     "data": {
      "text/plain": [
       "0.83\t\n"
      ]
     },
     "execution_count": 20,
     "metadata": {},
     "output_type": "execute_result"
    }
   ],
   "source": [
    "eval(trainset)"
   ]
  },
  {
   "cell_type": "code",
   "execution_count": 21,
   "metadata": {
    "collapsed": false
   },
   "outputs": [
    {
     "data": {
      "text/plain": [
       "0.80824455766559\t\n"
      ]
     },
     "execution_count": 21,
     "metadata": {},
     "output_type": "execute_result"
    }
   ],
   "source": [
    "eval(validationset)"
   ]
  },
  {
   "cell_type": "code",
   "execution_count": 28,
   "metadata": {
    "collapsed": false
   },
   "outputs": [],
   "source": [
    "a=image.load(\"r3.png\",1,'byte')\n",
    "--a=testset.data[10]"
   ]
  },
  {
   "cell_type": "code",
   "execution_count": 29,
   "metadata": {
    "collapsed": false
   },
   "outputs": [
    {
     "data": {
      "image/png": "[encoded data removed]",
      "text/plain": [
       "Console does not support images"
      ]
     },
     "metadata": {
      "image/png": {
       "height": 20,
       "width": 20
      }
     },
     "output_type": "display_data"
    }
   ],
   "source": [
    "b=torch.Tensor(1,20,20)\n",
    "b[1]=image.scale(a,20,20)\n",
    "itorch.image(b[1])"
   ]
  },
  {
   "cell_type": "code",
   "execution_count": 30,
   "metadata": {
    "collapsed": false
   },
   "outputs": [
    {
     "data": {
      "text/plain": [
       "R\t\n"
      ]
     },
     "execution_count": 30,
     "metadata": {},
     "output_type": "execute_result"
    }
   ],
   "source": [
    "pred=model:forward(b)\n",
    "conf, indi=torch.sort(pred, true)\n",
    "alpha=48\n",
    "beta=65\n",
    "gamma=indi[1][1]\n",
    "if gamma < 11 then\n",
    "    print(string.char(alpha+gamma-1))\n",
    "else\n",
    "    beta=beta+gamma-11\n",
    "    print(string.char(beta))\n",
    "end\n",
    "--t=torch.Int(1):copy(1)\n",
    "--indi[1]=indi[1]:type('int')\n",
    "--print (CharTensor:(indi[1]))"
   ]
  },
  {
   "cell_type": "code",
   "execution_count": null,
   "metadata": {
    "collapsed": true
   },
   "outputs": [],
   "source": []
  },
  {
   "cell_type": "code",
   "execution_count": null,
   "metadata": {
    "collapsed": true
   },
   "outputs": [],
   "source": []
  },
  {
   "cell_type": "code",
   "execution_count": null,
   "metadata": {
    "collapsed": true
   },
   "outputs": [],
   "source": []
  },
  {
   "cell_type": "code",
   "execution_count": null,
   "metadata": {
    "collapsed": true
   },
   "outputs": [],
   "source": []
  }
 ],
 "metadata": {
  "kernelspec": {
   "display_name": "iTorch",
   "language": "lua",
   "name": "itorch"
  },
  "language_info": {
   "name": "lua",
   "version": "5.1"
  }
 },
 "nbformat": 4,
 "nbformat_minor": 0
}
