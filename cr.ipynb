{
 "cells": [
  {
   "cell_type": "code",
   "execution_count": 39,
   "metadata": {
    "collapsed": false
   },
   "outputs": [],
   "source": [
    "optim = require 'optim'\n",
    "fullset = torch.load('newdata20.dat')"
   ]
  },
  {
   "cell_type": "code",
   "execution_count": 40,
   "metadata": {
    "collapsed": false
   },
   "outputs": [
    {
     "data": {
      "image/png": "[encoded data removed]",
      "text/plain": [
       "Console does not support images"
      ]
     },
     "metadata": {
      "image/png": {
       "height": 20,
       "width": 20
      }
     },
     "output_type": "display_data"
    },
    {
     "data": {
      "text/plain": [
       "111\t\n"
      ]
     },
     "execution_count": 40,
     "metadata": {},
     "output_type": "execute_result"
    }
   ],
   "source": [
    "itorch.image(fullset.data[1])\n",
    "print(fullset.label[1])"
   ]
  },
  {
   "cell_type": "code",
   "execution_count": 41,
   "metadata": {
    "collapsed": false
   },
   "outputs": [],
   "source": [
    "shuffle = torch.randperm(fullset.size)\n",
    "shuffleset = fullset\n",
    "for i=1, fullset.size do\n",
    "    shuffleset.data[i] = fullset.data[shuffle[i]]\n",
    "    shuffleset.label[i] = fullset.label[shuffle[i]]\n",
    "    end\n",
    "fullset = shuffleset"
   ]
  },
  {
   "cell_type": "code",
   "execution_count": 42,
   "metadata": {
    "collapsed": false
   },
   "outputs": [
    {
     "data": {
      "text/plain": [
       "{\n",
       "  data : DoubleTensor - size: 40134x20x20\n",
       "  size : 40121\n",
       "  label : DoubleTensor - size: 40134\n",
       "}\n"
      ]
     },
     "execution_count": 42,
     "metadata": {},
     "output_type": "execute_result"
    }
   ],
   "source": [
    "fullset"
   ]
  },
  {
   "cell_type": "code",
   "execution_count": 43,
   "metadata": {
    "collapsed": false
   },
   "outputs": [],
   "source": [
    "for i=1,fullset.size do\n",
    "    if(fullset.label[i]<=57) then\n",
    "        fullset.label[i]=fullset.label[i]-47\n",
    "    else\n",
    "        fullset.label[i]=fullset.label[i]-97+11;\n",
    "    end\n",
    "end"
   ]
  },
  {
   "cell_type": "code",
   "execution_count": 12,
   "metadata": {
    "collapsed": false
   },
   "outputs": [],
   "source": [
    "trainset = {\n",
    "    size = 32000,\n",
    "    data = fullset.data[{{1,32000}}]:double(),\n",
    "    label = fullset.label[{{1,32000}}]\n",
    "}"
   ]
  },
  {
   "cell_type": "code",
   "execution_count": 13,
   "metadata": {
    "collapsed": false
   },
   "outputs": [],
   "source": [
    "validationset = {\n",
    "    size = 2159,\n",
    "    data = fullset.data[{{32001,34159}}]:double(),\n",
    "    label = fullset.label[{{32001,34159}}]\n",
    "}"
   ]
  },
  {
   "cell_type": "code",
   "execution_count": 14,
   "metadata": {
    "collapsed": false
   },
   "outputs": [
    {
     "data": {
      "image/png": "[encoded data removed]",
      "text/plain": [
       "Console does not support images"
      ]
     },
     "metadata": {
      "image/png": {
       "height": 20,
       "width": 20
      }
     },
     "output_type": "display_data"
    },
    {
     "data": {
      "text/plain": [
       "24\t\n"
      ]
     },
     "execution_count": 14,
     "metadata": {},
     "output_type": "execute_result"
    }
   ],
   "source": [
    "itorch.image(trainset.data[1])\n",
    "print(trainset.label[1])"
   ]
  },
  {
   "cell_type": "code",
   "execution_count": 15,
   "metadata": {
    "collapsed": false
   },
   "outputs": [],
   "source": [
    "testset = {\n",
    "    size = 2000,\n",
    "    data = fullset.data[{{34160,36159}}]:double(),\n",
    "    label = fullset.label[{{34160,36159}}]\n",
    "}"
   ]
  },
  {
   "cell_type": "code",
   "execution_count": 16,
   "metadata": {
    "collapsed": false
   },
   "outputs": [],
   "source": [
    "--[[nn = require 'nn'\n",
    "model = nn.Sequential()\n",
    "model:add(nn.SpatialConvolution(1, 6, 3, 3))\n",
    "--net:add(nn.ReLU())                       -- non-linearity \n",
    "model:add(nn.SpatialMaxPooling(2,2,2,2))     -- A max-pooling operation that looks at 2x2 windows and finds the max.\n",
    "model:add(nn.View(6*9*9))--]]  \n",
    "nn = require 'nn'\n",
    "model = nn.Sequential()\n",
    "model:add(nn.Reshape(400))"
   ]
  },
  {
   "cell_type": "code",
   "execution_count": 17,
   "metadata": {
    "collapsed": false
   },
   "outputs": [],
   "source": [
    "--[[model:add(nn.Linear(400, 120))             -- fully connected layer (matrix multiplication between input and weights)\n",
    "model:add(nn.Tanh())                       -- non-linearity \n",
    "model:add(nn.Linear(120, 36))                   -- 10 is the number of outputs of the network (in this case, 10 digits)\n",
    "model:add(nn.LogSoftMax())--]]                    -- converts the output to a log-probability. Useful for classification problems\n",
    "\n",
    "model:add(nn.Linear(400,700))\n",
    "model:add(nn.Tanh())\n",
    "--model:add(nn.Linear(174,131))\n",
    "--model:add(nn.Tanh())\n",
    "model:add(nn.Linear(700,36))\n",
    "model:add(nn.LogSoftMax())"
   ]
  },
  {
   "cell_type": "code",
   "execution_count": 18,
   "metadata": {
    "collapsed": true
   },
   "outputs": [],
   "source": [
    "--model=torch.load('oldmodel.net')\n",
    "criterion = nn.ClassNLLCriterion()"
   ]
  },
  {
   "cell_type": "code",
   "execution_count": 19,
   "metadata": {
    "collapsed": true
   },
   "outputs": [],
   "source": [
    "sgd_params = {\n",
    "   learningRate = 1e-2,\n",
    "   learningRateDecay = 1e-4,\n",
    "   weightDecay = 1e-3,\n",
    "   momentum = 1e-4\n",
    "}"
   ]
  },
  {
   "cell_type": "code",
   "execution_count": 20,
   "metadata": {
    "collapsed": true
   },
   "outputs": [],
   "source": [
    "x, dl_dx = model:getParameters()"
   ]
  },
  {
   "cell_type": "code",
   "execution_count": 21,
   "metadata": {
    "collapsed": false
   },
   "outputs": [],
   "source": [
    "step = function(batch_size)\n",
    "    local current_loss = 0\n",
    "    local count = 0\n",
    "    batch_size = batch_size or 200\n",
    "    for t = 1, trainset.size, batch_size do\n",
    "        local size = math.min(t + batch_size -1, trainset.size) - t\n",
    "        local inputs = torch.Tensor(size, 20, 20)\n",
    "        local targets = torch.Tensor(size)\n",
    "        for i = 1,size do\n",
    "            local input = trainset.data[i+t]\n",
    "            local target = trainset.label[i+t]\n",
    "            -- if target == 0 then target = 10 end\n",
    "            inputs[i] = input\n",
    "            targets[i] = target\n",
    "        end\n",
    "        \n",
    "        local feval = function(x_new)\n",
    "            -- reset data\n",
    "            if x ~= x_new then x:copy(x_new) end\n",
    "            dl_dx:zero()\n",
    "\n",
    "            -- perform mini-batch gradient descent\n",
    "            local loss = criterion:forward(model:forward(inputs), targets)\n",
    "            model:backward(inputs, criterion:backward(model.output, targets))\n",
    "\n",
    "            return loss, dl_dx\n",
    "        end\n",
    "        \n",
    "        _, fs = optim.sgd(feval, x, sgd_params)\n",
    "        -- fs is a table containing value of the loss function\n",
    "        -- (just 1 value for the SGD optimization)\n",
    "        count = count + 1\n",
    "        current_loss = current_loss + fs[1]\n",
    "    end\n",
    "\n",
    "    -- normalize loss\n",
    "    return current_loss / count\n",
    "end"
   ]
  },
  {
   "cell_type": "code",
   "execution_count": 22,
   "metadata": {
    "collapsed": true
   },
   "outputs": [],
   "source": [
    "eval = function(dataset, batch_size)\n",
    "    local count = 0\n",
    "    batch_size = batch_size or 200\n",
    "    \n",
    "    for i = 1,dataset.size,batch_size do\n",
    "        local size = math.min(i + batch_size - 1, dataset.size) - i\n",
    "        local inputs = dataset.data[{{i,i+size-1}}]\n",
    "        local targets = dataset.label[{{i,i+size-1}}]:long()\n",
    "        local outputs = model:forward(inputs)\n",
    "        local _, indices = torch.max(outputs, 2)\n",
    "        local guessed_right = indices:eq(targets):sum()\n",
    "        count = count + guessed_right\n",
    "    end\n",
    "\n",
    "    return count / dataset.size\n",
    "end"
   ]
  },
  {
   "cell_type": "code",
   "execution_count": 23,
   "metadata": {
    "collapsed": true
   },
   "outputs": [],
   "source": [
    "max_iters = 10"
   ]
  },
  {
   "cell_type": "code",
   "execution_count": 24,
   "metadata": {
    "collapsed": false,
    "scrolled": false
   },
   "outputs": [
    {
     "data": {
      "text/plain": [
       "Epoch: 1 Current loss: 2.385511\t\n"
      ]
     },
     "execution_count": 24,
     "metadata": {},
     "output_type": "execute_result"
    },
    {
     "data": {
      "text/plain": [
       "Accuracy on the validation set: 0.588698\t\n"
      ]
     },
     "execution_count": 24,
     "metadata": {},
     "output_type": "execute_result"
    },
    {
     "data": {
      "text/plain": [
       "Epoch: 2 Current loss: 1.638467\t\n"
      ]
     },
     "execution_count": 24,
     "metadata": {},
     "output_type": "execute_result"
    },
    {
     "data": {
      "text/plain": [
       "Accuracy on the validation set: 0.650301\t\n"
      ]
     },
     "execution_count": 24,
     "metadata": {},
     "output_type": "execute_result"
    },
    {
     "data": {
      "text/plain": [
       "Epoch: 3 Current loss: 1.355404\t\n"
      ]
     },
     "execution_count": 24,
     "metadata": {},
     "output_type": "execute_result"
    },
    {
     "data": {
      "text/plain": [
       "Accuracy on the validation set: 0.685966\t\n"
      ]
     },
     "execution_count": 24,
     "metadata": {},
     "output_type": "execute_result"
    },
    {
     "data": {
      "text/plain": [
       "Epoch: 4 Current loss: 1.214815\t\n"
      ]
     },
     "execution_count": 24,
     "metadata": {},
     "output_type": "execute_result"
    },
    {
     "data": {
      "text/plain": [
       "Accuracy on the validation set: 0.720704\t\n"
      ]
     },
     "execution_count": 24,
     "metadata": {},
     "output_type": "execute_result"
    },
    {
     "data": {
      "text/plain": [
       "Epoch: 5 Current loss: 1.117203\t\n"
      ]
     },
     "execution_count": 24,
     "metadata": {},
     "output_type": "execute_result"
    },
    {
     "data": {
      "text/plain": [
       "Accuracy on the validation set: 0.723020\t\n"
      ]
     },
     "execution_count": 24,
     "metadata": {},
     "output_type": "execute_result"
    },
    {
     "data": {
      "text/plain": [
       "Epoch: 6 Current loss: 1.071147\t\n"
      ]
     },
     "execution_count": 24,
     "metadata": {},
     "output_type": "execute_result"
    },
    {
     "data": {
      "text/plain": [
       "Accuracy on the validation set: 0.728578\t\n"
      ]
     },
     "execution_count": 24,
     "metadata": {},
     "output_type": "execute_result"
    },
    {
     "data": {
      "text/plain": [
       "Epoch: 7 Current loss: 1.022056\t\n"
      ]
     },
     "execution_count": 24,
     "metadata": {},
     "output_type": "execute_result"
    },
    {
     "data": {
      "text/plain": [
       "Accuracy on the validation set: 0.741547\t\n"
      ]
     },
     "execution_count": 24,
     "metadata": {},
     "output_type": "execute_result"
    },
    {
     "data": {
      "text/plain": [
       "Epoch: 8 Current loss: 0.972030\t\n"
      ]
     },
     "execution_count": 24,
     "metadata": {},
     "output_type": "execute_result"
    },
    {
     "data": {
      "text/plain": [
       "Accuracy on the validation set: 0.742937\t\n"
      ]
     },
     "execution_count": 24,
     "metadata": {},
     "output_type": "execute_result"
    },
    {
     "data": {
      "text/plain": [
       "Epoch: 9 Current loss: 0.943306\t\n"
      ]
     },
     "execution_count": 24,
     "metadata": {},
     "output_type": "execute_result"
    },
    {
     "data": {
      "text/plain": [
       "Accuracy on the validation set: 0.750811\t\n"
      ]
     },
     "execution_count": 24,
     "metadata": {},
     "output_type": "execute_result"
    },
    {
     "data": {
      "text/plain": [
       "Epoch: 10 Current loss: 0.925373\t\n"
      ]
     },
     "execution_count": 24,
     "metadata": {},
     "output_type": "execute_result"
    },
    {
     "data": {
      "text/plain": [
       "Accuracy on the validation set: 0.756832\t\n"
      ]
     },
     "execution_count": 24,
     "metadata": {},
     "output_type": "execute_result"
    },
    {
     "data": {
      "text/html": [
       "<script type=\"text/javascript\">\n",
       "$(function() {\n",
       "    if (typeof (window._bokeh_onload_callbacks) === \"undefined\"){\n",
       "  window._bokeh_onload_callbacks = [];\n",
       "    }\n",
       "    function load_lib(url, callback){\n",
       "  window._bokeh_onload_callbacks.push(callback);\n",
       "  if (window._bokeh_is_loading){\n",
       "      console.log(\"Bokeh: BokehJS is being loaded, scheduling callback at\", new Date());\n",
       "      return null;\n",
       "  }\n",
       "  console.log(\"Bokeh: BokehJS not loaded, scheduling load and callback at\", new Date());\n",
       "  window._bokeh_is_loading = true;\n",
       "  var s = document.createElement('script');\n",
       "  s.src = url;\n",
       "  s.async = true;\n",
       "  s.onreadystatechange = s.onload = function(){\n",
       "      Bokeh.embed.inject_css(\"https://cdn.pydata.org/bokeh-0.7.0.min.css\");\n",
       "      window._bokeh_onload_callbacks.forEach(function(callback){callback()});\n",
       "  };\n",
       "  s.onerror = function(){\n",
       "      console.warn(\"failed to load library \" + url);\n",
       "  };\n",
       "  document.getElementsByTagName(\"head\")[0].appendChild(s);\n",
       "    }\n",
       "\n",
       "    bokehjs_url = \"https://cdn.pydata.org/bokeh-0.7.0.min.js\"\n",
       "\n",
       "    var elt = document.getElementById(\"305b746c-3634-4deb-cd6a-06ee12c7e68c\");\n",
       "    if(elt==null) {\n",
       "  console.log(\"Bokeh: ERROR: autoload.js configured with elementid '305b746c-3634-4deb-cd6a-06ee12c7e68c'\"\n",
       "        + \"but no matching script tag was found. \")\n",
       "  return false;\n",
       "    }\n",
       "\n",
       "    if(typeof(Bokeh) !== \"undefined\") {\n",
       "  console.log(\"Bokeh: BokehJS loaded, going straight to plotting\");\n",
       "  var modelid = \"49639db4-a51b-49a2-c935-bff03b70d736\";\n",
       "  var modeltype = \"Plot\";\n",
       "  var all_models = [{\"id\":\"ae0cac3b-e2e6-4604-c6ee-599419a12508\",\"type\":\"ColumnDataSource\",\"attributes\":{\"data\":{\"y\":[2.3855108281015,1.6384673833631,1.3554038653154,1.2148154832552,1.1172034836629,1.0711465551445,1.0220557724488,0.97202966134181,0.94330550943352,0.92537310589496],\"x\":[1,2,3,4,5,6,7,8,9,10]},\"column_names\":[\"y\",\"x\"],\"cont_ranges\":{},\"discrete_ranges\":{},\"selected\":[],\"id\":\"ae0cac3b-e2e6-4604-c6ee-599419a12508\",\"doc\":null,\"tags\":[]}},{\"id\":\"68582311-abde-4789-c715-78a4d0c0d2cc\",\"type\":\"Circle\",\"attributes\":{\"fill_alpha\":{\"units\":\"data\",\"value\":0.2},\"line_alpha\":{\"units\":\"data\",\"value\":1},\"doc\":null,\"size\":{\"units\":\"screen\",\"value\":10},\"fill_color\":{\"value\":\"red\"},\"line_color\":{\"value\":\"red\"},\"x\":{\"units\":\"data\",\"field\":\"x\"},\"id\":\"68582311-abde-4789-c715-78a4d0c0d2cc\",\"y\":{\"units\":\"data\",\"field\":\"y\"},\"tags\":[]}},{\"id\":\"54fb40ed-43a2-470e-c73d-0ef9f3665fbd\",\"type\":\"Circle\",\"attributes\":{\"fill_alpha\":{\"units\":\"data\",\"value\":0.2},\"line_alpha\":{\"units\":\"data\",\"value\":1},\"doc\":null,\"size\":{\"units\":\"screen\",\"value\":10},\"fill_color\":{\"value\":\"red\"},\"line_color\":{\"value\":\"red\"},\"x\":{\"units\":\"data\",\"field\":\"x\"},\"id\":\"54fb40ed-43a2-470e-c73d-0ef9f3665fbd\",\"y\":{\"units\":\"data\",\"field\":\"y\"},\"tags\":[]}},{\"id\":\"238a02b3-e1bd-462f-c61c-130de7b273f2\",\"type\":\"GlyphRenderer\",\"attributes\":{\"name\":null,\"nonselection_glyph\":{\"type\":\"Circle\",\"id\":\"54fb40ed-43a2-470e-c73d-0ef9f3665fbd\"},\"doc\":null,\"server_data_source\":null,\"data_source\":{\"type\":\"ColumnDataSource\",\"id\":\"ae0cac3b-e2e6-4604-c6ee-599419a12508\"},\"glyph\":{\"type\":\"Circle\",\"id\":\"68582311-abde-4789-c715-78a4d0c0d2cc\"},\"selection_glyph\":null,\"id\":\"238a02b3-e1bd-462f-c61c-130de7b273f2\",\"tags\":[]}},{\"id\":\"1f4bd097-4ffe-4fdd-cf4e-0f2c2a6b99f4\",\"type\":\"DataRange1d\",\"attributes\":{\"sources\":[{\"columns\":[\"x\"],\"source\":{\"type\":\"ColumnDataSource\",\"id\":\"ae0cac3b-e2e6-4604-c6ee-599419a12508\"}}],\"id\":\"1f4bd097-4ffe-4fdd-cf4e-0f2c2a6b99f4\",\"tags\":[],\"doc\":null}},{\"id\":\"1f07709c-9180-46ad-c656-0a5c28549279\",\"type\":\"DataRange1d\",\"attributes\":{\"sources\":[{\"columns\":[\"y\"],\"source\":{\"type\":\"ColumnDataSource\",\"id\":\"ae0cac3b-e2e6-4604-c6ee-599419a12508\"}}],\"id\":\"1f07709c-9180-46ad-c656-0a5c28549279\",\"tags\":[],\"doc\":null}},{\"id\":\"c9ad566e-7db4-47e1-c7e4-45f268caa4b7\",\"type\":\"ToolEvents\",\"attributes\":{\"tags\":[],\"id\":\"c9ad566e-7db4-47e1-c7e4-45f268caa4b7\",\"geometries\":[],\"doc\":null}},{\"id\":\"726d9651-26a7-4dbc-cde2-0196622ddb44\",\"type\":\"BasicTickFormatter\",\"attributes\":{\"id\":\"726d9651-26a7-4dbc-cde2-0196622ddb44\",\"tags\":[],\"doc\":null}},{\"id\":\"86917684-608d-4f6b-cff3-146a5c5197c7\",\"type\":\"BasicTicker\",\"attributes\":{\"num_minor_ticks\":5,\"id\":\"86917684-608d-4f6b-cff3-146a5c5197c7\",\"tags\":[],\"doc\":null}},{\"id\":\"c63eef67-c46d-48fa-c885-6d2dba752924\",\"type\":\"LinearAxis\",\"attributes\":{\"formatter\":{\"type\":\"BasicTickFormatter\",\"id\":\"726d9651-26a7-4dbc-cde2-0196622ddb44\"},\"ticker\":{\"type\":\"BasicTicker\",\"id\":\"86917684-608d-4f6b-cff3-146a5c5197c7\"},\"plot\":{\"id\":\"49639db4-a51b-49a2-c935-bff03b70d736\",\"type\":\"Plot\",\"subtype\":\"Figure\"},\"axis_label\":null,\"id\":\"c63eef67-c46d-48fa-c885-6d2dba752924\",\"doc\":null,\"tags\":[]}},{\"id\":\"fa53e8bb-63ea-4b35-cbbb-060d9521a3d0\",\"type\":\"Grid\",\"attributes\":{\"dimension\":0,\"plot\":{\"id\":\"49639db4-a51b-49a2-c935-bff03b70d736\",\"type\":\"Plot\",\"subtype\":\"Figure\"},\"ticker\":{\"type\":\"BasicTicker\",\"id\":\"86917684-608d-4f6b-cff3-146a5c5197c7\"},\"id\":\"fa53e8bb-63ea-4b35-cbbb-060d9521a3d0\",\"doc\":null,\"tags\":[]}},{\"id\":\"26b910f7-7142-4da8-cdf7-b9d847846dc8\",\"type\":\"BasicTickFormatter\",\"attributes\":{\"id\":\"26b910f7-7142-4da8-cdf7-b9d847846dc8\",\"tags\":[],\"doc\":null}},{\"id\":\"7e53a95b-08ef-4339-c32e-16902ef9f67f\",\"type\":\"BasicTicker\",\"attributes\":{\"num_minor_ticks\":5,\"id\":\"7e53a95b-08ef-4339-c32e-16902ef9f67f\",\"tags\":[],\"doc\":null}},{\"id\":\"7c1c3b2b-9737-4c82-cc53-e49f48d9a50e\",\"type\":\"LinearAxis\",\"attributes\":{\"formatter\":{\"type\":\"BasicTickFormatter\",\"id\":\"26b910f7-7142-4da8-cdf7-b9d847846dc8\"},\"ticker\":{\"type\":\"BasicTicker\",\"id\":\"7e53a95b-08ef-4339-c32e-16902ef9f67f\"},\"plot\":{\"id\":\"49639db4-a51b-49a2-c935-bff03b70d736\",\"type\":\"Plot\",\"subtype\":\"Figure\"},\"axis_label\":null,\"id\":\"7c1c3b2b-9737-4c82-cc53-e49f48d9a50e\",\"doc\":null,\"tags\":[]}},{\"id\":\"9afa655f-a39a-4528-c531-0b258e1aed23\",\"type\":\"Grid\",\"attributes\":{\"dimension\":1,\"plot\":{\"id\":\"49639db4-a51b-49a2-c935-bff03b70d736\",\"type\":\"Plot\",\"subtype\":\"Figure\"},\"ticker\":{\"type\":\"BasicTicker\",\"id\":\"7e53a95b-08ef-4339-c32e-16902ef9f67f\"},\"id\":\"9afa655f-a39a-4528-c531-0b258e1aed23\",\"doc\":null,\"tags\":[]}},{\"id\":\"d0d4b845-1e1d-4bba-cbfe-d0a02a0f6a0b\",\"type\":\"PanTool\",\"attributes\":{\"plot\":{\"id\":\"49639db4-a51b-49a2-c935-bff03b70d736\",\"type\":\"Plot\",\"subtype\":\"Figure\"},\"dimensions\":[\"width\",\"height\"],\"id\":\"d0d4b845-1e1d-4bba-cbfe-d0a02a0f6a0b\",\"doc\":null,\"tags\":[]}},{\"id\":\"b3fb7d0d-10e3-4e01-ce5f-102b01eb5a09\",\"type\":\"WheelZoomTool\",\"attributes\":{\"plot\":{\"id\":\"49639db4-a51b-49a2-c935-bff03b70d736\",\"type\":\"Plot\",\"subtype\":\"Figure\"},\"dimensions\":[\"width\",\"height\"],\"id\":\"b3fb7d0d-10e3-4e01-ce5f-102b01eb5a09\",\"doc\":null,\"tags\":[]}},{\"id\":\"170864b3-51c1-48bb-c8b5-822ee5016f7f\",\"type\":\"BoxZoomTool\",\"attributes\":{\"plot\":{\"id\":\"49639db4-a51b-49a2-c935-bff03b70d736\",\"type\":\"Plot\",\"subtype\":\"Figure\"},\"id\":\"170864b3-51c1-48bb-c8b5-822ee5016f7f\",\"tags\":[],\"doc\":null}},{\"id\":\"4687fd86-8de1-480a-c815-083767da76ca\",\"type\":\"PreviewSaveTool\",\"attributes\":{\"plot\":{\"id\":\"49639db4-a51b-49a2-c935-bff03b70d736\",\"type\":\"Plot\",\"subtype\":\"Figure\"},\"id\":\"4687fd86-8de1-480a-c815-083767da76ca\",\"tags\":[],\"doc\":null}},{\"id\":\"f4cb1888-616c-45a0-c59e-109620a30fc8\",\"type\":\"ResizeTool\",\"attributes\":{\"plot\":{\"id\":\"49639db4-a51b-49a2-c935-bff03b70d736\",\"type\":\"Plot\",\"subtype\":\"Figure\"},\"id\":\"f4cb1888-616c-45a0-c59e-109620a30fc8\",\"tags\":[],\"doc\":null}},{\"id\":\"3dd3c44c-19a3-495b-c93f-c480dbfd62f0\",\"type\":\"ResetTool\",\"attributes\":{\"plot\":{\"id\":\"49639db4-a51b-49a2-c935-bff03b70d736\",\"type\":\"Plot\",\"subtype\":\"Figure\"},\"id\":\"3dd3c44c-19a3-495b-c93f-c480dbfd62f0\",\"tags\":[],\"doc\":null}},{\"id\":\"aa79834e-62fe-4931-c97a-215505fb245f\",\"type\":\"Legend\",\"attributes\":{\"plot\":{\"id\":\"49639db4-a51b-49a2-c935-bff03b70d736\",\"type\":\"Plot\",\"subtype\":\"Figure\"},\"legends\":[[\"loss\",[{\"type\":\"GlyphRenderer\",\"id\":\"238a02b3-e1bd-462f-c61c-130de7b273f2\"}]]],\"id\":\"aa79834e-62fe-4931-c97a-215505fb245f\",\"doc\":null,\"tags\":[]}},{\"id\":\"49639db4-a51b-49a2-c935-bff03b70d736\",\"type\":\"Plot\",\"attributes\":{\"x_range\":{\"type\":\"DataRange1d\",\"id\":\"1f4bd097-4ffe-4fdd-cf4e-0f2c2a6b99f4\"},\"tool_events\":{\"type\":\"ToolEvents\",\"id\":\"c9ad566e-7db4-47e1-c7e4-45f268caa4b7\"},\"below\":[{\"type\":\"LinearAxis\",\"id\":\"c63eef67-c46d-48fa-c885-6d2dba752924\"}],\"renderers\":[{\"type\":\"GlyphRenderer\",\"id\":\"238a02b3-e1bd-462f-c61c-130de7b273f2\"},{\"type\":\"LinearAxis\",\"id\":\"c63eef67-c46d-48fa-c885-6d2dba752924\"},{\"type\":\"Grid\",\"id\":\"fa53e8bb-63ea-4b35-cbbb-060d9521a3d0\"},{\"type\":\"LinearAxis\",\"id\":\"7c1c3b2b-9737-4c82-cc53-e49f48d9a50e\"},{\"type\":\"Grid\",\"id\":\"9afa655f-a39a-4528-c531-0b258e1aed23\"},{\"type\":\"Legend\",\"id\":\"aa79834e-62fe-4931-c97a-215505fb245f\"}],\"above\":[],\"tools\":[{\"type\":\"PanTool\",\"id\":\"d0d4b845-1e1d-4bba-cbfe-d0a02a0f6a0b\"},{\"type\":\"WheelZoomTool\",\"id\":\"b3fb7d0d-10e3-4e01-ce5f-102b01eb5a09\"},{\"type\":\"BoxZoomTool\",\"id\":\"170864b3-51c1-48bb-c8b5-822ee5016f7f\"},{\"type\":\"PreviewSaveTool\",\"id\":\"4687fd86-8de1-480a-c815-083767da76ca\"},{\"type\":\"ResizeTool\",\"id\":\"f4cb1888-616c-45a0-c59e-109620a30fc8\"},{\"type\":\"ResetTool\",\"id\":\"3dd3c44c-19a3-495b-c93f-c480dbfd62f0\"}],\"doc\":null,\"right\":[],\"title\":\"Loss\",\"extra_x_ranges\":{},\"left\":[{\"type\":\"LinearAxis\",\"id\":\"7c1c3b2b-9737-4c82-cc53-e49f48d9a50e\"}],\"y_range\":{\"type\":\"DataRange1d\",\"id\":\"1f07709c-9180-46ad-c656-0a5c28549279\"},\"id\":\"49639db4-a51b-49a2-c935-bff03b70d736\",\"extra_y_ranges\":{},\"tags\":[]}}];\n",
       "  Bokeh.load_models(all_models);\n",
       "  var model = Bokeh.Collections(modeltype).get(modelid);\n",
       "  $(\"#305b746c-3634-4deb-cd6a-06ee12c7e68c\").html(''); // clear any previous plot in window_id\n",
       "  var view = new model.default_view({model: model, el: \"#305b746c-3634-4deb-cd6a-06ee12c7e68c\"});\n",
       "    } else {\n",
       "  load_lib(bokehjs_url, function() {\n",
       "      console.log(\"Bokeh: BokehJS plotting callback run at\", new Date())\n",
       "      var modelid = \"49639db4-a51b-49a2-c935-bff03b70d736\";\n",
       "      var modeltype = \"Plot\";\n",
       "      var all_models = [{\"id\":\"ae0cac3b-e2e6-4604-c6ee-599419a12508\",\"type\":\"ColumnDataSource\",\"attributes\":{\"data\":{\"y\":[2.3855108281015,1.6384673833631,1.3554038653154,1.2148154832552,1.1172034836629,1.0711465551445,1.0220557724488,0.97202966134181,0.94330550943352,0.92537310589496],\"x\":[1,2,3,4,5,6,7,8,9,10]},\"column_names\":[\"y\",\"x\"],\"cont_ranges\":{},\"discrete_ranges\":{},\"selected\":[],\"id\":\"ae0cac3b-e2e6-4604-c6ee-599419a12508\",\"doc\":null,\"tags\":[]}},{\"id\":\"68582311-abde-4789-c715-78a4d0c0d2cc\",\"type\":\"Circle\",\"attributes\":{\"fill_alpha\":{\"units\":\"data\",\"value\":0.2},\"line_alpha\":{\"units\":\"data\",\"value\":1},\"doc\":null,\"size\":{\"units\":\"screen\",\"value\":10},\"fill_color\":{\"value\":\"red\"},\"line_color\":{\"value\":\"red\"},\"x\":{\"units\":\"data\",\"field\":\"x\"},\"id\":\"68582311-abde-4789-c715-78a4d0c0d2cc\",\"y\":{\"units\":\"data\",\"field\":\"y\"},\"tags\":[]}},{\"id\":\"54fb40ed-43a2-470e-c73d-0ef9f3665fbd\",\"type\":\"Circle\",\"attributes\":{\"fill_alpha\":{\"units\":\"data\",\"value\":0.2},\"line_alpha\":{\"units\":\"data\",\"value\":1},\"doc\":null,\"size\":{\"units\":\"screen\",\"value\":10},\"fill_color\":{\"value\":\"red\"},\"line_color\":{\"value\":\"red\"},\"x\":{\"units\":\"data\",\"field\":\"x\"},\"id\":\"54fb40ed-43a2-470e-c73d-0ef9f3665fbd\",\"y\":{\"units\":\"data\",\"field\":\"y\"},\"tags\":[]}},{\"id\":\"238a02b3-e1bd-462f-c61c-130de7b273f2\",\"type\":\"GlyphRenderer\",\"attributes\":{\"name\":null,\"nonselection_glyph\":{\"type\":\"Circle\",\"id\":\"54fb40ed-43a2-470e-c73d-0ef9f3665fbd\"},\"doc\":null,\"server_data_source\":null,\"data_source\":{\"type\":\"ColumnDataSource\",\"id\":\"ae0cac3b-e2e6-4604-c6ee-599419a12508\"},\"glyph\":{\"type\":\"Circle\",\"id\":\"68582311-abde-4789-c715-78a4d0c0d2cc\"},\"selection_glyph\":null,\"id\":\"238a02b3-e1bd-462f-c61c-130de7b273f2\",\"tags\":[]}},{\"id\":\"1f4bd097-4ffe-4fdd-cf4e-0f2c2a6b99f4\",\"type\":\"DataRange1d\",\"attributes\":{\"sources\":[{\"columns\":[\"x\"],\"source\":{\"type\":\"ColumnDataSource\",\"id\":\"ae0cac3b-e2e6-4604-c6ee-599419a12508\"}}],\"id\":\"1f4bd097-4ffe-4fdd-cf4e-0f2c2a6b99f4\",\"tags\":[],\"doc\":null}},{\"id\":\"1f07709c-9180-46ad-c656-0a5c28549279\",\"type\":\"DataRange1d\",\"attributes\":{\"sources\":[{\"columns\":[\"y\"],\"source\":{\"type\":\"ColumnDataSource\",\"id\":\"ae0cac3b-e2e6-4604-c6ee-599419a12508\"}}],\"id\":\"1f07709c-9180-46ad-c656-0a5c28549279\",\"tags\":[],\"doc\":null}},{\"id\":\"c9ad566e-7db4-47e1-c7e4-45f268caa4b7\",\"type\":\"ToolEvents\",\"attributes\":{\"tags\":[],\"id\":\"c9ad566e-7db4-47e1-c7e4-45f268caa4b7\",\"geometries\":[],\"doc\":null}},{\"id\":\"726d9651-26a7-4dbc-cde2-0196622ddb44\",\"type\":\"BasicTickFormatter\",\"attributes\":{\"id\":\"726d9651-26a7-4dbc-cde2-0196622ddb44\",\"tags\":[],\"doc\":null}},{\"id\":\"86917684-608d-4f6b-cff3-146a5c5197c7\",\"type\":\"BasicTicker\",\"attributes\":{\"num_minor_ticks\":5,\"id\":\"86917684-608d-4f6b-cff3-146a5c5197c7\",\"tags\":[],\"doc\":null}},{\"id\":\"c63eef67-c46d-48fa-c885-6d2dba752924\",\"type\":\"LinearAxis\",\"attributes\":{\"formatter\":{\"type\":\"BasicTickFormatter\",\"id\":\"726d9651-26a7-4dbc-cde2-0196622ddb44\"},\"ticker\":{\"type\":\"BasicTicker\",\"id\":\"86917684-608d-4f6b-cff3-146a5c5197c7\"},\"plot\":{\"id\":\"49639db4-a51b-49a2-c935-bff03b70d736\",\"type\":\"Plot\",\"subtype\":\"Figure\"},\"axis_label\":null,\"id\":\"c63eef67-c46d-48fa-c885-6d2dba752924\",\"doc\":null,\"tags\":[]}},{\"id\":\"fa53e8bb-63ea-4b35-cbbb-060d9521a3d0\",\"type\":\"Grid\",\"attributes\":{\"dimension\":0,\"plot\":{\"id\":\"49639db4-a51b-49a2-c935-bff03b70d736\",\"type\":\"Plot\",\"subtype\":\"Figure\"},\"ticker\":{\"type\":\"BasicTicker\",\"id\":\"86917684-608d-4f6b-cff3-146a5c5197c7\"},\"id\":\"fa53e8bb-63ea-4b35-cbbb-060d9521a3d0\",\"doc\":null,\"tags\":[]}},{\"id\":\"26b910f7-7142-4da8-cdf7-b9d847846dc8\",\"type\":\"BasicTickFormatter\",\"attributes\":{\"id\":\"26b910f7-7142-4da8-cdf7-b9d847846dc8\",\"tags\":[],\"doc\":null}},{\"id\":\"7e53a95b-08ef-4339-c32e-16902ef9f67f\",\"type\":\"BasicTicker\",\"attributes\":{\"num_minor_ticks\":5,\"id\":\"7e53a95b-08ef-4339-c32e-16902ef9f67f\",\"tags\":[],\"doc\":null}},{\"id\":\"7c1c3b2b-9737-4c82-cc53-e49f48d9a50e\",\"type\":\"LinearAxis\",\"attributes\":{\"formatter\":{\"type\":\"BasicTickFormatter\",\"id\":\"26b910f7-7142-4da8-cdf7-b9d847846dc8\"},\"ticker\":{\"type\":\"BasicTicker\",\"id\":\"7e53a95b-08ef-4339-c32e-16902ef9f67f\"},\"plot\":{\"id\":\"49639db4-a51b-49a2-c935-bff03b70d736\",\"type\":\"Plot\",\"subtype\":\"Figure\"},\"axis_label\":null,\"id\":\"7c1c3b2b-9737-4c82-cc53-e49f48d9a50e\",\"doc\":null,\"tags\":[]}},{\"id\":\"9afa655f-a39a-4528-c531-0b258e1aed23\",\"type\":\"Grid\",\"attributes\":{\"dimension\":1,\"plot\":{\"id\":\"49639db4-a51b-49a2-c935-bff03b70d736\",\"type\":\"Plot\",\"subtype\":\"Figure\"},\"ticker\":{\"type\":\"BasicTicker\",\"id\":\"7e53a95b-08ef-4339-c32e-16902ef9f67f\"},\"id\":\"9afa655f-a39a-4528-c531-0b258e1aed23\",\"doc\":null,\"tags\":[]}},{\"id\":\"d0d4b845-1e1d-4bba-cbfe-d0a02a0f6a0b\",\"type\":\"PanTool\",\"attributes\":{\"plot\":{\"id\":\"49639db4-a51b-49a2-c935-bff03b70d736\",\"type\":\"Plot\",\"subtype\":\"Figure\"},\"dimensions\":[\"width\",\"height\"],\"id\":\"d0d4b845-1e1d-4bba-cbfe-d0a02a0f6a0b\",\"doc\":null,\"tags\":[]}},{\"id\":\"b3fb7d0d-10e3-4e01-ce5f-102b01eb5a09\",\"type\":\"WheelZoomTool\",\"attributes\":{\"plot\":{\"id\":\"49639db4-a51b-49a2-c935-bff03b70d736\",\"type\":\"Plot\",\"subtype\":\"Figure\"},\"dimensions\":[\"width\",\"height\"],\"id\":\"b3fb7d0d-10e3-4e01-ce5f-102b01eb5a09\",\"doc\":null,\"tags\":[]}},{\"id\":\"170864b3-51c1-48bb-c8b5-822ee5016f7f\",\"type\":\"BoxZoomTool\",\"attributes\":{\"plot\":{\"id\":\"49639db4-a51b-49a2-c935-bff03b70d736\",\"type\":\"Plot\",\"subtype\":\"Figure\"},\"id\":\"170864b3-51c1-48bb-c8b5-822ee5016f7f\",\"tags\":[],\"doc\":null}},{\"id\":\"4687fd86-8de1-480a-c815-083767da76ca\",\"type\":\"PreviewSaveTool\",\"attributes\":{\"plot\":{\"id\":\"49639db4-a51b-49a2-c935-bff03b70d736\",\"type\":\"Plot\",\"subtype\":\"Figure\"},\"id\":\"4687fd86-8de1-480a-c815-083767da76ca\",\"tags\":[],\"doc\":null}},{\"id\":\"f4cb1888-616c-45a0-c59e-109620a30fc8\",\"type\":\"ResizeTool\",\"attributes\":{\"plot\":{\"id\":\"49639db4-a51b-49a2-c935-bff03b70d736\",\"type\":\"Plot\",\"subtype\":\"Figure\"},\"id\":\"f4cb1888-616c-45a0-c59e-109620a30fc8\",\"tags\":[],\"doc\":null}},{\"id\":\"3dd3c44c-19a3-495b-c93f-c480dbfd62f0\",\"type\":\"ResetTool\",\"attributes\":{\"plot\":{\"id\":\"49639db4-a51b-49a2-c935-bff03b70d736\",\"type\":\"Plot\",\"subtype\":\"Figure\"},\"id\":\"3dd3c44c-19a3-495b-c93f-c480dbfd62f0\",\"tags\":[],\"doc\":null}},{\"id\":\"aa79834e-62fe-4931-c97a-215505fb245f\",\"type\":\"Legend\",\"attributes\":{\"plot\":{\"id\":\"49639db4-a51b-49a2-c935-bff03b70d736\",\"type\":\"Plot\",\"subtype\":\"Figure\"},\"legends\":[[\"loss\",[{\"type\":\"GlyphRenderer\",\"id\":\"238a02b3-e1bd-462f-c61c-130de7b273f2\"}]]],\"id\":\"aa79834e-62fe-4931-c97a-215505fb245f\",\"doc\":null,\"tags\":[]}},{\"id\":\"49639db4-a51b-49a2-c935-bff03b70d736\",\"type\":\"Plot\",\"attributes\":{\"x_range\":{\"type\":\"DataRange1d\",\"id\":\"1f4bd097-4ffe-4fdd-cf4e-0f2c2a6b99f4\"},\"tool_events\":{\"type\":\"ToolEvents\",\"id\":\"c9ad566e-7db4-47e1-c7e4-45f268caa4b7\"},\"below\":[{\"type\":\"LinearAxis\",\"id\":\"c63eef67-c46d-48fa-c885-6d2dba752924\"}],\"renderers\":[{\"type\":\"GlyphRenderer\",\"id\":\"238a02b3-e1bd-462f-c61c-130de7b273f2\"},{\"type\":\"LinearAxis\",\"id\":\"c63eef67-c46d-48fa-c885-6d2dba752924\"},{\"type\":\"Grid\",\"id\":\"fa53e8bb-63ea-4b35-cbbb-060d9521a3d0\"},{\"type\":\"LinearAxis\",\"id\":\"7c1c3b2b-9737-4c82-cc53-e49f48d9a50e\"},{\"type\":\"Grid\",\"id\":\"9afa655f-a39a-4528-c531-0b258e1aed23\"},{\"type\":\"Legend\",\"id\":\"aa79834e-62fe-4931-c97a-215505fb245f\"}],\"above\":[],\"tools\":[{\"type\":\"PanTool\",\"id\":\"d0d4b845-1e1d-4bba-cbfe-d0a02a0f6a0b\"},{\"type\":\"WheelZoomTool\",\"id\":\"b3fb7d0d-10e3-4e01-ce5f-102b01eb5a09\"},{\"type\":\"BoxZoomTool\",\"id\":\"170864b3-51c1-48bb-c8b5-822ee5016f7f\"},{\"type\":\"PreviewSaveTool\",\"id\":\"4687fd86-8de1-480a-c815-083767da76ca\"},{\"type\":\"ResizeTool\",\"id\":\"f4cb1888-616c-45a0-c59e-109620a30fc8\"},{\"type\":\"ResetTool\",\"id\":\"3dd3c44c-19a3-495b-c93f-c480dbfd62f0\"}],\"doc\":null,\"right\":[],\"title\":\"Loss\",\"extra_x_ranges\":{},\"left\":[{\"type\":\"LinearAxis\",\"id\":\"7c1c3b2b-9737-4c82-cc53-e49f48d9a50e\"}],\"y_range\":{\"type\":\"DataRange1d\",\"id\":\"1f07709c-9180-46ad-c656-0a5c28549279\"},\"id\":\"49639db4-a51b-49a2-c935-bff03b70d736\",\"extra_y_ranges\":{},\"tags\":[]}}];\n",
       "      Bokeh.load_models(all_models);\n",
       "      var model = Bokeh.Collections(modeltype).get(modelid);\n",
       "      $(\"#305b746c-3634-4deb-cd6a-06ee12c7e68c\").html(''); // clear any previous plot in window_id\n",
       "      var view = new model.default_view({model: model, el: \"#305b746c-3634-4deb-cd6a-06ee12c7e68c\"});\n",
       "  });\n",
       "    }\n",
       "});\n",
       "</script>\n",
       "<div class=\"plotdiv\" id=\"305b746c-3634-4deb-cd6a-06ee12c7e68c\"></div>\n"
      ]
     },
     "metadata": {},
     "output_type": "display_data"
    },
    {
     "data": {
      "text/html": [
       "<script type=\"text/javascript\">\n",
       "$(function() {\n",
       "    if (typeof (window._bokeh_onload_callbacks) === \"undefined\"){\n",
       "  window._bokeh_onload_callbacks = [];\n",
       "    }\n",
       "    function load_lib(url, callback){\n",
       "  window._bokeh_onload_callbacks.push(callback);\n",
       "  if (window._bokeh_is_loading){\n",
       "      console.log(\"Bokeh: BokehJS is being loaded, scheduling callback at\", new Date());\n",
       "      return null;\n",
       "  }\n",
       "  console.log(\"Bokeh: BokehJS not loaded, scheduling load and callback at\", new Date());\n",
       "  window._bokeh_is_loading = true;\n",
       "  var s = document.createElement('script');\n",
       "  s.src = url;\n",
       "  s.async = true;\n",
       "  s.onreadystatechange = s.onload = function(){\n",
       "      Bokeh.embed.inject_css(\"https://cdn.pydata.org/bokeh-0.7.0.min.css\");\n",
       "      window._bokeh_onload_callbacks.forEach(function(callback){callback()});\n",
       "  };\n",
       "  s.onerror = function(){\n",
       "      console.warn(\"failed to load library \" + url);\n",
       "  };\n",
       "  document.getElementsByTagName(\"head\")[0].appendChild(s);\n",
       "    }\n",
       "\n",
       "    bokehjs_url = \"https://cdn.pydata.org/bokeh-0.7.0.min.js\"\n",
       "\n",
       "    var elt = document.getElementById(\"dead1311-a44a-466b-c6df-2e448c3ddfb8\");\n",
       "    if(elt==null) {\n",
       "  console.log(\"Bokeh: ERROR: autoload.js configured with elementid 'dead1311-a44a-466b-c6df-2e448c3ddfb8'\"\n",
       "        + \"but no matching script tag was found. \")\n",
       "  return false;\n",
       "    }\n",
       "\n",
       "    if(typeof(Bokeh) !== \"undefined\") {\n",
       "  console.log(\"Bokeh: BokehJS loaded, going straight to plotting\");\n",
       "  var modelid = \"646beeb2-f4a7-41fc-c111-cf6af0eff6d8\";\n",
       "  var modeltype = \"Plot\";\n",
       "  var all_models = [{\"id\":\"4f4d10f5-e388-4b9b-cbf9-c9449d93716f\",\"type\":\"ColumnDataSource\",\"attributes\":{\"data\":{\"y\":[0.58869847151459,0.65030106530801,0.68596572487263,0.72070402964335,0.72301991662807,0.72857804539138,0.74154701250579,0.74293654469662,0.75081056044465,0.75683186660491],\"x\":[1,2,3,4,5,6,7,8,9,10]},\"column_names\":[\"y\",\"x\"],\"cont_ranges\":{},\"discrete_ranges\":{},\"selected\":[],\"id\":\"4f4d10f5-e388-4b9b-cbf9-c9449d93716f\",\"doc\":null,\"tags\":[]}},{\"id\":\"640a6289-e4fe-4237-c22a-04d575afa26a\",\"type\":\"Circle\",\"attributes\":{\"fill_alpha\":{\"units\":\"data\",\"value\":0.2},\"line_alpha\":{\"units\":\"data\",\"value\":1},\"doc\":null,\"size\":{\"units\":\"screen\",\"value\":10},\"fill_color\":{\"value\":\"green\"},\"line_color\":{\"value\":\"green\"},\"x\":{\"units\":\"data\",\"field\":\"x\"},\"id\":\"640a6289-e4fe-4237-c22a-04d575afa26a\",\"y\":{\"units\":\"data\",\"field\":\"y\"},\"tags\":[]}},{\"id\":\"23a6007e-c94b-4abe-ca14-4511e4e7105c\",\"type\":\"Circle\",\"attributes\":{\"fill_alpha\":{\"units\":\"data\",\"value\":0.2},\"line_alpha\":{\"units\":\"data\",\"value\":1},\"doc\":null,\"size\":{\"units\":\"screen\",\"value\":10},\"fill_color\":{\"value\":\"green\"},\"line_color\":{\"value\":\"green\"},\"x\":{\"units\":\"data\",\"field\":\"x\"},\"id\":\"23a6007e-c94b-4abe-ca14-4511e4e7105c\",\"y\":{\"units\":\"data\",\"field\":\"y\"},\"tags\":[]}},{\"id\":\"6df259df-00d6-4c1d-cc95-9a45b54cc3c1\",\"type\":\"GlyphRenderer\",\"attributes\":{\"name\":null,\"nonselection_glyph\":{\"type\":\"Circle\",\"id\":\"23a6007e-c94b-4abe-ca14-4511e4e7105c\"},\"doc\":null,\"server_data_source\":null,\"data_source\":{\"type\":\"ColumnDataSource\",\"id\":\"4f4d10f5-e388-4b9b-cbf9-c9449d93716f\"},\"glyph\":{\"type\":\"Circle\",\"id\":\"640a6289-e4fe-4237-c22a-04d575afa26a\"},\"selection_glyph\":null,\"id\":\"6df259df-00d6-4c1d-cc95-9a45b54cc3c1\",\"tags\":[]}},{\"id\":\"859ec279-368f-4bd5-cbfe-edc6559df4c5\",\"type\":\"DataRange1d\",\"attributes\":{\"sources\":[{\"columns\":[\"x\"],\"source\":{\"type\":\"ColumnDataSource\",\"id\":\"4f4d10f5-e388-4b9b-cbf9-c9449d93716f\"}}],\"id\":\"859ec279-368f-4bd5-cbfe-edc6559df4c5\",\"tags\":[],\"doc\":null}},{\"id\":\"3efc495f-e3c2-448d-c46e-43fafc3c538e\",\"type\":\"DataRange1d\",\"attributes\":{\"sources\":[{\"columns\":[\"y\"],\"source\":{\"type\":\"ColumnDataSource\",\"id\":\"4f4d10f5-e388-4b9b-cbf9-c9449d93716f\"}}],\"id\":\"3efc495f-e3c2-448d-c46e-43fafc3c538e\",\"tags\":[],\"doc\":null}},{\"id\":\"a2845367-8bc9-4a0d-cab4-c2a59b2b0972\",\"type\":\"ToolEvents\",\"attributes\":{\"tags\":[],\"id\":\"a2845367-8bc9-4a0d-cab4-c2a59b2b0972\",\"geometries\":[],\"doc\":null}},{\"id\":\"a04ed1b4-3c62-4b65-cbb4-c3d180329b66\",\"type\":\"BasicTickFormatter\",\"attributes\":{\"id\":\"a04ed1b4-3c62-4b65-cbb4-c3d180329b66\",\"tags\":[],\"doc\":null}},{\"id\":\"77eec186-0054-431c-c372-a14b085461d5\",\"type\":\"BasicTicker\",\"attributes\":{\"num_minor_ticks\":5,\"id\":\"77eec186-0054-431c-c372-a14b085461d5\",\"tags\":[],\"doc\":null}},{\"id\":\"5a5b9abf-c699-4165-c113-4182642f97d5\",\"type\":\"LinearAxis\",\"attributes\":{\"formatter\":{\"type\":\"BasicTickFormatter\",\"id\":\"a04ed1b4-3c62-4b65-cbb4-c3d180329b66\"},\"ticker\":{\"type\":\"BasicTicker\",\"id\":\"77eec186-0054-431c-c372-a14b085461d5\"},\"plot\":{\"id\":\"646beeb2-f4a7-41fc-c111-cf6af0eff6d8\",\"type\":\"Plot\",\"subtype\":\"Figure\"},\"axis_label\":null,\"id\":\"5a5b9abf-c699-4165-c113-4182642f97d5\",\"doc\":null,\"tags\":[]}},{\"id\":\"595acf0b-a9ae-4013-c05d-28642b4958df\",\"type\":\"Grid\",\"attributes\":{\"dimension\":0,\"plot\":{\"id\":\"646beeb2-f4a7-41fc-c111-cf6af0eff6d8\",\"type\":\"Plot\",\"subtype\":\"Figure\"},\"ticker\":{\"type\":\"BasicTicker\",\"id\":\"77eec186-0054-431c-c372-a14b085461d5\"},\"id\":\"595acf0b-a9ae-4013-c05d-28642b4958df\",\"doc\":null,\"tags\":[]}},{\"id\":\"e9c556fc-44be-4b94-cb22-6242330a5b29\",\"type\":\"BasicTickFormatter\",\"attributes\":{\"id\":\"e9c556fc-44be-4b94-cb22-6242330a5b29\",\"tags\":[],\"doc\":null}},{\"id\":\"63cdae29-d8e5-4d25-cd6f-c002c1bdd632\",\"type\":\"BasicTicker\",\"attributes\":{\"num_minor_ticks\":5,\"id\":\"63cdae29-d8e5-4d25-cd6f-c002c1bdd632\",\"tags\":[],\"doc\":null}},{\"id\":\"879eedd4-3204-4e47-ce4f-e4eee7874098\",\"type\":\"LinearAxis\",\"attributes\":{\"formatter\":{\"type\":\"BasicTickFormatter\",\"id\":\"e9c556fc-44be-4b94-cb22-6242330a5b29\"},\"ticker\":{\"type\":\"BasicTicker\",\"id\":\"63cdae29-d8e5-4d25-cd6f-c002c1bdd632\"},\"plot\":{\"id\":\"646beeb2-f4a7-41fc-c111-cf6af0eff6d8\",\"type\":\"Plot\",\"subtype\":\"Figure\"},\"axis_label\":null,\"id\":\"879eedd4-3204-4e47-ce4f-e4eee7874098\",\"doc\":null,\"tags\":[]}},{\"id\":\"d912b050-9b49-47dd-c708-a95a55d6bb2b\",\"type\":\"Grid\",\"attributes\":{\"dimension\":1,\"plot\":{\"id\":\"646beeb2-f4a7-41fc-c111-cf6af0eff6d8\",\"type\":\"Plot\",\"subtype\":\"Figure\"},\"ticker\":{\"type\":\"BasicTicker\",\"id\":\"63cdae29-d8e5-4d25-cd6f-c002c1bdd632\"},\"id\":\"d912b050-9b49-47dd-c708-a95a55d6bb2b\",\"doc\":null,\"tags\":[]}},{\"id\":\"83cf6174-83d8-4560-c54d-eeb4c0590d89\",\"type\":\"PanTool\",\"attributes\":{\"plot\":{\"id\":\"646beeb2-f4a7-41fc-c111-cf6af0eff6d8\",\"type\":\"Plot\",\"subtype\":\"Figure\"},\"dimensions\":[\"width\",\"height\"],\"id\":\"83cf6174-83d8-4560-c54d-eeb4c0590d89\",\"doc\":null,\"tags\":[]}},{\"id\":\"c3e338b3-6705-46a9-c67d-b37158e63e27\",\"type\":\"WheelZoomTool\",\"attributes\":{\"plot\":{\"id\":\"646beeb2-f4a7-41fc-c111-cf6af0eff6d8\",\"type\":\"Plot\",\"subtype\":\"Figure\"},\"dimensions\":[\"width\",\"height\"],\"id\":\"c3e338b3-6705-46a9-c67d-b37158e63e27\",\"doc\":null,\"tags\":[]}},{\"id\":\"84082131-4e92-4dae-cd99-46d07a0861bd\",\"type\":\"BoxZoomTool\",\"attributes\":{\"plot\":{\"id\":\"646beeb2-f4a7-41fc-c111-cf6af0eff6d8\",\"type\":\"Plot\",\"subtype\":\"Figure\"},\"id\":\"84082131-4e92-4dae-cd99-46d07a0861bd\",\"tags\":[],\"doc\":null}},{\"id\":\"3b2ab9be-6086-4d96-cd0b-29e168a85086\",\"type\":\"PreviewSaveTool\",\"attributes\":{\"plot\":{\"id\":\"646beeb2-f4a7-41fc-c111-cf6af0eff6d8\",\"type\":\"Plot\",\"subtype\":\"Figure\"},\"id\":\"3b2ab9be-6086-4d96-cd0b-29e168a85086\",\"tags\":[],\"doc\":null}},{\"id\":\"d5b747fd-daeb-4556-c591-a030e515e25b\",\"type\":\"ResizeTool\",\"attributes\":{\"plot\":{\"id\":\"646beeb2-f4a7-41fc-c111-cf6af0eff6d8\",\"type\":\"Plot\",\"subtype\":\"Figure\"},\"id\":\"d5b747fd-daeb-4556-c591-a030e515e25b\",\"tags\":[],\"doc\":null}},{\"id\":\"69164ef6-6c17-4715-c721-37c02b62bef0\",\"type\":\"ResetTool\",\"attributes\":{\"plot\":{\"id\":\"646beeb2-f4a7-41fc-c111-cf6af0eff6d8\",\"type\":\"Plot\",\"subtype\":\"Figure\"},\"id\":\"69164ef6-6c17-4715-c721-37c02b62bef0\",\"tags\":[],\"doc\":null}},{\"id\":\"5ca795bb-e696-4f46-cf25-a9f5564f16c4\",\"type\":\"Legend\",\"attributes\":{\"plot\":{\"id\":\"646beeb2-f4a7-41fc-c111-cf6af0eff6d8\",\"type\":\"Plot\",\"subtype\":\"Figure\"},\"legends\":[[\"accuracy\",[{\"type\":\"GlyphRenderer\",\"id\":\"6df259df-00d6-4c1d-cc95-9a45b54cc3c1\"}]]],\"id\":\"5ca795bb-e696-4f46-cf25-a9f5564f16c4\",\"doc\":null,\"tags\":[]}},{\"id\":\"646beeb2-f4a7-41fc-c111-cf6af0eff6d8\",\"type\":\"Plot\",\"attributes\":{\"x_range\":{\"type\":\"DataRange1d\",\"id\":\"859ec279-368f-4bd5-cbfe-edc6559df4c5\"},\"tool_events\":{\"type\":\"ToolEvents\",\"id\":\"a2845367-8bc9-4a0d-cab4-c2a59b2b0972\"},\"below\":[{\"type\":\"LinearAxis\",\"id\":\"5a5b9abf-c699-4165-c113-4182642f97d5\"}],\"renderers\":[{\"type\":\"GlyphRenderer\",\"id\":\"6df259df-00d6-4c1d-cc95-9a45b54cc3c1\"},{\"type\":\"LinearAxis\",\"id\":\"5a5b9abf-c699-4165-c113-4182642f97d5\"},{\"type\":\"Grid\",\"id\":\"595acf0b-a9ae-4013-c05d-28642b4958df\"},{\"type\":\"LinearAxis\",\"id\":\"879eedd4-3204-4e47-ce4f-e4eee7874098\"},{\"type\":\"Grid\",\"id\":\"d912b050-9b49-47dd-c708-a95a55d6bb2b\"},{\"type\":\"Legend\",\"id\":\"5ca795bb-e696-4f46-cf25-a9f5564f16c4\"}],\"above\":[],\"tools\":[{\"type\":\"PanTool\",\"id\":\"83cf6174-83d8-4560-c54d-eeb4c0590d89\"},{\"type\":\"WheelZoomTool\",\"id\":\"c3e338b3-6705-46a9-c67d-b37158e63e27\"},{\"type\":\"BoxZoomTool\",\"id\":\"84082131-4e92-4dae-cd99-46d07a0861bd\"},{\"type\":\"PreviewSaveTool\",\"id\":\"3b2ab9be-6086-4d96-cd0b-29e168a85086\"},{\"type\":\"ResizeTool\",\"id\":\"d5b747fd-daeb-4556-c591-a030e515e25b\"},{\"type\":\"ResetTool\",\"id\":\"69164ef6-6c17-4715-c721-37c02b62bef0\"}],\"doc\":null,\"right\":[],\"title\":\"Accuacy\",\"extra_x_ranges\":{},\"left\":[{\"type\":\"LinearAxis\",\"id\":\"879eedd4-3204-4e47-ce4f-e4eee7874098\"}],\"y_range\":{\"type\":\"DataRange1d\",\"id\":\"3efc495f-e3c2-448d-c46e-43fafc3c538e\"},\"id\":\"646beeb2-f4a7-41fc-c111-cf6af0eff6d8\",\"extra_y_ranges\":{},\"tags\":[]}}];\n",
       "  Bokeh.load_models(all_models);\n",
       "  var model = Bokeh.Collections(modeltype).get(modelid);\n",
       "  $(\"#dead1311-a44a-466b-c6df-2e448c3ddfb8\").html(''); // clear any previous plot in window_id\n",
       "  var view = new model.default_view({model: model, el: \"#dead1311-a44a-466b-c6df-2e448c3ddfb8\"});\n",
       "    } else {\n",
       "  load_lib(bokehjs_url, function() {\n",
       "      console.log(\"Bokeh: BokehJS plotting callback run at\", new Date())\n",
       "      var modelid = \"646beeb2-f4a7-41fc-c111-cf6af0eff6d8\";\n",
       "      var modeltype = \"Plot\";\n",
       "      var all_models = [{\"id\":\"4f4d10f5-e388-4b9b-cbf9-c9449d93716f\",\"type\":\"ColumnDataSource\",\"attributes\":{\"data\":{\"y\":[0.58869847151459,0.65030106530801,0.68596572487263,0.72070402964335,0.72301991662807,0.72857804539138,0.74154701250579,0.74293654469662,0.75081056044465,0.75683186660491],\"x\":[1,2,3,4,5,6,7,8,9,10]},\"column_names\":[\"y\",\"x\"],\"cont_ranges\":{},\"discrete_ranges\":{},\"selected\":[],\"id\":\"4f4d10f5-e388-4b9b-cbf9-c9449d93716f\",\"doc\":null,\"tags\":[]}},{\"id\":\"640a6289-e4fe-4237-c22a-04d575afa26a\",\"type\":\"Circle\",\"attributes\":{\"fill_alpha\":{\"units\":\"data\",\"value\":0.2},\"line_alpha\":{\"units\":\"data\",\"value\":1},\"doc\":null,\"size\":{\"units\":\"screen\",\"value\":10},\"fill_color\":{\"value\":\"green\"},\"line_color\":{\"value\":\"green\"},\"x\":{\"units\":\"data\",\"field\":\"x\"},\"id\":\"640a6289-e4fe-4237-c22a-04d575afa26a\",\"y\":{\"units\":\"data\",\"field\":\"y\"},\"tags\":[]}},{\"id\":\"23a6007e-c94b-4abe-ca14-4511e4e7105c\",\"type\":\"Circle\",\"attributes\":{\"fill_alpha\":{\"units\":\"data\",\"value\":0.2},\"line_alpha\":{\"units\":\"data\",\"value\":1},\"doc\":null,\"size\":{\"units\":\"screen\",\"value\":10},\"fill_color\":{\"value\":\"green\"},\"line_color\":{\"value\":\"green\"},\"x\":{\"units\":\"data\",\"field\":\"x\"},\"id\":\"23a6007e-c94b-4abe-ca14-4511e4e7105c\",\"y\":{\"units\":\"data\",\"field\":\"y\"},\"tags\":[]}},{\"id\":\"6df259df-00d6-4c1d-cc95-9a45b54cc3c1\",\"type\":\"GlyphRenderer\",\"attributes\":{\"name\":null,\"nonselection_glyph\":{\"type\":\"Circle\",\"id\":\"23a6007e-c94b-4abe-ca14-4511e4e7105c\"},\"doc\":null,\"server_data_source\":null,\"data_source\":{\"type\":\"ColumnDataSource\",\"id\":\"4f4d10f5-e388-4b9b-cbf9-c9449d93716f\"},\"glyph\":{\"type\":\"Circle\",\"id\":\"640a6289-e4fe-4237-c22a-04d575afa26a\"},\"selection_glyph\":null,\"id\":\"6df259df-00d6-4c1d-cc95-9a45b54cc3c1\",\"tags\":[]}},{\"id\":\"859ec279-368f-4bd5-cbfe-edc6559df4c5\",\"type\":\"DataRange1d\",\"attributes\":{\"sources\":[{\"columns\":[\"x\"],\"source\":{\"type\":\"ColumnDataSource\",\"id\":\"4f4d10f5-e388-4b9b-cbf9-c9449d93716f\"}}],\"id\":\"859ec279-368f-4bd5-cbfe-edc6559df4c5\",\"tags\":[],\"doc\":null}},{\"id\":\"3efc495f-e3c2-448d-c46e-43fafc3c538e\",\"type\":\"DataRange1d\",\"attributes\":{\"sources\":[{\"columns\":[\"y\"],\"source\":{\"type\":\"ColumnDataSource\",\"id\":\"4f4d10f5-e388-4b9b-cbf9-c9449d93716f\"}}],\"id\":\"3efc495f-e3c2-448d-c46e-43fafc3c538e\",\"tags\":[],\"doc\":null}},{\"id\":\"a2845367-8bc9-4a0d-cab4-c2a59b2b0972\",\"type\":\"ToolEvents\",\"attributes\":{\"tags\":[],\"id\":\"a2845367-8bc9-4a0d-cab4-c2a59b2b0972\",\"geometries\":[],\"doc\":null}},{\"id\":\"a04ed1b4-3c62-4b65-cbb4-c3d180329b66\",\"type\":\"BasicTickFormatter\",\"attributes\":{\"id\":\"a04ed1b4-3c62-4b65-cbb4-c3d180329b66\",\"tags\":[],\"doc\":null}},{\"id\":\"77eec186-0054-431c-c372-a14b085461d5\",\"type\":\"BasicTicker\",\"attributes\":{\"num_minor_ticks\":5,\"id\":\"77eec186-0054-431c-c372-a14b085461d5\",\"tags\":[],\"doc\":null}},{\"id\":\"5a5b9abf-c699-4165-c113-4182642f97d5\",\"type\":\"LinearAxis\",\"attributes\":{\"formatter\":{\"type\":\"BasicTickFormatter\",\"id\":\"a04ed1b4-3c62-4b65-cbb4-c3d180329b66\"},\"ticker\":{\"type\":\"BasicTicker\",\"id\":\"77eec186-0054-431c-c372-a14b085461d5\"},\"plot\":{\"id\":\"646beeb2-f4a7-41fc-c111-cf6af0eff6d8\",\"type\":\"Plot\",\"subtype\":\"Figure\"},\"axis_label\":null,\"id\":\"5a5b9abf-c699-4165-c113-4182642f97d5\",\"doc\":null,\"tags\":[]}},{\"id\":\"595acf0b-a9ae-4013-c05d-28642b4958df\",\"type\":\"Grid\",\"attributes\":{\"dimension\":0,\"plot\":{\"id\":\"646beeb2-f4a7-41fc-c111-cf6af0eff6d8\",\"type\":\"Plot\",\"subtype\":\"Figure\"},\"ticker\":{\"type\":\"BasicTicker\",\"id\":\"77eec186-0054-431c-c372-a14b085461d5\"},\"id\":\"595acf0b-a9ae-4013-c05d-28642b4958df\",\"doc\":null,\"tags\":[]}},{\"id\":\"e9c556fc-44be-4b94-cb22-6242330a5b29\",\"type\":\"BasicTickFormatter\",\"attributes\":{\"id\":\"e9c556fc-44be-4b94-cb22-6242330a5b29\",\"tags\":[],\"doc\":null}},{\"id\":\"63cdae29-d8e5-4d25-cd6f-c002c1bdd632\",\"type\":\"BasicTicker\",\"attributes\":{\"num_minor_ticks\":5,\"id\":\"63cdae29-d8e5-4d25-cd6f-c002c1bdd632\",\"tags\":[],\"doc\":null}},{\"id\":\"879eedd4-3204-4e47-ce4f-e4eee7874098\",\"type\":\"LinearAxis\",\"attributes\":{\"formatter\":{\"type\":\"BasicTickFormatter\",\"id\":\"e9c556fc-44be-4b94-cb22-6242330a5b29\"},\"ticker\":{\"type\":\"BasicTicker\",\"id\":\"63cdae29-d8e5-4d25-cd6f-c002c1bdd632\"},\"plot\":{\"id\":\"646beeb2-f4a7-41fc-c111-cf6af0eff6d8\",\"type\":\"Plot\",\"subtype\":\"Figure\"},\"axis_label\":null,\"id\":\"879eedd4-3204-4e47-ce4f-e4eee7874098\",\"doc\":null,\"tags\":[]}},{\"id\":\"d912b050-9b49-47dd-c708-a95a55d6bb2b\",\"type\":\"Grid\",\"attributes\":{\"dimension\":1,\"plot\":{\"id\":\"646beeb2-f4a7-41fc-c111-cf6af0eff6d8\",\"type\":\"Plot\",\"subtype\":\"Figure\"},\"ticker\":{\"type\":\"BasicTicker\",\"id\":\"63cdae29-d8e5-4d25-cd6f-c002c1bdd632\"},\"id\":\"d912b050-9b49-47dd-c708-a95a55d6bb2b\",\"doc\":null,\"tags\":[]}},{\"id\":\"83cf6174-83d8-4560-c54d-eeb4c0590d89\",\"type\":\"PanTool\",\"attributes\":{\"plot\":{\"id\":\"646beeb2-f4a7-41fc-c111-cf6af0eff6d8\",\"type\":\"Plot\",\"subtype\":\"Figure\"},\"dimensions\":[\"width\",\"height\"],\"id\":\"83cf6174-83d8-4560-c54d-eeb4c0590d89\",\"doc\":null,\"tags\":[]}},{\"id\":\"c3e338b3-6705-46a9-c67d-b37158e63e27\",\"type\":\"WheelZoomTool\",\"attributes\":{\"plot\":{\"id\":\"646beeb2-f4a7-41fc-c111-cf6af0eff6d8\",\"type\":\"Plot\",\"subtype\":\"Figure\"},\"dimensions\":[\"width\",\"height\"],\"id\":\"c3e338b3-6705-46a9-c67d-b37158e63e27\",\"doc\":null,\"tags\":[]}},{\"id\":\"84082131-4e92-4dae-cd99-46d07a0861bd\",\"type\":\"BoxZoomTool\",\"attributes\":{\"plot\":{\"id\":\"646beeb2-f4a7-41fc-c111-cf6af0eff6d8\",\"type\":\"Plot\",\"subtype\":\"Figure\"},\"id\":\"84082131-4e92-4dae-cd99-46d07a0861bd\",\"tags\":[],\"doc\":null}},{\"id\":\"3b2ab9be-6086-4d96-cd0b-29e168a85086\",\"type\":\"PreviewSaveTool\",\"attributes\":{\"plot\":{\"id\":\"646beeb2-f4a7-41fc-c111-cf6af0eff6d8\",\"type\":\"Plot\",\"subtype\":\"Figure\"},\"id\":\"3b2ab9be-6086-4d96-cd0b-29e168a85086\",\"tags\":[],\"doc\":null}},{\"id\":\"d5b747fd-daeb-4556-c591-a030e515e25b\",\"type\":\"ResizeTool\",\"attributes\":{\"plot\":{\"id\":\"646beeb2-f4a7-41fc-c111-cf6af0eff6d8\",\"type\":\"Plot\",\"subtype\":\"Figure\"},\"id\":\"d5b747fd-daeb-4556-c591-a030e515e25b\",\"tags\":[],\"doc\":null}},{\"id\":\"69164ef6-6c17-4715-c721-37c02b62bef0\",\"type\":\"ResetTool\",\"attributes\":{\"plot\":{\"id\":\"646beeb2-f4a7-41fc-c111-cf6af0eff6d8\",\"type\":\"Plot\",\"subtype\":\"Figure\"},\"id\":\"69164ef6-6c17-4715-c721-37c02b62bef0\",\"tags\":[],\"doc\":null}},{\"id\":\"5ca795bb-e696-4f46-cf25-a9f5564f16c4\",\"type\":\"Legend\",\"attributes\":{\"plot\":{\"id\":\"646beeb2-f4a7-41fc-c111-cf6af0eff6d8\",\"type\":\"Plot\",\"subtype\":\"Figure\"},\"legends\":[[\"accuracy\",[{\"type\":\"GlyphRenderer\",\"id\":\"6df259df-00d6-4c1d-cc95-9a45b54cc3c1\"}]]],\"id\":\"5ca795bb-e696-4f46-cf25-a9f5564f16c4\",\"doc\":null,\"tags\":[]}},{\"id\":\"646beeb2-f4a7-41fc-c111-cf6af0eff6d8\",\"type\":\"Plot\",\"attributes\":{\"x_range\":{\"type\":\"DataRange1d\",\"id\":\"859ec279-368f-4bd5-cbfe-edc6559df4c5\"},\"tool_events\":{\"type\":\"ToolEvents\",\"id\":\"a2845367-8bc9-4a0d-cab4-c2a59b2b0972\"},\"below\":[{\"type\":\"LinearAxis\",\"id\":\"5a5b9abf-c699-4165-c113-4182642f97d5\"}],\"renderers\":[{\"type\":\"GlyphRenderer\",\"id\":\"6df259df-00d6-4c1d-cc95-9a45b54cc3c1\"},{\"type\":\"LinearAxis\",\"id\":\"5a5b9abf-c699-4165-c113-4182642f97d5\"},{\"type\":\"Grid\",\"id\":\"595acf0b-a9ae-4013-c05d-28642b4958df\"},{\"type\":\"LinearAxis\",\"id\":\"879eedd4-3204-4e47-ce4f-e4eee7874098\"},{\"type\":\"Grid\",\"id\":\"d912b050-9b49-47dd-c708-a95a55d6bb2b\"},{\"type\":\"Legend\",\"id\":\"5ca795bb-e696-4f46-cf25-a9f5564f16c4\"}],\"above\":[],\"tools\":[{\"type\":\"PanTool\",\"id\":\"83cf6174-83d8-4560-c54d-eeb4c0590d89\"},{\"type\":\"WheelZoomTool\",\"id\":\"c3e338b3-6705-46a9-c67d-b37158e63e27\"},{\"type\":\"BoxZoomTool\",\"id\":\"84082131-4e92-4dae-cd99-46d07a0861bd\"},{\"type\":\"PreviewSaveTool\",\"id\":\"3b2ab9be-6086-4d96-cd0b-29e168a85086\"},{\"type\":\"ResizeTool\",\"id\":\"d5b747fd-daeb-4556-c591-a030e515e25b\"},{\"type\":\"ResetTool\",\"id\":\"69164ef6-6c17-4715-c721-37c02b62bef0\"}],\"doc\":null,\"right\":[],\"title\":\"Accuacy\",\"extra_x_ranges\":{},\"left\":[{\"type\":\"LinearAxis\",\"id\":\"879eedd4-3204-4e47-ce4f-e4eee7874098\"}],\"y_range\":{\"type\":\"DataRange1d\",\"id\":\"3efc495f-e3c2-448d-c46e-43fafc3c538e\"},\"id\":\"646beeb2-f4a7-41fc-c111-cf6af0eff6d8\",\"extra_y_ranges\":{},\"tags\":[]}}];\n",
       "      Bokeh.load_models(all_models);\n",
       "      var model = Bokeh.Collections(modeltype).get(modelid);\n",
       "      $(\"#dead1311-a44a-466b-c6df-2e448c3ddfb8\").html(''); // clear any previous plot in window_id\n",
       "      var view = new model.default_view({model: model, el: \"#dead1311-a44a-466b-c6df-2e448c3ddfb8\"});\n",
       "  });\n",
       "    }\n",
       "});\n",
       "</script>\n",
       "<div class=\"plotdiv\" id=\"dead1311-a44a-466b-c6df-2e448c3ddfb8\"></div>\n"
      ]
     },
     "metadata": {},
     "output_type": "display_data"
    },
    {
     "data": {
      "text/html": [
       "<script type=\"text/javascript\">\n",
       "$(function() {\n",
       "    if (typeof (window._bokeh_onload_callbacks) === \"undefined\"){\n",
       "  window._bokeh_onload_callbacks = [];\n",
       "    }\n",
       "    function load_lib(url, callback){\n",
       "  window._bokeh_onload_callbacks.push(callback);\n",
       "  if (window._bokeh_is_loading){\n",
       "      console.log(\"Bokeh: BokehJS is being loaded, scheduling callback at\", new Date());\n",
       "      return null;\n",
       "  }\n",
       "  console.log(\"Bokeh: BokehJS not loaded, scheduling load and callback at\", new Date());\n",
       "  window._bokeh_is_loading = true;\n",
       "  var s = document.createElement('script');\n",
       "  s.src = url;\n",
       "  s.async = true;\n",
       "  s.onreadystatechange = s.onload = function(){\n",
       "      Bokeh.embed.inject_css(\"https://cdn.pydata.org/bokeh-0.7.0.min.css\");\n",
       "      window._bokeh_onload_callbacks.forEach(function(callback){callback()});\n",
       "  };\n",
       "  s.onerror = function(){\n",
       "      console.warn(\"failed to load library \" + url);\n",
       "  };\n",
       "  document.getElementsByTagName(\"head\")[0].appendChild(s);\n",
       "    }\n",
       "\n",
       "    bokehjs_url = \"https://cdn.pydata.org/bokeh-0.7.0.min.js\"\n",
       "\n",
       "    var elt = document.getElementById(\"13820127-d537-41f7-c15d-06b0f3819c39\");\n",
       "    if(elt==null) {\n",
       "  console.log(\"Bokeh: ERROR: autoload.js configured with elementid '13820127-d537-41f7-c15d-06b0f3819c39'\"\n",
       "        + \"but no matching script tag was found. \")\n",
       "  return false;\n",
       "    }\n",
       "\n",
       "    if(typeof(Bokeh) !== \"undefined\") {\n",
       "  console.log(\"Bokeh: BokehJS loaded, going straight to plotting\");\n",
       "  var modelid = \"5a378944-7b3c-4520-c586-07b43985377b\";\n",
       "  var modeltype = \"Plot\";\n",
       "  var all_models = [{\"id\":\"374867bb-f5ed-4c03-cc94-c879f6a8e7fd\",\"type\":\"ColumnDataSource\",\"attributes\":{\"data\":{\"y\":[2.3855108281015,1.6384673833631,1.3554038653154,1.2148154832552,1.1172034836629,1.0711465551445,1.0220557724488,0.97202966134181,0.94330550943352,0.92537310589496],\"x\":[1,2,3,4,5,6,7,8,9,10]},\"column_names\":[\"y\",\"x\"],\"cont_ranges\":{},\"discrete_ranges\":{},\"selected\":[],\"id\":\"374867bb-f5ed-4c03-cc94-c879f6a8e7fd\",\"doc\":null,\"tags\":[]}},{\"id\":\"e25517cd-3e4d-4ec9-ce13-b140731388c2\",\"type\":\"Line\",\"attributes\":{\"fill_alpha\":{\"units\":\"data\",\"value\":0.2},\"line_alpha\":{\"units\":\"data\",\"value\":1},\"doc\":null,\"size\":{\"units\":\"screen\",\"value\":10},\"fill_color\":{\"value\":\"red\"},\"line_color\":{\"value\":\"red\"},\"x\":{\"units\":\"data\",\"field\":\"x\"},\"id\":\"e25517cd-3e4d-4ec9-ce13-b140731388c2\",\"y\":{\"units\":\"data\",\"field\":\"y\"},\"tags\":[]}},{\"id\":\"621fe168-14ef-4273-c28b-8b87a11b42a0\",\"type\":\"Line\",\"attributes\":{\"fill_alpha\":{\"units\":\"data\",\"value\":0.2},\"line_alpha\":{\"units\":\"data\",\"value\":1},\"doc\":null,\"size\":{\"units\":\"screen\",\"value\":10},\"fill_color\":{\"value\":\"red\"},\"line_color\":{\"value\":\"red\"},\"x\":{\"units\":\"data\",\"field\":\"x\"},\"id\":\"621fe168-14ef-4273-c28b-8b87a11b42a0\",\"y\":{\"units\":\"data\",\"field\":\"y\"},\"tags\":[]}},{\"id\":\"38328263-8a7c-46bb-c6f9-c44451eaef01\",\"type\":\"GlyphRenderer\",\"attributes\":{\"name\":null,\"nonselection_glyph\":{\"type\":\"Line\",\"id\":\"621fe168-14ef-4273-c28b-8b87a11b42a0\"},\"doc\":null,\"server_data_source\":null,\"data_source\":{\"type\":\"ColumnDataSource\",\"id\":\"374867bb-f5ed-4c03-cc94-c879f6a8e7fd\"},\"glyph\":{\"type\":\"Line\",\"id\":\"e25517cd-3e4d-4ec9-ce13-b140731388c2\"},\"selection_glyph\":null,\"id\":\"38328263-8a7c-46bb-c6f9-c44451eaef01\",\"tags\":[]}},{\"id\":\"77dff367-a034-4c70-cc05-f6348dfc3182\",\"type\":\"DataRange1d\",\"attributes\":{\"sources\":[{\"columns\":[\"x\"],\"source\":{\"type\":\"ColumnDataSource\",\"id\":\"374867bb-f5ed-4c03-cc94-c879f6a8e7fd\"}}],\"id\":\"77dff367-a034-4c70-cc05-f6348dfc3182\",\"tags\":[],\"doc\":null}},{\"id\":\"720ce3f4-adbd-4759-c74d-6d1c03a579fa\",\"type\":\"DataRange1d\",\"attributes\":{\"sources\":[{\"columns\":[\"y\"],\"source\":{\"type\":\"ColumnDataSource\",\"id\":\"374867bb-f5ed-4c03-cc94-c879f6a8e7fd\"}}],\"id\":\"720ce3f4-adbd-4759-c74d-6d1c03a579fa\",\"tags\":[],\"doc\":null}},{\"id\":\"1ca17190-8551-4779-c7cb-80a9f4e2a7df\",\"type\":\"ToolEvents\",\"attributes\":{\"tags\":[],\"id\":\"1ca17190-8551-4779-c7cb-80a9f4e2a7df\",\"geometries\":[],\"doc\":null}},{\"id\":\"2f86fe8e-949c-4a13-caa9-3e5857977ae1\",\"type\":\"BasicTickFormatter\",\"attributes\":{\"id\":\"2f86fe8e-949c-4a13-caa9-3e5857977ae1\",\"tags\":[],\"doc\":null}},{\"id\":\"09dfa364-055c-4f2d-cfeb-3c05cb99a532\",\"type\":\"BasicTicker\",\"attributes\":{\"num_minor_ticks\":5,\"id\":\"09dfa364-055c-4f2d-cfeb-3c05cb99a532\",\"tags\":[],\"doc\":null}},{\"id\":\"852ef399-86af-4f40-cff6-91572f09d876\",\"type\":\"LinearAxis\",\"attributes\":{\"formatter\":{\"type\":\"BasicTickFormatter\",\"id\":\"2f86fe8e-949c-4a13-caa9-3e5857977ae1\"},\"ticker\":{\"type\":\"BasicTicker\",\"id\":\"09dfa364-055c-4f2d-cfeb-3c05cb99a532\"},\"plot\":{\"id\":\"5a378944-7b3c-4520-c586-07b43985377b\",\"type\":\"Plot\",\"subtype\":\"Figure\"},\"axis_label\":null,\"id\":\"852ef399-86af-4f40-cff6-91572f09d876\",\"doc\":null,\"tags\":[]}},{\"id\":\"c7484057-4e31-4147-c105-8a831a95b851\",\"type\":\"Grid\",\"attributes\":{\"dimension\":0,\"plot\":{\"id\":\"5a378944-7b3c-4520-c586-07b43985377b\",\"type\":\"Plot\",\"subtype\":\"Figure\"},\"ticker\":{\"type\":\"BasicTicker\",\"id\":\"09dfa364-055c-4f2d-cfeb-3c05cb99a532\"},\"id\":\"c7484057-4e31-4147-c105-8a831a95b851\",\"doc\":null,\"tags\":[]}},{\"id\":\"7ca36d43-9f1c-4602-c6f8-e30d7fb8cc4f\",\"type\":\"BasicTickFormatter\",\"attributes\":{\"id\":\"7ca36d43-9f1c-4602-c6f8-e30d7fb8cc4f\",\"tags\":[],\"doc\":null}},{\"id\":\"f6d71c74-7cfb-4362-c349-3a585482f586\",\"type\":\"BasicTicker\",\"attributes\":{\"num_minor_ticks\":5,\"id\":\"f6d71c74-7cfb-4362-c349-3a585482f586\",\"tags\":[],\"doc\":null}},{\"id\":\"351ac447-c818-4f0b-cf4b-2ef056d2039a\",\"type\":\"LinearAxis\",\"attributes\":{\"formatter\":{\"type\":\"BasicTickFormatter\",\"id\":\"7ca36d43-9f1c-4602-c6f8-e30d7fb8cc4f\"},\"ticker\":{\"type\":\"BasicTicker\",\"id\":\"f6d71c74-7cfb-4362-c349-3a585482f586\"},\"plot\":{\"id\":\"5a378944-7b3c-4520-c586-07b43985377b\",\"type\":\"Plot\",\"subtype\":\"Figure\"},\"axis_label\":null,\"id\":\"351ac447-c818-4f0b-cf4b-2ef056d2039a\",\"doc\":null,\"tags\":[]}},{\"id\":\"68469f62-13e4-4d27-cda5-3d3e095dc96f\",\"type\":\"Grid\",\"attributes\":{\"dimension\":1,\"plot\":{\"id\":\"5a378944-7b3c-4520-c586-07b43985377b\",\"type\":\"Plot\",\"subtype\":\"Figure\"},\"ticker\":{\"type\":\"BasicTicker\",\"id\":\"f6d71c74-7cfb-4362-c349-3a585482f586\"},\"id\":\"68469f62-13e4-4d27-cda5-3d3e095dc96f\",\"doc\":null,\"tags\":[]}},{\"id\":\"5555784c-21ae-4b1e-cbe6-692d6625e94c\",\"type\":\"PanTool\",\"attributes\":{\"plot\":{\"id\":\"5a378944-7b3c-4520-c586-07b43985377b\",\"type\":\"Plot\",\"subtype\":\"Figure\"},\"dimensions\":[\"width\",\"height\"],\"id\":\"5555784c-21ae-4b1e-cbe6-692d6625e94c\",\"doc\":null,\"tags\":[]}},{\"id\":\"8e06e78b-290c-40ab-c0e2-f20a21239b49\",\"type\":\"WheelZoomTool\",\"attributes\":{\"plot\":{\"id\":\"5a378944-7b3c-4520-c586-07b43985377b\",\"type\":\"Plot\",\"subtype\":\"Figure\"},\"dimensions\":[\"width\",\"height\"],\"id\":\"8e06e78b-290c-40ab-c0e2-f20a21239b49\",\"doc\":null,\"tags\":[]}},{\"id\":\"889063d5-6197-4825-c801-0943a9477086\",\"type\":\"BoxZoomTool\",\"attributes\":{\"plot\":{\"id\":\"5a378944-7b3c-4520-c586-07b43985377b\",\"type\":\"Plot\",\"subtype\":\"Figure\"},\"id\":\"889063d5-6197-4825-c801-0943a9477086\",\"tags\":[],\"doc\":null}},{\"id\":\"003a2821-2281-4bb6-cb26-fed19c8bdf36\",\"type\":\"PreviewSaveTool\",\"attributes\":{\"plot\":{\"id\":\"5a378944-7b3c-4520-c586-07b43985377b\",\"type\":\"Plot\",\"subtype\":\"Figure\"},\"id\":\"003a2821-2281-4bb6-cb26-fed19c8bdf36\",\"tags\":[],\"doc\":null}},{\"id\":\"3b6f28be-87f8-41e7-c1f7-4faf32e3fce3\",\"type\":\"ResizeTool\",\"attributes\":{\"plot\":{\"id\":\"5a378944-7b3c-4520-c586-07b43985377b\",\"type\":\"Plot\",\"subtype\":\"Figure\"},\"id\":\"3b6f28be-87f8-41e7-c1f7-4faf32e3fce3\",\"tags\":[],\"doc\":null}},{\"id\":\"6f897ac0-ff26-4519-c5f3-08c00d0b87cd\",\"type\":\"ResetTool\",\"attributes\":{\"plot\":{\"id\":\"5a378944-7b3c-4520-c586-07b43985377b\",\"type\":\"Plot\",\"subtype\":\"Figure\"},\"id\":\"6f897ac0-ff26-4519-c5f3-08c00d0b87cd\",\"tags\":[],\"doc\":null}},{\"id\":\"68663a4c-d5b7-41f0-c190-4f71050f6364\",\"type\":\"Legend\",\"attributes\":{\"plot\":{\"id\":\"5a378944-7b3c-4520-c586-07b43985377b\",\"type\":\"Plot\",\"subtype\":\"Figure\"},\"legends\":[[\"loss\",[{\"type\":\"GlyphRenderer\",\"id\":\"38328263-8a7c-46bb-c6f9-c44451eaef01\"}]]],\"id\":\"68663a4c-d5b7-41f0-c190-4f71050f6364\",\"doc\":null,\"tags\":[]}},{\"id\":\"5a378944-7b3c-4520-c586-07b43985377b\",\"type\":\"Plot\",\"attributes\":{\"x_range\":{\"type\":\"DataRange1d\",\"id\":\"77dff367-a034-4c70-cc05-f6348dfc3182\"},\"tool_events\":{\"type\":\"ToolEvents\",\"id\":\"1ca17190-8551-4779-c7cb-80a9f4e2a7df\"},\"below\":[{\"type\":\"LinearAxis\",\"id\":\"852ef399-86af-4f40-cff6-91572f09d876\"}],\"renderers\":[{\"type\":\"GlyphRenderer\",\"id\":\"38328263-8a7c-46bb-c6f9-c44451eaef01\"},{\"type\":\"LinearAxis\",\"id\":\"852ef399-86af-4f40-cff6-91572f09d876\"},{\"type\":\"Grid\",\"id\":\"c7484057-4e31-4147-c105-8a831a95b851\"},{\"type\":\"LinearAxis\",\"id\":\"351ac447-c818-4f0b-cf4b-2ef056d2039a\"},{\"type\":\"Grid\",\"id\":\"68469f62-13e4-4d27-cda5-3d3e095dc96f\"},{\"type\":\"Legend\",\"id\":\"68663a4c-d5b7-41f0-c190-4f71050f6364\"}],\"above\":[],\"tools\":[{\"type\":\"PanTool\",\"id\":\"5555784c-21ae-4b1e-cbe6-692d6625e94c\"},{\"type\":\"WheelZoomTool\",\"id\":\"8e06e78b-290c-40ab-c0e2-f20a21239b49\"},{\"type\":\"BoxZoomTool\",\"id\":\"889063d5-6197-4825-c801-0943a9477086\"},{\"type\":\"PreviewSaveTool\",\"id\":\"003a2821-2281-4bb6-cb26-fed19c8bdf36\"},{\"type\":\"ResizeTool\",\"id\":\"3b6f28be-87f8-41e7-c1f7-4faf32e3fce3\"},{\"type\":\"ResetTool\",\"id\":\"6f897ac0-ff26-4519-c5f3-08c00d0b87cd\"}],\"doc\":null,\"right\":[],\"title\":\"Loss\",\"extra_x_ranges\":{},\"left\":[{\"type\":\"LinearAxis\",\"id\":\"351ac447-c818-4f0b-cf4b-2ef056d2039a\"}],\"y_range\":{\"type\":\"DataRange1d\",\"id\":\"720ce3f4-adbd-4759-c74d-6d1c03a579fa\"},\"id\":\"5a378944-7b3c-4520-c586-07b43985377b\",\"extra_y_ranges\":{},\"tags\":[]}}];\n",
       "  Bokeh.load_models(all_models);\n",
       "  var model = Bokeh.Collections(modeltype).get(modelid);\n",
       "  $(\"#13820127-d537-41f7-c15d-06b0f3819c39\").html(''); // clear any previous plot in window_id\n",
       "  var view = new model.default_view({model: model, el: \"#13820127-d537-41f7-c15d-06b0f3819c39\"});\n",
       "    } else {\n",
       "  load_lib(bokehjs_url, function() {\n",
       "      console.log(\"Bokeh: BokehJS plotting callback run at\", new Date())\n",
       "      var modelid = \"5a378944-7b3c-4520-c586-07b43985377b\";\n",
       "      var modeltype = \"Plot\";\n",
       "      var all_models = [{\"id\":\"374867bb-f5ed-4c03-cc94-c879f6a8e7fd\",\"type\":\"ColumnDataSource\",\"attributes\":{\"data\":{\"y\":[2.3855108281015,1.6384673833631,1.3554038653154,1.2148154832552,1.1172034836629,1.0711465551445,1.0220557724488,0.97202966134181,0.94330550943352,0.92537310589496],\"x\":[1,2,3,4,5,6,7,8,9,10]},\"column_names\":[\"y\",\"x\"],\"cont_ranges\":{},\"discrete_ranges\":{},\"selected\":[],\"id\":\"374867bb-f5ed-4c03-cc94-c879f6a8e7fd\",\"doc\":null,\"tags\":[]}},{\"id\":\"e25517cd-3e4d-4ec9-ce13-b140731388c2\",\"type\":\"Line\",\"attributes\":{\"fill_alpha\":{\"units\":\"data\",\"value\":0.2},\"line_alpha\":{\"units\":\"data\",\"value\":1},\"doc\":null,\"size\":{\"units\":\"screen\",\"value\":10},\"fill_color\":{\"value\":\"red\"},\"line_color\":{\"value\":\"red\"},\"x\":{\"units\":\"data\",\"field\":\"x\"},\"id\":\"e25517cd-3e4d-4ec9-ce13-b140731388c2\",\"y\":{\"units\":\"data\",\"field\":\"y\"},\"tags\":[]}},{\"id\":\"621fe168-14ef-4273-c28b-8b87a11b42a0\",\"type\":\"Line\",\"attributes\":{\"fill_alpha\":{\"units\":\"data\",\"value\":0.2},\"line_alpha\":{\"units\":\"data\",\"value\":1},\"doc\":null,\"size\":{\"units\":\"screen\",\"value\":10},\"fill_color\":{\"value\":\"red\"},\"line_color\":{\"value\":\"red\"},\"x\":{\"units\":\"data\",\"field\":\"x\"},\"id\":\"621fe168-14ef-4273-c28b-8b87a11b42a0\",\"y\":{\"units\":\"data\",\"field\":\"y\"},\"tags\":[]}},{\"id\":\"38328263-8a7c-46bb-c6f9-c44451eaef01\",\"type\":\"GlyphRenderer\",\"attributes\":{\"name\":null,\"nonselection_glyph\":{\"type\":\"Line\",\"id\":\"621fe168-14ef-4273-c28b-8b87a11b42a0\"},\"doc\":null,\"server_data_source\":null,\"data_source\":{\"type\":\"ColumnDataSource\",\"id\":\"374867bb-f5ed-4c03-cc94-c879f6a8e7fd\"},\"glyph\":{\"type\":\"Line\",\"id\":\"e25517cd-3e4d-4ec9-ce13-b140731388c2\"},\"selection_glyph\":null,\"id\":\"38328263-8a7c-46bb-c6f9-c44451eaef01\",\"tags\":[]}},{\"id\":\"77dff367-a034-4c70-cc05-f6348dfc3182\",\"type\":\"DataRange1d\",\"attributes\":{\"sources\":[{\"columns\":[\"x\"],\"source\":{\"type\":\"ColumnDataSource\",\"id\":\"374867bb-f5ed-4c03-cc94-c879f6a8e7fd\"}}],\"id\":\"77dff367-a034-4c70-cc05-f6348dfc3182\",\"tags\":[],\"doc\":null}},{\"id\":\"720ce3f4-adbd-4759-c74d-6d1c03a579fa\",\"type\":\"DataRange1d\",\"attributes\":{\"sources\":[{\"columns\":[\"y\"],\"source\":{\"type\":\"ColumnDataSource\",\"id\":\"374867bb-f5ed-4c03-cc94-c879f6a8e7fd\"}}],\"id\":\"720ce3f4-adbd-4759-c74d-6d1c03a579fa\",\"tags\":[],\"doc\":null}},{\"id\":\"1ca17190-8551-4779-c7cb-80a9f4e2a7df\",\"type\":\"ToolEvents\",\"attributes\":{\"tags\":[],\"id\":\"1ca17190-8551-4779-c7cb-80a9f4e2a7df\",\"geometries\":[],\"doc\":null}},{\"id\":\"2f86fe8e-949c-4a13-caa9-3e5857977ae1\",\"type\":\"BasicTickFormatter\",\"attributes\":{\"id\":\"2f86fe8e-949c-4a13-caa9-3e5857977ae1\",\"tags\":[],\"doc\":null}},{\"id\":\"09dfa364-055c-4f2d-cfeb-3c05cb99a532\",\"type\":\"BasicTicker\",\"attributes\":{\"num_minor_ticks\":5,\"id\":\"09dfa364-055c-4f2d-cfeb-3c05cb99a532\",\"tags\":[],\"doc\":null}},{\"id\":\"852ef399-86af-4f40-cff6-91572f09d876\",\"type\":\"LinearAxis\",\"attributes\":{\"formatter\":{\"type\":\"BasicTickFormatter\",\"id\":\"2f86fe8e-949c-4a13-caa9-3e5857977ae1\"},\"ticker\":{\"type\":\"BasicTicker\",\"id\":\"09dfa364-055c-4f2d-cfeb-3c05cb99a532\"},\"plot\":{\"id\":\"5a378944-7b3c-4520-c586-07b43985377b\",\"type\":\"Plot\",\"subtype\":\"Figure\"},\"axis_label\":null,\"id\":\"852ef399-86af-4f40-cff6-91572f09d876\",\"doc\":null,\"tags\":[]}},{\"id\":\"c7484057-4e31-4147-c105-8a831a95b851\",\"type\":\"Grid\",\"attributes\":{\"dimension\":0,\"plot\":{\"id\":\"5a378944-7b3c-4520-c586-07b43985377b\",\"type\":\"Plot\",\"subtype\":\"Figure\"},\"ticker\":{\"type\":\"BasicTicker\",\"id\":\"09dfa364-055c-4f2d-cfeb-3c05cb99a532\"},\"id\":\"c7484057-4e31-4147-c105-8a831a95b851\",\"doc\":null,\"tags\":[]}},{\"id\":\"7ca36d43-9f1c-4602-c6f8-e30d7fb8cc4f\",\"type\":\"BasicTickFormatter\",\"attributes\":{\"id\":\"7ca36d43-9f1c-4602-c6f8-e30d7fb8cc4f\",\"tags\":[],\"doc\":null}},{\"id\":\"f6d71c74-7cfb-4362-c349-3a585482f586\",\"type\":\"BasicTicker\",\"attributes\":{\"num_minor_ticks\":5,\"id\":\"f6d71c74-7cfb-4362-c349-3a585482f586\",\"tags\":[],\"doc\":null}},{\"id\":\"351ac447-c818-4f0b-cf4b-2ef056d2039a\",\"type\":\"LinearAxis\",\"attributes\":{\"formatter\":{\"type\":\"BasicTickFormatter\",\"id\":\"7ca36d43-9f1c-4602-c6f8-e30d7fb8cc4f\"},\"ticker\":{\"type\":\"BasicTicker\",\"id\":\"f6d71c74-7cfb-4362-c349-3a585482f586\"},\"plot\":{\"id\":\"5a378944-7b3c-4520-c586-07b43985377b\",\"type\":\"Plot\",\"subtype\":\"Figure\"},\"axis_label\":null,\"id\":\"351ac447-c818-4f0b-cf4b-2ef056d2039a\",\"doc\":null,\"tags\":[]}},{\"id\":\"68469f62-13e4-4d27-cda5-3d3e095dc96f\",\"type\":\"Grid\",\"attributes\":{\"dimension\":1,\"plot\":{\"id\":\"5a378944-7b3c-4520-c586-07b43985377b\",\"type\":\"Plot\",\"subtype\":\"Figure\"},\"ticker\":{\"type\":\"BasicTicker\",\"id\":\"f6d71c74-7cfb-4362-c349-3a585482f586\"},\"id\":\"68469f62-13e4-4d27-cda5-3d3e095dc96f\",\"doc\":null,\"tags\":[]}},{\"id\":\"5555784c-21ae-4b1e-cbe6-692d6625e94c\",\"type\":\"PanTool\",\"attributes\":{\"plot\":{\"id\":\"5a378944-7b3c-4520-c586-07b43985377b\",\"type\":\"Plot\",\"subtype\":\"Figure\"},\"dimensions\":[\"width\",\"height\"],\"id\":\"5555784c-21ae-4b1e-cbe6-692d6625e94c\",\"doc\":null,\"tags\":[]}},{\"id\":\"8e06e78b-290c-40ab-c0e2-f20a21239b49\",\"type\":\"WheelZoomTool\",\"attributes\":{\"plot\":{\"id\":\"5a378944-7b3c-4520-c586-07b43985377b\",\"type\":\"Plot\",\"subtype\":\"Figure\"},\"dimensions\":[\"width\",\"height\"],\"id\":\"8e06e78b-290c-40ab-c0e2-f20a21239b49\",\"doc\":null,\"tags\":[]}},{\"id\":\"889063d5-6197-4825-c801-0943a9477086\",\"type\":\"BoxZoomTool\",\"attributes\":{\"plot\":{\"id\":\"5a378944-7b3c-4520-c586-07b43985377b\",\"type\":\"Plot\",\"subtype\":\"Figure\"},\"id\":\"889063d5-6197-4825-c801-0943a9477086\",\"tags\":[],\"doc\":null}},{\"id\":\"003a2821-2281-4bb6-cb26-fed19c8bdf36\",\"type\":\"PreviewSaveTool\",\"attributes\":{\"plot\":{\"id\":\"5a378944-7b3c-4520-c586-07b43985377b\",\"type\":\"Plot\",\"subtype\":\"Figure\"},\"id\":\"003a2821-2281-4bb6-cb26-fed19c8bdf36\",\"tags\":[],\"doc\":null}},{\"id\":\"3b6f28be-87f8-41e7-c1f7-4faf32e3fce3\",\"type\":\"ResizeTool\",\"attributes\":{\"plot\":{\"id\":\"5a378944-7b3c-4520-c586-07b43985377b\",\"type\":\"Plot\",\"subtype\":\"Figure\"},\"id\":\"3b6f28be-87f8-41e7-c1f7-4faf32e3fce3\",\"tags\":[],\"doc\":null}},{\"id\":\"6f897ac0-ff26-4519-c5f3-08c00d0b87cd\",\"type\":\"ResetTool\",\"attributes\":{\"plot\":{\"id\":\"5a378944-7b3c-4520-c586-07b43985377b\",\"type\":\"Plot\",\"subtype\":\"Figure\"},\"id\":\"6f897ac0-ff26-4519-c5f3-08c00d0b87cd\",\"tags\":[],\"doc\":null}},{\"id\":\"68663a4c-d5b7-41f0-c190-4f71050f6364\",\"type\":\"Legend\",\"attributes\":{\"plot\":{\"id\":\"5a378944-7b3c-4520-c586-07b43985377b\",\"type\":\"Plot\",\"subtype\":\"Figure\"},\"legends\":[[\"loss\",[{\"type\":\"GlyphRenderer\",\"id\":\"38328263-8a7c-46bb-c6f9-c44451eaef01\"}]]],\"id\":\"68663a4c-d5b7-41f0-c190-4f71050f6364\",\"doc\":null,\"tags\":[]}},{\"id\":\"5a378944-7b3c-4520-c586-07b43985377b\",\"type\":\"Plot\",\"attributes\":{\"x_range\":{\"type\":\"DataRange1d\",\"id\":\"77dff367-a034-4c70-cc05-f6348dfc3182\"},\"tool_events\":{\"type\":\"ToolEvents\",\"id\":\"1ca17190-8551-4779-c7cb-80a9f4e2a7df\"},\"below\":[{\"type\":\"LinearAxis\",\"id\":\"852ef399-86af-4f40-cff6-91572f09d876\"}],\"renderers\":[{\"type\":\"GlyphRenderer\",\"id\":\"38328263-8a7c-46bb-c6f9-c44451eaef01\"},{\"type\":\"LinearAxis\",\"id\":\"852ef399-86af-4f40-cff6-91572f09d876\"},{\"type\":\"Grid\",\"id\":\"c7484057-4e31-4147-c105-8a831a95b851\"},{\"type\":\"LinearAxis\",\"id\":\"351ac447-c818-4f0b-cf4b-2ef056d2039a\"},{\"type\":\"Grid\",\"id\":\"68469f62-13e4-4d27-cda5-3d3e095dc96f\"},{\"type\":\"Legend\",\"id\":\"68663a4c-d5b7-41f0-c190-4f71050f6364\"}],\"above\":[],\"tools\":[{\"type\":\"PanTool\",\"id\":\"5555784c-21ae-4b1e-cbe6-692d6625e94c\"},{\"type\":\"WheelZoomTool\",\"id\":\"8e06e78b-290c-40ab-c0e2-f20a21239b49\"},{\"type\":\"BoxZoomTool\",\"id\":\"889063d5-6197-4825-c801-0943a9477086\"},{\"type\":\"PreviewSaveTool\",\"id\":\"003a2821-2281-4bb6-cb26-fed19c8bdf36\"},{\"type\":\"ResizeTool\",\"id\":\"3b6f28be-87f8-41e7-c1f7-4faf32e3fce3\"},{\"type\":\"ResetTool\",\"id\":\"6f897ac0-ff26-4519-c5f3-08c00d0b87cd\"}],\"doc\":null,\"right\":[],\"title\":\"Loss\",\"extra_x_ranges\":{},\"left\":[{\"type\":\"LinearAxis\",\"id\":\"351ac447-c818-4f0b-cf4b-2ef056d2039a\"}],\"y_range\":{\"type\":\"DataRange1d\",\"id\":\"720ce3f4-adbd-4759-c74d-6d1c03a579fa\"},\"id\":\"5a378944-7b3c-4520-c586-07b43985377b\",\"extra_y_ranges\":{},\"tags\":[]}}];\n",
       "      Bokeh.load_models(all_models);\n",
       "      var model = Bokeh.Collections(modeltype).get(modelid);\n",
       "      $(\"#13820127-d537-41f7-c15d-06b0f3819c39\").html(''); // clear any previous plot in window_id\n",
       "      var view = new model.default_view({model: model, el: \"#13820127-d537-41f7-c15d-06b0f3819c39\"});\n",
       "  });\n",
       "    }\n",
       "});\n",
       "</script>\n",
       "<div class=\"plotdiv\" id=\"13820127-d537-41f7-c15d-06b0f3819c39\"></div>\n"
      ]
     },
     "metadata": {},
     "output_type": "display_data"
    },
    {
     "data": {
      "text/html": [
       "<script type=\"text/javascript\">\n",
       "$(function() {\n",
       "    if (typeof (window._bokeh_onload_callbacks) === \"undefined\"){\n",
       "  window._bokeh_onload_callbacks = [];\n",
       "    }\n",
       "    function load_lib(url, callback){\n",
       "  window._bokeh_onload_callbacks.push(callback);\n",
       "  if (window._bokeh_is_loading){\n",
       "      console.log(\"Bokeh: BokehJS is being loaded, scheduling callback at\", new Date());\n",
       "      return null;\n",
       "  }\n",
       "  console.log(\"Bokeh: BokehJS not loaded, scheduling load and callback at\", new Date());\n",
       "  window._bokeh_is_loading = true;\n",
       "  var s = document.createElement('script');\n",
       "  s.src = url;\n",
       "  s.async = true;\n",
       "  s.onreadystatechange = s.onload = function(){\n",
       "      Bokeh.embed.inject_css(\"https://cdn.pydata.org/bokeh-0.7.0.min.css\");\n",
       "      window._bokeh_onload_callbacks.forEach(function(callback){callback()});\n",
       "  };\n",
       "  s.onerror = function(){\n",
       "      console.warn(\"failed to load library \" + url);\n",
       "  };\n",
       "  document.getElementsByTagName(\"head\")[0].appendChild(s);\n",
       "    }\n",
       "\n",
       "    bokehjs_url = \"https://cdn.pydata.org/bokeh-0.7.0.min.js\"\n",
       "\n",
       "    var elt = document.getElementById(\"d9280e83-33bc-4c07-cc82-d5f4e65c802c\");\n",
       "    if(elt==null) {\n",
       "  console.log(\"Bokeh: ERROR: autoload.js configured with elementid 'd9280e83-33bc-4c07-cc82-d5f4e65c802c'\"\n",
       "        + \"but no matching script tag was found. \")\n",
       "  return false;\n",
       "    }\n",
       "\n",
       "    if(typeof(Bokeh) !== \"undefined\") {\n",
       "  console.log(\"Bokeh: BokehJS loaded, going straight to plotting\");\n",
       "  var modelid = \"8524d7ff-26bb-47ea-c79d-84963ca7d69f\";\n",
       "  var modeltype = \"Plot\";\n",
       "  var all_models = [{\"id\":\"c1508e7a-feda-48bc-c844-99fecdf5c70f\",\"type\":\"ColumnDataSource\",\"attributes\":{\"data\":{\"y\":[0.58869847151459,0.65030106530801,0.68596572487263,0.72070402964335,0.72301991662807,0.72857804539138,0.74154701250579,0.74293654469662,0.75081056044465,0.75683186660491],\"x\":[1,2,3,4,5,6,7,8,9,10]},\"column_names\":[\"y\",\"x\"],\"cont_ranges\":{},\"discrete_ranges\":{},\"selected\":[],\"id\":\"c1508e7a-feda-48bc-c844-99fecdf5c70f\",\"doc\":null,\"tags\":[]}},{\"id\":\"a4f4fb32-1312-428a-c2e8-29e420e2b269\",\"type\":\"Line\",\"attributes\":{\"fill_alpha\":{\"units\":\"data\",\"value\":0.2},\"line_alpha\":{\"units\":\"data\",\"value\":1},\"doc\":null,\"size\":{\"units\":\"screen\",\"value\":10},\"fill_color\":{\"value\":\"green\"},\"line_color\":{\"value\":\"green\"},\"x\":{\"units\":\"data\",\"field\":\"x\"},\"id\":\"a4f4fb32-1312-428a-c2e8-29e420e2b269\",\"y\":{\"units\":\"data\",\"field\":\"y\"},\"tags\":[]}},{\"id\":\"dcd352b8-9937-48fe-c868-47a33fb5b08a\",\"type\":\"Line\",\"attributes\":{\"fill_alpha\":{\"units\":\"data\",\"value\":0.2},\"line_alpha\":{\"units\":\"data\",\"value\":1},\"doc\":null,\"size\":{\"units\":\"screen\",\"value\":10},\"fill_color\":{\"value\":\"green\"},\"line_color\":{\"value\":\"green\"},\"x\":{\"units\":\"data\",\"field\":\"x\"},\"id\":\"dcd352b8-9937-48fe-c868-47a33fb5b08a\",\"y\":{\"units\":\"data\",\"field\":\"y\"},\"tags\":[]}},{\"id\":\"e902e374-54d6-4bf9-cbd0-3c7392f8cfd2\",\"type\":\"GlyphRenderer\",\"attributes\":{\"name\":null,\"nonselection_glyph\":{\"type\":\"Line\",\"id\":\"dcd352b8-9937-48fe-c868-47a33fb5b08a\"},\"doc\":null,\"server_data_source\":null,\"data_source\":{\"type\":\"ColumnDataSource\",\"id\":\"c1508e7a-feda-48bc-c844-99fecdf5c70f\"},\"glyph\":{\"type\":\"Line\",\"id\":\"a4f4fb32-1312-428a-c2e8-29e420e2b269\"},\"selection_glyph\":null,\"id\":\"e902e374-54d6-4bf9-cbd0-3c7392f8cfd2\",\"tags\":[]}},{\"id\":\"81419d63-6947-4acb-caaf-63392739379b\",\"type\":\"DataRange1d\",\"attributes\":{\"sources\":[{\"columns\":[\"x\"],\"source\":{\"type\":\"ColumnDataSource\",\"id\":\"c1508e7a-feda-48bc-c844-99fecdf5c70f\"}}],\"id\":\"81419d63-6947-4acb-caaf-63392739379b\",\"tags\":[],\"doc\":null}},{\"id\":\"9867469d-da41-4cfb-cc4e-312fe9f17017\",\"type\":\"DataRange1d\",\"attributes\":{\"sources\":[{\"columns\":[\"y\"],\"source\":{\"type\":\"ColumnDataSource\",\"id\":\"c1508e7a-feda-48bc-c844-99fecdf5c70f\"}}],\"id\":\"9867469d-da41-4cfb-cc4e-312fe9f17017\",\"tags\":[],\"doc\":null}},{\"id\":\"d52203c1-2943-4c80-cce8-0b3e4df41f7c\",\"type\":\"ToolEvents\",\"attributes\":{\"tags\":[],\"id\":\"d52203c1-2943-4c80-cce8-0b3e4df41f7c\",\"geometries\":[],\"doc\":null}},{\"id\":\"0732af29-3486-49d8-c95d-796ef11efdd2\",\"type\":\"BasicTickFormatter\",\"attributes\":{\"id\":\"0732af29-3486-49d8-c95d-796ef11efdd2\",\"tags\":[],\"doc\":null}},{\"id\":\"5069d814-9de0-4e7b-ce2e-1a58addf0f3d\",\"type\":\"BasicTicker\",\"attributes\":{\"num_minor_ticks\":5,\"id\":\"5069d814-9de0-4e7b-ce2e-1a58addf0f3d\",\"tags\":[],\"doc\":null}},{\"id\":\"781e61de-04f2-44ea-c4b8-660d77c0a271\",\"type\":\"LinearAxis\",\"attributes\":{\"formatter\":{\"type\":\"BasicTickFormatter\",\"id\":\"0732af29-3486-49d8-c95d-796ef11efdd2\"},\"ticker\":{\"type\":\"BasicTicker\",\"id\":\"5069d814-9de0-4e7b-ce2e-1a58addf0f3d\"},\"plot\":{\"id\":\"8524d7ff-26bb-47ea-c79d-84963ca7d69f\",\"type\":\"Plot\",\"subtype\":\"Figure\"},\"axis_label\":null,\"id\":\"781e61de-04f2-44ea-c4b8-660d77c0a271\",\"doc\":null,\"tags\":[]}},{\"id\":\"089613ab-625d-4bba-cbe6-a7e427dc751e\",\"type\":\"Grid\",\"attributes\":{\"dimension\":0,\"plot\":{\"id\":\"8524d7ff-26bb-47ea-c79d-84963ca7d69f\",\"type\":\"Plot\",\"subtype\":\"Figure\"},\"ticker\":{\"type\":\"BasicTicker\",\"id\":\"5069d814-9de0-4e7b-ce2e-1a58addf0f3d\"},\"id\":\"089613ab-625d-4bba-cbe6-a7e427dc751e\",\"doc\":null,\"tags\":[]}},{\"id\":\"a814a037-df3e-4d85-cdc0-eb7f186fd97c\",\"type\":\"BasicTickFormatter\",\"attributes\":{\"id\":\"a814a037-df3e-4d85-cdc0-eb7f186fd97c\",\"tags\":[],\"doc\":null}},{\"id\":\"7b228708-fb04-4176-c1ce-304bc3855d10\",\"type\":\"BasicTicker\",\"attributes\":{\"num_minor_ticks\":5,\"id\":\"7b228708-fb04-4176-c1ce-304bc3855d10\",\"tags\":[],\"doc\":null}},{\"id\":\"7f26662f-9866-430e-c3cb-5a97b8db7579\",\"type\":\"LinearAxis\",\"attributes\":{\"formatter\":{\"type\":\"BasicTickFormatter\",\"id\":\"a814a037-df3e-4d85-cdc0-eb7f186fd97c\"},\"ticker\":{\"type\":\"BasicTicker\",\"id\":\"7b228708-fb04-4176-c1ce-304bc3855d10\"},\"plot\":{\"id\":\"8524d7ff-26bb-47ea-c79d-84963ca7d69f\",\"type\":\"Plot\",\"subtype\":\"Figure\"},\"axis_label\":null,\"id\":\"7f26662f-9866-430e-c3cb-5a97b8db7579\",\"doc\":null,\"tags\":[]}},{\"id\":\"576cd5e0-b854-47c7-c7aa-6667e860a3bc\",\"type\":\"Grid\",\"attributes\":{\"dimension\":1,\"plot\":{\"id\":\"8524d7ff-26bb-47ea-c79d-84963ca7d69f\",\"type\":\"Plot\",\"subtype\":\"Figure\"},\"ticker\":{\"type\":\"BasicTicker\",\"id\":\"7b228708-fb04-4176-c1ce-304bc3855d10\"},\"id\":\"576cd5e0-b854-47c7-c7aa-6667e860a3bc\",\"doc\":null,\"tags\":[]}},{\"id\":\"3fa8ca6a-0825-414d-c166-dadcf7638543\",\"type\":\"PanTool\",\"attributes\":{\"plot\":{\"id\":\"8524d7ff-26bb-47ea-c79d-84963ca7d69f\",\"type\":\"Plot\",\"subtype\":\"Figure\"},\"dimensions\":[\"width\",\"height\"],\"id\":\"3fa8ca6a-0825-414d-c166-dadcf7638543\",\"doc\":null,\"tags\":[]}},{\"id\":\"e2d133b7-7f3c-409d-c09f-134ef0db5ace\",\"type\":\"WheelZoomTool\",\"attributes\":{\"plot\":{\"id\":\"8524d7ff-26bb-47ea-c79d-84963ca7d69f\",\"type\":\"Plot\",\"subtype\":\"Figure\"},\"dimensions\":[\"width\",\"height\"],\"id\":\"e2d133b7-7f3c-409d-c09f-134ef0db5ace\",\"doc\":null,\"tags\":[]}},{\"id\":\"e6861527-5d16-4a3c-ca77-74299ba4e55f\",\"type\":\"BoxZoomTool\",\"attributes\":{\"plot\":{\"id\":\"8524d7ff-26bb-47ea-c79d-84963ca7d69f\",\"type\":\"Plot\",\"subtype\":\"Figure\"},\"id\":\"e6861527-5d16-4a3c-ca77-74299ba4e55f\",\"tags\":[],\"doc\":null}},{\"id\":\"8dcd2416-16f4-4dd1-cd0f-ec1a0a229ed9\",\"type\":\"PreviewSaveTool\",\"attributes\":{\"plot\":{\"id\":\"8524d7ff-26bb-47ea-c79d-84963ca7d69f\",\"type\":\"Plot\",\"subtype\":\"Figure\"},\"id\":\"8dcd2416-16f4-4dd1-cd0f-ec1a0a229ed9\",\"tags\":[],\"doc\":null}},{\"id\":\"c7e78af2-5429-4dab-cd62-44103d0384dd\",\"type\":\"ResizeTool\",\"attributes\":{\"plot\":{\"id\":\"8524d7ff-26bb-47ea-c79d-84963ca7d69f\",\"type\":\"Plot\",\"subtype\":\"Figure\"},\"id\":\"c7e78af2-5429-4dab-cd62-44103d0384dd\",\"tags\":[],\"doc\":null}},{\"id\":\"cd4dc240-48a7-486b-c8d3-f41d24013f2d\",\"type\":\"ResetTool\",\"attributes\":{\"plot\":{\"id\":\"8524d7ff-26bb-47ea-c79d-84963ca7d69f\",\"type\":\"Plot\",\"subtype\":\"Figure\"},\"id\":\"cd4dc240-48a7-486b-c8d3-f41d24013f2d\",\"tags\":[],\"doc\":null}},{\"id\":\"39eadd4a-b76a-4a44-caec-ddddaeaf56de\",\"type\":\"Legend\",\"attributes\":{\"plot\":{\"id\":\"8524d7ff-26bb-47ea-c79d-84963ca7d69f\",\"type\":\"Plot\",\"subtype\":\"Figure\"},\"legends\":[[\"accuracy\",[{\"type\":\"GlyphRenderer\",\"id\":\"e902e374-54d6-4bf9-cbd0-3c7392f8cfd2\"}]]],\"id\":\"39eadd4a-b76a-4a44-caec-ddddaeaf56de\",\"doc\":null,\"tags\":[]}},{\"id\":\"8524d7ff-26bb-47ea-c79d-84963ca7d69f\",\"type\":\"Plot\",\"attributes\":{\"x_range\":{\"type\":\"DataRange1d\",\"id\":\"81419d63-6947-4acb-caaf-63392739379b\"},\"tool_events\":{\"type\":\"ToolEvents\",\"id\":\"d52203c1-2943-4c80-cce8-0b3e4df41f7c\"},\"below\":[{\"type\":\"LinearAxis\",\"id\":\"781e61de-04f2-44ea-c4b8-660d77c0a271\"}],\"renderers\":[{\"type\":\"GlyphRenderer\",\"id\":\"e902e374-54d6-4bf9-cbd0-3c7392f8cfd2\"},{\"type\":\"LinearAxis\",\"id\":\"781e61de-04f2-44ea-c4b8-660d77c0a271\"},{\"type\":\"Grid\",\"id\":\"089613ab-625d-4bba-cbe6-a7e427dc751e\"},{\"type\":\"LinearAxis\",\"id\":\"7f26662f-9866-430e-c3cb-5a97b8db7579\"},{\"type\":\"Grid\",\"id\":\"576cd5e0-b854-47c7-c7aa-6667e860a3bc\"},{\"type\":\"Legend\",\"id\":\"39eadd4a-b76a-4a44-caec-ddddaeaf56de\"}],\"above\":[],\"tools\":[{\"type\":\"PanTool\",\"id\":\"3fa8ca6a-0825-414d-c166-dadcf7638543\"},{\"type\":\"WheelZoomTool\",\"id\":\"e2d133b7-7f3c-409d-c09f-134ef0db5ace\"},{\"type\":\"BoxZoomTool\",\"id\":\"e6861527-5d16-4a3c-ca77-74299ba4e55f\"},{\"type\":\"PreviewSaveTool\",\"id\":\"8dcd2416-16f4-4dd1-cd0f-ec1a0a229ed9\"},{\"type\":\"ResizeTool\",\"id\":\"c7e78af2-5429-4dab-cd62-44103d0384dd\"},{\"type\":\"ResetTool\",\"id\":\"cd4dc240-48a7-486b-c8d3-f41d24013f2d\"}],\"doc\":null,\"right\":[],\"title\":\"Accuacy\",\"extra_x_ranges\":{},\"left\":[{\"type\":\"LinearAxis\",\"id\":\"7f26662f-9866-430e-c3cb-5a97b8db7579\"}],\"y_range\":{\"type\":\"DataRange1d\",\"id\":\"9867469d-da41-4cfb-cc4e-312fe9f17017\"},\"id\":\"8524d7ff-26bb-47ea-c79d-84963ca7d69f\",\"extra_y_ranges\":{},\"tags\":[]}}];\n",
       "  Bokeh.load_models(all_models);\n",
       "  var model = Bokeh.Collections(modeltype).get(modelid);\n",
       "  $(\"#d9280e83-33bc-4c07-cc82-d5f4e65c802c\").html(''); // clear any previous plot in window_id\n",
       "  var view = new model.default_view({model: model, el: \"#d9280e83-33bc-4c07-cc82-d5f4e65c802c\"});\n",
       "    } else {\n",
       "  load_lib(bokehjs_url, function() {\n",
       "      console.log(\"Bokeh: BokehJS plotting callback run at\", new Date())\n",
       "      var modelid = \"8524d7ff-26bb-47ea-c79d-84963ca7d69f\";\n",
       "      var modeltype = \"Plot\";\n",
       "      var all_models = [{\"id\":\"c1508e7a-feda-48bc-c844-99fecdf5c70f\",\"type\":\"ColumnDataSource\",\"attributes\":{\"data\":{\"y\":[0.58869847151459,0.65030106530801,0.68596572487263,0.72070402964335,0.72301991662807,0.72857804539138,0.74154701250579,0.74293654469662,0.75081056044465,0.75683186660491],\"x\":[1,2,3,4,5,6,7,8,9,10]},\"column_names\":[\"y\",\"x\"],\"cont_ranges\":{},\"discrete_ranges\":{},\"selected\":[],\"id\":\"c1508e7a-feda-48bc-c844-99fecdf5c70f\",\"doc\":null,\"tags\":[]}},{\"id\":\"a4f4fb32-1312-428a-c2e8-29e420e2b269\",\"type\":\"Line\",\"attributes\":{\"fill_alpha\":{\"units\":\"data\",\"value\":0.2},\"line_alpha\":{\"units\":\"data\",\"value\":1},\"doc\":null,\"size\":{\"units\":\"screen\",\"value\":10},\"fill_color\":{\"value\":\"green\"},\"line_color\":{\"value\":\"green\"},\"x\":{\"units\":\"data\",\"field\":\"x\"},\"id\":\"a4f4fb32-1312-428a-c2e8-29e420e2b269\",\"y\":{\"units\":\"data\",\"field\":\"y\"},\"tags\":[]}},{\"id\":\"dcd352b8-9937-48fe-c868-47a33fb5b08a\",\"type\":\"Line\",\"attributes\":{\"fill_alpha\":{\"units\":\"data\",\"value\":0.2},\"line_alpha\":{\"units\":\"data\",\"value\":1},\"doc\":null,\"size\":{\"units\":\"screen\",\"value\":10},\"fill_color\":{\"value\":\"green\"},\"line_color\":{\"value\":\"green\"},\"x\":{\"units\":\"data\",\"field\":\"x\"},\"id\":\"dcd352b8-9937-48fe-c868-47a33fb5b08a\",\"y\":{\"units\":\"data\",\"field\":\"y\"},\"tags\":[]}},{\"id\":\"e902e374-54d6-4bf9-cbd0-3c7392f8cfd2\",\"type\":\"GlyphRenderer\",\"attributes\":{\"name\":null,\"nonselection_glyph\":{\"type\":\"Line\",\"id\":\"dcd352b8-9937-48fe-c868-47a33fb5b08a\"},\"doc\":null,\"server_data_source\":null,\"data_source\":{\"type\":\"ColumnDataSource\",\"id\":\"c1508e7a-feda-48bc-c844-99fecdf5c70f\"},\"glyph\":{\"type\":\"Line\",\"id\":\"a4f4fb32-1312-428a-c2e8-29e420e2b269\"},\"selection_glyph\":null,\"id\":\"e902e374-54d6-4bf9-cbd0-3c7392f8cfd2\",\"tags\":[]}},{\"id\":\"81419d63-6947-4acb-caaf-63392739379b\",\"type\":\"DataRange1d\",\"attributes\":{\"sources\":[{\"columns\":[\"x\"],\"source\":{\"type\":\"ColumnDataSource\",\"id\":\"c1508e7a-feda-48bc-c844-99fecdf5c70f\"}}],\"id\":\"81419d63-6947-4acb-caaf-63392739379b\",\"tags\":[],\"doc\":null}},{\"id\":\"9867469d-da41-4cfb-cc4e-312fe9f17017\",\"type\":\"DataRange1d\",\"attributes\":{\"sources\":[{\"columns\":[\"y\"],\"source\":{\"type\":\"ColumnDataSource\",\"id\":\"c1508e7a-feda-48bc-c844-99fecdf5c70f\"}}],\"id\":\"9867469d-da41-4cfb-cc4e-312fe9f17017\",\"tags\":[],\"doc\":null}},{\"id\":\"d52203c1-2943-4c80-cce8-0b3e4df41f7c\",\"type\":\"ToolEvents\",\"attributes\":{\"tags\":[],\"id\":\"d52203c1-2943-4c80-cce8-0b3e4df41f7c\",\"geometries\":[],\"doc\":null}},{\"id\":\"0732af29-3486-49d8-c95d-796ef11efdd2\",\"type\":\"BasicTickFormatter\",\"attributes\":{\"id\":\"0732af29-3486-49d8-c95d-796ef11efdd2\",\"tags\":[],\"doc\":null}},{\"id\":\"5069d814-9de0-4e7b-ce2e-1a58addf0f3d\",\"type\":\"BasicTicker\",\"attributes\":{\"num_minor_ticks\":5,\"id\":\"5069d814-9de0-4e7b-ce2e-1a58addf0f3d\",\"tags\":[],\"doc\":null}},{\"id\":\"781e61de-04f2-44ea-c4b8-660d77c0a271\",\"type\":\"LinearAxis\",\"attributes\":{\"formatter\":{\"type\":\"BasicTickFormatter\",\"id\":\"0732af29-3486-49d8-c95d-796ef11efdd2\"},\"ticker\":{\"type\":\"BasicTicker\",\"id\":\"5069d814-9de0-4e7b-ce2e-1a58addf0f3d\"},\"plot\":{\"id\":\"8524d7ff-26bb-47ea-c79d-84963ca7d69f\",\"type\":\"Plot\",\"subtype\":\"Figure\"},\"axis_label\":null,\"id\":\"781e61de-04f2-44ea-c4b8-660d77c0a271\",\"doc\":null,\"tags\":[]}},{\"id\":\"089613ab-625d-4bba-cbe6-a7e427dc751e\",\"type\":\"Grid\",\"attributes\":{\"dimension\":0,\"plot\":{\"id\":\"8524d7ff-26bb-47ea-c79d-84963ca7d69f\",\"type\":\"Plot\",\"subtype\":\"Figure\"},\"ticker\":{\"type\":\"BasicTicker\",\"id\":\"5069d814-9de0-4e7b-ce2e-1a58addf0f3d\"},\"id\":\"089613ab-625d-4bba-cbe6-a7e427dc751e\",\"doc\":null,\"tags\":[]}},{\"id\":\"a814a037-df3e-4d85-cdc0-eb7f186fd97c\",\"type\":\"BasicTickFormatter\",\"attributes\":{\"id\":\"a814a037-df3e-4d85-cdc0-eb7f186fd97c\",\"tags\":[],\"doc\":null}},{\"id\":\"7b228708-fb04-4176-c1ce-304bc3855d10\",\"type\":\"BasicTicker\",\"attributes\":{\"num_minor_ticks\":5,\"id\":\"7b228708-fb04-4176-c1ce-304bc3855d10\",\"tags\":[],\"doc\":null}},{\"id\":\"7f26662f-9866-430e-c3cb-5a97b8db7579\",\"type\":\"LinearAxis\",\"attributes\":{\"formatter\":{\"type\":\"BasicTickFormatter\",\"id\":\"a814a037-df3e-4d85-cdc0-eb7f186fd97c\"},\"ticker\":{\"type\":\"BasicTicker\",\"id\":\"7b228708-fb04-4176-c1ce-304bc3855d10\"},\"plot\":{\"id\":\"8524d7ff-26bb-47ea-c79d-84963ca7d69f\",\"type\":\"Plot\",\"subtype\":\"Figure\"},\"axis_label\":null,\"id\":\"7f26662f-9866-430e-c3cb-5a97b8db7579\",\"doc\":null,\"tags\":[]}},{\"id\":\"576cd5e0-b854-47c7-c7aa-6667e860a3bc\",\"type\":\"Grid\",\"attributes\":{\"dimension\":1,\"plot\":{\"id\":\"8524d7ff-26bb-47ea-c79d-84963ca7d69f\",\"type\":\"Plot\",\"subtype\":\"Figure\"},\"ticker\":{\"type\":\"BasicTicker\",\"id\":\"7b228708-fb04-4176-c1ce-304bc3855d10\"},\"id\":\"576cd5e0-b854-47c7-c7aa-6667e860a3bc\",\"doc\":null,\"tags\":[]}},{\"id\":\"3fa8ca6a-0825-414d-c166-dadcf7638543\",\"type\":\"PanTool\",\"attributes\":{\"plot\":{\"id\":\"8524d7ff-26bb-47ea-c79d-84963ca7d69f\",\"type\":\"Plot\",\"subtype\":\"Figure\"},\"dimensions\":[\"width\",\"height\"],\"id\":\"3fa8ca6a-0825-414d-c166-dadcf7638543\",\"doc\":null,\"tags\":[]}},{\"id\":\"e2d133b7-7f3c-409d-c09f-134ef0db5ace\",\"type\":\"WheelZoomTool\",\"attributes\":{\"plot\":{\"id\":\"8524d7ff-26bb-47ea-c79d-84963ca7d69f\",\"type\":\"Plot\",\"subtype\":\"Figure\"},\"dimensions\":[\"width\",\"height\"],\"id\":\"e2d133b7-7f3c-409d-c09f-134ef0db5ace\",\"doc\":null,\"tags\":[]}},{\"id\":\"e6861527-5d16-4a3c-ca77-74299ba4e55f\",\"type\":\"BoxZoomTool\",\"attributes\":{\"plot\":{\"id\":\"8524d7ff-26bb-47ea-c79d-84963ca7d69f\",\"type\":\"Plot\",\"subtype\":\"Figure\"},\"id\":\"e6861527-5d16-4a3c-ca77-74299ba4e55f\",\"tags\":[],\"doc\":null}},{\"id\":\"8dcd2416-16f4-4dd1-cd0f-ec1a0a229ed9\",\"type\":\"PreviewSaveTool\",\"attributes\":{\"plot\":{\"id\":\"8524d7ff-26bb-47ea-c79d-84963ca7d69f\",\"type\":\"Plot\",\"subtype\":\"Figure\"},\"id\":\"8dcd2416-16f4-4dd1-cd0f-ec1a0a229ed9\",\"tags\":[],\"doc\":null}},{\"id\":\"c7e78af2-5429-4dab-cd62-44103d0384dd\",\"type\":\"ResizeTool\",\"attributes\":{\"plot\":{\"id\":\"8524d7ff-26bb-47ea-c79d-84963ca7d69f\",\"type\":\"Plot\",\"subtype\":\"Figure\"},\"id\":\"c7e78af2-5429-4dab-cd62-44103d0384dd\",\"tags\":[],\"doc\":null}},{\"id\":\"cd4dc240-48a7-486b-c8d3-f41d24013f2d\",\"type\":\"ResetTool\",\"attributes\":{\"plot\":{\"id\":\"8524d7ff-26bb-47ea-c79d-84963ca7d69f\",\"type\":\"Plot\",\"subtype\":\"Figure\"},\"id\":\"cd4dc240-48a7-486b-c8d3-f41d24013f2d\",\"tags\":[],\"doc\":null}},{\"id\":\"39eadd4a-b76a-4a44-caec-ddddaeaf56de\",\"type\":\"Legend\",\"attributes\":{\"plot\":{\"id\":\"8524d7ff-26bb-47ea-c79d-84963ca7d69f\",\"type\":\"Plot\",\"subtype\":\"Figure\"},\"legends\":[[\"accuracy\",[{\"type\":\"GlyphRenderer\",\"id\":\"e902e374-54d6-4bf9-cbd0-3c7392f8cfd2\"}]]],\"id\":\"39eadd4a-b76a-4a44-caec-ddddaeaf56de\",\"doc\":null,\"tags\":[]}},{\"id\":\"8524d7ff-26bb-47ea-c79d-84963ca7d69f\",\"type\":\"Plot\",\"attributes\":{\"x_range\":{\"type\":\"DataRange1d\",\"id\":\"81419d63-6947-4acb-caaf-63392739379b\"},\"tool_events\":{\"type\":\"ToolEvents\",\"id\":\"d52203c1-2943-4c80-cce8-0b3e4df41f7c\"},\"below\":[{\"type\":\"LinearAxis\",\"id\":\"781e61de-04f2-44ea-c4b8-660d77c0a271\"}],\"renderers\":[{\"type\":\"GlyphRenderer\",\"id\":\"e902e374-54d6-4bf9-cbd0-3c7392f8cfd2\"},{\"type\":\"LinearAxis\",\"id\":\"781e61de-04f2-44ea-c4b8-660d77c0a271\"},{\"type\":\"Grid\",\"id\":\"089613ab-625d-4bba-cbe6-a7e427dc751e\"},{\"type\":\"LinearAxis\",\"id\":\"7f26662f-9866-430e-c3cb-5a97b8db7579\"},{\"type\":\"Grid\",\"id\":\"576cd5e0-b854-47c7-c7aa-6667e860a3bc\"},{\"type\":\"Legend\",\"id\":\"39eadd4a-b76a-4a44-caec-ddddaeaf56de\"}],\"above\":[],\"tools\":[{\"type\":\"PanTool\",\"id\":\"3fa8ca6a-0825-414d-c166-dadcf7638543\"},{\"type\":\"WheelZoomTool\",\"id\":\"e2d133b7-7f3c-409d-c09f-134ef0db5ace\"},{\"type\":\"BoxZoomTool\",\"id\":\"e6861527-5d16-4a3c-ca77-74299ba4e55f\"},{\"type\":\"PreviewSaveTool\",\"id\":\"8dcd2416-16f4-4dd1-cd0f-ec1a0a229ed9\"},{\"type\":\"ResizeTool\",\"id\":\"c7e78af2-5429-4dab-cd62-44103d0384dd\"},{\"type\":\"ResetTool\",\"id\":\"cd4dc240-48a7-486b-c8d3-f41d24013f2d\"}],\"doc\":null,\"right\":[],\"title\":\"Accuacy\",\"extra_x_ranges\":{},\"left\":[{\"type\":\"LinearAxis\",\"id\":\"7f26662f-9866-430e-c3cb-5a97b8db7579\"}],\"y_range\":{\"type\":\"DataRange1d\",\"id\":\"9867469d-da41-4cfb-cc4e-312fe9f17017\"},\"id\":\"8524d7ff-26bb-47ea-c79d-84963ca7d69f\",\"extra_y_ranges\":{},\"tags\":[]}}];\n",
       "      Bokeh.load_models(all_models);\n",
       "      var model = Bokeh.Collections(modeltype).get(modelid);\n",
       "      $(\"#d9280e83-33bc-4c07-cc82-d5f4e65c802c\").html(''); // clear any previous plot in window_id\n",
       "      var view = new model.default_view({model: model, el: \"#d9280e83-33bc-4c07-cc82-d5f4e65c802c\"});\n",
       "  });\n",
       "    }\n",
       "});\n",
       "</script>\n",
       "<div class=\"plotdiv\" id=\"d9280e83-33bc-4c07-cc82-d5f4e65c802c\"></div>\n"
      ]
     },
     "metadata": {},
     "output_type": "display_data"
    }
   ],
   "source": [
    "do\n",
    "    local Plot = require 'itorch.Plot'\n",
    "    local last_accuracy = 0\n",
    "    local decreasing = 0\n",
    "    local loss={}\n",
    "    local x={}\n",
    "    local accuracy={}\n",
    "    local threshold = 1 -- how many deacreasing epochs we allow\n",
    "    for i = 1,max_iters do\n",
    "        x[i]=i\n",
    "        loss[i]=step()\n",
    "        print(string.format('Epoch: %d Current loss: %4f', i, loss[i]))\n",
    "        accuracy[i] =eval(validationset)\n",
    "        print(string.format('Accuracy on the validation set: %4f', accuracy[i]))\n",
    "               \n",
    "        --[[if accuracy[i] < last_accuracy then\n",
    "            if decreasing > threshold then break end\n",
    "            decreasing = decreasing + 1\n",
    "        else\n",
    "            decreasing = 0\n",
    "        end\n",
    "        last_accuracy = accuracy[i]--]]\n",
    "    end\n",
    "    plot = Plot():circle(x, loss,'red','loss'):legend(true):title('Loss'):draw()\n",
    "    plot1 = Plot():circle(x, accuracy,'green','accuracy'):legend(true):title('Accuacy'):draw()\n",
    "    plot = Plot():line(x, loss,'red','loss'):legend(true):title('Loss'):draw()\n",
    "    plot1 = Plot():line(x, accuracy,'green','accuracy'):legend(true):title('Accuacy'):draw()\n",
    "end"
   ]
  },
  {
   "cell_type": "code",
   "execution_count": 25,
   "metadata": {
    "collapsed": false
   },
   "outputs": [
    {
     "data": {
      "text/plain": [
       "0.754\t\n"
      ]
     },
     "execution_count": 25,
     "metadata": {},
     "output_type": "execute_result"
    }
   ],
   "source": [
    "eval(testset)"
   ]
  },
  {
   "cell_type": "code",
   "execution_count": 26,
   "metadata": {
    "collapsed": false
   },
   "outputs": [
    {
     "data": {
      "text/plain": [
       "\n"
      ]
     },
     "execution_count": 26,
     "metadata": {},
     "output_type": "execute_result"
    }
   ],
   "source": [
    "torch.save('oldmodel.net',model)"
   ]
  },
  {
   "cell_type": "code",
   "execution_count": 27,
   "metadata": {
    "collapsed": true
   },
   "outputs": [],
   "source": [
    "plot:save('plot.html')\n",
    "plot1:save('plot1.html')"
   ]
  },
  {
   "cell_type": "code",
   "execution_count": 28,
   "metadata": {
    "collapsed": false
   },
   "outputs": [
    {
     "data": {
      "text/plain": [
       "0.747125\t\n"
      ]
     },
     "execution_count": 28,
     "metadata": {},
     "output_type": "execute_result"
    }
   ],
   "source": [
    "eval(trainset)"
   ]
  },
  {
   "cell_type": "code",
   "execution_count": 29,
   "metadata": {
    "collapsed": false
   },
   "outputs": [
    {
     "data": {
      "text/plain": [
       "0.75683186660491\t\n"
      ]
     },
     "execution_count": 29,
     "metadata": {},
     "output_type": "execute_result"
    }
   ],
   "source": [
    "eval(validationset)"
   ]
  },
  {
   "cell_type": "code",
   "execution_count": 53,
   "metadata": {
    "collapsed": false
   },
   "outputs": [],
   "source": [
    "a=image.load(\"p.png\",1,'byte')\n",
    "--a=testset.data[10]"
   ]
  },
  {
   "cell_type": "code",
   "execution_count": 54,
   "metadata": {
    "collapsed": false
   },
   "outputs": [
    {
     "data": {
      "image/png": "[encoded data removed]",
      "text/plain": [
       "Console does not support images"
      ]
     },
     "metadata": {
      "image/png": {
       "height": 20,
       "width": 20
      }
     },
     "output_type": "display_data"
    }
   ],
   "source": [
    "b=torch.Tensor(1,20,20)\n",
    "b[1]=image.scale(a,20,20)\n",
    "itorch.image(b[1])"
   ]
  },
  {
   "cell_type": "code",
   "execution_count": 55,
   "metadata": {
    "collapsed": false
   },
   "outputs": [
    {
     "data": {
      "text/plain": [
       "F\t\n"
      ]
     },
     "execution_count": 55,
     "metadata": {},
     "output_type": "execute_result"
    }
   ],
   "source": [
    "pred=model:forward(b)\n",
    "conf, indi=torch.sort(pred, true)\n",
    "alpha=48\n",
    "beta=65\n",
    "gamma=indi[1][1]\n",
    "if gamma < 11 then\n",
    "    print(string.char(alpha+gamma-1))\n",
    "else\n",
    "    beta=beta+gamma-11\n",
    "    print(string.char(beta))\n",
    "end\n",
    "--t=torch.Int(1):copy(1)\n",
    "--indi[1]=indi[1]:type('int')\n",
    "--print (CharTensor:(indi[1]))"
   ]
  },
  {
   "cell_type": "code",
   "execution_count": null,
   "metadata": {
    "collapsed": true
   },
   "outputs": [],
   "source": []
  },
  {
   "cell_type": "code",
   "execution_count": null,
   "metadata": {
    "collapsed": true
   },
   "outputs": [],
   "source": []
  },
  {
   "cell_type": "code",
   "execution_count": null,
   "metadata": {
    "collapsed": true
   },
   "outputs": [],
   "source": []
  },
  {
   "cell_type": "code",
   "execution_count": null,
   "metadata": {
    "collapsed": true
   },
   "outputs": [],
   "source": []
  }
 ],
 "metadata": {
  "kernelspec": {
   "display_name": "iTorch",
   "language": "lua",
   "name": "itorch"
  },
  "language_info": {
   "name": "lua",
   "version": "5.1"
  }
 },
 "nbformat": 4,
 "nbformat_minor": 0
}
