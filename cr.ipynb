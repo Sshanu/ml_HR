{
 "cells": [
  {
   "cell_type": "code",
   "execution_count": 57,
   "metadata": {
    "collapsed": true
   },
   "outputs": [],
   "source": [
    "optim = require 'optim'\n",
    "fullset = torch.load('imgdata.dat')"
   ]
  },
  {
   "cell_type": "code",
   "execution_count": 58,
   "metadata": {
    "collapsed": false
   },
   "outputs": [],
   "source": [
    "shuffle = torch.randperm(fullset.size)\n",
    "shuffleset = fullset\n",
    "for i=1, fullset.size do\n",
    "    shuffleset.data[i] = fullset.data[shuffle[i]]\n",
    "    shuffleset.label[i] = fullset.label[shuffle[i]]\n",
    "    end\n",
    "fullset = shuffleset"
   ]
  },
  {
   "cell_type": "code",
   "execution_count": 59,
   "metadata": {
    "collapsed": false
   },
   "outputs": [],
   "source": [
    "trainset = {\n",
    "    size = 8503,\n",
    "    data = fullset.data[{{1,8503}}]:double(),\n",
    "    label = fullset.label[{{1,8503}}]\n",
    "}"
   ]
  },
  {
   "cell_type": "code",
   "execution_count": 60,
   "metadata": {
    "collapsed": false
   },
   "outputs": [],
   "source": [
    "validationset = {\n",
    "    size = 2000,\n",
    "    data = fullset.data[{{8504,10503}}]:double(),\n",
    "    label = fullset.label[{{8504,10503}}]\n",
    "}"
   ]
  },
  {
   "cell_type": "code",
   "execution_count": 61,
   "metadata": {
    "collapsed": false
   },
   "outputs": [],
   "source": [
    "testset = {\n",
    "    size = 2000,\n",
    "    data = fullset.data[{{10504,12503}}]:double(),\n",
    "    label = fullset.label[{{10504,12503}}]\n",
    "}"
   ]
  },
  {
   "cell_type": "code",
   "execution_count": 62,
   "metadata": {
    "collapsed": true
   },
   "outputs": [],
   "source": [
    "nn = require 'nn'\n",
    "model = nn.Sequential()\n",
    "model:add(nn.Reshape(2500))"
   ]
  },
  {
   "cell_type": "code",
   "execution_count": 63,
   "metadata": {
    "collapsed": false
   },
   "outputs": [],
   "source": [
    "model:add(nn.Linear(2500,120))\n",
    "model:add(nn.Tanh())\n",
    "model:add(nn.Linear(120,62))\n",
    "model:add(nn.LogSoftMax())"
   ]
  },
  {
   "cell_type": "code",
   "execution_count": 64,
   "metadata": {
    "collapsed": true
   },
   "outputs": [],
   "source": [
    "criterion = nn.ClassNLLCriterion()"
   ]
  },
  {
   "cell_type": "code",
   "execution_count": 65,
   "metadata": {
    "collapsed": true
   },
   "outputs": [],
   "source": [
    "sgd_params = {\n",
    "   learningRate = 1e-1,\n",
    "   learningRateDecay = 1e-4,\n",
    "   weightDecay = 1e-2,\n",
    "   momentum = 1e-4\n",
    "}"
   ]
  },
  {
   "cell_type": "code",
   "execution_count": 66,
   "metadata": {
    "collapsed": true
   },
   "outputs": [],
   "source": [
    "x, dl_dx = model:getParameters()"
   ]
  },
  {
   "cell_type": "code",
   "execution_count": 67,
   "metadata": {
    "collapsed": false
   },
   "outputs": [],
   "source": [
    "step = function(batch_size)\n",
    "    local current_loss = 0\n",
    "    local count = 0\n",
    "    batch_size = batch_size or 200\n",
    "    for t = 1, trainset.size, batch_size do\n",
    "        local size = math.min(t + batch_size -1, trainset.size) - t\n",
    "        local inputs = torch.Tensor(size, 50, 50)\n",
    "        local targets = torch.Tensor(size)\n",
    "        for i = 1,size do\n",
    "            local input = trainset.data[i+t]\n",
    "            local target = trainset.label[i+t]\n",
    "            -- if target == 0 then target = 10 end\n",
    "            inputs[i] = input\n",
    "            targets[i] = target\n",
    "        end\n",
    "        \n",
    "        \n",
    "        local feval = function(x_new)\n",
    "            -- reset data\n",
    "            if x ~= x_new then x:copy(x_new) end\n",
    "            dl_dx:zero()\n",
    "\n",
    "            -- perform mini-batch gradient descent\n",
    "            local loss = criterion:forward(model:forward(inputs), targets)\n",
    "            model:backward(inputs, criterion:backward(model.output, targets))\n",
    "\n",
    "            return loss, dl_dx\n",
    "        end\n",
    "        \n",
    "        _, fs = optim.sgd(feval, x, sgd_params)\n",
    "        -- fs is a table containing value of the loss function\n",
    "        -- (just 1 value for the SGD optimization)\n",
    "        count = count + 1\n",
    "        current_loss = current_loss + fs[1]\n",
    "    end\n",
    "\n",
    "    -- normalize loss\n",
    "    return current_loss / count\n",
    "end"
   ]
  },
  {
   "cell_type": "code",
   "execution_count": 68,
   "metadata": {
    "collapsed": true
   },
   "outputs": [],
   "source": [
    "eval = function(dataset, batch_size)\n",
    "    local count = 0\n",
    "    batch_size = batch_size or 200\n",
    "    \n",
    "    for i = 1,dataset.size,batch_size do\n",
    "        local size = math.min(i + batch_size - 1, dataset.size) - i\n",
    "        local inputs = dataset.data[{{i,i+size-1}}]\n",
    "        local targets = dataset.label[{{i,i+size-1}}]:long()\n",
    "        local outputs = model:forward(inputs)\n",
    "        local _, indices = torch.max(outputs, 2)\n",
    "        indices:add(-1)\n",
    "        local guessed_right = indices:eq(targets):sum()\n",
    "        count = count + guessed_right\n",
    "    end\n",
    "\n",
    "    return count / dataset.size\n",
    "end"
   ]
  },
  {
   "cell_type": "code",
   "execution_count": 69,
   "metadata": {
    "collapsed": true
   },
   "outputs": [],
   "source": [
    "max_iters = 100"
   ]
  },
  {
   "cell_type": "code",
   "execution_count": null,
   "metadata": {
    "collapsed": false
   },
   "outputs": [
    {
     "data": {
      "text/plain": [
       "Epoch: 1 Current loss: 3.837704\t\n"
      ]
     },
     "execution_count": 70,
     "metadata": {},
     "output_type": "execute_result"
    },
    {
     "data": {
      "text/plain": [
       "Accuracy on the validation set: 0.060500\t\n"
      ]
     },
     "execution_count": 70,
     "metadata": {},
     "output_type": "execute_result"
    },
    {
     "data": {
      "text/plain": [
       "Epoch: 2 Current loss: 3.786248\t\n"
      ]
     },
     "execution_count": 70,
     "metadata": {},
     "output_type": "execute_result"
    },
    {
     "data": {
      "text/plain": [
       "Accuracy on the validation set: 0.060500\t\n"
      ]
     },
     "execution_count": 70,
     "metadata": {},
     "output_type": "execute_result"
    },
    {
     "data": {
      "text/plain": [
       "Epoch: 3 Current loss: 3.784971\t\n"
      ]
     },
     "execution_count": 70,
     "metadata": {},
     "output_type": "execute_result"
    },
    {
     "data": {
      "text/plain": [
       "Accuracy on the validation set: 0.060500\t\n"
      ]
     },
     "execution_count": 70,
     "metadata": {},
     "output_type": "execute_result"
    },
    {
     "data": {
      "text/plain": [
       "Epoch: 4 Current loss: 3.784938\t\n"
      ]
     },
     "execution_count": 70,
     "metadata": {},
     "output_type": "execute_result"
    },
    {
     "data": {
      "text/plain": [
       "Accuracy on the validation set: 0.060500\t\n"
      ]
     },
     "execution_count": 70,
     "metadata": {},
     "output_type": "execute_result"
    },
    {
     "data": {
      "text/plain": [
       "Epoch: 5 Current loss: 3.784764\t\n"
      ]
     },
     "execution_count": 70,
     "metadata": {},
     "output_type": "execute_result"
    },
    {
     "data": {
      "text/plain": [
       "Accuracy on the validation set: 0.060500\t\n"
      ]
     },
     "execution_count": 70,
     "metadata": {},
     "output_type": "execute_result"
    },
    {
     "data": {
      "text/plain": [
       "Epoch: 6 Current loss: 3.785126\t\n"
      ]
     },
     "execution_count": 70,
     "metadata": {},
     "output_type": "execute_result"
    },
    {
     "data": {
      "text/plain": [
       "Accuracy on the validation set: 0.060500\t\n"
      ]
     },
     "execution_count": 70,
     "metadata": {},
     "output_type": "execute_result"
    },
    {
     "data": {
      "text/plain": [
       "Epoch: 7 Current loss: 3.784913\t\n"
      ]
     },
     "execution_count": 70,
     "metadata": {},
     "output_type": "execute_result"
    },
    {
     "data": {
      "text/plain": [
       "Accuracy on the validation set: 0.060500\t\n"
      ]
     },
     "execution_count": 70,
     "metadata": {},
     "output_type": "execute_result"
    },
    {
     "data": {
      "text/plain": [
       "Epoch: 8 Current loss: 3.784542\t\n"
      ]
     },
     "execution_count": 70,
     "metadata": {},
     "output_type": "execute_result"
    },
    {
     "data": {
      "text/plain": [
       "Accuracy on the validation set: 0.060500\t\n"
      ]
     },
     "execution_count": 70,
     "metadata": {},
     "output_type": "execute_result"
    },
    {
     "data": {
      "text/plain": [
       "Epoch: 9 Current loss: 3.784470\t\n"
      ]
     },
     "execution_count": 70,
     "metadata": {},
     "output_type": "execute_result"
    },
    {
     "data": {
      "text/plain": [
       "Accuracy on the validation set: 0.060500\t\n"
      ]
     },
     "execution_count": 70,
     "metadata": {},
     "output_type": "execute_result"
    },
    {
     "data": {
      "text/plain": [
       "Epoch: 10 Current loss: 3.784386\t\n"
      ]
     },
     "execution_count": 70,
     "metadata": {},
     "output_type": "execute_result"
    },
    {
     "data": {
      "text/plain": [
       "Accuracy on the validation set: 0.060500\t\n"
      ]
     },
     "execution_count": 70,
     "metadata": {},
     "output_type": "execute_result"
    },
    {
     "data": {
      "text/plain": [
       "Epoch: 11 Current loss: 3.784301\t\n"
      ]
     },
     "execution_count": 70,
     "metadata": {},
     "output_type": "execute_result"
    },
    {
     "data": {
      "text/plain": [
       "Accuracy on the validation set: 0.060500\t\n"
      ]
     },
     "execution_count": 70,
     "metadata": {},
     "output_type": "execute_result"
    },
    {
     "data": {
      "text/plain": [
       "Epoch: 12 Current loss: 3.784218\t\n"
      ]
     },
     "execution_count": 70,
     "metadata": {},
     "output_type": "execute_result"
    },
    {
     "data": {
      "text/plain": [
       "Accuracy on the validation set: 0.060500\t\n"
      ]
     },
     "execution_count": 70,
     "metadata": {},
     "output_type": "execute_result"
    },
    {
     "data": {
      "text/plain": [
       "Epoch: 13 Current loss: 3.784136\t\n"
      ]
     },
     "execution_count": 70,
     "metadata": {},
     "output_type": "execute_result"
    },
    {
     "data": {
      "text/plain": [
       "Accuracy on the validation set: 0.060500\t\n"
      ]
     },
     "execution_count": 70,
     "metadata": {},
     "output_type": "execute_result"
    },
    {
     "data": {
      "text/plain": [
       "Epoch: 14 Current loss: 3.784055\t\n"
      ]
     },
     "execution_count": 70,
     "metadata": {},
     "output_type": "execute_result"
    },
    {
     "data": {
      "text/plain": [
       "Accuracy on the validation set: 0.060500\t\n"
      ]
     },
     "execution_count": 70,
     "metadata": {},
     "output_type": "execute_result"
    },
    {
     "data": {
      "text/plain": [
       "Epoch: 15 Current loss: 3.783975\t\n"
      ]
     },
     "execution_count": 70,
     "metadata": {},
     "output_type": "execute_result"
    },
    {
     "data": {
      "text/plain": [
       "Accuracy on the validation set: 0.060500\t\n"
      ]
     },
     "execution_count": 70,
     "metadata": {},
     "output_type": "execute_result"
    },
    {
     "data": {
      "text/plain": [
       "Epoch: 16 Current loss: 3.783896\t\n"
      ]
     },
     "execution_count": 70,
     "metadata": {},
     "output_type": "execute_result"
    },
    {
     "data": {
      "text/plain": [
       "Accuracy on the validation set: 0.060500\t\n"
      ]
     },
     "execution_count": 70,
     "metadata": {},
     "output_type": "execute_result"
    },
    {
     "data": {
      "text/plain": [
       "Epoch: 17 Current loss: 3.783889\t\n"
      ]
     },
     "execution_count": 70,
     "metadata": {},
     "output_type": "execute_result"
    },
    {
     "data": {
      "text/plain": [
       "Accuracy on the validation set: 0.060500\t\n"
      ]
     },
     "execution_count": 70,
     "metadata": {},
     "output_type": "execute_result"
    },
    {
     "data": {
      "text/plain": [
       "Epoch: 18 Current loss: 3.783620\t\n"
      ]
     },
     "execution_count": 70,
     "metadata": {},
     "output_type": "execute_result"
    },
    {
     "data": {
      "text/plain": [
       "Accuracy on the validation set: 0.060500\t\n"
      ]
     },
     "execution_count": 70,
     "metadata": {},
     "output_type": "execute_result"
    },
    {
     "data": {
      "text/plain": [
       "Epoch: 19 Current loss: 3.783723\t\n"
      ]
     },
     "execution_count": 70,
     "metadata": {},
     "output_type": "execute_result"
    },
    {
     "data": {
      "text/plain": [
       "Accuracy on the validation set: 0.060500\t\n"
      ]
     },
     "execution_count": 70,
     "metadata": {},
     "output_type": "execute_result"
    },
    {
     "data": {
      "text/plain": [
       "Epoch: 20 Current loss: 3.783601\t\n"
      ]
     },
     "execution_count": 70,
     "metadata": {},
     "output_type": "execute_result"
    },
    {
     "data": {
      "text/plain": [
       "Accuracy on the validation set: 0.060500\t\n"
      ]
     },
     "execution_count": 70,
     "metadata": {},
     "output_type": "execute_result"
    },
    {
     "data": {
      "text/plain": [
       "Epoch: 21 Current loss: 3.783521\t\n"
      ]
     },
     "execution_count": 70,
     "metadata": {},
     "output_type": "execute_result"
    },
    {
     "data": {
      "text/plain": [
       "Accuracy on the validation set: 0.060500\t\n"
      ]
     },
     "execution_count": 70,
     "metadata": {},
     "output_type": "execute_result"
    },
    {
     "data": {
      "text/plain": [
       "Epoch: 22 Current loss: 3.783446\t\n"
      ]
     },
     "execution_count": 70,
     "metadata": {},
     "output_type": "execute_result"
    },
    {
     "data": {
      "text/plain": [
       "Accuracy on the validation set: 0.060500\t\n"
      ]
     },
     "execution_count": 70,
     "metadata": {},
     "output_type": "execute_result"
    },
    {
     "data": {
      "text/plain": [
       "Epoch: 23 Current loss: 3.783374\t\n"
      ]
     },
     "execution_count": 70,
     "metadata": {},
     "output_type": "execute_result"
    },
    {
     "data": {
      "text/plain": [
       "Accuracy on the validation set: 0.060500\t\n"
      ]
     },
     "execution_count": 70,
     "metadata": {},
     "output_type": "execute_result"
    },
    {
     "data": {
      "text/plain": [
       "Epoch: 24 Current loss: 3.783304\t\n"
      ]
     },
     "execution_count": 70,
     "metadata": {},
     "output_type": "execute_result"
    },
    {
     "data": {
      "text/plain": [
       "Accuracy on the validation set: 0.060500\t\n"
      ]
     },
     "execution_count": 70,
     "metadata": {},
     "output_type": "execute_result"
    },
    {
     "data": {
      "text/plain": [
       "Epoch: 25 Current loss: 3.783234\t\n"
      ]
     },
     "execution_count": 70,
     "metadata": {},
     "output_type": "execute_result"
    },
    {
     "data": {
      "text/plain": [
       "Accuracy on the validation set: 0.060500\t\n"
      ]
     },
     "execution_count": 70,
     "metadata": {},
     "output_type": "execute_result"
    },
    {
     "data": {
      "text/plain": [
       "Epoch: 26 Current loss: 3.783165\t\n"
      ]
     },
     "execution_count": 70,
     "metadata": {},
     "output_type": "execute_result"
    },
    {
     "data": {
      "text/plain": [
       "Accuracy on the validation set: 0.060500\t\n"
      ]
     },
     "execution_count": 70,
     "metadata": {},
     "output_type": "execute_result"
    },
    {
     "data": {
      "text/plain": [
       "Epoch: 27 Current loss: 3.783097\t\n"
      ]
     },
     "execution_count": 70,
     "metadata": {},
     "output_type": "execute_result"
    },
    {
     "data": {
      "text/plain": [
       "Accuracy on the validation set: 0.060500\t\n"
      ]
     },
     "execution_count": 70,
     "metadata": {},
     "output_type": "execute_result"
    },
    {
     "data": {
      "text/plain": [
       "Epoch: 28 Current loss: 3.783074\t\n"
      ]
     },
     "execution_count": 70,
     "metadata": {},
     "output_type": "execute_result"
    },
    {
     "data": {
      "text/plain": [
       "Accuracy on the validation set: 0.060500\t\n"
      ]
     },
     "execution_count": 70,
     "metadata": {},
     "output_type": "execute_result"
    },
    {
     "data": {
      "text/plain": [
       "Epoch: 29 Current loss: 3.783021\t\n"
      ]
     },
     "execution_count": 70,
     "metadata": {},
     "output_type": "execute_result"
    },
    {
     "data": {
      "text/plain": [
       "Accuracy on the validation set: 0.060500\t\n"
      ]
     },
     "execution_count": 70,
     "metadata": {},
     "output_type": "execute_result"
    },
    {
     "data": {
      "text/plain": [
       "Epoch: 30 Current loss: 3.782945\t\n"
      ]
     },
     "execution_count": 70,
     "metadata": {},
     "output_type": "execute_result"
    },
    {
     "data": {
      "text/plain": [
       "Accuracy on the validation set: 0.060500\t\n"
      ]
     },
     "execution_count": 70,
     "metadata": {},
     "output_type": "execute_result"
    },
    {
     "data": {
      "text/plain": [
       "Epoch: 31 Current loss: 3.782882\t\n"
      ]
     },
     "execution_count": 70,
     "metadata": {},
     "output_type": "execute_result"
    },
    {
     "data": {
      "text/plain": [
       "Accuracy on the validation set: 0.060500\t\n"
      ]
     },
     "execution_count": 70,
     "metadata": {},
     "output_type": "execute_result"
    },
    {
     "data": {
      "text/plain": [
       "Epoch: 32 Current loss: 3.782819\t\n"
      ]
     },
     "execution_count": 70,
     "metadata": {},
     "output_type": "execute_result"
    },
    {
     "data": {
      "text/plain": [
       "Accuracy on the validation set: 0.060500\t\n"
      ]
     },
     "execution_count": 70,
     "metadata": {},
     "output_type": "execute_result"
    },
    {
     "data": {
      "text/plain": [
       "Epoch: 33 Current loss: 3.782757\t\n"
      ]
     },
     "execution_count": 70,
     "metadata": {},
     "output_type": "execute_result"
    },
    {
     "data": {
      "text/plain": [
       "Accuracy on the validation set: 0.060500\t\n"
      ]
     },
     "execution_count": 70,
     "metadata": {},
     "output_type": "execute_result"
    },
    {
     "data": {
      "text/plain": [
       "Epoch: 34 Current loss: 3.782696\t\n"
      ]
     },
     "execution_count": 70,
     "metadata": {},
     "output_type": "execute_result"
    },
    {
     "data": {
      "text/plain": [
       "Accuracy on the validation set: 0.060500\t\n"
      ]
     },
     "execution_count": 70,
     "metadata": {},
     "output_type": "execute_result"
    }
   ],
   "source": [
    "do\n",
    "    local last_accuracy = 0\n",
    "    local decreasing = 0\n",
    "    local threshold = 1 -- how many deacreasing epochs we allow\n",
    "    for i = 1,max_iters do\n",
    "        local loss = step()\n",
    "        print(string.format('Epoch: %d Current loss: %4f', i, loss))\n",
    "        local accuracy = eval(validationset)\n",
    "        print(string.format('Accuracy on the validation set: %4f', accuracy))\n",
    "        if accuracy < last_accuracy then\n",
    "            if decreasing > threshold then break end\n",
    "            decreasing = decreasing + 1\n",
    "        else\n",
    "            decreasing = 0\n",
    "        end\n",
    "        last_accuracy = accuracy\n",
    "    end\n",
    "end"
   ]
  },
  {
   "cell_type": "code",
   "execution_count": null,
   "metadata": {
    "collapsed": true
   },
   "outputs": [],
   "source": []
  }
 ],
 "metadata": {
  "kernelspec": {
   "display_name": "iTorch",
   "language": "lua",
   "name": "itorch"
  },
  "language_info": {
   "name": "lua",
   "version": "5.1"
  }
 },
 "nbformat": 4,
 "nbformat_minor": 0
}
