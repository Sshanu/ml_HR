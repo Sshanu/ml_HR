{
 "cells": [
  {
   "cell_type": "code",
   "execution_count": 10,
   "metadata": {
    "collapsed": false
   },
   "outputs": [
    {
     "data": {
      "text/plain": [
       "{\n",
       "  data : ByteTensor - size: 60000x28x28\n",
       "  size : 60000\n",
       "  label : ByteTensor - size: 60000\n",
       "}\n",
       "{\n"
      ]
     },
     "execution_count": 10,
     "metadata": {},
     "output_type": "execute_result"
    },
    {
     "data": {
      "text/plain": [
       "  data : ByteTensor - size: 10000x28x28\n",
       "  size : 10000\n",
       "  label : ByteTensor - size: 10000\n",
       "}\n"
      ]
     },
     "execution_count": 10,
     "metadata": {},
     "output_type": "execute_result"
    }
   ],
   "source": [
    "require 'torch'\n",
    "itorch = require 'itorch'\n",
    "mnist = require 'mnist'\n",
    "fullset = mnist.traindataset()\n",
    "testset = mnist.testdataset()\n",
    "print(fullset)\n",
    "print(testset)"
   ]
  },
  {
   "cell_type": "code",
   "execution_count": 3,
   "metadata": {
    "collapsed": false
   },
   "outputs": [],
   "source": [
    "trainset = {\n",
    "    size = 50000,\n",
    "    data = fullset.data[{{1, 50000}}]:double(),\n",
    "    label = fullset.label[{{1, 50000}}] \n",
    "}"
   ]
  },
  {
   "cell_type": "code",
   "execution_count": 4,
   "metadata": {
    "collapsed": false
   },
   "outputs": [
    {
     "data": {
      "text/plain": [
       "{\n",
       "  data : DoubleTensor - size: 50000x28x28\n",
       "  size : 50000\n",
       "  label : ByteTensor - size: 50000\n",
       "}\n"
      ]
     },
     "execution_count": 4,
     "metadata": {},
     "output_type": "execute_result"
    }
   ],
   "source": [
    "print(trainset)"
   ]
  },
  {
   "cell_type": "code",
   "execution_count": 7,
   "metadata": {
    "collapsed": false
   },
   "outputs": [],
   "source": [
    "validationset = {\n",
    "    size = 10000,\n",
    "    data = fullset.data[{{50001, 60000}}]:double(),\n",
    "    label = fullset.label[{{50001, 60000}}]:double()\n",
    "}"
   ]
  },
  {
   "cell_type": "code",
   "execution_count": 8,
   "metadata": {
    "collapsed": false
   },
   "outputs": [
    {
     "data": {
      "text/plain": [
       "{\n",
       "  data : DoubleTensor - size: 10000x28x28\n",
       "  size : 10000\n",
       "  label : DoubleTensor - size: 10000\n",
       "}\n"
      ]
     },
     "execution_count": 8,
     "metadata": {},
     "output_type": "execute_result"
    }
   ],
   "source": [
    "print(validationset)"
   ]
  },
  {
   "cell_type": "code",
   "execution_count": 1,
   "metadata": {
    "collapsed": false
   },
   "outputs": [
    {
     "data": {
      "text/plain": [
       "nn.Linear(10 -> 5)\n",
       "{\n",
       "  gradBias : DoubleTensor - size: 5\n",
       "  weight : DoubleTensor - size: 5x10\n",
       "  _type : torch.DoubleTensor\n",
       "  output : DoubleTensor - empty\n",
       "  gradInput : DoubleTensor - empty\n",
       "  bias : DoubleTensor - size: 5\n",
       "  gradWeight : DoubleTensor - size: 5x10\n",
       "}\n"
      ]
     },
     "execution_count": 1,
     "metadata": {},
     "output_type": "execute_result"
    }
   ],
   "source": [
    "nn = require 'nn'\n",
    "module = nn.Linear(10, 5)\n",
    "print(module)"
   ]
  },
  {
   "cell_type": "code",
   "execution_count": 27,
   "metadata": {
    "collapsed": false,
    "scrolled": false
   },
   "outputs": [
    {
     "data": {
      "text/plain": [
       "nn.Sequential {\n",
       "  [input -> (1) -> (2) -> (3) -> output]\n",
       "  (1): nn.Linear(10 -> 5)\n",
       "  (2): nn.Tanh\n",
       "  (3): nn.Linear(5 -> 1)\n",
       "}\n",
       "{\n",
       "  gradInput : DoubleTensor - empty\n",
       "  modules : \n",
       "    {\n",
       "      1 : \n",
       "   "
      ]
     },
     "execution_count": 27,
     "metadata": {},
     "output_type": "execute_result"
    },
    {
     "data": {
      "text/plain": [
       "     nn.Linear(10 -> 5)\n",
       "        {\n",
       "          gradBias : DoubleTensor - size: 5\n",
       "          weight : DoubleTensor - size: 5x10\n",
       "          _type : torch.DoubleTensor\n",
       "          output : DoubleTensor - size: 5\n",
       "          gradInput : DoubleTensor - empty\n",
       "          bias : DoubleTensor - size: 5\n",
       "          gradWeight : DoubleTensor - size: 5x10\n",
       "        }\n",
       "      2 : \n",
       "        nn.Tanh\n",
       "        {\n",
       "          gradInput : DoubleTensor - empty\n",
       "          _type : torch.DoubleTensor\n",
       "          output : DoubleTensor - empty\n",
       "        }\n",
       "      3 : \n",
       "        nn.Linear(5 -> 1)\n",
       "        {\n",
       "          gradBias : DoubleTensor - size: 1\n",
       "          weight : DoubleTensor - size: 1x5\n",
       "          _type : torch.DoubleTensor\n",
       "          output : DoubleTensor - empty\n",
       "          gradInput : DoubleTensor - empty\n",
       "          bias : DoubleTensor - size: 1\n",
       "          gradWeight : DoubleTensor - size: 1x5\n",
       "        }\n",
       "    }\n",
       "  _type : torch.DoubleTensor\n",
       "  output : DoubleTensor - empty\n",
       "}\n"
      ]
     },
     "execution_count": 27,
     "metadata": {},
     "output_type": "execute_result"
    },
    {
     "data": {
      "text/plain": [
       " 6.9277e-310\n",
       " 6.9277e-310\n",
       "  0.0000e+00\n",
       "  0.0000e+00\n",
       " 6.9277e-310\n",
       " 6.9277e-310\n",
       "  0.0000e+00\n",
       "  0.0000e+00\n",
       "  0.0000e+00\n",
       "  0.0000e+00\n",
       "  0.0000e+00\n",
       "  0.0000e+00\n",
       "  0.0000e+00\n",
       "  0.0000e+00\n",
       "  0.0000e+00\n",
       "  0.0000e+00\n",
       "  0.0000e+00\n",
       "  0.0000e+00\n",
       "  0.0000e+00\n",
       "  0.0000e+00\n",
       "  0.0000e+00\n",
       "  0.0000e+00\n",
       "  0.0000e+00\n",
       "  0.0000e+00\n",
       "  0.0000e+00\n",
       "  0.0000e+00\n",
       "  0.0000e+00\n",
       "  0.0000e+00\n",
       "  0.0000e+00\n",
       "  0.0000e+00\n",
       "  0.0000e+00\n",
       "  0.0000e+00\n",
       "  0.0000e+00\n",
       "  0.0000e+00\n",
       "  0.0000e+00\n",
       "  0.0000e+00\n",
       "  0.0000e+00\n",
       "  0.0000e+00\n",
       "  0.0000e+00\n",
       "  0.0000e+00\n",
       "  0.0000e+00\n",
       "  0.0000e+00\n",
       "  0.0000e+00\n",
       "  0.0000e+00\n",
       "  0.0000e+00\n",
       "  0.0000e+00\n",
       "  0.0000e+00\n",
       "  0.0000e+00\n",
       "  0.0000e+00\n",
       "  0.0000e+00\n",
       " 8.3413e-317\n",
       "  2.7383e-57\n",
       "  1.1779e-47\n",
       "  1.5873e+06\n",
       "  0.0000e+00\n",
       " 6.9277e-310\n",
       " 6.9277e-310\n",
       " 6.2182e+175\n",
       " 1.9816e+214\n",
       " 8.7210e+223\n",
       " 1.0265e+200\n",
       "[torch.DoubleTensor of size 61]\n",
       "\n"
      ]
     },
     "execution_count": 27,
     "metadata": {},
     "output_type": "execute_result"
    }
   ],
   "source": [
    "mlp = nn.Sequential()\n",
    "mlp:add(module)\n",
    "mlp:add(nn.Tanh())\n",
    "mlp:add(nn.Linear(5,1))\n",
    "x, dl_dx = mlp:getParameters()\n",
    "print(mlp)\n",
    "print(dl_dx)\n"
   ]
  },
  {
   "cell_type": "code",
   "execution_count": 28,
   "metadata": {
    "collapsed": false,
    "scrolled": false
   },
   "outputs": [
    {
     "data": {
      "text/plain": [
       "-0.3281\n",
       "[torch.DoubleTensor of size 1]\n",
       "\n",
       "-0.3281\n",
       "[torch.DoubleTensor of size 1]\n",
       "\n"
      ]
     },
     "execution_count": 28,
     "metadata": {},
     "output_type": "execute_result"
    }
   ],
   "source": [
    "torch = require 'torch'\n",
    "print(mlp:forward(torch.rand(10)))\n",
    "print(mlp.output)"
   ]
  },
  {
   "cell_type": "code",
   "execution_count": null,
   "metadata": {
    "collapsed": true
   },
   "outputs": [],
   "source": []
  }
 ],
 "metadata": {
  "kernelspec": {
   "display_name": "iTorch",
   "language": "lua",
   "name": "itorch"
  },
  "language_info": {
   "name": "lua",
   "version": "5.1"
  }
 },
 "nbformat": 4,
 "nbformat_minor": 0
}
