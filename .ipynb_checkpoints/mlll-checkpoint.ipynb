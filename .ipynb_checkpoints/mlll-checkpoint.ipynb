{
 "cells": [
  {
   "cell_type": "code",
   "execution_count": 1,
   "metadata": {
    "collapsed": false
   },
   "outputs": [],
   "source": [
    "gff=require 'loader'"
   ]
  },
  {
   "cell_type": "code",
   "execution_count": 2,
   "metadata": {
    "collapsed": false
   },
   "outputs": [
    {
     "ename": "[string \"model=nn.Sequential()...\"]:1: attempt to index global 'nn' (a nil value)\nstack traceback:\n\t[string \"model=nn.Sequential()...\"]:1: in main chunk\n\t[C]: in function 'xpcall'\n\t/home/mohit/torch/install/share/lua/5.1/itorch/main.lua:209: in function </home/mohit/torch/install/share/lua/5.1/itorch/main.lua:173>\n\t/home/mohit/torch/install/share/lua/5.1/lzmq/poller.lua:75: in function 'poll'\n\t/home/mohit/torch/install/share/lua/5.1/lzmq/impl/loop.lua:307: in function 'poll'\n\t/home/mohit/torch/install/share/lua/5.1/lzmq/impl/loop.lua:325: in function 'sleep_ex'\n\t/home/mohit/torch/install/share/lua/5.1/lzmq/impl/loop.lua:370: in function 'start'\n\t/home/mohit/torch/install/share/lua/5.1/itorch/main.lua:381: in main chunk\n\t[C]: in function 'require'\n\t(command line):1: in main chunk\n\t[C]: at 0x00405d50",
     "evalue": "",
     "output_type": "error",
     "traceback": [
      "[string \"model=nn.Sequential()...\"]:1: attempt to index global 'nn' (a nil value)\nstack traceback:\n\t[string \"model=nn.Sequential()...\"]:1: in main chunk\n\t[C]: in function 'xpcall'\n\t/home/mohit/torch/install/share/lua/5.1/itorch/main.lua:209: in function </home/mohit/torch/install/share/lua/5.1/itorch/main.lua:173>\n\t/home/mohit/torch/install/share/lua/5.1/lzmq/poller.lua:75: in function 'poll'\n\t/home/mohit/torch/install/share/lua/5.1/lzmq/impl/loop.lua:307: in function 'poll'\n\t/home/mohit/torch/install/share/lua/5.1/lzmq/impl/loop.lua:325: in function 'sleep_ex'\n\t/home/mohit/torch/install/share/lua/5.1/lzmq/impl/loop.lua:370: in function 'start'\n\t/home/mohit/torch/install/share/lua/5.1/itorch/main.lua:381: in main chunk\n\t[C]: in function 'require'\n\t(command line):1: in main chunk\n\t[C]: at 0x00405d50"
     ]
    }
   ],
   "source": [
    "model=nn.Sequential()\n",
    "model:add(nn.Reshape(2500))\n",
    "model:add(nn.Linear(2500,120))\n",
    "model:add(nn.Tanh())\n",
    "model:add(nn.Linear(120,62))\n",
    "model:add(nn.LogSoftMax())"
   ]
  },
  {
   "cell_type": "code",
   "execution_count": 3,
   "metadata": {
    "collapsed": false
   },
   "outputs": [
    {
     "ename": "[string \"criterion = nn.ClassNLLCriterion()...\"]:1: attempt to index global 'nn' (a nil value)\nstack traceback:\n\t[string \"criterion = nn.ClassNLLCriterion()...\"]:1: in main chunk\n\t[C]: in function 'xpcall'\n\t/home/mohit/torch/install/share/lua/5.1/itorch/main.lua:209: in function </home/mohit/torch/install/share/lua/5.1/itorch/main.lua:173>\n\t/home/mohit/torch/install/share/lua/5.1/lzmq/poller.lua:75: in function 'poll'\n\t/home/mohit/torch/install/share/lua/5.1/lzmq/impl/loop.lua:307: in function 'poll'\n\t/home/mohit/torch/install/share/lua/5.1/lzmq/impl/loop.lua:325: in function 'sleep_ex'\n\t/home/mohit/torch/install/share/lua/5.1/lzmq/impl/loop.lua:370: in function 'start'\n\t/home/mohit/torch/install/share/lua/5.1/itorch/main.lua:381: in main chunk\n\t[C]: in function 'require'\n\t(command line):1: in main chunk\n\t[C]: at 0x00405d50",
     "evalue": "",
     "output_type": "error",
     "traceback": [
      "[string \"criterion = nn.ClassNLLCriterion()...\"]:1: attempt to index global 'nn' (a nil value)\nstack traceback:\n\t[string \"criterion = nn.ClassNLLCriterion()...\"]:1: in main chunk\n\t[C]: in function 'xpcall'\n\t/home/mohit/torch/install/share/lua/5.1/itorch/main.lua:209: in function </home/mohit/torch/install/share/lua/5.1/itorch/main.lua:173>\n\t/home/mohit/torch/install/share/lua/5.1/lzmq/poller.lua:75: in function 'poll'\n\t/home/mohit/torch/install/share/lua/5.1/lzmq/impl/loop.lua:307: in function 'poll'\n\t/home/mohit/torch/install/share/lua/5.1/lzmq/impl/loop.lua:325: in function 'sleep_ex'\n\t/home/mohit/torch/install/share/lua/5.1/lzmq/impl/loop.lua:370: in function 'start'\n\t/home/mohit/torch/install/share/lua/5.1/itorch/main.lua:381: in main chunk\n\t[C]: in function 'require'\n\t(command line):1: in main chunk\n\t[C]: at 0x00405d50"
     ]
    }
   ],
   "source": [
    "criterion = nn.ClassNLLCriterion()"
   ]
  },
  {
   "cell_type": "code",
   "execution_count": 4,
   "metadata": {
    "collapsed": true
   },
   "outputs": [],
   "source": [
    "sgd_params = {\n",
    "   learningRate = 1e-2,\n",
    "   learningRateDecay = 1e-4,\n",
    "   weightDecay = 1e-3,\n",
    "   momentum = 1e-4\n",
    "}"
   ]
  },
  {
   "cell_type": "code",
   "execution_count": null,
   "metadata": {
    "collapsed": true
   },
   "outputs": [],
   "source": [
    "x, dl_dx = model:getParameters()"
   ]
  },
  {
   "cell_type": "code",
   "execution_count": null,
   "metadata": {
    "collapsed": true
   },
   "outputs": [],
   "source": [
    "step = function(batch_size)\n",
    "    local current_loss = 0\n",
    "    local count = 0\n",
    "    local shuffle = torch.randperm(trainset.size)\n",
    "    batch_size = batch_size or 200\n",
    "    \n",
    "    for t = 1,trainset.size,batch_size do\n",
    "        -- setup inputs and targets for this mini-batch\n",
    "        local size = math.min(t + batch_size, trainset.size) - t"
   ]
  }
 ],
 "metadata": {
  "kernelspec": {
   "display_name": "iTorch",
   "language": "lua",
   "name": "itorch"
  },
  "language_info": {
   "name": "lua",
   "version": "5.1"
  }
 },
 "nbformat": 4,
 "nbformat_minor": 0
}
