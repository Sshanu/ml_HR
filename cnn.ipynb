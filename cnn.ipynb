{
 "cells": [
  {
   "cell_type": "code",
   "execution_count": 19,
   "metadata": {
    "collapsed": false
   },
   "outputs": [],
   "source": [
    "optim = require 'optim'\n",
    "fullset = torch.load('newfntdata.dat')"
   ]
  },
  {
   "cell_type": "code",
   "execution_count": 20,
   "metadata": {
    "collapsed": false
   },
   "outputs": [
    {
     "data": {
      "text/plain": [
       "36\t\n"
      ]
     },
     "execution_count": 20,
     "metadata": {},
     "output_type": "execute_result"
    }
   ],
   "source": [
    "fullset.label[36159]"
   ]
  },
  {
   "cell_type": "code",
   "execution_count": 21,
   "metadata": {
    "collapsed": false
   },
   "outputs": [
    {
     "data": {
      "image/png": "[encoded data removed]",
      "text/plain": [
       "Console does not support images"
      ]
     },
     "metadata": {
      "image/png": {
       "height": 20,
       "width": 20
      }
     },
     "output_type": "display_data"
    },
    {
     "data": {
      "text/plain": [
       "\n"
      ]
     },
     "execution_count": 21,
     "metadata": {},
     "output_type": "execute_result"
    }
   ],
   "source": [
    "itorch.image(fullset.data[36159])"
   ]
  },
  {
   "cell_type": "code",
   "execution_count": 22,
   "metadata": {
    "collapsed": false
   },
   "outputs": [
    {
     "data": {
      "text/plain": [
       "999\t\n"
      ]
     },
     "execution_count": 22,
     "metadata": {},
     "output_type": "execute_result"
    }
   ],
   "source": [
    "count =0\n",
    "for i=1,fullset.size do\n",
    "    if (fullset.label[i]==36) then\n",
    "        count=count+1\n",
    "     end\n",
    "end\n",
    "print(count)\n"
   ]
  },
  {
   "cell_type": "code",
   "execution_count": 23,
   "metadata": {
    "collapsed": true
   },
   "outputs": [],
   "source": [
    "trainset = fullset"
   ]
  },
  {
   "cell_type": "code",
   "execution_count": 24,
   "metadata": {
    "collapsed": false
   },
   "outputs": [],
   "source": [
    "-- ignore setmetatable for now, it is a feature beyond the scope of this tutorial. It sets the index operator.\n",
    "setmetatable(trainset, \n",
    "    {__index = function(t, i) \n",
    "                    return {t.data[i], t.label[i]} \n",
    "                end}\n",
    ");\n",
    "trainset.data = trainset.data:double() -- convert the data from a ByteTensor to a DoubleTensor.\n",
    "\n",
    "function trainset:size() \n",
    "    return self.data:size(1) \n",
    "end"
   ]
  },
  {
   "cell_type": "code",
   "execution_count": 29,
   "metadata": {
    "collapsed": false
   },
   "outputs": [
    {
     "data": {
      "text/plain": [
       "nn.Sequential {\n",
       "  [input -> (1) -> (2) -> (3) -> (4) -> (5) -> (6) -> (7) -> (8) -> (9) -> (10) -> (11) -> (12) -> (13) -> output]\n",
       "  (1): nn.SpatialConvolution(3 -> 6, 5x5)\n",
       "  (2): nn.SpatialMaxPooling(2x2, 2,2)\n",
       "  (3): nn.ReLU\n",
       "  (4): nn.SpatialConvolution(6 -> 16, 5x5)\n",
       "  (5): nn.SpatialMaxPooling(2x2, 2,2)\n",
       "  (6): nn.ReLU\n",
       "  (7): nn.View(64)\n",
       "  (8): nn.Linear(64 -> 120)\n",
       "  (9): nn.ReLU\n",
       "  (10): nn.Linear(120 -> 80)\n",
       "  (11): nn.ReLU\n",
       "  (12): nn.Linear(80 -> 36)\n",
       "  (13): nn.LogSoftMax\n",
       "}\n",
       "{\n",
       "  gradInput : DoubleTensor - size: 3x20x20\n",
       "  modules : \n",
       "    {\n",
       "      1 : \n",
       "        nn.SpatialConvolution(3 -> 6, 5x5)\n",
       "        {\n",
       "          padW : 0\n",
       "          nInputPlane : 3\n",
       "          output : DoubleTensor - size: 6x16x16\n",
       "          gradInput : DoubleTensor - size: 3x20x20\n",
       "          _type : torch.DoubleTensor\n",
       "          dH : 1\n",
       "          dW : 1\n",
       "          nOutputPlane : 6\n",
       "          bias : DoubleTensor - size: 6\n",
       "          kH : 5\n",
       "          finput : DoubleTensor - size: 75x256\n",
       "          weight : DoubleTensor - size: 6x3x5x5\n",
       " "
      ]
     },
     "execution_count": 29,
     "metadata": {},
     "output_type": "execute_result"
    },
    {
     "data": {
      "text/plain": [
       "         gradWeight : DoubleTensor - size: 6x3x5x5\n",
       "          fgradInput : DoubleTensor - size: 75x256\n",
       "          gradBias : DoubleTensor - size: 6\n",
       "          padH : 0\n",
       "          kW : 5\n",
       "        }\n",
       "      2 : \n",
       "        nn.SpatialMaxPooling(2x2, 2,2)\n",
       "        {\n",
       "          dH : 2\n",
       "          dW : 2\n",
       "          kW : 2\n",
       "          gradInput : DoubleTensor - size: 6x16x16\n",
       "          kH : 2\n",
       "          indices : DoubleTensor - size: 6x8x8\n",
       "          padW : 0\n",
       "          iwidth : 16\n",
       "          _type : torch.DoubleTensor\n",
       "          ceil_mode : false\n",
       "          iheight : 16\n",
       "          output : DoubleTensor - size: 6x8x8\n",
       "          padH : 0\n",
       "        }\n",
       "      3 : \n",
       "        nn.ReLU\n",
       "        {\n",
       "          inplace : false\n",
       "          threshold : 0\n",
       "          _type : torch.DoubleTensor\n",
       "          output : DoubleTensor - size: 6x8x8\n",
       "          gradInput : DoubleTensor - size: 6x8x8\n",
       "          val : 0\n",
       "        }\n",
       "      4 : \n",
       "        nn.SpatialConvolution(6 -> 16, 5x5)\n",
       "        {\n",
       "          padW : 0\n",
       "          nInputPlane : 6\n",
       "          output : DoubleTensor - size: 16x4x4\n",
       "          gradInput : DoubleTensor - size: 6x8x8\n",
       "          _type : torch.DoubleTensor\n",
       "          dH : 1\n",
       "          dW : 1\n",
       "          nOutputPlane : 16\n",
       "          bias : DoubleTensor - size: 16\n",
       "          kH : 5\n",
       "      "
      ]
     },
     "execution_count": 29,
     "metadata": {},
     "output_type": "execute_result"
    },
    {
     "data": {
      "text/plain": [
       "    finput : DoubleTensor - size: 150x16\n",
       "          weight : DoubleTensor - size: 16x6x5x5\n",
       "          gradWeight : DoubleTensor - size: 16x6x5x5\n",
       "          fgradInput : DoubleTensor - size: 150x16\n",
       "          gradBias : DoubleTensor - size: 16\n",
       "          padH : 0\n",
       "          kW : 5\n",
       "        }\n",
       "      5 : \n",
       "        nn.SpatialMaxPooling(2x2, 2,2)\n",
       "        {\n",
       "          dH : 2\n",
       "          dW : 2\n",
       "          kW : 2\n",
       "          gradInput : DoubleTensor - size: 16x4x4\n",
       "          kH : 2\n",
       "          indices : DoubleTensor - size: 16x2x2\n",
       "          padW : 0\n",
       "          iwidth : 4\n",
       "          _type : torch.DoubleTensor\n",
       "          ceil_mode : false\n",
       "          iheight : 4\n",
       "          output : DoubleTensor - size: 16x2x2\n",
       "          padH : 0\n",
       "        }\n",
       "      6 : \n",
       "        nn.ReLU\n",
       "        {\n",
       "          inplace : false\n",
       "          threshold : 0\n",
       "          _type : torch.DoubleTensor\n",
       "          output : DoubleTensor - size: 16x2x2\n",
       "          gradInput : DoubleTensor - size: 16x2x2\n",
       "          val : 0\n",
       "        }\n",
       "      7 : \n",
       "        nn.View(64)\n",
       "        {\n",
       "          _type : torch.DoubleTensor\n",
       "          output : DoubleTensor - size: 64\n",
       "          gradInput : DoubleTensor - size: 16x2x2\n",
       "          size : LongStorage - size: 1\n",
       "          numElements : 64\n",
       "        }\n",
       "      8 : \n",
       "        nn.Linear(64 -> 120)\n",
       "        {\n",
       "          gradBias : DoubleTensor - size: 120\n"
      ]
     },
     "execution_count": 29,
     "metadata": {},
     "output_type": "execute_result"
    },
    {
     "data": {
      "text/plain": [
       "          weight : DoubleTensor - size: 120x64\n",
       "          _type : torch.DoubleTensor\n",
       "          output : DoubleTensor - size: 120\n",
       "          gradInput : DoubleTensor - size: 64\n",
       "          gradWeight : DoubleTensor - size: 120x64\n",
       "          bias : DoubleTensor - size: 120\n",
       "        }\n",
       "      9 : \n",
       "        nn.ReLU\n",
       "        {\n",
       "          inplace : false\n",
       "          threshold : 0\n",
       "          _type : torch.DoubleTensor\n",
       "          output : DoubleTensor - size: 120\n",
       "          gradInput : DoubleTensor - size: 120\n",
       "          val : 0\n",
       "        }\n",
       "      10 : \n",
       "        nn.Linear(120 -> 80)\n",
       "        {\n",
       "          gradBias : DoubleTensor - size: 80\n",
       "          weight : DoubleTensor - size: 80x120\n",
       "          _type : torch.DoubleTensor\n",
       "          output : DoubleTensor - size: 80\n",
       "          gradInput : DoubleTensor - size: 120\n",
       "          gradWeight : DoubleTensor - size: 80x120\n",
       "          bias : DoubleTensor - size: 80\n",
       "        }\n",
       "      11 : \n",
       "        nn.ReLU\n",
       "        {\n",
       "          inplace : false\n",
       "          threshold : 0\n",
       "          _type : torch.DoubleTensor\n",
       "          output : DoubleTensor - size: 80\n",
       "          gradInput : DoubleTensor - size: 80\n",
       "          val : 0\n",
       "        }\n",
       "      12 : \n",
       "        nn.Linear(80 -> 36)\n",
       "        {\n",
       "          gradBias : DoubleTensor - size: 36\n",
       "          weight : DoubleTensor - size: 36x80\n",
       "          _type : torch.DoubleTensor\n",
       "          output : DoubleTensor - size: 36\n",
       "          gradInput : DoubleTensor - size: 80\n",
       "          gradWeight : DoubleTensor - size: 36x80\n",
       "          bias : DoubleTensor - size: 36\n",
       "        "
      ]
     },
     "execution_count": 29,
     "metadata": {},
     "output_type": "execute_result"
    },
    {
     "data": {
      "text/plain": [
       "}\n",
       "      13 : \n",
       "        nn.LogSoftMax\n",
       "        {\n",
       "          gradInput : DoubleTensor - size: 36\n",
       "          _type : torch.DoubleTensor\n",
       "          output : DoubleTensor - size: 36\n",
       "        }\n",
       "    }\n",
       "  _type : torch.DoubleTensor\n",
       "  output : DoubleTensor - size: 36\n",
       "}\n"
      ]
     },
     "execution_count": 29,
     "metadata": {},
     "output_type": "execute_result"
    }
   ],
   "source": [
    "nn = require 'nn'\n",
    "model = nn.Sequential()\n",
    "model:add(nn.SpatialConvolution(3,6,5,5))\n",
    "model:add(nn.SpatialMaxPooling(2,2,2,2))\n",
    "model:add(nn.ReLU())\n",
    "model:add(nn.SpatialConvolution(6,16,5,5))\n",
    "model:add(nn.SpatialMaxPooling(2,2,2,2))\n",
    "model:add(nn.ReLU())\n",
    "model:add(nn.View(6*2*2))\n",
    "model:add(nn.Linear(6*2*2,120))\n",
    "model:add(nn.ReLU())\n",
    "model:add(nn.Linear(120,80))\n",
    "model:add(nn.ReLU())\n",
    "model:add(nn.Linear(120,36))\n",
    "model:add(nn.LogSoftMax())\n",
    "model=torch.load('model.net')\n",
    "print(model)"
   ]
  },
  {
   "cell_type": "code",
   "execution_count": 30,
   "metadata": {
    "collapsed": true
   },
   "outputs": [],
   "source": [
    "criterion = nn.ClassNLLCriterion()"
   ]
  },
  {
   "cell_type": "code",
   "execution_count": 31,
   "metadata": {
    "collapsed": false
   },
   "outputs": [],
   "source": [
    "trainer = nn.StochasticGradient(model, criterion)\n",
    "trainer.learningRate = 0.0001\n",
    "trainer.maxIteration = 5"
   ]
  },
  {
   "cell_type": "code",
   "execution_count": 32,
   "metadata": {
    "collapsed": false
   },
   "outputs": [
    {
     "data": {
      "text/plain": [
       "# StochasticGradient: training\t\n"
      ]
     },
     "execution_count": 32,
     "metadata": {},
     "output_type": "execute_result"
    },
    {
     "data": {
      "text/plain": [
       "# current error = 66.848446331511\t\n"
      ]
     },
     "execution_count": 32,
     "metadata": {},
     "output_type": "execute_result"
    },
    {
     "data": {
      "text/plain": [
       "# current error = 3.5863178569949\t\n"
      ]
     },
     "execution_count": 32,
     "metadata": {},
     "output_type": "execute_result"
    },
    {
     "data": {
      "text/plain": [
       "# current error = 3.5863176154232\t\n"
      ]
     },
     "execution_count": 32,
     "metadata": {},
     "output_type": "execute_result"
    },
    {
     "data": {
      "text/plain": [
       "# current error = 3.5863173797708\t\n"
      ]
     },
     "execution_count": 32,
     "metadata": {},
     "output_type": "execute_result"
    },
    {
     "data": {
      "text/plain": [
       "# current error = 3.5863171441794\t\n",
       "# StochasticGradient: you have reached the maximum number of iterations\t\n",
       "# training error = 3.5863171441794\t\n",
       "\n"
      ]
     },
     "execution_count": 32,
     "metadata": {},
     "output_type": "execute_result"
    }
   ],
   "source": [
    "trainer:train(trainset)"
   ]
  },
  {
   "cell_type": "code",
   "execution_count": null,
   "metadata": {
    "collapsed": true
   },
   "outputs": [],
   "source": []
  },
  {
   "cell_type": "code",
   "execution_count": null,
   "metadata": {
    "collapsed": true
   },
   "outputs": [],
   "source": []
  }
 ],
 "metadata": {
  "kernelspec": {
   "display_name": "iTorch",
   "language": "lua",
   "name": "itorch"
  },
  "language_info": {
   "name": "lua",
   "version": "5.1"
  }
 },
 "nbformat": 4,
 "nbformat_minor": 0
}
